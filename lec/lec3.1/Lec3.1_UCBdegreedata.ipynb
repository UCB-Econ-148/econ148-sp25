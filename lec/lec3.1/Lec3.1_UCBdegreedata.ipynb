{
 "cells": [
  {
   "cell_type": "markdown",
   "metadata": {},
   "source": [
    "## Lecture Notebook\n",
    "### UCB Degrees data - Pandas demo, incl missing values "
   ]
  },
  {
   "cell_type": "code",
   "execution_count": 1,
   "metadata": {},
   "outputs": [],
   "source": [
    "import pandas as pd\n",
    "import numpy as np\n",
    "import matplotlib.pyplot as plt\n",
    "import seaborn as sns"
   ]
  },
  {
   "cell_type": "markdown",
   "metadata": {},
   "source": [
    "Data Source - UC Berkeley \"Our Berkeley\" Office of Planning and Analysis\n",
    "\n",
    "[Degree Recipiencts by Major](https://calviz.berkeley.edu/t/OPAP/views/DegreeRecipientsByMajor/ExecutiveSummary?%3Aembed=y&%3AisGuestRedirectFromVizportal=y)\n",
    "\n",
    "\n",
    "At the bottom of this page there is a link  to [Dowload thsi Dashboard's Data](https://docs.google.com/spreadsheets/d/1J23dGyhxeQhwWMH3SJDOxtma-l5HfkCXNRDDapm_KFI/edit?gid=723050719#gid=723050719)\n",
    "\n",
    "Which is a Google Sheet, and google sheets have a cool capability to be able to be read in via csv\n"
   ]
  },
  {
   "cell_type": "code",
   "execution_count": 4,
   "metadata": {},
   "outputs": [],
   "source": [
    "sheet_id = \"1J23dGyhxeQhwWMH3SJDOxtma-l5HfkCXNRDDapm_KFI\"\n",
    "sheet_name = \"Degree%20Recipients%20by%20Major\"\n",
    "url = f\"https://docs.google.com/spreadsheets/d/{sheet_id}/gviz/tq?tqx=out:csv&sheet={sheet_name}\"\n",
    "\n"
   ]
  },
  {
   "cell_type": "code",
   "execution_count": 5,
   "metadata": {},
   "outputs": [],
   "source": [
    "UCBDR = pd.read_csv(url)"
   ]
  },
  {
   "cell_type": "code",
   "execution_count": 6,
   "metadata": {},
   "outputs": [],
   "source": [
    "#UCBDR= pd.read_csv('UCB Students - Degree Recipients by Major - Degree Recipients by Major.csv')\n",
    "#UCBDR"
   ]
  },
  {
   "cell_type": "markdown",
   "metadata": {},
   "source": [
    "## Exploring Majors"
   ]
  },
  {
   "cell_type": "code",
   "execution_count": null,
   "metadata": {},
   "outputs": [],
   "source": [
    "UCB2024 = UCBDR[UCBDR['Academic Yr'] == '2023-24']\n",
    "UCB2024"
   ]
  },
  {
   "cell_type": "code",
   "execution_count": null,
   "metadata": {},
   "outputs": [],
   "source": [
    "UCB2024UG = UCB2024[UCB2024['Degree Level Desc'] == 'Bachelor']\n",
    "UCB2024UG"
   ]
  },
  {
   "cell_type": "code",
   "execution_count": null,
   "metadata": {},
   "outputs": [],
   "source": []
  },
  {
   "cell_type": "code",
   "execution_count": null,
   "metadata": {},
   "outputs": [],
   "source": [
    "UCB2024UG.groupby(\"College/School\")[\"Headcount\"].sum().sort_values(ascending=False).plot(kind=\"bar\", title=\"Total Degrees Awarded by College/School\")"
   ]
  },
  {
   "cell_type": "code",
   "execution_count": null,
   "metadata": {},
   "outputs": [],
   "source": [
    "UCB2024UG.groupby(\"College/School\")[\"Headcount\"].sum()"
   ]
  },
  {
   "cell_type": "code",
   "execution_count": null,
   "metadata": {},
   "outputs": [],
   "source": [
    "HCXMajor22= UCB2022UG.groupby(\"Major\")[\"Headcount\"].sum().sort_values(ascending=False)\n",
    "HCXMajor22.head(30)"
   ]
  },
  {
   "cell_type": "code",
   "execution_count": null,
   "metadata": {},
   "outputs": [],
   "source": [
    "# sum of values in headcount column\n",
    "TotalHC = UCB2024UG['Headcount'].sum()\n",
    "\n",
    "TotalHC "
   ]
  },
  {
   "cell_type": "code",
   "execution_count": null,
   "metadata": {},
   "outputs": [],
   "source": [
    "# pull out values in MajorShort column for \"Comp Sci\" and \"EECS\" and \"Data Science\"\n",
    "\n",
    "CSHC = UCB2024UG[UCB2024UG['Major'] == 'CDSS Computer Science']['Headcount'].sum()\n",
    "CSHC"
   ]
  },
  {
   "cell_type": "code",
   "execution_count": null,
   "metadata": {},
   "outputs": [],
   "source": [
    "CSHC/TotalHC"
   ]
  },
  {
   "cell_type": "code",
   "execution_count": null,
   "metadata": {},
   "outputs": [],
   "source": [
    "DSHC=HCXMajor22['Data Science']\n",
    "DSHC"
   ]
  },
  {
   "cell_type": "code",
   "execution_count": null,
   "metadata": {},
   "outputs": [],
   "source": [
    "EECSHC=HCXMajor22['Electrical Eng & Comp Sci']\n",
    "EECSHC\n"
   ]
  },
  {
   "cell_type": "code",
   "execution_count": null,
   "metadata": {},
   "outputs": [],
   "source": [
    "Computing22=CSHC+DSHC+EECSHC\n",
    "Computing22\n"
   ]
  },
  {
   "cell_type": "code",
   "execution_count": null,
   "metadata": {},
   "outputs": [],
   "source": [
    "Computing22/TotalHC"
   ]
  },
  {
   "cell_type": "code",
   "execution_count": null,
   "metadata": {},
   "outputs": [],
   "source": [
    "DSHC/TotalHC"
   ]
  },
  {
   "cell_type": "code",
   "execution_count": null,
   "metadata": {},
   "outputs": [],
   "source": [
    "EECSHC/TotalHC"
   ]
  },
  {
   "cell_type": "code",
   "execution_count": null,
   "metadata": {},
   "outputs": [],
   "source": []
  }
 ],
 "metadata": {
  "kernelspec": {
   "display_name": "data_env",
   "language": "python",
   "name": "python3"
  },
  "language_info": {
   "codemirror_mode": {
    "name": "ipython",
    "version": 3
   },
   "file_extension": ".py",
   "mimetype": "text/x-python",
   "name": "python",
   "nbconvert_exporter": "python",
   "pygments_lexer": "ipython3",
   "version": "3.10.16"
  }
 },
 "nbformat": 4,
 "nbformat_minor": 4
}

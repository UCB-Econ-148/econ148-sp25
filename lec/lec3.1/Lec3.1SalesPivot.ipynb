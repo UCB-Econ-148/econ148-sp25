{
 "cells": [
  {
   "cell_type": "code",
   "execution_count": 1,
   "metadata": {},
   "outputs": [],
   "source": [
    "import pandas as pd\n"
   ]
  },
  {
   "cell_type": "markdown",
   "metadata": {},
   "source": [
    "## Pandas Pivot Demo with Dummy Sales Data \n",
    "\n",
    "-  Build a fake dataset!\n",
    "- Each row  is a sale\n"
   ]
  },
  {
   "cell_type": "code",
   "execution_count": null,
   "metadata": {},
   "outputs": [],
   "source": [
    "\n",
    "data = {\n",
    "    'Date': [\n",
    "        '2023-01-01', '2023-01-02', '2023-01-03', '2023-01-04', '2023-01-05',\n",
    "        '2023-01-01', '2023-01-02', '2023-01-03', '2023-01-04', '2023-01-05'\n",
    "    ],\n",
    "    'Region': [\n",
    "        'North', 'North', 'North', 'South', 'South',\n",
    "        'West', 'West', 'East', 'East', 'South'\n",
    "    ],\n",
    "    'Product': [\n",
    "        'Widget A', 'Widget B', 'Widget A', 'Widget B', 'Widget C',\n",
    "        'Widget A', 'Widget B', 'Widget C', 'Widget A', 'Widget B'\n",
    "    ],\n",
    "    'Sales Rep': [\n",
    "        'Alice', 'Bob', 'Alice', 'Charlie', 'Charlie',\n",
    "        'Derek', 'Eliza', 'Frank', 'Eliza', 'Bob'\n",
    "    ],\n",
    "    'Quantity Sold': [10, 5, 6, 8, 12, 9, 3, 4, 7, 11],\n",
    "    'Revenue': [100, 50, 60, 80, 120, 90, 30, 40, 70, 110]\n",
    "}\n",
    "\n",
    "sales_df = pd.DataFrame(data)\n",
    "sales_df"
   ]
  },
  {
   "cell_type": "markdown",
   "metadata": {},
   "source": [
    "## Pivot Number 1 - \n",
    "- Sales by Widget\n",
    "- Rows are Days "
   ]
  },
  {
   "cell_type": "code",
   "execution_count": null,
   "metadata": {},
   "outputs": [],
   "source": [
    "pivot_df = sales_df.pivot_table(\n",
    "    index='Date',   # what goes on the new rows\n",
    "    columns='Product',  # what goes on the new columns\n",
    "    values='Quantity Sold',  # what fills the table cells\n",
    "    aggfunc='sum'  # aggregate function to handle duplicates\n",
    ")\n",
    "\n",
    "pivot_df"
   ]
  },
  {
   "cell_type": "markdown",
   "metadata": {},
   "source": [
    "## Pivot Number 2 \n",
    "- Sales of Product by region\n",
    "- aggregate by sum \n",
    "- Fill in blanks with zeros"
   ]
  },
  {
   "cell_type": "code",
   "execution_count": null,
   "metadata": {},
   "outputs": [],
   "source": [
    "pivot_table_df = pd.pivot_table(\n",
    "    sales_df,\n",
    "    index='Region',         # rows\n",
    "    columns='Product',      # columns\n",
    "    values='Revenue',       # cell values\n",
    "    aggfunc='sum',          # how to aggregate\n",
    "    fill_value=0            # replace NaN with 0\n",
    ")\n",
    "\n",
    "pivot_table_df"
   ]
  },
  {
   "cell_type": "markdown",
   "metadata": {},
   "source": [
    "Pivot #3 - Multiple Indexes\n",
    " - Pivot over both region  and Sales Rep\n",
    " - sum up sales by widget\n",
    " - fill values\n"
   ]
  },
  {
   "cell_type": "code",
   "execution_count": null,
   "metadata": {},
   "outputs": [],
   "source": [
    "multi_index_pivot = pd.pivot_table(\n",
    "    sales_df,\n",
    "    index=['Region', 'Sales Rep'],  # multiple row indices\n",
    "    columns='Product',\n",
    "    values='Revenue',\n",
    "    aggfunc='sum',\n",
    "    fill_value=0\n",
    ")\n",
    "\n",
    "multi_index_pivot"
   ]
  },
  {
   "cell_type": "code",
   "execution_count": null,
   "metadata": {},
   "outputs": [],
   "source": []
  }
 ],
 "metadata": {
  "kernelspec": {
   "display_name": "data_env",
   "language": "python",
   "name": "python3"
  },
  "language_info": {
   "codemirror_mode": {
    "name": "ipython",
    "version": 3
   },
   "file_extension": ".py",
   "mimetype": "text/x-python",
   "name": "python",
   "nbconvert_exporter": "python",
   "pygments_lexer": "ipython3",
   "version": "3.10.16"
  }
 },
 "nbformat": 4,
 "nbformat_minor": 2
}

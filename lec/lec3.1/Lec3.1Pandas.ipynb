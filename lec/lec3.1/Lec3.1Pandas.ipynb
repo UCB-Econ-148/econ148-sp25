{
 "cells": [
  {
   "cell_type": "markdown",
   "id": "09756efa-9a1e-49b3-a355-8d268c7e857c",
   "metadata": {},
   "source": [
    "## More Commands with  Pandas\n",
    "## Econ 148"
   ]
  },
  {
   "cell_type": "markdown",
   "id": "1effff92-4fd5-4d82-ab13-d0f9500acd1b",
   "metadata": {},
   "source": [
    "This Demo seeks to introduce students to pandas using an economics dataset. We will use data from the Economic Transformation Database (ETD) which presents the following internationally comparable sectoral data on employment and productivity in Africa, Asia, and Latin America. Feel free to further explore the data at https://www.wider.unu.edu/database/etd-economic-transformation-database."
   ]
  },
  {
   "cell_type": "markdown",
   "id": "6536093c-de99-495f-9a3d-e52887cd6acd",
   "metadata": {},
   "source": [
    "Kruse, H., E. Mensah, K. Sen, and G. J. de Vries (2022). “A manufacturing renaissance? Industrialization trends in the developing world”, IMF Economic Review DOI: 10.1057/s41308-022-00183-7\n",
    "\n",
    "License: The GGDC/UNU-WIDER Economic Transformation Database is licensed under a Creative Commons Attribution 4.0 International License."
   ]
  },
  {
   "cell_type": "code",
   "execution_count": null,
   "id": "9847d337-ecf1-4521-a636-bf149d8a324d",
   "metadata": {},
   "outputs": [],
   "source": [
    "import pandas as pd"
   ]
  },
  {
   "cell_type": "code",
   "execution_count": null,
   "id": "92ae2588-3513-44a0-8010-49715cc7eea0",
   "metadata": {},
   "outputs": [],
   "source": [
    "ETDdf = pd.read_csv(\"ETD.csv\", thousands=',')\n",
    "ETDdf"
   ]
  },
  {
   "cell_type": "markdown",
   "id": "bb729b5c-5ee4-466f-b48b-397304685a18",
   "metadata": {},
   "source": [
    "### Lets make a subset for Southeast Asian Countries"
   ]
  },
  {
   "cell_type": "code",
   "execution_count": null,
   "id": "b3880dc6-7f4a-4401-bd6b-7fd13550b19b",
   "metadata": {},
   "outputs": [],
   "source": [
    "SEA_countries = [\n",
    "    'Brunei', 'Cambodia', 'Indonesia', 'Laos', 'Malaysia',\n",
    "    'Myanmar', 'Philippines', 'Singapore', 'Thailand',\n",
    "    'Timor-Leste', 'Viet Nam']"
   ]
  },
  {
   "cell_type": "code",
   "execution_count": null,
   "id": "4317ca85-2899-408a-a18e-ea443a8c7497",
   "metadata": {},
   "outputs": [],
   "source": [
    "df_se_asia = ETDdf[ETDdf['country'].isin(SEA_countries)]\n",
    "df_se_asia \n"
   ]
  },
  {
   "cell_type": "markdown",
   "id": "09fb8410-3d7f-4876-b9ca-dcb4a3640ccb",
   "metadata": {},
   "source": [
    "## Again subset for total employment only "
   ]
  },
  {
   "cell_type": "code",
   "execution_count": null,
   "id": "b88c9176-fa27-4f39-ab57-293d5bcf143c",
   "metadata": {},
   "outputs": [],
   "source": [
    "df_se_asia_emp = df_se_asia[df_se_asia['var'] == 'EMP']\n",
    "df_se_asia_emp"
   ]
  },
  {
   "cell_type": "code",
   "execution_count": null,
   "id": "e7165b67-83e2-4a33-bf51-30f0d56ccc31",
   "metadata": {},
   "outputs": [],
   "source": [
    "average_agriculture_employment = df_se_asia_emp.groupby('country')['Agriculture'].mean().sort_values()\n",
    "average_agriculture_employment\n",
    "#Note - this is a series"
   ]
  },
  {
   "cell_type": "code",
   "execution_count": null,
   "id": "a73aebff-cefa-492b-8521-526bb3b2fa56",
   "metadata": {},
   "outputs": [],
   "source": [
    "average_agriculture_employment_df = df_se_asia[df_se_asia['var'] == 'EMP'].groupby('country')['Agriculture'].mean().reset_index()\n",
    "average_agriculture_employment_df\n",
    "#Note - reset_index yields a dataframe"
   ]
  },
  {
   "cell_type": "markdown",
   "id": "7f6d9c5d-d925-406b-b93d-bcf471471f22",
   "metadata": {},
   "source": [
    "### We can pass in many different arguments to  'groupby'"
   ]
  },
  {
   "cell_type": "code",
   "execution_count": null,
   "id": "f1c280cb-68ab-4621-8f6c-7af5f060c520",
   "metadata": {},
   "outputs": [],
   "source": [
    "df_se_asia_emp.groupby('country')['Agriculture'].min()"
   ]
  },
  {
   "cell_type": "code",
   "execution_count": null,
   "id": "c66da91c-56ec-4ce8-b12e-b0edffa13553",
   "metadata": {},
   "outputs": [],
   "source": [
    "df_se_asia_emp.groupby('country')['Agriculture'].max()"
   ]
  },
  {
   "cell_type": "code",
   "execution_count": null,
   "id": "aed52824-8049-4156-b102-c92e5740e37c",
   "metadata": {},
   "outputs": [],
   "source": [
    "df_se_asia_emp.groupby('country')['Agriculture'].nunique()"
   ]
  },
  {
   "cell_type": "code",
   "execution_count": null,
   "id": "2c5ca4a1-2370-4ef2-b5b5-8c284fbebe79",
   "metadata": {
    "editable": true,
    "slideshow": {
     "slide_type": ""
    },
    "tags": []
   },
   "outputs": [],
   "source": [
    "df_se_asia_emp.groupby('country')['Agriculture'].quantile([0.25, 0.5, 0.75])"
   ]
  },
  {
   "cell_type": "markdown",
   "id": "b3093fb2-c7d7-4697-9720-05ad68231cdc",
   "metadata": {},
   "source": [
    "### We can pass in multiple columns to groupby\n",
    "\n",
    "Here let's ask for three columns"
   ]
  },
  {
   "cell_type": "code",
   "execution_count": null,
   "id": "8c5336e1-d207-4eaa-98ca-ce5d9b985cc0",
   "metadata": {},
   "outputs": [],
   "source": [
    "SEA_employment = df_se_asia_emp.groupby('country')[['Agriculture', 'Manufacturing', 'Total']].mean()\n",
    "SEA_employment"
   ]
  },
  {
   "cell_type": "code",
   "execution_count": null,
   "id": "b31a3a78",
   "metadata": {},
   "outputs": [],
   "source": []
  },
  {
   "cell_type": "code",
   "execution_count": null,
   "id": "db6204a4-ba8a-4819-a419-e4e3dd14e4f9",
   "metadata": {},
   "outputs": [],
   "source": [
    "SEA_employment['Agr_Percent'] = (SEA_employment['Agriculture'] / SEA_employment['Total']) * 100\n",
    "SEA_employment['Manu_Percent'] = (SEA_employment['Manufacturing'] / SEA_employment['Total']) * 100\n",
    "SEA_employment"
   ]
  },
  {
   "cell_type": "code",
   "execution_count": null,
   "id": "c6fb2b0f-c8a5-47a7-b6fb-975268bcacea",
   "metadata": {},
   "outputs": [],
   "source": []
  }
 ],
 "metadata": {
  "kernelspec": {
   "display_name": "Python 3 (ipykernel)",
   "language": "python",
   "name": "python3"
  },
  "language_info": {
   "codemirror_mode": {
    "name": "ipython",
    "version": 3
   },
   "file_extension": ".py",
   "mimetype": "text/x-python",
   "name": "python",
   "nbconvert_exporter": "python",
   "pygments_lexer": "ipython3",
   "version": "3.8.15"
  }
 },
 "nbformat": 4,
 "nbformat_minor": 5
}

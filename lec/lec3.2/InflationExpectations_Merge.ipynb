{
 "cells": [
  {
   "cell_type": "markdown",
   "metadata": {},
   "source": [
    "## Inflation Expectations \n",
    "\n",
    "### Let's compare FED to Consumer Survey "
   ]
  },
  {
   "cell_type": "code",
   "execution_count": 27,
   "metadata": {},
   "outputs": [],
   "source": [
    "import pandas as pd\n",
    "import matplotlib.pyplot as plt\n",
    "import plotly.express as px"
   ]
  },
  {
   "cell_type": "code",
   "execution_count": 2,
   "metadata": {},
   "outputs": [],
   "source": [
    "try:\n",
    "    from fredapi import Fred\n",
    "except ImportError:\n",
    "    !pip install fredapi\n",
    "    from fredapi import Fred"
   ]
  },
  {
   "cell_type": "code",
   "execution_count": 4,
   "metadata": {},
   "outputs": [],
   "source": [
    "api_key=\"dab081fe5e028d7fc65114e0c7f2cf6b\"\n",
    "fred = Fred(api_key=api_key)\n"
   ]
  },
  {
   "cell_type": "markdown",
   "metadata": {},
   "source": [
    "##  Let's compare two series\n",
    " - `MICH` https://fred.stlouisfed.org/series/MICH\n",
    " - `EXPINF` https://fred.stlouisfed.org/series/EXPINF1YR\n",
    "## And Lets add the FOMC predictions if we can\n",
    "\n",
    " - `PCECTICTM` https://fred.stlouisfed.org/series/PCECTPICTM"
   ]
  },
  {
   "cell_type": "markdown",
   "metadata": {},
   "source": []
  },
  {
   "cell_type": "code",
   "execution_count": null,
   "metadata": {},
   "outputs": [],
   "source": [
    "MICH = pd.DataFrame(fred.get_series('MICH'))\n",
    "MICH.columns = ['MICH']\n",
    "MICH"
   ]
  },
  {
   "cell_type": "code",
   "execution_count": null,
   "metadata": {},
   "outputs": [],
   "source": [
    "EXPINF1YR = pd.DataFrame(fred.get_series('EXPINF1YR'))\n",
    "EXPINF1YR.columns = ['EXPINF1YR']\n",
    "EXPINF1YR"
   ]
  },
  {
   "cell_type": "markdown",
   "metadata": {},
   "source": [
    "##  Observations \n",
    " - They are both monthly - phew\n",
    " - Index = Date looks good\n",
    " \n",
    " ### Shape!\n",
    " - MICH has 564 Rows\n",
    " - EXPINF1YR has 517 rows "
   ]
  },
  {
   "cell_type": "code",
   "execution_count": null,
   "metadata": {},
   "outputs": [],
   "source": [
    "PCECTPICTM = pd.DataFrame(fred.get_series('PCECTPICTM'))\n",
    "PCECTPICTM.columns = ['PCECTPICTM']\n",
    "PCECTPICTM\n",
    "\n"
   ]
  },
  {
   "cell_type": "markdown",
   "metadata": {},
   "source": [
    "## OK Now lets Learn how to merge the datasets\n",
    "\n",
    "`New_df = df_1.merge(df_2,eft_index=True, right_index=True) `"
   ]
  },
  {
   "cell_type": "code",
   "execution_count": null,
   "metadata": {},
   "outputs": [],
   "source": [
    "MERGED_def = MICH.merge(EXPINF1YR, left_index=True, right_index=True)\n",
    "print(\"Default\", MERGED_def.shape)\n",
    "MERGED_def"
   ]
  },
  {
   "cell_type": "code",
   "execution_count": null,
   "metadata": {},
   "outputs": [],
   "source": [
    "MERGED_inner = MICH.merge(EXPINF1YR, left_index=True, right_index=True, how='inner')\n",
    "print(\"Inner Join:\", MERGED_inner.shape)\n",
    "MERGED_inner"
   ]
  },
  {
   "cell_type": "code",
   "execution_count": null,
   "metadata": {},
   "outputs": [],
   "source": [
    "MERGED_outer = MICH.merge(EXPINF1YR, left_index=True, right_index=True, how='outer')\n",
    "print(\"Outer Join:\", MERGED_outer.shape)\n",
    "\n",
    "MERGED_outer"
   ]
  },
  {
   "cell_type": "code",
   "execution_count": null,
   "metadata": {},
   "outputs": [],
   "source": [
    "MERGED_left = MICH.merge(EXPINF1YR, left_index=True, right_index=True, how='left')\n",
    "print(\"Left Join:\", MERGED_left.shape)\n",
    "MERGED_left"
   ]
  },
  {
   "cell_type": "code",
   "execution_count": null,
   "metadata": {},
   "outputs": [],
   "source": [
    "MERGED_right = MICH.merge(EXPINF1YR, left_index=True, right_index=True, how='right')\n",
    "print(\"Right Join:\", MERGED_right.shape)\n",
    "MERGED_right"
   ]
  },
  {
   "cell_type": "markdown",
   "metadata": {},
   "source": [
    "## We can now play around with adding one more column to the mix\n",
    "\n",
    "- only has annual and out of sample predictions\n"
   ]
  },
  {
   "cell_type": "code",
   "execution_count": null,
   "metadata": {},
   "outputs": [],
   "source": [
    "\n",
    "MERGED_predict = MERGED_outer.merge(PCECTPICTM, left_index=True, right_index=True, how='outer') \n",
    "print(\"Outer Join:\", MERGED_predict.shape)\n",
    "MERGED_predict"
   ]
  },
  {
   "cell_type": "code",
   "execution_count": null,
   "metadata": {},
   "outputs": [],
   "source": [
    "MERGED_predict.plot()"
   ]
  },
  {
   "cell_type": "code",
   "execution_count": null,
   "metadata": {},
   "outputs": [],
   "source": []
  }
 ],
 "metadata": {
  "kernelspec": {
   "display_name": "data_env",
   "language": "python",
   "name": "python3"
  },
  "language_info": {
   "codemirror_mode": {
    "name": "ipython",
    "version": 3
   },
   "file_extension": ".py",
   "mimetype": "text/x-python",
   "name": "python",
   "nbconvert_exporter": "python",
   "pygments_lexer": "ipython3",
   "version": "3.10.16"
  }
 },
 "nbformat": 4,
 "nbformat_minor": 2
}

{
 "cells": [
  {
   "cell_type": "markdown",
   "metadata": {
    "cell_id": "00001-311d4cd6-e221-4f0b-aa4f-ae28b4cd0708",
    "deepnote_cell_type": "markdown",
    "tags": []
   },
   "source": [
    "# Lecture 3.2: FRED"
   ]
  },
  {
   "cell_type": "code",
   "execution_count": 73,
   "metadata": {
    "cell_id": "00000-45c93090-e487-4ff0-bb52-350d099bea59",
    "deepnote_cell_type": "code",
    "deepnote_to_be_reexecuted": false,
    "execution_millis": 130,
    "execution_start": 1617004432781,
    "source_hash": "94d23af7",
    "tags": []
   },
   "outputs": [],
   "source": [
    "import pandas as pd\n",
    "import requests\n",
    "from urllib.parse import urlencode\n",
    "import matplotlib.pyplot as plt\n",
    "import matplotlib.dates as mdates\n",
    "import datetime\n",
    "import plotly.express as px\n",
    "import plotly.graph_objects as go\n",
    "\n",
    "\n"
   ]
  },
  {
   "cell_type": "code",
   "execution_count": 74,
   "metadata": {},
   "outputs": [],
   "source": [
    "try:\n",
    "    from fredapi import Fred\n",
    "except ImportError:\n",
    "    !pip install fredapi\n",
    "    from fredapi import Fred"
   ]
  },
  {
   "cell_type": "markdown",
   "metadata": {},
   "source": [
    "## Macroeconomic Data and Fred API"
   ]
  },
  {
   "cell_type": "markdown",
   "metadata": {},
   "source": [
    "**What is an API?**  \n",
    "In contrast to a user interface, which connects a computer to a person, an application programming interface (API) connects computers or pieces of software to each other. It is not intended to be used directly by a person (the end user) other than a computer programmer who is incorporating it into the software. An API is often made up of different parts which act as tools or services that are available to the programmer. A program or a programmer that uses one of these parts is said to call that portion of the API. The calls that make up the API are also known as subroutines, methods, requests, or endpoints. An API specification defines these calls, meaning that it explains how to use or implement them. \n",
    "\n",
    "In basic terms, APIs just allow applications to communicate with one another. For the APIs we are concerned right now--web based APIs that return data in response to a request made by us--**they allow us to get data from outside sources by sending an API a request detailing the information we want. Then the API will \"respond\" with the requested data to us.**"
   ]
  },
  {
   "cell_type": "markdown",
   "metadata": {},
   "source": [
    "<img src=\"images/what_is_an_API.png\" alt=\"What is an API\" style=\"width:600px;height:200px;\">\n",
    "<center>Source: Perry Eising, \"What exactly is an API?\"</center>"
   ]
  },
  {
   "cell_type": "markdown",
   "metadata": {},
   "source": [
    "### General Way of Interacting with an API"
   ]
  },
  {
   "cell_type": "markdown",
   "metadata": {},
   "source": [
    "First, we will use the most common way to access the data through an API without using any packages other may have already built for a particular site. Usually this is the way you would interact with an API.  "
   ]
  },
  {
   "cell_type": "markdown",
   "metadata": {},
   "source": [
    "#### Step 1: Get the API Key\n",
    "**In most cases, you will need to get an API key in order to access an API.** For many resources, it involves some paperwork to apply and/or limited free usage, so it is good practice to keep your API keys private as long as it is possible. In this lecture notebook, we will use macroeconomic data from FRED, which is one of the most famous and convenient sources of economic data. For FRED, the process of getting an API key is simple. Request the API key [here](https://fred.stlouisfed.org/docs/api/api_key.html). "
   ]
  },
  {
   "cell_type": "code",
   "execution_count": 75,
   "metadata": {},
   "outputs": [],
   "source": [
    "# For demo purposes, we are leaving our API key here. You should always try to avoid this. \n",
    "api_key = \"dab081fe5e028d7fc65114e0c7f2cf6b\""
   ]
  },
  {
   "cell_type": "markdown",
   "metadata": {},
   "source": [
    "#### Step 2: Learn to use the API\n",
    "Using an API is like ordering food at a restaurant with a menu. To have a delicious meal, we have to know what food the restaurant offers, and any other additional information (for example, how would you like your steak). Similarly, it is very important for us to know what requests an API take through the API documentation. **The API documentation will inform us about how we can use specific instructions to obtain the data that we want, and what the returned data would look like.** Look up the Fred API's documentation [here](https://fred.stlouisfed.org/docs/api/fred/series_observations.html). \n"
   ]
  },
  {
   "cell_type": "markdown",
   "metadata": {},
   "source": [
    "<div class=\"alert alert-info\">\n",
    "<b> Example: \"api.stlouisfed.org/fred/series/observations?series_id=GNPCA&api_key=abcdefghijklmnopqrstuvwxyz123456\" <br>  \n",
    "  \n",
    "Endpoint: \"api.stlouisfed.org/fred/series/observations\"  <br>\n",
    "Parameters: series_id=GNPCA, api_key=abcdefghijklmnopqrstuvwxyz123456\n",
    "</div>"
   ]
  },
  {
   "cell_type": "markdown",
   "metadata": {},
   "source": [
    "## Try the following link to see what the API will return!  "
   ]
  },
  {
   "cell_type": "markdown",
   "metadata": {},
   "source": [
    " https://api.stlouisfed.org/fred/series/observations?series_id=GNPCA&api_key=dab081fe5e028d7fc65114e0c7f2cf6b&file_type=json"
   ]
  },
  {
   "cell_type": "code",
   "execution_count": 76,
   "metadata": {},
   "outputs": [],
   "source": [
    "# I want to make a fetch command for the URL in the previous cell\n",
    "response = requests.get(\"https://api.stlouisfed.org/fred/series/observations?series_id=GNPCA&api_key=dab081fe5e028d7fc65114e0c7f2cf6b&file_type=json\")"
   ]
  },
  {
   "cell_type": "code",
   "execution_count": null,
   "metadata": {},
   "outputs": [],
   "source": [
    "data=response.json()\n",
    "print(data)\n"
   ]
  },
  {
   "cell_type": "code",
   "execution_count": null,
   "metadata": {},
   "outputs": [],
   "source": [
    "GNPCA = pd.DataFrame(data['observations'])\n",
    "GNPCA.head()"
   ]
  },
  {
   "cell_type": "code",
   "execution_count": null,
   "metadata": {},
   "outputs": [],
   "source": [
    "GNPCA = GNPCA[[\"date\", \"value\"]]\n",
    "GNPCA.rename(columns={\"value\": \"GNPCA\"}, inplace=True)\n",
    "GNPCA.head()"
   ]
  },
  {
   "cell_type": "code",
   "execution_count": 80,
   "metadata": {},
   "outputs": [],
   "source": [
    "GNPCA.to_csv('GNPCA.csv')"
   ]
  },
  {
   "cell_type": "markdown",
   "metadata": {},
   "source": [
    "## Switch to a quarterly series \n",
    "\n",
    "GDPC1\n",
    "\n",
    "https://fred.stlouisfed.org/series/GDPC1\n",
    "\n"
   ]
  },
  {
   "cell_type": "code",
   "execution_count": null,
   "metadata": {},
   "outputs": [],
   "source": [
    "response2 = requests.get(\"https://api.stlouisfed.org/fred/series/observations?series_id=GDPC1&api_key=dab081fe5e028d7fc65114e0c7f2cf6b&file_type=json\")\n",
    "GDPC1 = pd.DataFrame(response2.json()['observations'])\n",
    "GDPC1\n"
   ]
  },
  {
   "cell_type": "code",
   "execution_count": null,
   "metadata": {},
   "outputs": [],
   "source": [
    "# drop the unwanted columns\n",
    "GDPC1 = GDPC1[[\"date\", \"value\"]]\n",
    "# rename the columns using .loc\n",
    "GDPC1 = GDPC1.assign(GDPC1=GDPC1['value'])\n",
    "GDPC1 = GDPC1.drop(columns='value')\n",
    "GDPC1"
   ]
  },
  {
   "cell_type": "markdown",
   "metadata": {},
   "source": [
    "###  Lets try to get the data for the recessions\n",
    "\n",
    "Series name is USRECD\n"
   ]
  },
  {
   "cell_type": "code",
   "execution_count": 83,
   "metadata": {},
   "outputs": [],
   "source": [
    "response = requests.get(\"https://api.stlouisfed.org/fred/series/observations?series_id=USRECD&api_key=dab081fe5e028d7fc65114e0c7f2cf6b&file_type=json\")"
   ]
  },
  {
   "cell_type": "code",
   "execution_count": null,
   "metadata": {},
   "outputs": [],
   "source": [
    "data=response.json()\n",
    "USRECD = pd.DataFrame(data['observations'])\n",
    "USRECD.head()"
   ]
  },
  {
   "cell_type": "code",
   "execution_count": null,
   "metadata": {},
   "outputs": [],
   "source": [
    "USRECD = USRECD[[\"date\", \"value\"]]\n",
    "USRECD.rename(columns={\"value\": \"USRECD\"}, inplace=True)\n",
    "USRECD.head()"
   ]
  },
  {
   "cell_type": "markdown",
   "metadata": {},
   "source": [
    "### Let's Merge GDP and Recession Bars"
   ]
  },
  {
   "cell_type": "code",
   "execution_count": null,
   "metadata": {},
   "outputs": [],
   "source": [
    "# Merge the two dataframes\n",
    "GNPRED_df = pd.merge(GDPC1, USRECD, on=\"date\")\n",
    "GNPRED_df"
   ]
  },
  {
   "cell_type": "code",
   "execution_count": null,
   "metadata": {},
   "outputs": [],
   "source": [
    "GNPRED_df['date'] = pd.to_datetime(GNPRED_df['date'])\n",
    "GNPRED_df.set_index('date', inplace=True)\n",
    "GNPRED_df\n"
   ]
  },
  {
   "cell_type": "code",
   "execution_count": null,
   "metadata": {},
   "outputs": [],
   "source": [
    "#Let's just keep data after 1945\n",
    "GNPRED_df = GNPRED_df[GNPRED_df.index > '1945-01-01']\n",
    "GNPRED_df"
   ]
  },
  {
   "cell_type": "code",
   "execution_count": null,
   "metadata": {},
   "outputs": [],
   "source": [
    "GNPRED_df.dtypes"
   ]
  },
  {
   "cell_type": "code",
   "execution_count": 107,
   "metadata": {},
   "outputs": [],
   "source": [
    "\n",
    "GNPRED_df.loc[:, 'USRECD'] = pd.to_numeric(GNPRED_df['USRECD'], errors='coerce')\n",
    "GNPRED_df.loc[:, 'GDPC1'] = pd.to_numeric(GNPRED_df['GDPC1'], errors='coerce')"
   ]
  },
  {
   "cell_type": "markdown",
   "metadata": {},
   "source": [
    "###  Lets see if we can plot it together?"
   ]
  },
  {
   "cell_type": "code",
   "execution_count": null,
   "metadata": {},
   "outputs": [],
   "source": [
    "\n",
    "fig, ax = plt.subplots(figsize=(10, 6))\n",
    "\n",
    "ax.plot(GNPRED_df.index, GNPRED_df['GDPC1'], label='GDPC1', color='blue')\n",
    "\n",
    "ax.fill_between(GNPRED_df.index, 0, 1, where=GNPRED_df['USRECD']==1, \n",
    "                color='grey', alpha=0.3, transform=ax.get_xaxis_transform(), label='US Recession')\n",
    "\n",
    "ax.set_xlabel('Date')\n",
    "ax.set_ylabel('GReal Gross National Product')\n",
    "ax.set_title('Real Gross National Product and US Recession Periods')\n",
    "ax.legend()\n",
    "\n",
    "plt.show()\n"
   ]
  },
  {
   "cell_type": "code",
   "execution_count": null,
   "metadata": {},
   "outputs": [],
   "source": [
    "\n",
    "x_values = GNPRED_df.index\n",
    "line = go.Scatter(x=x_values, y=GNPRED_df['GDPC1'], mode='lines', name='GDPC1')\n",
    "\n",
    "bar = go.Bar(x=x_values, y=GNPRED_df['USRECD']*max(GNPRED_df['GDPC1']), name='US Recession', marker_color='grey', opacity=0.5)\n",
    "\n",
    "fig = go.Figure(data=[line, bar])\n",
    "fig.update_layout(title='Real Gross National Product and US Recession Periods',\n",
    "                  xaxis_title='Date',\n",
    "                  yaxis_title='Real Gross National Product',\n",
    "                  barmode='overlay',\n",
    "                  bargap=0.0001, \n",
    "                  )\n",
    "\n",
    "fig.show()\n"
   ]
  },
  {
   "cell_type": "markdown",
   "metadata": {},
   "source": [
    "### Site-Specific Prebuilt Packages"
   ]
  },
  {
   "cell_type": "markdown",
   "metadata": {},
   "source": [
    "Now we will switch gears to use some prebuilt packages to access FRED API. Notice that the prebuilt packages are not necessarily available for every API. But here we will use the \"FredAPI\" package developed by Mortada Mehyar. Documentation [here](https://github.com/mortada/fredapi). "
   ]
  },
  {
   "cell_type": "code",
   "execution_count": null,
   "metadata": {},
   "outputs": [],
   "source": [
    "\n",
    "fred = Fred(api_key=api_key)\n",
    "GDP_fredapi = pd.DataFrame(fred.get_series('GDPCA'))\n",
    "GDP_fredapi.head(10)"
   ]
  },
  {
   "cell_type": "code",
   "execution_count": 124,
   "metadata": {},
   "outputs": [],
   "source": [
    "# Let's get the data for the US Recession\n",
    "USRECD_fredapi = pd.DataFrame(fred.get_series('USRECD'))"
   ]
  },
  {
   "cell_type": "code",
   "execution_count": null,
   "metadata": {},
   "outputs": [],
   "source": [
    "# Merge the two dataframes\n",
    "GDP_USRECD_df = pd.merge(GDP_fredapi, USRECD_fredapi, left_index=True, right_index=True)\n",
    "GDP_USRECD_df\n"
   ]
  },
  {
   "cell_type": "code",
   "execution_count": null,
   "metadata": {},
   "outputs": [],
   "source": [
    "#Lets rename the columns\n",
    "GDP_USRECD_df.columns = ['GDP', 'USRECD']\n",
    "GDP_USRECD_df.head()"
   ]
  },
  {
   "cell_type": "code",
   "execution_count": null,
   "metadata": {},
   "outputs": [],
   "source": [
    "#plot in plotly\n",
    "fig = px.line(GDP_USRECD_df, x=GDP_USRECD_df.index, y='GDP', title='US GDP and Recession Periods')\n",
    "fig.add_bar(x=GDP_USRECD_df.index, y=GDP_USRECD_df['USRECD']*max(GDP_USRECD_df['GDP']), name='US Recession', opacity=0.5)\n",
    "fig.update_xaxes(title_text='Date')\n",
    "fig.update_yaxes(title_text='GDP')\n",
    "fig.show()"
   ]
  },
  {
   "cell_type": "code",
   "execution_count": null,
   "metadata": {},
   "outputs": [],
   "source": [
    "# Lets redo plot after 1945   \n",
    "PW_GDP_USRECD_df = GDP_USRECD_df[GDP_USRECD_df.index > '1945-01-01']\n",
    "PW_GDP_USRECD_df"
   ]
  },
  {
   "cell_type": "code",
   "execution_count": null,
   "metadata": {},
   "outputs": [],
   "source": [
    "#potly with     make recessson bars grey\n",
    "fig = px.line(PW_GDP_USRECD_df, x=PW_GDP_USRECD_df.index, y='GDP', title='US GDP and Recession Periods')\n",
    "fig.add_bar(x=PW_GDP_USRECD_df.index, y=PW_GDP_USRECD_df['USRECD']*max(PW_GDP_USRECD_df['GDP']), name='US Recession', opacity=0.5, marker_color='grey')\n",
    "fig.update_xaxes(title_text='Date')\n",
    "fig.update_yaxes(title_text='GDP')\n",
    "fig.show()"
   ]
  },
  {
   "cell_type": "code",
   "execution_count": null,
   "metadata": {},
   "outputs": [],
   "source": [
    "# can we inspect the data for 2008 and 2009\n",
    "PW_GDP_USRECD_df[(PW_GDP_USRECD_df.index > '2006-01-01') ]"
   ]
  },
  {
   "cell_type": "code",
   "execution_count": null,
   "metadata": {},
   "outputs": [],
   "source": []
  }
 ],
 "metadata": {
  "deepnote": {},
  "deepnote_execution_queue": [],
  "deepnote_notebook_id": "59984a21-9207-47a0-80d4-a0f6e905e666",
  "kernelspec": {
   "display_name": "data_env",
   "language": "python",
   "name": "python3"
  },
  "language_info": {
   "codemirror_mode": {
    "name": "ipython",
    "version": 3
   },
   "file_extension": ".py",
   "mimetype": "text/x-python",
   "name": "python",
   "nbconvert_exporter": "python",
   "pygments_lexer": "ipython3",
   "version": "3.10.16"
  }
 },
 "nbformat": 4,
 "nbformat_minor": 4
}

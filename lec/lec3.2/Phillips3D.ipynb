{
 "cells": [
  {
   "cell_type": "markdown",
   "id": "fc018029",
   "metadata": {},
   "source": [
    "##  Phillips Curve in 3D"
   ]
  },
  {
   "cell_type": "code",
   "execution_count": null,
   "id": "bb497554",
   "metadata": {},
   "outputs": [],
   "source": []
  },
  {
   "cell_type": "code",
   "execution_count": null,
   "id": "f20b287e-4678-4cb2-908f-7d3ccc031d00",
   "metadata": {},
   "outputs": [],
   "source": [
    "import pandas as pd\n",
    "import numpy as np\n",
    "import matplotlib.pyplot as plt\n",
    "from scipy.optimize import curve_fit\n",
    "import seaborn as sns\n",
    "%matplotlib inline\n",
    "import plotly\n",
    "import plotly.graph_objects as go\n"
   ]
  },
  {
   "cell_type": "code",
   "execution_count": null,
   "id": "45caf86d-5166-4ba1-a0b6-8526fb93f54c",
   "metadata": {},
   "outputs": [],
   "source": [
    "macroeconomics = pd.read_csv(\"macro.csv\")\n",
    "macroeconomics.head()"
   ]
  },
  {
   "cell_type": "code",
   "execution_count": null,
   "id": "6ae7656a-2ab7-49a1-9007-40cc19ee78e7",
   "metadata": {},
   "outputs": [],
   "source": [
    "phillips_curve = macroeconomics[[\"DATE\", \"UNRATE_lin\", \"CPILFESL_pc1\", \"NROU\"]].copy()\n",
    "phillips_curve[\"decade\"] = phillips_curve[\"DATE\"].apply(lambda date: int(date[:4]) // 10 * 10)\n",
    "phillips_curve.set_index(\"DATE\", inplace=True)\n",
    "phillips_curve = phillips_curve.apply(pd.to_numeric)\n",
    "phillips_curve.head()"
   ]
  },
  {
   "cell_type": "code",
   "execution_count": null,
   "id": "04aa123b-d9f3-4741-8e1f-7ccc75170c91",
   "metadata": {},
   "outputs": [],
   "source": [
    "phillips_curve.tail()"
   ]
  },
  {
   "cell_type": "code",
   "execution_count": null,
   "id": "b33c3bc5-acef-4dd9-a6d5-b8f887ca8fc9",
   "metadata": {},
   "outputs": [],
   "source": [
    "fig = go.Figure(data=[go.Scatter3d(\n",
    "    x=phillips_curve[\"UNRATE_lin\"], \n",
    "    y=phillips_curve[\"CPILFESL_pc1\"],\n",
    "    z= phillips_curve.index,\n",
    "    mode='markers', # can change this to 'lines+markers'\n",
    "    marker=dict(\n",
    "        size=3,\n",
    "        color=phillips_curve['decade'],  \n",
    "        colorscale='Viridis',  \n",
    "        opacity=0.8,   \n",
    "                 ),\n",
    "    line=dict(\n",
    "        color='blue',  # Color of the line\n",
    "        width=2  # Width of the line\n",
    "    ) )\n",
    "])\n",
    "fig.update_layout(title='3D Phillips Curve',\n",
    "                  scene=dict(\n",
    "                      xaxis_title='Inflation Rate (%)',\n",
    "                      yaxis_title='Unemployment Rate (%)',\n",
    "                      zaxis_title='Year' ),\n",
    "                 width=800,  \n",
    "                 height=600) "
   ]
  },
  {
   "cell_type": "code",
   "execution_count": null,
   "id": "96f4b424-422d-4839-9362-c01f617a5599",
   "metadata": {},
   "outputs": [],
   "source": [
    "fig.show()\n"
   ]
  },
  {
   "cell_type": "code",
   "execution_count": null,
   "id": "f4622f8c-e119-4d27-b454-befcabf6bef0",
   "metadata": {},
   "outputs": [],
   "source": [
    "fig = go.Figure(data=go.Scatter(x=phillips_curve.index, y=phillips_curve[\"UNRATE_lin\"], mode='lines+markers'))\n",
    "fig.update_layout(title='Unemployment Over Time',\n",
    "                  xaxis_title='Date',\n",
    "                  yaxis_title='Unemployment Rate (%)',\n",
    "                  width=800,  \n",
    "                  height=600   \n",
    "                 )\n",
    "                  \n",
    "fig.show()\n"
   ]
  },
  {
   "cell_type": "code",
   "execution_count": null,
   "id": "d99a622a",
   "metadata": {},
   "outputs": [],
   "source": [
    "fig = go.Figure(data=go.Scatter(x=phillips_curve.index, y=phillips_curve[\"CPILFESL_pc1\"], mode='lines+markers'))\n",
    "fig.update_layout(title='Inflation Over Time',\n",
    "                  xaxis_title='Date',\n",
    "                  yaxis_title='Inflation Rate (%)',\n",
    "                  width=800,  \n",
    "                  height=600   \n",
    "                 )\n",
    "                  \n",
    "fig.show()"
   ]
  },
  {
   "cell_type": "code",
   "execution_count": null,
   "id": "b89aa238",
   "metadata": {},
   "outputs": [],
   "source": []
  }
 ],
 "metadata": {
  "kernelspec": {
   "display_name": "Python 3 (ipykernel)",
   "language": "python",
   "name": "python3"
  },
  "language_info": {
   "codemirror_mode": {
    "name": "ipython",
    "version": 3
   },
   "file_extension": ".py",
   "mimetype": "text/x-python",
   "name": "python",
   "nbconvert_exporter": "python",
   "pygments_lexer": "ipython3",
   "version": "3.8.15"
  }
 },
 "nbformat": 4,
 "nbformat_minor": 5
}

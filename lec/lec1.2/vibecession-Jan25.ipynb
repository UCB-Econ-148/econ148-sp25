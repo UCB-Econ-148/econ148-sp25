{
 "cells": [
  {
   "cell_type": "markdown",
   "metadata": {},
   "source": [
    "##  Vibecession - The Notebook!\n",
    "The purpose of this notebook is to get the data and check the vibes behind the post-COVID drop in Consumer Sentiment\n",
    "\n",
    "The concept of vibecession and the testing it in a notebook folllows from a couple key sources\n",
    " - A Tweet by **Quantian** that [showed a test of the hypothesis](https://threadreaderapp.com/thread/1688397994821873664.html#google_vignette) - that this notebook is recreating\n",
    "\n",
    "- Which was followed up by a FT recreation - for multiple countries  - and how partisan this gap is !  You can read about it here [Should we believe Americans when they say the economy is bad? John Burn-Murdoch](https://www.ft.com/content/9c7931aa-4973-475e-9841-d7ebd54b0f47)\n",
    "\n",
    "\n",
    "\n"
   ]
  },
  {
   "cell_type": "markdown",
   "metadata": {},
   "source": [
    "### But our starting point can be a more accessible commentator \n",
    "\n",
    "\n",
    "[Kyla Scanlon](https://kylascanlon.com/), an online content creator and independent economics educator, coined the term \"vibecession\" to describe a phenomenon where public sentiment about the economy is overwhelmingly negative, despite relatively positive economic indicators like GDP growth and low unemployment rates. The term is a portmanteau of \"vibes\" and \"recession,\" suggesting an economic downturn driven primarily by negative public sentiment rather than direct economic metrics.\n",
    "\n",
    "The concept of the vibecession was introduced by Scanlon in a June 2022 newsletter, amidst observations that, while hard economic data was showing signs of stability and growth, the general sentiment among the public remained pessimistic. This disconnect, where the public feels economically insecure despite positive indicators, has been a central theme in Scanlon's discussions on platforms like TikTok, where she aims to make complex economic concepts more accessible and engaging to a broader audience, particularly younger people.\n",
    "\n",
    "\n",
    "[Kyla Scanlon](https://www.marketplace.org/2022/09/07/for-tiktok-maker-kyla-scanlon-its-about-making-finance-fun-and-a-bit-chaotic/) on Marketplace"
   ]
  },
  {
   "cell_type": "code",
   "execution_count": 125,
   "metadata": {
    "metadata": {}
   },
   "outputs": [],
   "source": [
    "import pandas as pd\n",
    "import matplotlib.pyplot as plt\n",
    "import statsmodels.api as sm\n",
    "from sklearn.metrics import mean_absolute_error\n",
    "import plotly.express as px"
   ]
  },
  {
   "cell_type": "code",
   "execution_count": 126,
   "metadata": {
    "metadata": {}
   },
   "outputs": [],
   "source": [
    "# try to import fredapi\n",
    "try:\n",
    "    from fredapi import Fred\n",
    "except ImportError:\n",
    "    !pip install fredapi\n",
    "    from fredapi import Fred\n",
    "\n",
    "# try to import yfinance\n",
    "try:\n",
    "    import yfinance as yf\n",
    "except ImportError:\n",
    "    !pip install yfinance\n",
    "    import yfinance as yf\n",
    "fred = Fred(api_key='e3053cdc3e94dfb2b73c5945b0d1b1f7')\n"
   ]
  },
  {
   "cell_type": "markdown",
   "metadata": {},
   "source": [
    "##  Part  1 - Gather the Data \n",
    " - The following sections are how we source the data\n",
    "  - This may be too boring and pedantic  - but they are related to the learnign outcomes of the class \n",
    "  - We will use a combination of the python package `fredapi` to dowload a few time series from the Federal Reserve Bank of St Louis\n",
    "  - And python package `yfinance` (derived from Yahoo Finance)  to get additional series\n",
    "  - An enterprising student could add additional series to the modeling process\n",
    "*Skip to Part 2 if you just want to see the results* "
   ]
  },
  {
   "cell_type": "markdown",
   "metadata": {},
   "source": [
    "## Consumer Sentiment \n",
    "\n",
    "The [University of Michigan Consumer Sentiment Index](http://www.sca.isr.umich.edu/) is an economic indicator that assesses the confidence, conditions, and expectations of U.S. consumers regarding their financial situation and the general state of the economy. The index is based on a monthly survey of approximately 500 households regarding their personal finances, business conditions, and buying conditions. It is divided into two parts: the Index of Consumer Expectations and the Current Economic Conditions Index.\n",
    "\n",
    "This data is significant as it can provide insights into consumer behavior, which helps in predicting changes in spending and saving habits. Higher consumer confidence typically indicates that people feel secure in their personal financial situation and thus are more likely to increase spending, which is a key driver of economic growth.\n",
    "\n",
    "The index is often used by analysts and policymakers to understand consumer sentiment and its potential impact on the economy. For instance, rising sentiment can suggest increased consumer spending and economic expansion, while declining sentiment might indicate economic slowdowns or recessions."
   ]
  },
  {
   "cell_type": "code",
   "execution_count": null,
   "metadata": {
    "metadata": {}
   },
   "outputs": [],
   "source": [
    "# This is the data we want to model, we are going to get the UMCSENT series from FRED\n",
    "UMCSENT = fred.get_series('UMCSENT', observation_start='1979-01-01', observation_end='2025-01-01')\n",
    "UMCSENT\n",
    "print(UMCSENT.index.tzinfo)\n",
    "UMCSENT"
   ]
  },
  {
   "cell_type": "markdown",
   "metadata": {},
   "source": [
    "Lets take a look at the data that we are trying to model \n",
    "\n",
    "The time range is roughly the last 40 years "
   ]
  },
  {
   "cell_type": "code",
   "execution_count": null,
   "metadata": {
    "metadata": {}
   },
   "outputs": [],
   "source": [
    "fig = px.line(UMCSENT, title='Consumer Sentiment Index')\n",
    "fig.update_yaxes(range=[0, 120])\n",
    "fig.show()\n"
   ]
  },
  {
   "cell_type": "markdown",
   "metadata": {},
   "source": [
    "###  Get some Features eg Explanatory Variables for our Model\n",
    "\n",
    "Now we want to search for some basic economics variables that could explain how Consumers are Feeling \n",
    "\n",
    "Variables that were suggested by Quantian on Twitter were the following \n",
    "\n",
    "- Inflation rate\n",
    "- Inflation rate change\n",
    "- Unemployment\n",
    "- Unemployment change\n",
    "- Housing prices\n",
    "- Real wages\n",
    "- Dollar strength\n",
    "- Interest rates\n",
    "- Stock prices\n",
    "\n",
    "For the first set of Series we will go FRED and download them according to the series name \n",
    "\n",
    "\n"
   ]
  },
  {
   "cell_type": "code",
   "execution_count": 129,
   "metadata": {
    "metadata": {}
   },
   "outputs": [],
   "source": [
    "#Unemployment rate\n",
    "UNRATE=fred.get_series('UNRATE', observation_start='1979-01-01', observation_end='2025-01-01')\n",
    "#Inflation rate\n",
    "CPIAUSCL= fred.get_series('CPIAUCSL', observation_start='1979-01-01', observation_end='2025-01-01')\n",
    "#GDP\n",
    "GDP=fred.get_series('GDP', observation_start='1979-01-01', observation_end= '2025-01-01')\n",
    "#housing price change\n",
    "USSTHPI=fred.get_series('USSTHPI', observation_start='1979-01-01', observation_end='2025-01-01')\n",
    "#intereste rate\n",
    "FEDFUNDSS=fred.get_series('FEDFUNDS', observation_start='1979-01-01', observation_end='2025-01-01')\n",
    "#Real Wages\n",
    "WAGES=fred.get_series('LES1252881600Q', observation_start='1979-01-01', observation_end='2025-01-01')\n",
    "\n",
    "# The following Series ARE available on FRED but not with the time range we need\n",
    "#S&P 500\n",
    "#SP500=fred.get_series('SP500', observation_start='1979-01-01', observation_end='2024-03-01')\n",
    "#Dolar index monthly\n",
    "#DTWEXM=fred.get_series('DTWEXM', observation_start='1979-01-01', observation_end='2024-03-01')\n",
    "# inflation change quarter to quarter\n",
    "#INFCHANGE=fred.get_series('BPCCRO1Q156NBEA', observation_start='2019-01-01', observation_end='2024-03-01')\n",
    "\n",
    "\n"
   ]
  },
  {
   "cell_type": "markdown",
   "metadata": {},
   "source": [
    "### Processing the data \n",
    "\n",
    "- In the next few cells I will take a look at each series we have downloaded \n",
    "- Some have to check the Time Zone - I am going to go with making them all \"time zone naive\"\n",
    "- Some data are monthly, some are quarterly - I am going to adjust everything to monthly by filling in quarterly data for the first of each month in that quarter  "
   ]
  },
  {
   "cell_type": "code",
   "execution_count": null,
   "metadata": {
    "metadata": {}
   },
   "outputs": [],
   "source": [
    "#Inflation rate\n",
    "print(CPIAUSCL.index.tzinfo)\n",
    "CPIAUSCL"
   ]
  },
  {
   "cell_type": "code",
   "execution_count": null,
   "metadata": {
    "metadata": {}
   },
   "outputs": [],
   "source": [
    "#housing price change index is quarterly, we need to resample it to monthly and fill to December 2024\n",
    "#USSTHPI=USSTHPI.resample('MS').ffill()\n",
    "#print(USSTHPI.index.tzinfo)\n",
    "\n",
    "USSTHPI=USSTHPI.reindex(pd.date_range(start='1979-01-01', end='2024-12-01', freq='MS')).ffill()\n",
    "USSTHPI\n",
    "\n"
   ]
  },
  {
   "cell_type": "code",
   "execution_count": null,
   "metadata": {
    "metadata": {}
   },
   "outputs": [],
   "source": [
    "# Wage series is quarterly, we need to resample it to monthly\n",
    "WAGES=WAGES.reindex(pd.date_range(start='1979-01-01', end='2024-12-01', freq='MS')).ffill()\n",
    "WAGES\n",
    "\n",
    "\n",
    "WAGES"
   ]
  },
  {
   "cell_type": "code",
   "execution_count": 133,
   "metadata": {
    "metadata": {}
   },
   "outputs": [],
   "source": [
    "#convert gdp to monthly by using the quarterly data\n",
    "#GDP=GDP.resample('MS').ffill()\n",
    "#print(GDP.index.tzinfo)\n",
    "\n",
    "#GDP\n"
   ]
  },
  {
   "cell_type": "code",
   "execution_count": null,
   "metadata": {},
   "outputs": [],
   "source": [
    "# Lets fowrard fill the data for GDP  through 2024-12-01 using the last available data\n",
    "GDP=GDP.reindex(pd.date_range(start='1979-01-01', end='2024-12-01', freq='MS')).ffill()\n",
    "GDP\n"
   ]
  },
  {
   "cell_type": "code",
   "execution_count": null,
   "metadata": {
    "metadata": {}
   },
   "outputs": [],
   "source": [
    "# Make a new variable thats the percent change in CPI\n",
    "cpichange = CPIAUSCL.pct_change()\n",
    "print(cpichange.index.tzinfo)\n",
    "\n",
    "cpichange\n"
   ]
  },
  {
   "cell_type": "markdown",
   "metadata": {},
   "source": [
    "### For the next couple of series we can get a longer time series by going to YFinance"
   ]
  },
  {
   "cell_type": "markdown",
   "metadata": {},
   "source": []
  },
  {
   "cell_type": "code",
   "execution_count": null,
   "metadata": {
    "metadata": {}
   },
   "outputs": [],
   "source": [
    "#download S&P 500 data close price only\n",
    "SP500 = yf.download('^GSPC', start='1979-01-01', end='2025-01-01')\n",
    "#convert daily data to monthly data\n",
    "SP500=SP500.resample('MS').mean()\n",
    "#drop all columns except close price\n",
    "SP500=SP500['Close']\n",
    "#make time zone naive\n",
    "SP500.index = SP500.index.tz_localize(None)\n",
    "\n",
    "SP500"
   ]
  },
  {
   "cell_type": "code",
   "execution_count": null,
   "metadata": {
    "metadata": {}
   },
   "outputs": [],
   "source": [
    "# Get the Dollar Index data\n",
    "DXY = yf.download('DX-Y.NYB', start='1979-01-01', end='2025-01-01')\n",
    "DXY=DXY.resample('MS').mean()\n",
    "DXY=DXY['Close']\n",
    "DXY.index = DXY.index.tz_localize(None)\n",
    "DXY\n"
   ]
  },
  {
   "cell_type": "markdown",
   "metadata": {},
   "source": [
    "Now Lets Combine these series into a Dataframe called Vibes\n",
    "- save it as a csv so we can skip all the data processing in the future\n",
    "- Drop missing values for now (What gets dropped!?!) ( eg data before Nov 2023)\n",
    "- check the data visually "
   ]
  },
  {
   "cell_type": "code",
   "execution_count": 138,
   "metadata": {
    "metadata": {}
   },
   "outputs": [],
   "source": [
    "# create a dataframe using pd.concat\n",
    "vibes = pd.concat([UMCSENT, UNRATE, CPIAUSCL, GDP, USSTHPI, FEDFUNDSS, SP500, DXY, cpichange,WAGES], axis=1) \n",
    "vibes.columns = ['UMCSENT', 'UNEMPLOYMENT', 'CPI', 'GDP', 'HOUSINGPRICE', 'FEDFUNDS', 'SP500', 'DOLLAR', 'CPICHANGE','WAGES'] \n",
    "# drop any rows with missing values\n",
    "vibes.dropna(inplace=True)\n",
    "\n",
    "\n"
   ]
  },
  {
   "cell_type": "code",
   "execution_count": null,
   "metadata": {},
   "outputs": [],
   "source": [
    "# save vibes to a csv file\n",
    "vibes.to_csv('vibes.csv')\n",
    "vibes\n",
    "\n"
   ]
  },
  {
   "cell_type": "markdown",
   "metadata": {},
   "source": [
    "## Part 2  - Modeling Consumer Sentiment with Macroeconomic Data Series \n",
    "\n",
    "In the next section we will be modeling consumer sentiment and using the macroeconomcis time series \n",
    "- split up the data into before and after covid\n",
    "- run a regression to predict consumer sentiment\n",
    "- Compare predicted to actual outcomes\n",
    "- Look at the residuals\n",
    "- Show how to run the model in SKLearn instead of statsmodels\n",
    "\n"
   ]
  },
  {
   "cell_type": "code",
   "execution_count": 140,
   "metadata": {},
   "outputs": [],
   "source": [
    "#read in vibes.csv\n",
    "vibes = pd.read_csv('vibes.csv', index_col=0)"
   ]
  },
  {
   "cell_type": "markdown",
   "metadata": {},
   "source": [
    "Set up:\n",
    "-   Y =the variable we want to predict, the Target in ML\n",
    "- X = the explanatory variabbles we use to predicy Y , or features in ML"
   ]
  },
  {
   "cell_type": "code",
   "execution_count": 141,
   "metadata": {
    "metadata": {}
   },
   "outputs": [],
   "source": [
    "X = vibes[['UNEMPLOYMENT', 'CPI', 'GDP', 'HOUSINGPRICE', 'FEDFUNDS', 'SP500', 'DOLLAR', 'CPICHANGE','WAGES']]\n",
    "Y = vibes['UMCSENT']  # Make sure this is the correct column name for Consumer Sentiment"
   ]
  },
  {
   "cell_type": "markdown",
   "metadata": {},
   "source": [
    "The first model will use Statsmodels to run a simple linear regression \n",
    "\n",
    "*I know there are problems with this model specification!*"
   ]
  },
  {
   "cell_type": "code",
   "execution_count": null,
   "metadata": {
    "metadata": {}
   },
   "outputs": [],
   "source": [
    "X = sm.add_constant(X)\n",
    "# Fit the model\n",
    "model = sm.OLS(Y, X).fit()\n",
    "# Print out the statistics\n",
    "print(model.summary())"
   ]
  },
  {
   "cell_type": "markdown",
   "metadata": {},
   "source": [
    "**NOTE -  Multicollinearity between Xs is a problem in this model**"
   ]
  },
  {
   "cell_type": "markdown",
   "metadata": {},
   "source": [
    "### Redo the Model as before and after COVID\n",
    "\n",
    "The idea here is to train the model toon data up until 2019 and then use it to predict 2020-2024"
   ]
  },
  {
   "cell_type": "code",
   "execution_count": 143,
   "metadata": {
    "metadata": {}
   },
   "outputs": [],
   "source": [
    "# Split the data into training and testing sets before and after Dec 2019\n",
    "vibes_train = vibes.loc[:'2019-12-01']\n",
    "vibes_test = vibes.loc['2020-01-01':]\n",
    "\n",
    "X_train = vibes_train[['UNEMPLOYMENT', 'CPI', 'GDP', 'HOUSINGPRICE', 'FEDFUNDS', 'SP500', 'DOLLAR', 'CPICHANGE','WAGES']]\n",
    "Y_train = vibes_train['UMCSENT']\n",
    "\n",
    "X_test = vibes_test[['UNEMPLOYMENT', 'CPI', 'GDP', 'HOUSINGPRICE', 'FEDFUNDS', 'SP500', 'DOLLAR', 'CPICHANGE','WAGES']]\n",
    "Y_test = vibes_test['UMCSENT']\n",
    "\n",
    "X_train = sm.add_constant(X_train)\n",
    "X_test = sm.add_constant(X_test)\n",
    "\n",
    "\n"
   ]
  },
  {
   "cell_type": "code",
   "execution_count": null,
   "metadata": {
    "metadata": {}
   },
   "outputs": [],
   "source": [
    "# Fit the model on the training data\n",
    "model = sm.OLS(Y_train, X_train).fit()\n",
    "# Summary of the model\n",
    "print(model.summary())\n",
    "# Predict the test data\n",
    "Y_pred = model.predict(X_test)\n",
    "# Calculate the MAE\n",
    "mae = mean_absolute_error(Y_test, Y_pred)\n",
    "print(f'The Mean Absolute Error of the model is {mae}')\n"
   ]
  },
  {
   "cell_type": "code",
   "execution_count": null,
   "metadata": {},
   "outputs": [],
   "source": [
    "X_oct_2024 = X_test.loc['2024-10-01']\n",
    "X_oct_2024"
   ]
  },
  {
   "cell_type": "markdown",
   "metadata": {},
   "source": [
    "### if we feed these into the model we get the predicted value for October 2024"
   ]
  },
  {
   "cell_type": "code",
   "execution_count": null,
   "metadata": {},
   "outputs": [],
   "source": [
    "Y_oct_2024 = model.predict(X_oct_2024)\n",
    "Y_oct_2024"
   ]
  },
  {
   "cell_type": "markdown",
   "metadata": {},
   "source": [
    "### What was the actual value ?\n"
   ]
  },
  {
   "cell_type": "code",
   "execution_count": null,
   "metadata": {},
   "outputs": [],
   "source": [
    "Y_oct_2024_actual = vibes.loc['2024-10-01']['UMCSENT']\n",
    "Y_oct_2024_actual"
   ]
  },
  {
   "cell_type": "code",
   "execution_count": null,
   "metadata": {},
   "outputs": [],
   "source": [
    "# Lets do (actual - predicted) / actual\n",
    "percent_error = (Y_oct_2024_actual - Y_oct_2024) / Y_oct_2024_actual\n",
    "percent_error"
   ]
  },
  {
   "cell_type": "code",
   "execution_count": null,
   "metadata": {
    "metadata": {}
   },
   "outputs": [],
   "source": [
    "#plot the actual vs predicted values over the testing data\n",
    "plt.figure(figsize=(12, 6))\n",
    "plt.plot(Y_train, label='Train')\n",
    "plt.plot(Y_test, label='Test')\n",
    "plt.plot(Y_pred, label='Predicted')\n",
    "plt.ylabel('Consumer Sentiment Index')\n",
    "plt.legend()\n",
    "plt.show()"
   ]
  },
  {
   "cell_type": "markdown",
   "metadata": {},
   "source": [
    "# Plot the data and the model's prediction for the entire time period\n"
   ]
  },
  {
   "cell_type": "code",
   "execution_count": null,
   "metadata": {
    "metadata": {}
   },
   "outputs": [],
   "source": [
    "#X = vibes[['UNEMPLOYMENT', 'CPI', 'GDP', 'HOUSINGPRICE', 'FEDFUNDS', 'SP500', 'DOLLAR', 'CPICHANGE','WAGES']]\n",
    "#X = sm.add_constant(X)\n",
    "#Y = vibes['UMCSENT']\n",
    "Y_pred_all = model.predict(X)\n",
    "plt.figure(figsize=(12, 6))\n",
    "plt.plot(Y, label='Actual')\n",
    "plt.plot(Y_pred_all, label='Predicted')\n",
    "plt.title('Actual vs Predicted Consumer Sentiment Index')\n",
    "\n",
    "plt.ylabel('Consumer Sentiment Index') #Label the Y axis\n",
    "# label the x axis by every 5 years\n",
    "plt.xticks(['1980-01-01', '1985-01-01', '1990-01-01', '1995-01-01', '2000-01-01', '2005-01-01', '2010-01-01', '2015-01-01', '2020-01-01'])\n",
    "\n",
    "plt.legend()\n",
    "plt.show()\n"
   ]
  },
  {
   "cell_type": "markdown",
   "metadata": {},
   "source": [
    "## Plot the data and the model's prediction for the entire time period using `plotly`\n",
    "### Plot actual and predicted values for Y"
   ]
  },
  {
   "cell_type": "code",
   "execution_count": null,
   "metadata": {
    "metadata": {}
   },
   "outputs": [],
   "source": [
    "\n",
    "fig = px.line(vibes, y=['UMCSENT'], title='Consumer Sentiment Index')\n",
    "fig.add_scatter(x=vibes.index, y=Y_pred_all, mode='lines', name='Predicted')\n",
    "fig.update_yaxes(range=[0, 120])\n",
    "# add a line at March 2020\n",
    "fig.add_vline(x='2020-03-01', line_dash='dash', line_color='red')\n",
    "# add y axis label\n",
    "fig.update_yaxes(title_text='Consumer Sentiment Index')\n",
    "fig.show()\n",
    "\n",
    "\n"
   ]
  },
  {
   "cell_type": "markdown",
   "metadata": {},
   "source": [
    "### plot the actual vs predicted values on test data only\n"
   ]
  },
  {
   "cell_type": "code",
   "execution_count": null,
   "metadata": {
    "metadata": {}
   },
   "outputs": [],
   "source": [
    "plt.plot(Y_test.index, Y_test, label='Actual')\n",
    "plt.plot(Y_test.index, Y_pred, label='Predicted')\n",
    "plt.legend()\n",
    "plt.show()\n"
   ]
  },
  {
   "cell_type": "markdown",
   "metadata": {},
   "source": [
    "## plot the residuals "
   ]
  },
  {
   "cell_type": "code",
   "execution_count": null,
   "metadata": {
    "metadata": {}
   },
   "outputs": [],
   "source": [
    "residuals = Y_test - Y_pred\n",
    "plt.plot(Y_test.index, residuals)\n",
    "plt.axhline(0, color='red', linestyle='--')\n",
    "plt.show()\n"
   ]
  },
  {
   "cell_type": "markdown",
   "metadata": {},
   "source": [
    "### plot the residuals over the entire time period \n"
   ]
  },
  {
   "cell_type": "code",
   "execution_count": null,
   "metadata": {
    "metadata": {}
   },
   "outputs": [],
   "source": [
    "\n",
    "residuals_all = Y - Y_pred_all\n",
    "plt.plot(Y.index, residuals_all)\n",
    "plt.axhline(0, color='red', linestyle='--')\n",
    "# label the x axis by every 5 years\n",
    "plt.xticks(['1980-01-01', '1985-01-01', '1990-01-01', '1995-01-01', '2000-01-01', '2005-01-01', '2010-01-01', '2015-01-01', '2020-01-01'])\n",
    "\n",
    "plt.show()\n"
   ]
  },
  {
   "cell_type": "markdown",
   "metadata": {},
   "source": [
    "## Redo the modeling using Sci-Kit Learn ( instead of Statsmodels )"
   ]
  },
  {
   "cell_type": "code",
   "execution_count": 155,
   "metadata": {
    "metadata": {}
   },
   "outputs": [],
   "source": [
    "from sklearn.linear_model import LinearRegression\n",
    "from sklearn.model_selection import train_test_split\n",
    "from sklearn.metrics import mean_absolute_error\n"
   ]
  },
  {
   "cell_type": "code",
   "execution_count": null,
   "metadata": {
    "metadata": {}
   },
   "outputs": [],
   "source": [
    "# SKlearn Linear Regression Model\n",
    "# Create a linear regression model\n",
    "lr = LinearRegression()\n",
    "\n",
    "# Fit the model\n",
    "lr.fit(X_train, Y_train)\n",
    "\n",
    "# Predict on the test set\n",
    "Y_pred = lr.predict(X_test)\n",
    "\n",
    "# Calculate the MAE\n",
    "mae = mean_absolute_error(Y_test, Y_pred)\n",
    "print(f'The Mean Absolute Error of the model is {mae}')\n",
    "\n",
    "# print the R^2 value\n",
    "print(f'The R^2 value of the training model is {lr.score(X_train, Y_train)}')\n",
    "print(f'The R^2 value of the model on test data is {lr.score(X_test, Y_test)}')\n",
    "\n"
   ]
  },
  {
   "cell_type": "markdown",
   "metadata": {},
   "source": [
    "### plot the actual vs predicted values\n"
   ]
  },
  {
   "cell_type": "code",
   "execution_count": null,
   "metadata": {
    "metadata": {}
   },
   "outputs": [],
   "source": [
    "plt.plot(Y_test.index, Y_test, label='Actual')\n",
    "plt.plot(Y_test.index, Y_pred, label='Predicted')\n",
    "plt.legend()\n",
    "plt.show()\n",
    "\n"
   ]
  },
  {
   "cell_type": "code",
   "execution_count": null,
   "metadata": {
    "metadata": {}
   },
   "outputs": [],
   "source": [
    "# Fit the model\n",
    "model = LinearRegression()\n",
    "model.fit(X_train, Y_train)\n",
    "# Make predictions\n",
    "y_pred = model.predict(X_test)\n",
    "# Evaluate the model\n",
    "mae = mean_absolute_error(Y_test, y_pred)\n",
    "# Print the MAE\n",
    "print(f'The Mean Absolute Error of the model is {mae}')\n",
    "# print the R^2\n",
    "print(f'The R^2 of the model on test data is {model.score(X_test, Y_test)}')\n"
   ]
  },
  {
   "cell_type": "markdown",
   "metadata": {},
   "source": [
    "### Plot y  over time with years on the x-axis\n"
   ]
  },
  {
   "cell_type": "code",
   "execution_count": null,
   "metadata": {
    "metadata": {}
   },
   "outputs": [],
   "source": [
    "plt.figure(figsize=(12,6))\n",
    "plt.plot(Y.index, Y, label='Actual')\n",
    "plt.plot(Y_test.index, y_pred, label='Predicted')\n",
    "plt.ylabel('Consumer Sentiment Index')\n",
    "plt.legend()\n",
    "plt.show()\n",
    "\n",
    "\n"
   ]
  },
  {
   "cell_type": "markdown",
   "metadata": {},
   "source": [
    "##  SKlearn - Let's try a different ML model\n",
    "Now that we have the ML model all set up, we can try a different ML model.  One that has been suggested for time series for improved fits is the Random Forest Regressor\n"
   ]
  },
  {
   "cell_type": "code",
   "execution_count": null,
   "metadata": {
    "metadata": {}
   },
   "outputs": [],
   "source": [
    "from sklearn.ensemble import RandomForestRegressor\n",
    "\n",
    "# Create the model\n",
    "model = RandomForestRegressor(n_estimators=100, random_state=42)\n",
    "\n",
    "# Fit the model\n",
    "model.fit(X_train, Y_train)\n",
    "\n",
    "# Predict on the test set\n",
    "RFRpred = model.predict(X_test)\n",
    "\n",
    "#Evaluate the model on traning data\n",
    "r2 = model.score(X_train, Y_train)\n",
    "print(\"R-squared on training data :\", r2)\n",
    "\n",
    "# Calculate the MAE\n",
    "mae = mean_absolute_error(Y_test, RFRpred)\n",
    "print(f'The Mean Absolute Error of the model is {mae}')\n",
    "\n",
    "# Evaluate the model (using R^2 score here)\n",
    "r2 = model.score(X_test, Y_test)\n",
    "print(\"R-squared on test data :\", r2)\n"
   ]
  },
  {
   "cell_type": "markdown",
   "metadata": {},
   "source": [
    "Let's look a the plots as we did for the regressions above "
   ]
  },
  {
   "cell_type": "markdown",
   "metadata": {},
   "source": [
    "### Plot y  over time with years on the x-axis\n"
   ]
  },
  {
   "cell_type": "code",
   "execution_count": null,
   "metadata": {
    "metadata": {}
   },
   "outputs": [],
   "source": [
    "plt.figure(figsize=(12,6))\n",
    "plt.plot(Y.index, Y, label='Actual')\n",
    "plt.plot(Y_test.index, RFRpred, label='Predicted')\n",
    "plt.ylabel('Consumer Sentiment Index')\n",
    "plt.legend()\n",
    "plt.show()\n"
   ]
  },
  {
   "cell_type": "markdown",
   "metadata": {},
   "source": [
    "### Plot the Y_test and the predicted values\n"
   ]
  },
  {
   "cell_type": "code",
   "execution_count": null,
   "metadata": {
    "metadata": {}
   },
   "outputs": [],
   "source": [
    "plt.plot(Y_test.index, Y_test, label='Actual')\n",
    "plt.plot(Y_test.index, RFRpred, label='Predicted')\n",
    "plt.legend()\n",
    "plt.show()\n"
   ]
  },
  {
   "cell_type": "markdown",
   "metadata": {},
   "source": [
    "### plot the Y and the predicted values over the entire time period\n"
   ]
  },
  {
   "cell_type": "code",
   "execution_count": null,
   "metadata": {
    "metadata": {}
   },
   "outputs": [],
   "source": [
    "RFRpred_all = model.predict(X)\n",
    "plt.figure(figsize=(12, 6))\n",
    "plt.plot(Y, label='Actual')\n",
    "plt.plot(RFRpred_all, label='Predicted')\n",
    "plt.ylabel('Consumer Sentiment Index')\n",
    "plt.legend()\n",
    "plt.show()\n"
   ]
  },
  {
   "cell_type": "markdown",
   "metadata": {},
   "source": [
    "### Plot the feature importances\n"
   ]
  },
  {
   "cell_type": "code",
   "execution_count": null,
   "metadata": {
    "metadata": {}
   },
   "outputs": [],
   "source": [
    "importances = model.feature_importances_\n",
    "plt.bar(X.columns, importances)\n",
    "plt.ylabel('Importance')\n",
    "plt.xticks(rotation=45)\n",
    "plt.show()\n"
   ]
  },
  {
   "cell_type": "markdown",
   "metadata": {},
   "source": []
  },
  {
   "cell_type": "code",
   "execution_count": null,
   "metadata": {},
   "outputs": [],
   "source": []
  }
 ],
 "metadata": {
  "kernelspec": {
   "display_name": "data_env",
   "language": "python",
   "name": "python3"
  },
  "language_info": {
   "codemirror_mode": {
    "name": "ipython",
    "version": 3
   },
   "file_extension": ".py",
   "mimetype": "text/x-python",
   "name": "python",
   "nbconvert_exporter": "python",
   "pygments_lexer": "ipython3",
   "version": "3.10.16"
  }
 },
 "nbformat": 4,
 "nbformat_minor": 4
}

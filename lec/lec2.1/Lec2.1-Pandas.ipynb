{
 "cells": [
  {
   "cell_type": "markdown",
   "id": "135d416c-ceb6-45d5-9fed-8ac7fedca34f",
   "metadata": {},
   "source": [
    "## Getting started with Pandas\n",
    "## Econ 148"
   ]
  },
  {
   "cell_type": "markdown",
   "id": "ca508f65-731c-4c69-a0e5-7544dbea3321",
   "metadata": {},
   "source": [
    "This Demo seeks to introduce students to pandas using an economics dataset. We will use data from the Economic Transformation Database (ETD) which presents the following internationally comparable sectoral data on employment and productivity in Africa, Asia, and Latin America. Feel free to further explore the data at https://www.wider.unu.edu/database/etd-economic-transformation-database."
   ]
  },
  {
   "cell_type": "markdown",
   "id": "e63b7675-8a11-439c-a153-d4f782ebfd7e",
   "metadata": {},
   "source": [
    "Kruse, H., E. Mensah, K. Sen, and G. J. de Vries (2022). “A manufacturing renaissance? Industrialization trends in the developing world”, IMF Economic Review DOI: 10.1057/s41308-022-00183-7\n",
    "\n",
    "License: The GGDC/UNU-WIDER Economic Transformation Database is licensed under a Creative Commons Attribution 4.0 International License."
   ]
  },
  {
   "cell_type": "code",
   "execution_count": 50,
   "id": "e4227a36-0d36-410c-9428-34cd2dfbf2d9",
   "metadata": {},
   "outputs": [],
   "source": [
    "import pandas as pd\n",
    "#!pip install openpyxl\n"
   ]
  },
  {
   "cell_type": "code",
   "execution_count": null,
   "id": "9f408aba",
   "metadata": {},
   "outputs": [],
   "source": [
    "dataverse_url=\"https://dataverse.nl/api/access/datafile/382704\"\n",
    "sheet_name=\"Data\"\n",
    "ETDdf_XL=pd.read_excel(dataverse_url,  sheet_name=sheet_name)\n",
    "ETDdf_XL"
   ]
  },
  {
   "cell_type": "code",
   "execution_count": null,
   "id": "d65a7a24",
   "metadata": {},
   "outputs": [],
   "source": [
    "\n",
    "github_url=\"https://raw.githubusercontent.com/UCB-Econ-148/econ148-sp24/refs/heads/main/lec/Lec2.1/ETD.csv\"\n",
    "ETDdf_GH = pd.read_csv(github_url,thousands=',') # note that the csv has a problem with thousands separator\n",
    "ETDdf_GH "
   ]
  },
  {
   "cell_type": "code",
   "execution_count": null,
   "id": "6f0c10db-21c2-420d-b270-d1a01c47c6ed",
   "metadata": {},
   "outputs": [],
   "source": [
    "ETDdf = pd.read_csv(\"ETD.csv\", thousands=',')  # note that the csv has a problem with thousands separator\n",
    "ETDdf"
   ]
  },
  {
   "cell_type": "markdown",
   "id": "c38a4ea1-f3b6-4b5d-bbf2-f48cc8bc9e2a",
   "metadata": {},
   "source": [
    "We have successfully imported the data! However, before we begin we must understand the data that we are working with and adjust it such that it will be ideal to work with."
   ]
  },
  {
   "cell_type": "code",
   "execution_count": null,
   "id": "8dbca222-5ce8-461b-8490-436ecf858c76",
   "metadata": {},
   "outputs": [],
   "source": [
    "ETDdf.shape"
   ]
  },
  {
   "cell_type": "code",
   "execution_count": null,
   "id": "8a2772d6-4ffc-4ab1-9c80-d53f68e47bf5",
   "metadata": {},
   "outputs": [],
   "source": [
    "years = 2018-1989\n",
    "years"
   ]
  },
  {
   "cell_type": "code",
   "execution_count": null,
   "id": "3ec33ce0-5298-4a2c-a8ee-6048b02015fd",
   "metadata": {},
   "outputs": [],
   "source": [
    "num_country = ETDdf[\"country\"].nunique()\n",
    "num_country"
   ]
  },
  {
   "cell_type": "code",
   "execution_count": null,
   "id": "a24de5e6-d639-4ce7-a6ff-6a158f8a2e95",
   "metadata": {},
   "outputs": [],
   "source": [
    "num_vars= ETDdf[\"var\"].nunique()\n",
    "num_vars"
   ]
  },
  {
   "cell_type": "code",
   "execution_count": null,
   "id": "f9aa5806-26e8-4424-84f3-cdfd52e3c3e9",
   "metadata": {},
   "outputs": [],
   "source": [
    "rows = years*num_country*num_vars\n",
    "rows"
   ]
  },
  {
   "cell_type": "markdown",
   "id": "ad6adaf8-c142-47fb-b5ce-d254094aedc2",
   "metadata": {},
   "source": [
    "We see that there are 4,437 rows and 23 columns. But notice that there are a few columns containing only 'NaN' values.  We can explore what features we have.  "
   ]
  },
  {
   "cell_type": "code",
   "execution_count": null,
   "id": "25232a5c-c3bd-44b1-86e5-8dca622c7823",
   "metadata": {},
   "outputs": [],
   "source": [
    "ETDdf[\"country\"].unique()"
   ]
  },
  {
   "cell_type": "code",
   "execution_count": null,
   "id": "9cbbb0ef-0f3d-4e4c-9238-3509abb2c2f1",
   "metadata": {},
   "outputs": [],
   "source": [
    "ETDdf.columns"
   ]
  },
  {
   "cell_type": "code",
   "execution_count": null,
   "id": "cfda78f1-745b-4acd-a034-4c03324a11c5",
   "metadata": {},
   "outputs": [],
   "source": [
    "ETDdf.dtypes"
   ]
  },
  {
   "cell_type": "code",
   "execution_count": null,
   "id": "0d9e225d-16b6-4be2-ad76-8a15afebf6a6",
   "metadata": {},
   "outputs": [],
   "source": [
    "ETDdf[\"Agriculture\"]"
   ]
  },
  {
   "cell_type": "code",
   "execution_count": null,
   "id": "477d6040-a5af-4cee-9b66-c14121043711",
   "metadata": {},
   "outputs": [],
   "source": [
    "ETDdf[ETDdf[\"country\"]== 'Cambodia']"
   ]
  },
  {
   "cell_type": "code",
   "execution_count": null,
   "id": "a7e25a9b-5836-40c2-80da-1975ebd5c4ee",
   "metadata": {},
   "outputs": [],
   "source": [
    "ETDdf.loc[ETDdf[\"cnt\"]==\"KHM\"]"
   ]
  },
  {
   "cell_type": "code",
   "execution_count": null,
   "id": "3b9c2870-ddf6-4e20-a983-b1cf808fec20",
   "metadata": {},
   "outputs": [],
   "source": [
    "ETDdf.loc[ETDdf[\"cnt\"]==\"KHM\",:]"
   ]
  },
  {
   "cell_type": "code",
   "execution_count": null,
   "id": "b4913da9-4b11-4c2b-92c8-558dfe3c24d3",
   "metadata": {},
   "outputs": [],
   "source": [
    "ETDdf.iloc[522:608,:]"
   ]
  },
  {
   "cell_type": "code",
   "execution_count": null,
   "id": "429f23d2-d37b-4b77-9f6d-3196839c47ae",
   "metadata": {},
   "outputs": [],
   "source": [
    "ETDdf.iloc[522:609,:]"
   ]
  },
  {
   "cell_type": "markdown",
   "id": "7000f59a",
   "metadata": {},
   "source": [
    "## Now Let's make a new Dataframe for Cambodia "
   ]
  },
  {
   "cell_type": "code",
   "execution_count": 68,
   "id": "6a9559b6-0a8e-4a71-a080-98184fd1121b",
   "metadata": {},
   "outputs": [],
   "source": [
    "KMHdf=ETDdf[ETDdf[\"country\"]== 'Cambodia']"
   ]
  },
  {
   "cell_type": "markdown",
   "id": "e1d6e1c6",
   "metadata": {},
   "source": [
    "You could try and make a datafram for a different country \n"
   ]
  },
  {
   "cell_type": "code",
   "execution_count": 69,
   "id": "55596f35",
   "metadata": {},
   "outputs": [],
   "source": [
    "my_df=ETDdf[ETDdf[\"country\"]== '...']"
   ]
  },
  {
   "cell_type": "code",
   "execution_count": null,
   "id": "69aa3e3f-4960-4ca5-b4fc-e2ec7b50929b",
   "metadata": {},
   "outputs": [],
   "source": [
    "KMHdf"
   ]
  },
  {
   "cell_type": "markdown",
   "id": "0401c754",
   "metadata": {},
   "source": [
    "## how about a dataframe for just Cambodia in 2018"
   ]
  },
  {
   "cell_type": "code",
   "execution_count": null,
   "id": "969927bd-aee6-4c15-886a-6df5828fc018",
   "metadata": {},
   "outputs": [],
   "source": [
    "KMH2018df=KMHdf[KMHdf['year']==2018]\n",
    "KMH2018df"
   ]
  },
  {
   "cell_type": "code",
   "execution_count": null,
   "id": "4fa8590b-fb45-4917-88bd-f904f59cb7a2",
   "metadata": {},
   "outputs": [],
   "source": [
    "ETDdf.head()"
   ]
  },
  {
   "cell_type": "code",
   "execution_count": null,
   "id": "2c1c2e8e-14d6-48bc-8ad8-4c451849006c",
   "metadata": {},
   "outputs": [],
   "source": [
    "ETDdf.tail()"
   ]
  },
  {
   "cell_type": "code",
   "execution_count": null,
   "id": "d6edc39e-91b8-49db-bb91-08d251c180c5",
   "metadata": {},
   "outputs": [],
   "source": [
    "ETDdf[-5:]"
   ]
  },
  {
   "cell_type": "code",
   "execution_count": null,
   "id": "60a957b7-8f7a-4c7e-8822-16bf53199432",
   "metadata": {},
   "outputs": [],
   "source": [
    "ETDdf.loc[0:4,\"Agriculture\":\"Manufacturing\"]"
   ]
  },
  {
   "cell_type": "code",
   "execution_count": null,
   "id": "f6dd9e6b-9536-42d1-a643-1c5b3cb46db8",
   "metadata": {},
   "outputs": [],
   "source": [
    "ETDdf.loc[100:103,\"country\":\"Manufacturing\"]"
   ]
  },
  {
   "cell_type": "code",
   "execution_count": null,
   "id": "a9c6f3b8-256c-4795-b7b1-7fd0a94bacd2",
   "metadata": {},
   "outputs": [],
   "source": [
    "ETDdf.loc[100:103,\"Manufacturing\"]"
   ]
  },
  {
   "cell_type": "code",
   "execution_count": null,
   "id": "f9a476dd-e092-478d-bfe9-616759931061",
   "metadata": {},
   "outputs": [],
   "source": [
    "ETDdf.loc[100,\"Manufacturing\"]"
   ]
  },
  {
   "cell_type": "code",
   "execution_count": null,
   "id": "063379eb-452d-407c-b99e-41d6b45a711d",
   "metadata": {},
   "outputs": [],
   "source": [
    "ETDdf.loc[:,[\"country\",\"var\",\"Manufacturing\"]]"
   ]
  },
  {
   "cell_type": "code",
   "execution_count": null,
   "id": "983b49a2-02b1-476e-a819-b747c0895b93",
   "metadata": {},
   "outputs": [],
   "source": [
    "ETDdf.iloc[[1, 2, 3], [0, 1, 2]]\n"
   ]
  },
  {
   "cell_type": "code",
   "execution_count": null,
   "id": "6d7f0527-59ca-4ef5-9896-0fa5190617e2",
   "metadata": {},
   "outputs": [],
   "source": [
    "ETDdf.iloc[1:4, 0:3]"
   ]
  },
  {
   "cell_type": "code",
   "execution_count": null,
   "id": "6ee60c52-7be3-4cd8-84f4-fc4784f01ce7",
   "metadata": {},
   "outputs": [],
   "source": [
    "ETDdf.iloc[1:4, 4]"
   ]
  },
  {
   "cell_type": "code",
   "execution_count": null,
   "id": "526c5d1b-43a1-48ab-90ae-7764dac94859",
   "metadata": {},
   "outputs": [],
   "source": [
    "ETDdf.iloc[:, 0:4]"
   ]
  },
  {
   "cell_type": "code",
   "execution_count": null,
   "id": "11a9cfae-0461-4baa-bf9a-c98ac9c00087",
   "metadata": {},
   "outputs": [],
   "source": [
    "ETDdf[522:608]"
   ]
  },
  {
   "cell_type": "code",
   "execution_count": null,
   "id": "4e90baba-bc28-49b9-9e0f-110303d893b4",
   "metadata": {},
   "outputs": [],
   "source": []
  },
  {
   "cell_type": "markdown",
   "id": "c4f89f08",
   "metadata": {},
   "source": [
    "## What year did Bangladesh employ more people in manufacturing than in agriculture?\n"
   ]
  },
  {
   "cell_type": "code",
   "execution_count": null,
   "id": "5a33c7e7",
   "metadata": {},
   "outputs": [],
   "source": [
    "Bang_df=ETDdf[ETDdf[\"country\"]==\"Bangladesh\"]\n",
    "Bang_df"
   ]
  },
  {
   "cell_type": "code",
   "execution_count": null,
   "id": "8cff2ea7",
   "metadata": {},
   "outputs": [],
   "source": [
    "Bang_ManAG_df = Bang_df[[\"year\",\"country\", \"var\",\"Manufacturing\", \"Agriculture\"]]\n",
    "Bang_ManAG_df"
   ]
  },
  {
   "cell_type": "code",
   "execution_count": null,
   "id": "11d4137b",
   "metadata": {},
   "outputs": [],
   "source": [
    "#subset to when var = EMP\n",
    "Bang_ManAGEMP_df = Bang_ManAG_df[Bang_ManAG_df[\"var\"]==\"EMP\"]\n",
    "Bang_ManAGEMP_df \n",
    "\n"
   ]
  },
  {
   "cell_type": "code",
   "execution_count": null,
   "id": "70c6e713",
   "metadata": {},
   "outputs": [],
   "source": [
    "Bang_ManAGVA_df = Bang_ManAG_df[Bang_ManAG_df[\"var\"]==\"VA_Q15\"]\n",
    "Bang_ManAGVA_df"
   ]
  },
  {
   "cell_type": "code",
   "execution_count": 89,
   "id": "d16085eb",
   "metadata": {},
   "outputs": [],
   "source": [
    "import matplotlib.pyplot as plt\n"
   ]
  },
  {
   "cell_type": "code",
   "execution_count": null,
   "id": "ab794a66",
   "metadata": {},
   "outputs": [],
   "source": [
    "plot = Bang_ManAGEMP_df.plot(x='year', y=['Manufacturing', 'Agriculture'], kind='line')\n",
    "plot.set_ylabel('Employment (in millions)')\n"
   ]
  },
  {
   "cell_type": "code",
   "execution_count": null,
   "id": "952369af",
   "metadata": {},
   "outputs": [],
   "source": [
    "#plot va\n",
    "plot = Bang_ManAGVA_df.plot(x='year', y=['Manufacturing', 'Agriculture'], kind='line')\n",
    "plot.set_ylabel('Value Added (in billions of 2010 USD)')\n"
   ]
  },
  {
   "cell_type": "code",
   "execution_count": null,
   "id": "5314b72e-1f0f-4d6d-809d-52ac4de0d6b8",
   "metadata": {},
   "outputs": [],
   "source": [
    "df=pd.DataFrame({ 'Name': ['Grace', 'Alan', 'Aarthi'], 'City': ['New York', 'San Francisco', 'Los Angeles']}) \n",
    "df"
   ]
  },
  {
   "cell_type": "code",
   "execution_count": null,
   "id": "5ee4c637",
   "metadata": {},
   "outputs": [],
   "source": [
    "df.loc[1, \"City\"]\n"
   ]
  }
 ],
 "metadata": {
  "kernelspec": {
   "display_name": "data_env",
   "language": "python",
   "name": "python3"
  },
  "language_info": {
   "codemirror_mode": {
    "name": "ipython",
    "version": 3
   },
   "file_extension": ".py",
   "mimetype": "text/x-python",
   "name": "python",
   "nbconvert_exporter": "python",
   "pygments_lexer": "ipython3",
   "version": "3.10.16"
  }
 },
 "nbformat": 4,
 "nbformat_minor": 5
}

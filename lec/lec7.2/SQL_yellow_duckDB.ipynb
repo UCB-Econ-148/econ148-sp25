{
 "cells": [
  {
   "cell_type": "code",
   "execution_count": null,
   "metadata": {},
   "outputs": [
    {
     "name": "stdout",
     "output_type": "stream",
     "text": [
      "Collecting duckdb-engine\n",
      "  Downloading duckdb_engine-0.15.0-py3-none-any.whl.metadata (7.9 kB)\n",
      "Collecting duckdb>=0.5.0 (from duckdb-engine)\n",
      "  Downloading duckdb-1.2.0-cp310-cp310-macosx_12_0_arm64.whl.metadata (966 bytes)\n",
      "Requirement already satisfied: packaging>=21 in /opt/homebrew/Caskroom/miniforge/base/envs/data_env/lib/python3.10/site-packages (from duckdb-engine) (24.2)\n",
      "Requirement already satisfied: sqlalchemy>=1.3.22 in /opt/homebrew/Caskroom/miniforge/base/envs/data_env/lib/python3.10/site-packages (from duckdb-engine) (2.0.38)\n",
      "Requirement already satisfied: typing-extensions>=4.6.0 in /opt/homebrew/Caskroom/miniforge/base/envs/data_env/lib/python3.10/site-packages (from sqlalchemy>=1.3.22->duckdb-engine) (4.12.2)\n",
      "Downloading duckdb_engine-0.15.0-py3-none-any.whl (49 kB)\n",
      "Downloading duckdb-1.2.0-cp310-cp310-macosx_12_0_arm64.whl (15.2 MB)\n",
      "\u001b[2K   \u001b[90m━━━━━━━━━━━━━━━━━━━━━━━━━━━━━━━━━━━━━━━━\u001b[0m \u001b[32m15.2/15.2 MB\u001b[0m \u001b[31m45.5 MB/s\u001b[0m eta \u001b[36m0:00:00\u001b[0m \u001b[36m0:00:01\u001b[0m\n",
      "\u001b[?25hInstalling collected packages: duckdb, duckdb-engine\n",
      "Successfully installed duckdb-1.2.0 duckdb-engine-0.15.0\n"
     ]
    }
   ],
   "source": [
    "#!pip install duckdb-engine"
   ]
  },
  {
   "cell_type": "code",
   "execution_count": 18,
   "metadata": {},
   "outputs": [],
   "source": [
    "import duckdb\n"
   ]
  },
  {
   "cell_type": "markdown",
   "metadata": {},
   "source": [
    "## This is a demo from the JupySQL documentation\n",
    "https://jupysql.ploomber.io/en/latest/plot.html#"
   ]
  },
  {
   "cell_type": "code",
   "execution_count": 3,
   "metadata": {},
   "outputs": [],
   "source": [
    "from pathlib import Path\n",
    "from urllib.request import urlretrieve\n",
    "\n",
    "url = \"https://d37ci6vzurychx.cloudfront.net/trip-data/yellow_tripdata_2021-01.parquet\"\n",
    "\n",
    "if not Path(\"yellow_tripdata_2021-01.parquet\").is_file():\n",
    "    urlretrieve(url, \"yellow_tripdata_2021-01.parquet\")"
   ]
  },
  {
   "cell_type": "code",
   "execution_count": 4,
   "metadata": {},
   "outputs": [],
   "source": [
    "%load_ext sql"
   ]
  },
  {
   "cell_type": "code",
   "execution_count": 5,
   "metadata": {},
   "outputs": [
    {
     "data": {
      "text/html": [
       "<span style=\"None\">Connecting to &#x27;duckdb://&#x27;</span>"
      ],
      "text/plain": [
       "Connecting to 'duckdb://'"
      ]
     },
     "metadata": {},
     "output_type": "display_data"
    }
   ],
   "source": [
    "%sql duckdb://\n"
   ]
  },
  {
   "cell_type": "code",
   "execution_count": 6,
   "metadata": {},
   "outputs": [
    {
     "data": {
      "text/html": [
       "<span style=\"None\">Running query in &#x27;duckdb://&#x27;</span>"
      ],
      "text/plain": [
       "Running query in 'duckdb://'"
      ]
     },
     "metadata": {},
     "output_type": "display_data"
    },
    {
     "data": {
      "text/html": [
       "<table>\n",
       "    <thead>\n",
       "        <tr>\n",
       "            <th>VendorID</th>\n",
       "            <th>tpep_pickup_datetime</th>\n",
       "            <th>tpep_dropoff_datetime</th>\n",
       "            <th>passenger_count</th>\n",
       "            <th>trip_distance</th>\n",
       "            <th>RatecodeID</th>\n",
       "            <th>store_and_fwd_flag</th>\n",
       "            <th>PULocationID</th>\n",
       "            <th>DOLocationID</th>\n",
       "            <th>payment_type</th>\n",
       "            <th>fare_amount</th>\n",
       "            <th>extra</th>\n",
       "            <th>mta_tax</th>\n",
       "            <th>tip_amount</th>\n",
       "            <th>tolls_amount</th>\n",
       "            <th>improvement_surcharge</th>\n",
       "            <th>total_amount</th>\n",
       "            <th>congestion_surcharge</th>\n",
       "            <th>airport_fee</th>\n",
       "        </tr>\n",
       "    </thead>\n",
       "    <tbody>\n",
       "        <tr>\n",
       "            <td>1</td>\n",
       "            <td>2021-01-01 00:30:10</td>\n",
       "            <td>2021-01-01 00:36:12</td>\n",
       "            <td>1.0</td>\n",
       "            <td>2.1</td>\n",
       "            <td>1.0</td>\n",
       "            <td>N</td>\n",
       "            <td>142</td>\n",
       "            <td>43</td>\n",
       "            <td>2</td>\n",
       "            <td>8.0</td>\n",
       "            <td>3.0</td>\n",
       "            <td>0.5</td>\n",
       "            <td>0.0</td>\n",
       "            <td>0.0</td>\n",
       "            <td>0.3</td>\n",
       "            <td>11.8</td>\n",
       "            <td>2.5</td>\n",
       "            <td>None</td>\n",
       "        </tr>\n",
       "        <tr>\n",
       "            <td>1</td>\n",
       "            <td>2021-01-01 00:51:20</td>\n",
       "            <td>2021-01-01 00:52:19</td>\n",
       "            <td>1.0</td>\n",
       "            <td>0.2</td>\n",
       "            <td>1.0</td>\n",
       "            <td>N</td>\n",
       "            <td>238</td>\n",
       "            <td>151</td>\n",
       "            <td>2</td>\n",
       "            <td>3.0</td>\n",
       "            <td>0.5</td>\n",
       "            <td>0.5</td>\n",
       "            <td>0.0</td>\n",
       "            <td>0.0</td>\n",
       "            <td>0.3</td>\n",
       "            <td>4.3</td>\n",
       "            <td>0.0</td>\n",
       "            <td>None</td>\n",
       "        </tr>\n",
       "        <tr>\n",
       "            <td>1</td>\n",
       "            <td>2021-01-01 00:43:30</td>\n",
       "            <td>2021-01-01 01:11:06</td>\n",
       "            <td>1.0</td>\n",
       "            <td>14.7</td>\n",
       "            <td>1.0</td>\n",
       "            <td>N</td>\n",
       "            <td>132</td>\n",
       "            <td>165</td>\n",
       "            <td>1</td>\n",
       "            <td>42.0</td>\n",
       "            <td>0.5</td>\n",
       "            <td>0.5</td>\n",
       "            <td>8.65</td>\n",
       "            <td>0.0</td>\n",
       "            <td>0.3</td>\n",
       "            <td>51.95</td>\n",
       "            <td>0.0</td>\n",
       "            <td>None</td>\n",
       "        </tr>\n",
       "    </tbody>\n",
       "</table>"
      ],
      "text/plain": [
       "+----------+----------------------+-----------------------+-----------------+---------------+------------+--------------------+--------------+--------------+--------------+-------------+-------+---------+------------+--------------+-----------------------+--------------+----------------------+-------------+\n",
       "| VendorID | tpep_pickup_datetime | tpep_dropoff_datetime | passenger_count | trip_distance | RatecodeID | store_and_fwd_flag | PULocationID | DOLocationID | payment_type | fare_amount | extra | mta_tax | tip_amount | tolls_amount | improvement_surcharge | total_amount | congestion_surcharge | airport_fee |\n",
       "+----------+----------------------+-----------------------+-----------------+---------------+------------+--------------------+--------------+--------------+--------------+-------------+-------+---------+------------+--------------+-----------------------+--------------+----------------------+-------------+\n",
       "|    1     | 2021-01-01 00:30:10  |  2021-01-01 00:36:12  |       1.0       |      2.1      |    1.0     |         N          |     142      |      43      |      2       |     8.0     |  3.0  |   0.5   |    0.0     |     0.0      |          0.3          |     11.8     |         2.5          |     None    |\n",
       "|    1     | 2021-01-01 00:51:20  |  2021-01-01 00:52:19  |       1.0       |      0.2      |    1.0     |         N          |     238      |     151      |      2       |     3.0     |  0.5  |   0.5   |    0.0     |     0.0      |          0.3          |     4.3      |         0.0          |     None    |\n",
       "|    1     | 2021-01-01 00:43:30  |  2021-01-01 01:11:06  |       1.0       |      14.7     |    1.0     |         N          |     132      |     165      |      1       |     42.0    |  0.5  |   0.5   |    8.65    |     0.0      |          0.3          |    51.95     |         0.0          |     None    |\n",
       "+----------+----------------------+-----------------------+-----------------+---------------+------------+--------------------+--------------+--------------+--------------+-------------+-------+---------+------------+--------------+-----------------------+--------------+----------------------+-------------+"
      ]
     },
     "execution_count": 6,
     "metadata": {},
     "output_type": "execute_result"
    }
   ],
   "source": [
    "%%sql\n",
    "SELECT * FROM \"yellow_tripdata_2021-01.parquet\" LIMIT 3"
   ]
  },
  {
   "cell_type": "code",
   "execution_count": 7,
   "metadata": {},
   "outputs": [
    {
     "data": {
      "text/html": [
       "<span style=\"None\">Running query in &#x27;duckdb://&#x27;</span>"
      ],
      "text/plain": [
       "Running query in 'duckdb://'"
      ]
     },
     "metadata": {},
     "output_type": "display_data"
    },
    {
     "data": {
      "text/html": [
       "<table>\n",
       "    <thead>\n",
       "        <tr>\n",
       "            <th>count_star()</th>\n",
       "        </tr>\n",
       "    </thead>\n",
       "    <tbody>\n",
       "        <tr>\n",
       "            <td>1369769</td>\n",
       "        </tr>\n",
       "    </tbody>\n",
       "</table>"
      ],
      "text/plain": [
       "+--------------+\n",
       "| count_star() |\n",
       "+--------------+\n",
       "|   1369769    |\n",
       "+--------------+"
      ]
     },
     "execution_count": 7,
     "metadata": {},
     "output_type": "execute_result"
    }
   ],
   "source": [
    "%%sql\n",
    "SELECT COUNT(*) FROM \"yellow_tripdata_2021-01.parquet\""
   ]
  },
  {
   "cell_type": "code",
   "execution_count": 8,
   "metadata": {},
   "outputs": [
    {
     "data": {
      "text/plain": [
       "<Axes: title={'center': \"'trip_distance' from 'yellow_tripdata_2021-01.parquet'\"}, ylabel='trip_distance'>"
      ]
     },
     "execution_count": 8,
     "metadata": {},
     "output_type": "execute_result"
    },
    {
     "data": {
      "image/png": "[encoded data removed]",
      "text/plain": [
       "<Figure size 640x480 with 1 Axes>"
      ]
     },
     "metadata": {},
     "output_type": "display_data"
    }
   ],
   "source": [
    "%sqlplot boxplot --table yellow_tripdata_2021-01.parquet --column trip_distance\n"
   ]
  },
  {
   "cell_type": "code",
   "execution_count": 9,
   "metadata": {},
   "outputs": [
    {
     "data": {
      "text/html": [
       "<span style=\"None\">Running query in &#x27;duckdb://&#x27;</span>"
      ],
      "text/plain": [
       "Running query in 'duckdb://'"
      ]
     },
     "metadata": {},
     "output_type": "display_data"
    },
    {
     "data": {
      "text/html": [
       "<table>\n",
       "    <thead>\n",
       "        <tr>\n",
       "            <th>quantile_disc(0.90 ORDER BY trip_distance)</th>\n",
       "        </tr>\n",
       "    </thead>\n",
       "    <tbody>\n",
       "        <tr>\n",
       "            <td>6.3</td>\n",
       "        </tr>\n",
       "    </tbody>\n",
       "</table>"
      ],
      "text/plain": [
       "+--------------------------------------------+\n",
       "| quantile_disc(0.90 ORDER BY trip_distance) |\n",
       "+--------------------------------------------+\n",
       "|                    6.3                     |\n",
       "+--------------------------------------------+"
      ]
     },
     "execution_count": 9,
     "metadata": {},
     "output_type": "execute_result"
    }
   ],
   "source": [
    "%%sql\n",
    "SELECT percentile_disc(0.90) WITHIN GROUP (ORDER BY trip_distance),\n",
    "FROM 'yellow_tripdata_2021-01.parquet'"
   ]
  },
  {
   "cell_type": "code",
   "execution_count": 10,
   "metadata": {},
   "outputs": [
    {
     "data": {
      "text/html": [
       "<span style=\"None\">Running query in &#x27;duckdb://&#x27;</span>"
      ],
      "text/plain": [
       "Running query in 'duckdb://'"
      ]
     },
     "metadata": {},
     "output_type": "display_data"
    },
    {
     "data": {
      "text/html": [
       "<span style=\"None\">Skipping execution...</span>"
      ],
      "text/plain": [
       "Skipping execution..."
      ]
     },
     "metadata": {},
     "output_type": "display_data"
    }
   ],
   "source": [
    "%%sql --save short_trips --no-execute\n",
    "SELECT *\n",
    "FROM \"yellow_tripdata_2021-01.parquet\"\n",
    "WHERE trip_distance < 6.3"
   ]
  },
  {
   "cell_type": "code",
   "execution_count": 11,
   "metadata": {},
   "outputs": [
    {
     "data": {
      "text/plain": [
       "<Axes: title={'center': \"'trip_distance' from 'short_trips'\"}, ylabel='trip_distance'>"
      ]
     },
     "execution_count": 11,
     "metadata": {},
     "output_type": "execute_result"
    },
    {
     "data": {
      "image/png": "[encoded data removed]",
      "text/plain": [
       "<Figure size 640x480 with 1 Axes>"
      ]
     },
     "metadata": {},
     "output_type": "display_data"
    }
   ],
   "source": [
    "%sqlplot boxplot --table short_trips --column trip_distance\n"
   ]
  },
  {
   "cell_type": "code",
   "execution_count": 12,
   "metadata": {},
   "outputs": [
    {
     "data": {
      "text/plain": [
       "<Axes: title={'center': \"'trip_distance' from 'short_trips'\"}, xlabel='trip_distance', ylabel='Count'>"
      ]
     },
     "execution_count": 12,
     "metadata": {},
     "output_type": "execute_result"
    },
    {
     "data": {
      "image/png": "[encoded data removed]",
      "text/plain": [
       "<Figure size 640x480 with 1 Axes>"
      ]
     },
     "metadata": {},
     "output_type": "display_data"
    }
   ],
   "source": [
    "%sqlplot histogram --table short_trips --column trip_distance --bins 10\n"
   ]
  },
  {
   "cell_type": "code",
   "execution_count": 13,
   "metadata": {},
   "outputs": [
    {
     "data": {
      "image/png": "[encoded data removed]",
      "text/plain": [
       "<Figure size 640x480 with 1 Axes>"
      ]
     },
     "metadata": {},
     "output_type": "display_data"
    }
   ],
   "source": [
    "ax = %sqlplot histogram --table short_trips --column trip_distance --bins 50\n",
    "ax.grid()\n",
    "ax.set_title(\"Trip distance from trips < 6.3\")\n",
    "_ = ax.set_xlabel(\"Trip distance\")"
   ]
  },
  {
   "cell_type": "code",
   "execution_count": 14,
   "metadata": {},
   "outputs": [
    {
     "data": {
      "text/html": [
       "<span style=\"None\">Removing NULLs, if there exists any from payment_type</span>"
      ],
      "text/plain": [
       "Removing NULLs, if there exists any from payment_type"
      ]
     },
     "metadata": {},
     "output_type": "display_data"
    },
    {
     "data": {
      "text/plain": [
       "<Axes: title={'center': 'short_trips'}, xlabel='payment_type', ylabel='Count'>"
      ]
     },
     "execution_count": 14,
     "metadata": {},
     "output_type": "execute_result"
    },
    {
     "data": {
      "image/png": "[encoded data removed]",
      "text/plain": [
       "<Figure size 640x480 with 1 Axes>"
      ]
     },
     "metadata": {},
     "output_type": "display_data"
    }
   ],
   "source": [
    "%sqlplot bar --table short_trips --column payment_type"
   ]
  },
  {
   "cell_type": "markdown",
   "metadata": {},
   "source": [
    "## Let's do the same thing in Pandas "
   ]
  },
  {
   "cell_type": "code",
   "execution_count": 15,
   "metadata": {},
   "outputs": [],
   "source": [
    "url = \"https://d37ci6vzurychx.cloudfront.net/trip-data/yellow_tripdata_2021-01.parquet\"\n",
    "\n",
    "if not Path(\"yellow_tripdata_2021-01.parquet\").is_file():\n",
    "    urlretrieve(url, \"yellow_tripdata_2021-01.parquet\")"
   ]
  },
  {
   "cell_type": "code",
   "execution_count": 25,
   "metadata": {},
   "outputs": [
    {
     "data": {
      "text/html": [
       "<div>\n",
       "<style scoped>\n",
       "    .dataframe tbody tr th:only-of-type {\n",
       "        vertical-align: middle;\n",
       "    }\n",
       "\n",
       "    .dataframe tbody tr th {\n",
       "        vertical-align: top;\n",
       "    }\n",
       "\n",
       "    .dataframe thead th {\n",
       "        text-align: right;\n",
       "    }\n",
       "</style>\n",
       "<table border=\"1\" class=\"dataframe\">\n",
       "  <thead>\n",
       "    <tr style=\"text-align: right;\">\n",
       "      <th></th>\n",
       "      <th>VendorID</th>\n",
       "      <th>tpep_pickup_datetime</th>\n",
       "      <th>tpep_dropoff_datetime</th>\n",
       "      <th>passenger_count</th>\n",
       "      <th>trip_distance</th>\n",
       "      <th>RatecodeID</th>\n",
       "      <th>store_and_fwd_flag</th>\n",
       "      <th>PULocationID</th>\n",
       "      <th>DOLocationID</th>\n",
       "      <th>payment_type</th>\n",
       "      <th>fare_amount</th>\n",
       "      <th>extra</th>\n",
       "      <th>mta_tax</th>\n",
       "      <th>tip_amount</th>\n",
       "      <th>tolls_amount</th>\n",
       "      <th>improvement_surcharge</th>\n",
       "      <th>total_amount</th>\n",
       "      <th>congestion_surcharge</th>\n",
       "      <th>airport_fee</th>\n",
       "    </tr>\n",
       "  </thead>\n",
       "  <tbody>\n",
       "    <tr>\n",
       "      <th>0</th>\n",
       "      <td>1</td>\n",
       "      <td>2021-01-01 00:30:10</td>\n",
       "      <td>2021-01-01 00:36:12</td>\n",
       "      <td>1.0</td>\n",
       "      <td>2.10</td>\n",
       "      <td>1.0</td>\n",
       "      <td>N</td>\n",
       "      <td>142</td>\n",
       "      <td>43</td>\n",
       "      <td>2</td>\n",
       "      <td>8.00</td>\n",
       "      <td>3.00</td>\n",
       "      <td>0.5</td>\n",
       "      <td>0.00</td>\n",
       "      <td>0.00</td>\n",
       "      <td>0.3</td>\n",
       "      <td>11.80</td>\n",
       "      <td>2.5</td>\n",
       "      <td>NaN</td>\n",
       "    </tr>\n",
       "    <tr>\n",
       "      <th>1</th>\n",
       "      <td>1</td>\n",
       "      <td>2021-01-01 00:51:20</td>\n",
       "      <td>2021-01-01 00:52:19</td>\n",
       "      <td>1.0</td>\n",
       "      <td>0.20</td>\n",
       "      <td>1.0</td>\n",
       "      <td>N</td>\n",
       "      <td>238</td>\n",
       "      <td>151</td>\n",
       "      <td>2</td>\n",
       "      <td>3.00</td>\n",
       "      <td>0.50</td>\n",
       "      <td>0.5</td>\n",
       "      <td>0.00</td>\n",
       "      <td>0.00</td>\n",
       "      <td>0.3</td>\n",
       "      <td>4.30</td>\n",
       "      <td>0.0</td>\n",
       "      <td>NaN</td>\n",
       "    </tr>\n",
       "    <tr>\n",
       "      <th>2</th>\n",
       "      <td>1</td>\n",
       "      <td>2021-01-01 00:43:30</td>\n",
       "      <td>2021-01-01 01:11:06</td>\n",
       "      <td>1.0</td>\n",
       "      <td>14.70</td>\n",
       "      <td>1.0</td>\n",
       "      <td>N</td>\n",
       "      <td>132</td>\n",
       "      <td>165</td>\n",
       "      <td>1</td>\n",
       "      <td>42.00</td>\n",
       "      <td>0.50</td>\n",
       "      <td>0.5</td>\n",
       "      <td>8.65</td>\n",
       "      <td>0.00</td>\n",
       "      <td>0.3</td>\n",
       "      <td>51.95</td>\n",
       "      <td>0.0</td>\n",
       "      <td>NaN</td>\n",
       "    </tr>\n",
       "    <tr>\n",
       "      <th>3</th>\n",
       "      <td>1</td>\n",
       "      <td>2021-01-01 00:15:48</td>\n",
       "      <td>2021-01-01 00:31:01</td>\n",
       "      <td>0.0</td>\n",
       "      <td>10.60</td>\n",
       "      <td>1.0</td>\n",
       "      <td>N</td>\n",
       "      <td>138</td>\n",
       "      <td>132</td>\n",
       "      <td>1</td>\n",
       "      <td>29.00</td>\n",
       "      <td>0.50</td>\n",
       "      <td>0.5</td>\n",
       "      <td>6.05</td>\n",
       "      <td>0.00</td>\n",
       "      <td>0.3</td>\n",
       "      <td>36.35</td>\n",
       "      <td>0.0</td>\n",
       "      <td>NaN</td>\n",
       "    </tr>\n",
       "    <tr>\n",
       "      <th>4</th>\n",
       "      <td>2</td>\n",
       "      <td>2021-01-01 00:31:49</td>\n",
       "      <td>2021-01-01 00:48:21</td>\n",
       "      <td>1.0</td>\n",
       "      <td>4.94</td>\n",
       "      <td>1.0</td>\n",
       "      <td>N</td>\n",
       "      <td>68</td>\n",
       "      <td>33</td>\n",
       "      <td>1</td>\n",
       "      <td>16.50</td>\n",
       "      <td>0.50</td>\n",
       "      <td>0.5</td>\n",
       "      <td>4.06</td>\n",
       "      <td>0.00</td>\n",
       "      <td>0.3</td>\n",
       "      <td>24.36</td>\n",
       "      <td>2.5</td>\n",
       "      <td>NaN</td>\n",
       "    </tr>\n",
       "    <tr>\n",
       "      <th>...</th>\n",
       "      <td>...</td>\n",
       "      <td>...</td>\n",
       "      <td>...</td>\n",
       "      <td>...</td>\n",
       "      <td>...</td>\n",
       "      <td>...</td>\n",
       "      <td>...</td>\n",
       "      <td>...</td>\n",
       "      <td>...</td>\n",
       "      <td>...</td>\n",
       "      <td>...</td>\n",
       "      <td>...</td>\n",
       "      <td>...</td>\n",
       "      <td>...</td>\n",
       "      <td>...</td>\n",
       "      <td>...</td>\n",
       "      <td>...</td>\n",
       "      <td>...</td>\n",
       "      <td>...</td>\n",
       "    </tr>\n",
       "    <tr>\n",
       "      <th>1369764</th>\n",
       "      <td>2</td>\n",
       "      <td>2021-01-31 23:03:00</td>\n",
       "      <td>2021-01-31 23:33:00</td>\n",
       "      <td>NaN</td>\n",
       "      <td>8.89</td>\n",
       "      <td>NaN</td>\n",
       "      <td>None</td>\n",
       "      <td>229</td>\n",
       "      <td>181</td>\n",
       "      <td>0</td>\n",
       "      <td>27.78</td>\n",
       "      <td>0.00</td>\n",
       "      <td>0.5</td>\n",
       "      <td>7.46</td>\n",
       "      <td>0.00</td>\n",
       "      <td>0.3</td>\n",
       "      <td>38.54</td>\n",
       "      <td>NaN</td>\n",
       "      <td>NaN</td>\n",
       "    </tr>\n",
       "    <tr>\n",
       "      <th>1369765</th>\n",
       "      <td>2</td>\n",
       "      <td>2021-01-31 23:29:00</td>\n",
       "      <td>2021-01-31 23:51:00</td>\n",
       "      <td>NaN</td>\n",
       "      <td>7.43</td>\n",
       "      <td>NaN</td>\n",
       "      <td>None</td>\n",
       "      <td>41</td>\n",
       "      <td>70</td>\n",
       "      <td>0</td>\n",
       "      <td>32.58</td>\n",
       "      <td>0.00</td>\n",
       "      <td>0.5</td>\n",
       "      <td>0.00</td>\n",
       "      <td>6.12</td>\n",
       "      <td>0.3</td>\n",
       "      <td>39.50</td>\n",
       "      <td>NaN</td>\n",
       "      <td>NaN</td>\n",
       "    </tr>\n",
       "    <tr>\n",
       "      <th>1369766</th>\n",
       "      <td>2</td>\n",
       "      <td>2021-01-31 23:25:00</td>\n",
       "      <td>2021-01-31 23:38:00</td>\n",
       "      <td>NaN</td>\n",
       "      <td>6.26</td>\n",
       "      <td>NaN</td>\n",
       "      <td>None</td>\n",
       "      <td>74</td>\n",
       "      <td>137</td>\n",
       "      <td>0</td>\n",
       "      <td>16.85</td>\n",
       "      <td>0.00</td>\n",
       "      <td>0.5</td>\n",
       "      <td>3.90</td>\n",
       "      <td>0.00</td>\n",
       "      <td>0.3</td>\n",
       "      <td>24.05</td>\n",
       "      <td>NaN</td>\n",
       "      <td>NaN</td>\n",
       "    </tr>\n",
       "    <tr>\n",
       "      <th>1369767</th>\n",
       "      <td>6</td>\n",
       "      <td>2021-01-31 23:01:06</td>\n",
       "      <td>2021-02-01 00:02:03</td>\n",
       "      <td>NaN</td>\n",
       "      <td>19.70</td>\n",
       "      <td>NaN</td>\n",
       "      <td>None</td>\n",
       "      <td>265</td>\n",
       "      <td>188</td>\n",
       "      <td>0</td>\n",
       "      <td>53.68</td>\n",
       "      <td>0.00</td>\n",
       "      <td>0.5</td>\n",
       "      <td>0.00</td>\n",
       "      <td>0.00</td>\n",
       "      <td>0.3</td>\n",
       "      <td>54.48</td>\n",
       "      <td>NaN</td>\n",
       "      <td>NaN</td>\n",
       "    </tr>\n",
       "    <tr>\n",
       "      <th>1369768</th>\n",
       "      <td>2</td>\n",
       "      <td>2021-01-31 23:08:29</td>\n",
       "      <td>2021-01-31 23:31:22</td>\n",
       "      <td>NaN</td>\n",
       "      <td>4.68</td>\n",
       "      <td>NaN</td>\n",
       "      <td>None</td>\n",
       "      <td>89</td>\n",
       "      <td>61</td>\n",
       "      <td>0</td>\n",
       "      <td>25.45</td>\n",
       "      <td>2.75</td>\n",
       "      <td>0.5</td>\n",
       "      <td>0.00</td>\n",
       "      <td>0.00</td>\n",
       "      <td>0.3</td>\n",
       "      <td>29.00</td>\n",
       "      <td>NaN</td>\n",
       "      <td>NaN</td>\n",
       "    </tr>\n",
       "  </tbody>\n",
       "</table>\n",
       "<p>1369769 rows × 19 columns</p>\n",
       "</div>"
      ],
      "text/plain": [
       "         VendorID tpep_pickup_datetime tpep_dropoff_datetime  passenger_count  \\\n",
       "0               1  2021-01-01 00:30:10   2021-01-01 00:36:12              1.0   \n",
       "1               1  2021-01-01 00:51:20   2021-01-01 00:52:19              1.0   \n",
       "2               1  2021-01-01 00:43:30   2021-01-01 01:11:06              1.0   \n",
       "3               1  2021-01-01 00:15:48   2021-01-01 00:31:01              0.0   \n",
       "4               2  2021-01-01 00:31:49   2021-01-01 00:48:21              1.0   \n",
       "...           ...                  ...                   ...              ...   \n",
       "1369764         2  2021-01-31 23:03:00   2021-01-31 23:33:00              NaN   \n",
       "1369765         2  2021-01-31 23:29:00   2021-01-31 23:51:00              NaN   \n",
       "1369766         2  2021-01-31 23:25:00   2021-01-31 23:38:00              NaN   \n",
       "1369767         6  2021-01-31 23:01:06   2021-02-01 00:02:03              NaN   \n",
       "1369768         2  2021-01-31 23:08:29   2021-01-31 23:31:22              NaN   \n",
       "\n",
       "         trip_distance  RatecodeID store_and_fwd_flag  PULocationID  \\\n",
       "0                 2.10         1.0                  N           142   \n",
       "1                 0.20         1.0                  N           238   \n",
       "2                14.70         1.0                  N           132   \n",
       "3                10.60         1.0                  N           138   \n",
       "4                 4.94         1.0                  N            68   \n",
       "...                ...         ...                ...           ...   \n",
       "1369764           8.89         NaN               None           229   \n",
       "1369765           7.43         NaN               None            41   \n",
       "1369766           6.26         NaN               None            74   \n",
       "1369767          19.70         NaN               None           265   \n",
       "1369768           4.68         NaN               None            89   \n",
       "\n",
       "         DOLocationID  payment_type  fare_amount  extra  mta_tax  tip_amount  \\\n",
       "0                  43             2         8.00   3.00      0.5        0.00   \n",
       "1                 151             2         3.00   0.50      0.5        0.00   \n",
       "2                 165             1        42.00   0.50      0.5        8.65   \n",
       "3                 132             1        29.00   0.50      0.5        6.05   \n",
       "4                  33             1        16.50   0.50      0.5        4.06   \n",
       "...               ...           ...          ...    ...      ...         ...   \n",
       "1369764           181             0        27.78   0.00      0.5        7.46   \n",
       "1369765            70             0        32.58   0.00      0.5        0.00   \n",
       "1369766           137             0        16.85   0.00      0.5        3.90   \n",
       "1369767           188             0        53.68   0.00      0.5        0.00   \n",
       "1369768            61             0        25.45   2.75      0.5        0.00   \n",
       "\n",
       "         tolls_amount  improvement_surcharge  total_amount  \\\n",
       "0                0.00                    0.3         11.80   \n",
       "1                0.00                    0.3          4.30   \n",
       "2                0.00                    0.3         51.95   \n",
       "3                0.00                    0.3         36.35   \n",
       "4                0.00                    0.3         24.36   \n",
       "...               ...                    ...           ...   \n",
       "1369764          0.00                    0.3         38.54   \n",
       "1369765          6.12                    0.3         39.50   \n",
       "1369766          0.00                    0.3         24.05   \n",
       "1369767          0.00                    0.3         54.48   \n",
       "1369768          0.00                    0.3         29.00   \n",
       "\n",
       "         congestion_surcharge  airport_fee  \n",
       "0                         2.5          NaN  \n",
       "1                         0.0          NaN  \n",
       "2                         0.0          NaN  \n",
       "3                         0.0          NaN  \n",
       "4                         2.5          NaN  \n",
       "...                       ...          ...  \n",
       "1369764                   NaN          NaN  \n",
       "1369765                   NaN          NaN  \n",
       "1369766                   NaN          NaN  \n",
       "1369767                   NaN          NaN  \n",
       "1369768                   NaN          NaN  \n",
       "\n",
       "[1369769 rows x 19 columns]"
      ]
     },
     "execution_count": 25,
     "metadata": {},
     "output_type": "execute_result"
    }
   ],
   "source": [
    "\n",
    "\n",
    "yellow_df=duckdb.query(f\"SELECT * FROM 'yellow_tripdata_2021-01.parquet'\").to_df()\n",
    "\n",
    "# Display the first few rows\n",
    "yellow_df"
   ]
  },
  {
   "cell_type": "code",
   "execution_count": 27,
   "metadata": {},
   "outputs": [
    {
     "data": {
      "image/png": "[encoded data removed]",
      "text/plain": [
       "<Figure size 640x480 with 1 Axes>"
      ]
     },
     "metadata": {},
     "output_type": "display_data"
    }
   ],
   "source": [
    "# Filter the DataFrame\n",
    "filtered_df = yellow_df[yellow_df[\"trip_distance\"] < 6.3]\n",
    "\n",
    "\n",
    "# Plot histogram\n",
    "filtered_df[\"trip_distance\"].hist(bins=10, edgecolor='black')\n",
    "\n",
    "# Customize labels and title\n",
    "plt.xlabel(\"Trip Distance\")\n",
    "plt.ylabel(\"Frequency\")\n",
    "plt.title(\"Histogram of Trip Distance\")\n",
    "\n",
    "# Show the plot\n",
    "plt.show()"
   ]
  },
  {
   "cell_type": "code",
   "execution_count": null,
   "metadata": {},
   "outputs": [],
   "source": []
  }
 ],
 "metadata": {
  "kernelspec": {
   "display_name": "data_env",
   "language": "python",
   "name": "python3"
  },
  "language_info": {
   "codemirror_mode": {
    "name": "ipython",
    "version": 3
   },
   "file_extension": ".py",
   "mimetype": "text/x-python",
   "name": "python",
   "nbconvert_exporter": "python",
   "pygments_lexer": "ipython3",
   "version": "3.10.16"
  }
 },
 "nbformat": 4,
 "nbformat_minor": 2
}

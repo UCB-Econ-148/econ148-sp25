{
 "cells": [
  {
   "cell_type": "markdown",
   "id": "d09ebb75",
   "metadata": {},
   "source": [
    "# SQL Soda Notebook"
   ]
  },
  {
   "cell_type": "markdown",
   "id": "c5bfdb5c",
   "metadata": {},
   "source": [
    "## Introduction"
   ]
  },
  {
   "cell_type": "markdown",
   "id": "005aafe5",
   "metadata": {},
   "source": [
    "This notebook is an introduction to SQL. We will be working with a SQLite dataset: The WSDR Database. From the WSDR Database, we will be working with the soda table that includes 8 columns and 1048575 rows. The soda table will allow us to create queries to produce Pandas dataframes. \n",
    "\n",
    "https://www.chicagobooth.edu/research/kilts/datasets/dominicks\n",
    "\n",
    "It has already been truncated to fit on Datahub\n",
    "\n"
   ]
  },
  {
   "cell_type": "code",
   "execution_count": null,
   "id": "3e5142c4",
   "metadata": {},
   "outputs": [],
   "source": [
    "import sqlalchemy\n",
    "import sqlite3\n",
    "import pandas as pd\n",
    "import numpy as np\n",
    "import plotly.express as px\n",
    "from datetime import datetime, timedelta\n",
    "\n"
   ]
  },
  {
   "cell_type": "code",
   "execution_count": null,
   "id": "7da987cf",
   "metadata": {},
   "outputs": [],
   "source": [
    "%load_ext sql"
   ]
  },
  {
   "cell_type": "code",
   "execution_count": null,
   "id": "f4c44bdd-04c8-4066-863b-f517e8c51fa5",
   "metadata": {},
   "outputs": [],
   "source": [
    "# create a SQL Alchemy connection to the database\n",
    "\n",
    "%sql sqlite:///wsdr.db\n",
    "conn = sqlite3.connect(\"wsdr.db\")\n",
    "engine = sqlalchemy.create_engine(\"sqlite:///wsdr.db\")"
   ]
  },
  {
   "cell_type": "markdown",
   "id": "bc90bd3c",
   "metadata": {},
   "source": [
    "## The WSDR Database"
   ]
  },
  {
   "cell_type": "markdown",
   "id": "30dfefb7",
   "metadata": {},
   "source": [
    "Let's load in the database by using cell magic so that we can explore the database. "
   ]
  },
  {
   "cell_type": "code",
   "execution_count": null,
   "id": "63e0b94f",
   "metadata": {},
   "outputs": [],
   "source": [
    "%%sql\n",
    "SELECT * FROM sqlite_master WHERE type='table';"
   ]
  },
  {
   "cell_type": "markdown",
   "id": "52bba7a0",
   "metadata": {},
   "source": [
    "From running the above cell, we see the database has 2 tables: soda, upc."
   ]
  },
  {
   "cell_type": "markdown",
   "id": "5c90a30b",
   "metadata": {},
   "source": [
    "### Part 1: Exploring the Data"
   ]
  },
  {
   "cell_type": "markdown",
   "id": "c94f56d1",
   "metadata": {},
   "source": [
    "We want to read the data from SQL using a SQL query. When writing a SQLite database, only SQL queries are accepted.\n",
    "\n",
    "Using SQL Alchemy - we can write SQL commands to pass into Python functions - that can yield us Pandas Dataframes\n",
    "\n",
    "SQL queries will be written within \"\"\" in the beginning and end of the code. After the query is written, we will use pd.read_sql(query, engine) to return a Pandas dataframe of the outputted data. An outline of a written query with the corresponding pandas function is shown below."
   ]
  },
  {
   "cell_type": "markdown",
   "id": "7b65c95e",
   "metadata": {},
   "source": [
    "`query = \"\"\"SELECT ...\"\"\"`\n",
    "\n",
    "`output = pd.read_sql(query, engine)`\n",
    "\n",
    "`output`"
   ]
  },
  {
   "cell_type": "markdown",
   "id": "95056d49",
   "metadata": {},
   "source": [
    "#### What does the soda table look like? Let's create a query below to select all the values from the soda table."
   ]
  },
  {
   "cell_type": "code",
   "execution_count": null,
   "id": "4b41f593",
   "metadata": {},
   "outputs": [],
   "source": [
    "%sql SELECT * FROM soda LIMIT 10;\n",
    "\n"
   ]
  },
  {
   "cell_type": "markdown",
   "id": "d486ff02-0322-461a-9e15-b87807e71828",
   "metadata": {},
   "source": [
    "## Same Code but into Pandas\n",
    "Pass the SQL query into a Pandas command and yield a Pandas DF from the query\n"
   ]
  },
  {
   "cell_type": "code",
   "execution_count": null,
   "id": "1ce30f75-8378-477b-8593-3567ca0e42cf",
   "metadata": {},
   "outputs": [],
   "source": [
    "example1 = \"\"\"\n",
    "SELECT * FROM soda;\n",
    "\"\"\"\n",
    "\n",
    "result1 = pd.read_sql(example1, engine)\n",
    "result1"
   ]
  },
  {
   "cell_type": "markdown",
   "id": "28de8592",
   "metadata": {},
   "source": [
    "#### How many unique stores are there? Write a query to display the result."
   ]
  },
  {
   "cell_type": "code",
   "execution_count": null,
   "id": "1d65f6a9",
   "metadata": {},
   "outputs": [],
   "source": [
    "%%sql\n",
    "SELECT count(DISTINCT store) \n",
    "        AS total_store\n",
    "FROM soda;\n"
   ]
  },
  {
   "cell_type": "markdown",
   "id": "f3e423d0",
   "metadata": {},
   "source": [
    "### Part 2: Sample Query "
   ]
  },
  {
   "cell_type": "markdown",
   "id": "7a100f58",
   "metadata": {},
   "source": [
    "#### Exercise 1: How many distinct UPCs (universal product codes) are there? Write a query to display the result."
   ]
  },
  {
   "cell_type": "code",
   "execution_count": null,
   "id": "451178f6",
   "metadata": {},
   "outputs": [],
   "source": [
    "%%sql\n",
    "SELECT DISTINCT upc\n",
    "        AS distinct_upc\n",
    "FROM soda\n",
    "ORDER BY distinct_upc\n",
    "LIMIT 10;"
   ]
  },
  {
   "cell_type": "markdown",
   "id": "86bed75b",
   "metadata": {},
   "source": [
    "#### Exercise 2a: Display the stores and their total sales from highest to lowest. Write a query to display the result. (MOVE is the # units sold)"
   ]
  },
  {
   "cell_type": "code",
   "execution_count": null,
   "id": "7fd89847",
   "metadata": {},
   "outputs": [],
   "source": [
    "\n",
    "exercise2 = \"\"\"\n",
    "SELECT * FROM (SELECT store, SUM(MOVE), week \n",
    "FROM soda \n",
    "GROUP BY store \n",
    "ORDER BY SUM(MOVE) DESC);\n",
    "\"\"\"\n",
    "\n",
    "res2 = pd.read_sql(exercise2, engine)\n",
    "res2"
   ]
  },
  {
   "cell_type": "markdown",
   "id": "5a7497eb",
   "metadata": {},
   "source": [
    "#### Exercise 2c: Create a plot with the store number and their total sales of Soda.\n",
    "\n",
    "Becuase this already in a Pandas DF we can call pandas plotting commands"
   ]
  },
  {
   "cell_type": "code",
   "execution_count": null,
   "id": "08116a55",
   "metadata": {},
   "outputs": [],
   "source": [
    "res2.plot.scatter(x = 'store', y = 'SUM(MOVE)')"
   ]
  },
  {
   "cell_type": "markdown",
   "id": "0322d486",
   "metadata": {},
   "source": [
    "#### Exercise 2d: What are some observations that you notice from the graph?"
   ]
  },
  {
   "cell_type": "markdown",
   "id": "3d62b60a",
   "metadata": {},
   "source": [
    "*insert answer here*\n",
    "\n",
    "Possible answer: The highest number of units sold is over 700,000 while the lowest number of units sold is around 100,000."
   ]
  },
  {
   "cell_type": "markdown",
   "id": "03bc8c54",
   "metadata": {},
   "source": [
    "#### Exercise 3: Display a dataframe that shows the singular store and the number of units it sold. Write a query to display the result.  Two options are lowest selling store and highest selling store\n"
   ]
  },
  {
   "cell_type": "code",
   "execution_count": null,
   "id": "34e12d6c",
   "metadata": {},
   "outputs": [],
   "source": [
    "# answer\n",
    "\n",
    "exercise3 = \"\"\"\n",
    "SELECT * FROM (SELECT store, SUM(MOVE) \n",
    "FROM soda \n",
    "GROUP BY store \n",
    "ORDER BY SUM(MOVE) ) LIMIT 1 ;\n",
    "\"\"\"\n",
    "\n",
    "res3 = pd.read_sql(exercise3, engine)\n",
    "res3"
   ]
  },
  {
   "cell_type": "code",
   "execution_count": null,
   "id": "1f320904",
   "metadata": {},
   "outputs": [],
   "source": [
    "exercise3 = \"\"\"\n",
    "SELECT STORE, SUM(MOVE) AS total_units_sold\n",
    "FROM soda\n",
    "GROUP BY STORE\n",
    "ORDER BY total_units_sold DESC\n",
    "LIMIT 1;\n",
    "\"\"\"\n",
    "\n",
    "res3 = pd.read_sql(exercise3, conn)\n",
    "res3"
   ]
  },
  {
   "cell_type": "markdown",
   "id": "1cc69f91-98a7-4deb-9c48-eb139c14655f",
   "metadata": {},
   "source": [
    "##  What are the top 3 upc sold"
   ]
  },
  {
   "cell_type": "code",
   "execution_count": null,
   "id": "97b547cd-ab1d-4c3e-98e8-26dc4116025f",
   "metadata": {},
   "outputs": [],
   "source": [
    "%%sql\n",
    "SELECT soda.UPC, SUM(soda.MOVE) AS total_sales\n",
    "FROM soda\n",
    "JOIN upc  ON soda.UPC = upc.UPC\n",
    "GROUP BY soda.UPC\n",
    "ORDER BY total_sales DESC\n",
    "LIMIT 3;\n"
   ]
  },
  {
   "cell_type": "markdown",
   "id": "768843c2-bf52-4d1a-9678-c0df6ad5538e",
   "metadata": {},
   "source": [
    "## There is a shortcut where you can call tables by abbreviations"
   ]
  },
  {
   "cell_type": "code",
   "execution_count": null,
   "id": "966bb869-cf24-4303-9e59-7525e2306dac",
   "metadata": {},
   "outputs": [],
   "source": [
    "%%sql\n",
    "SELECT s.UPC, SUM(s.MOVE) AS total_sales\n",
    "FROM soda s\n",
    "JOIN upc u ON s.UPC = u.UPC\n",
    "GROUP BY s.UPC\n",
    "ORDER BY total_sales DESC\n",
    "LIMIT 3;\n"
   ]
  },
  {
   "cell_type": "code",
   "execution_count": null,
   "id": "25928b32-9688-4ddc-8571-3c788318e8b9",
   "metadata": {},
   "outputs": [],
   "source": [
    "%%sql\n",
    "SELECT *\n",
    "FROM upc\n",
    "WHERE UPC IN ('1200000230', '1200000231', '1200000013');"
   ]
  },
  {
   "cell_type": "markdown",
   "id": "bec2365b-c82f-4a91-8f96-2fa4825e4ca4",
   "metadata": {},
   "source": [
    "## Let's combine those 2 into a subquery"
   ]
  },
  {
   "cell_type": "code",
   "execution_count": null,
   "id": "56e739c1-f67f-4078-89c2-082f79c74510",
   "metadata": {},
   "outputs": [],
   "source": [
    "%%sql\n",
    "SELECT *\n",
    "FROM upc \n",
    "JOIN (\n",
    "    SELECT soda.UPC\n",
    "    FROM soda \n",
    "    GROUP BY soda.UPC\n",
    "    ORDER BY SUM(soda.MOVE) DESC\n",
    "    LIMIT 3\n",
    ") top_upcs ON upc.UPC = top_upcs.UPC;\n"
   ]
  },
  {
   "cell_type": "markdown",
   "id": "0d40b677-aba9-405d-8d98-980bcc20b900",
   "metadata": {},
   "source": [
    "## 2 liter pepsi is the winner\n",
    "\n",
    "Where is coke?"
   ]
  },
  {
   "cell_type": "code",
   "execution_count": null,
   "id": "9007b692-3d78-4636-b88d-a8ac6d423910",
   "metadata": {},
   "outputs": [],
   "source": [
    "%%sql\n",
    "SELECT *\n",
    "FROM upc\n",
    "WHERE DESCRIP LIKE '%Coke%'\n"
   ]
  },
  {
   "cell_type": "code",
   "execution_count": null,
   "id": "459dc33e-ac99-461a-82d6-799a6fd14606",
   "metadata": {},
   "outputs": [],
   "source": [
    "%%sql\n",
    "SELECT *\n",
    "FROM upc\n",
    "WHERE DESCRIP LIKE '%Coke%'\n",
    "AND SIZE = '2 LT';\n"
   ]
  },
  {
   "cell_type": "code",
   "execution_count": null,
   "id": "675b6d4c-3f76-4ccb-88cc-dedb83631d60",
   "metadata": {},
   "outputs": [],
   "source": [
    "%%sql\n",
    "SELECT *\n",
    "FROM upc\n",
    "WHERE DESCRIP LIKE '%Coke%'\n",
    "AND DESCRIP NOT LIKE '%Cherry%'\n",
    "AND DESCRIP NOT LIKE '%Diet%'\n",
    "AND SIZE = '2 LT';\n"
   ]
  },
  {
   "cell_type": "code",
   "execution_count": null,
   "id": "26d50f4a-a4f8-40b8-91b6-eb3ff2dc71c1",
   "metadata": {},
   "outputs": [],
   "source": [
    "%%sql\n",
    "SELECT u.*\n",
    "FROM upc u\n",
    "JOIN (\n",
    "    SELECT s.UPC, SUM(s.MOVE) AS total_sales\n",
    "    FROM soda s\n",
    "    JOIN upc u ON s.UPC = u.UPC\n",
    "    WHERE u.DESCRIP LIKE '%Coke%'\n",
    "    GROUP BY s.UPC\n",
    "    ORDER BY total_sales DESC\n",
    ") AS top_selling ON u.UPC = top_selling.UPC;\n",
    "\n"
   ]
  },
  {
   "cell_type": "code",
   "execution_count": null,
   "id": "8021166f-d276-43ac-8a63-74d2d054210c",
   "metadata": {},
   "outputs": [],
   "source": [
    "%%sql\n",
    "SELECT u.*, top_selling.total_sales\n",
    "FROM upc u\n",
    "JOIN (\n",
    "    SELECT s.UPC, SUM(s.MOVE) AS total_sales\n",
    "    FROM soda s\n",
    "    JOIN upc u ON s.UPC = u.UPC\n",
    "    WHERE u.DESCRIP LIKE '%Coke%'\n",
    "    GROUP BY s.UPC\n",
    "    ORDER BY total_sales DESC\n",
    ") AS top_selling ON u.UPC = top_selling.UPC;\n"
   ]
  },
  {
   "cell_type": "markdown",
   "id": "8ad443e4-4457-48a1-8fd0-58439a41612a",
   "metadata": {},
   "source": [
    "## WHAT IS COKE II?\n",
    "https://en.wikipedia.org/wiki/New_Coke\n"
   ]
  },
  {
   "cell_type": "code",
   "execution_count": null,
   "id": "b8a7cd78-c683-48af-8f43-cd73d2890b3c",
   "metadata": {},
   "outputs": [],
   "source": [
    "%%sql\n",
    "SELECT WEEK, SUM(MOVE) AS total_units_sold\n",
    "FROM soda\n",
    "GROUP BY WEEK\n",
    "ORDER BY WEEK;"
   ]
  },
  {
   "cell_type": "code",
   "execution_count": null,
   "id": "64887ef0",
   "metadata": {},
   "outputs": [],
   "source": [
    "weekly_sales_top_store_df = %sql SELECT WEEK, SUM(MOVE) AS total_units_sold FROM soda WHERE STORE = (SELECT STORE FROM (SELECT STORE FROM soda GROUP BY STORE ORDER BY SUM(MOVE) DESC LIMIT 1)) GROUP BY WEEK ORDER BY WEEK;\n",
    "weekly_sales_top_store_df = weekly_sales_top_store_df.DataFrame()\n",
    "weekly_sales_top_store_df"
   ]
  },
  {
   "cell_type": "code",
   "execution_count": null,
   "id": "f4577c63",
   "metadata": {},
   "outputs": [],
   "source": [
    "weekly_sales_top_store_df.plot(x = 'WEEK', y = 'total_units_sold')"
   ]
  },
  {
   "cell_type": "markdown",
   "id": "75d4bc6f",
   "metadata": {},
   "source": [
    "# Side Quest on Time!"
   ]
  },
  {
   "cell_type": "code",
   "execution_count": null,
   "id": "a8c1d7b5",
   "metadata": {},
   "outputs": [],
   "source": [
    "# Convert WEEK column to integer (in case it's stored as a string)\n",
    "weekly_sales_top_store_df[\"WEEK\"] = pd.to_numeric(weekly_sales_top_store_df[\"WEEK\"], errors=\"coerce\")\n",
    "\n",
    "# Define the start date of Week 1 in the Dominick's dataset\n",
    "start_date = datetime(1989, 9, 14)\n",
    "\n",
    "# Assign correct date values based on week number\n",
    "weekly_sales_top_store_df[\"Start_Date\"] = weekly_sales_top_store_df[\"WEEK\"].apply(\n",
    "    lambda w: start_date + timedelta(weeks=w-1) if pd.notnull(w) else None\n",
    ")\n",
    "\n",
    "# Ensure Start_Date is properly formatted as a datetime type\n",
    "weekly_sales_top_store_df[\"Start_Date\"] = pd.to_datetime(weekly_sales_top_store_df[\"Start_Date\"])\n",
    "\n",
    "# Sort by Start_Date to ensure a correct time series order\n",
    "weekly_sales_top_store_df = weekly_sales_top_store_df.sort_values(\"Start_Date\")\n",
    "weekly_sales_top_store_df"
   ]
  },
  {
   "cell_type": "code",
   "execution_count": null,
   "id": "5e0a763a",
   "metadata": {},
   "outputs": [],
   "source": [
    "weekly_sales_top_store_df.plot(x = 'Start_Date', y = 'total_units_sold')"
   ]
  },
  {
   "cell_type": "code",
   "execution_count": null,
   "id": "cde24fff",
   "metadata": {},
   "outputs": [],
   "source": [
    "# plot weekly sales for the top store in plotly \n",
    "fig = px.line(weekly_sales_top_store_df, x='Start_Date', y='total_units_sold', title='Weekly Sales for Top Store')\n",
    "fig.show()"
   ]
  }
 ],
 "metadata": {
  "kernelspec": {
   "display_name": "data_env",
   "language": "python",
   "name": "python3"
  },
  "language_info": {
   "codemirror_mode": {
    "name": "ipython",
    "version": 3
   },
   "file_extension": ".py",
   "mimetype": "text/x-python",
   "name": "python",
   "nbconvert_exporter": "python",
   "pygments_lexer": "ipython3",
   "version": "3.10.16"
  }
 },
 "nbformat": 4,
 "nbformat_minor": 5
}

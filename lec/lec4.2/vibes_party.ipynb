{
 "cells": [
  {
   "cell_type": "markdown",
   "metadata": {},
   "source": [
    "##  Does the UMich Consumer Sentiment Index interact with people's political perceptions ?"
   ]
  },
  {
   "cell_type": "markdown",
   "metadata": {},
   "source": [
    "### Where the data come from \n",
    "- At this point I am not sure how to get it API or even by URL \n",
    "- There is a funny UX for Cross Sectional Data Archive at https://sda.umsurvey.org/sda-public/cgi-bin/hsda?harcsda+sca\n",
    "\n",
    "Where you have go and manually set parameters, which is not quite reproducible \n",
    "- I did `row = year_month, column = ics, controll=polaff`\n",
    "- then `Run the Table` and downloaded a file "
   ]
  },
  {
   "cell_type": "code",
   "execution_count": null,
   "metadata": {},
   "outputs": [],
   "source": [
    "import pandas as pd\n",
    "import plotly.express as px"
   ]
  },
  {
   "cell_type": "code",
   "execution_count": null,
   "metadata": {},
   "outputs": [],
   "source": [
    "ICS_POL = pd.read_csv(f\"AAQrGIHa.csv\")\n",
    "ICS_POL"
   ]
  },
  {
   "cell_type": "code",
   "execution_count": null,
   "metadata": {},
   "outputs": [],
   "source": [
    "ICS_POL.dtypes"
   ]
  },
  {
   "cell_type": "markdown",
   "metadata": {},
   "source": [
    "In the accompanying code book it says that POLAFF has the following coding:\n",
    "\n",
    "\n",
    ">Text of this Question or Item\n",
    ">Generally speaking, do you usually think of yourself as a Republican, a Democrat, an Independent, orwhat?\n",
    "\n",
    ">Category Labels:\n",
    "\n",
    "> - 1:\tRepublican\n",
    "> - 2:\tDemocrat\n",
    "> - 3:\tIndependent, No Preference\n",
    "> - 8:\tDK\n",
    "> - 9:\tNA "
   ]
  },
  {
   "cell_type": "code",
   "execution_count": null,
   "metadata": {},
   "outputs": [],
   "source": [
    "# Convert POLAFF to numeric values\n",
    "ICS_POL['POLAFF'] = pd.to_numeric(ICS_POL['POLAFF'], errors='coerce')\n",
    "\n",
    "# Convert ICS to numeric values\n",
    "ICS_POL['ICS'] = pd.to_numeric(ICS_POL['ICS'], errors='coerce')"
   ]
  },
  {
   "cell_type": "markdown",
   "metadata": {},
   "source": [
    "Compute average ICS for Republican (POLAFF = 1), Democrat (POLAFF = 2), Independent (POLAFF = 3), and overall respondents per YYYYMM"
   ]
  },
  {
   "cell_type": "code",
   "execution_count": null,
   "metadata": {},
   "outputs": [],
   "source": [
    "\n",
    "ics_rep = ICS_POL[ICS_POL['POLAFF'] == 1].groupby('YYYYMM')['ICS'].mean().rename('ICS_rep')\n",
    "ics_dem = ICS_POL[ICS_POL['POLAFF'] == 2].groupby('YYYYMM')['ICS'].mean().rename('ICS_dem')\n",
    "ics_ind = ICS_POL[ICS_POL['POLAFF'] == 3].groupby('YYYYMM')['ICS'].mean().rename('ICS_ind')\n",
    "ics_overall = ICS_POL.groupby('YYYYMM')['ICS'].mean().rename('ICS_overall')\n",
    "\n",
    "# Merge results into a new dataframe\n",
    "ics_summary = pd.concat([ics_rep, ics_dem, ics_ind, ics_overall], axis=1).reset_index()\n",
    "\n",
    "# Display the cleaned dataset\n",
    "ics_summary"
   ]
  },
  {
   "cell_type": "markdown",
   "metadata": {},
   "source": [
    "Translate to data to a Pandas Datetime Object "
   ]
  },
  {
   "cell_type": "code",
   "execution_count": null,
   "metadata": {},
   "outputs": [],
   "source": [
    "ics_summary['YYYYMM'] = pd.to_datetime(ics_summary['YYYYMM'], format='%Y%m')"
   ]
  },
  {
   "cell_type": "code",
   "execution_count": null,
   "metadata": {},
   "outputs": [],
   "source": [
    "# drop rows with NaN values\n",
    "ics_summary = ics_summary.dropna()\n",
    "ics_summary "
   ]
  },
  {
   "cell_type": "code",
   "execution_count": null,
   "metadata": {},
   "outputs": [],
   "source": [
    "#Lets go with after 2006\n",
    "ics_summary = ics_summary[ics_summary['YYYYMM'] > '2006-01-01']"
   ]
  },
  {
   "cell_type": "code",
   "execution_count": null,
   "metadata": {},
   "outputs": [],
   "source": [
    "fig = px.line(ics_summary, x='YYYYMM', y=['ICS_rep', 'ICS_dem', 'ICS_ind', 'ICS_overall'], title='Average ICS by Political Affiliation')\n",
    "fig.show()\n",
    "\n",
    "\n",
    "\n",
    "\n"
   ]
  },
  {
   "cell_type": "code",
   "execution_count": null,
   "metadata": {},
   "outputs": [],
   "source": [
    "# redo plot with ICS_rep = red, ICS_dem = blue, ICS_ind = green, ICS_overall = black\n",
    "#put a vertical line at 2017-1-20, 2021-1-20, 2025-1-20\n",
    "fig = px.line(ics_summary, x='YYYYMM', y=['ICS_rep', 'ICS_dem', 'ICS_ind', 'ICS_overall'], title='Average Index of Consumer Sentiment by Political Affiliation')\n",
    "fig.update_traces(line=dict(width=2))\n",
    "fig.update_traces(line=dict(width=2))\n",
    "fig.update_traces(line_color='black', selector=dict(name='ICS_overall'))\n",
    "fig.update_traces(line_color='red', selector=dict(name='Republican'))\n",
    "fig.update_traces(line_color='blue', selector=dict(name='Democrat'))\n",
    "fig.update_traces(line_color='green', selector=dict(name='Independent'))\n",
    "fig.add_vline(x='2008-11-05', line_width=2, line_dash=\"dash\", line_color=\"red\")\n",
    "fig.add_vline(x='2016-11-05', line_width=2, line_dash=\"dash\", line_color=\"red\")\n",
    "fig.add_vline(x='2020-11-05', line_width=2, line_dash=\"dash\", line_color=\"red\")\n",
    "fig.add_vline(x='2024-11-05', line_width=2, line_dash=\"dash\", line_color=\"red\")\n",
    "\n",
    "\n"
   ]
  },
  {
   "cell_type": "code",
   "execution_count": null,
   "metadata": {},
   "outputs": [],
   "source": []
  }
 ],
 "metadata": {
  "kernelspec": {
   "display_name": "data_env",
   "language": "python",
   "name": "python3"
  },
  "language_info": {
   "codemirror_mode": {
    "name": "ipython",
    "version": 3
   },
   "file_extension": ".py",
   "mimetype": "text/x-python",
   "name": "python",
   "nbconvert_exporter": "python",
   "pygments_lexer": "ipython3",
   "version": "3.10.16"
  }
 },
 "nbformat": 4,
 "nbformat_minor": 2
}

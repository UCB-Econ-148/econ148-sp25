{
 "cells": [
  {
   "cell_type": "code",
   "execution_count": null,
   "metadata": {},
   "outputs": [],
   "source": [
    "import pandas as pd\n",
    "import re\n",
    "\n"
   ]
  },
  {
   "cell_type": "markdown",
   "metadata": {},
   "source": [
    "## Strings, Regex, and Pandas String Methods\n",
    "\n",
    "1. Introduction to Strings\n",
    "- Basic string operations in Python (str methods)\n",
    "- Concatenation: \"Hello\" + \" World\"\n",
    "- String formatting: f\"Hello {name}\"\n",
    "- String slicing: \"Hello\"[1:4]\n",
    "- Common methods: .lower(), .upper(), .strip(), .replace(), .split(), .join()"
   ]
  },
  {
   "cell_type": "markdown",
   "metadata": {},
   "source": [
    " Let's try it out"
   ]
  },
  {
   "cell_type": "code",
   "execution_count": null,
   "metadata": {},
   "outputs": [],
   "source": [
    "text = \"Data Science and Economics\""
   ]
  },
  {
   "cell_type": "markdown",
   "metadata": {},
   "source": []
  },
  {
   "cell_type": "code",
   "execution_count": null,
   "metadata": {},
   "outputs": [],
   "source": [
    "print(text.lower())  \n"
   ]
  },
  {
   "cell_type": "code",
   "execution_count": null,
   "metadata": {},
   "outputs": [],
   "source": [
    "\n",
    "#print convert to upper case\n",
    "print(text.upper())"
   ]
  },
  {
   "cell_type": "code",
   "execution_count": null,
   "metadata": {},
   "outputs": [],
   "source": [
    "#concatenate\n",
    "print(text + \" is a great field to work in.\")"
   ]
  },
  {
   "cell_type": "code",
   "execution_count": null,
   "metadata": {},
   "outputs": [],
   "source": [
    "print(text  * 3) #multiply\n",
    "\n"
   ]
  },
  {
   "cell_type": "code",
   "execution_count": null,
   "metadata": {},
   "outputs": [],
   "source": [
    "#slice\n",
    "print(text[0:4]) #slicing\n",
    "print(text[0:13] + text[17:]) #slicing"
   ]
  },
  {
   "cell_type": "code",
   "execution_count": null,
   "metadata": {},
   "outputs": [],
   "source": [
    "print(text.split(\" \")) #split"
   ]
  },
  {
   "cell_type": "code",
   "execution_count": null,
   "metadata": {},
   "outputs": [],
   "source": [
    "\n",
    "print(text.replace(\"Data\", \"Big Data\")) #replace\n"
   ]
  },
  {
   "cell_type": "code",
   "execution_count": null,
   "metadata": {},
   "outputs": [],
   "source": [
    "print(text.split())  "
   ]
  },
  {
   "cell_type": "code",
   "execution_count": null,
   "metadata": {},
   "outputs": [],
   "source": [
    "df = pd.DataFrame({'names': ['Ani Adhikari', 'Emi Nakamura', 'Ted Miguel', 'David Card']})\n",
    "df"
   ]
  },
  {
   "cell_type": "code",
   "execution_count": null,
   "metadata": {},
   "outputs": [],
   "source": [
    "df['last_name'] = df['names'].str.split().str[-1]  # Extract last name\n",
    "df"
   ]
  },
  {
   "cell_type": "code",
   "execution_count": null,
   "metadata": {},
   "outputs": [],
   "source": [
    "df['first_name'] = df['names'].str.extract(r'(\\w+)')\n",
    "df"
   ]
  },
  {
   "cell_type": "markdown",
   "metadata": {},
   "source": [
    "Breakdown of r'(\\w+)'\n",
    "- r'' (Raw String Prefix)\n",
    "- The r before the string makes it a raw string, meaning backslashes (\\) are treated literally.\n",
    "- this prevents Python from interpreting \\ as an escape character.\n",
    "\t\n",
    "(\\w+) (Main Pattern)\n",
    "- \\w → Matches any word character ([a-zA-Z0-9_]).\n",
    "- + → Matches one or more word characters.\n",
    "- () → Capturing Group, meaning it extracts the matched text."
   ]
  },
  {
   "cell_type": "code",
   "execution_count": null,
   "metadata": {},
   "outputs": [],
   "source": [
    "text2 = \"My phone number is 415-555-1234.\"\n",
    "match = re.search(r\"\\d{3}-\\d{3}-\\d{4}\", text2)\n",
    "print(match.group())  # 415-555-1234"
   ]
  },
  {
   "cell_type": "code",
   "execution_count": null,
   "metadata": {},
   "outputs": [],
   "source": [
    "text3 = \"My social security number is 123-45-6789 umm, or maybe it’s 321-45-6789.\"\n",
    "pattern = r\"[0-9]{3}-[0-9]{2}-[0-9]{4}\"\n",
    "re.findall(pattern, text3) "
   ]
  },
  {
   "cell_type": "code",
   "execution_count": null,
   "metadata": {},
   "outputs": [],
   "source": [
    "ssn_pattern = r\"[0-9]{3}-[0-9]{2}-[0-9]{4}\"\n",
    "# SSN Pattern: 3 digits, dash, 2 digits, dash, 3 digits"
   ]
  },
  {
   "cell_type": "code",
   "execution_count": null,
   "metadata": {},
   "outputs": [],
   "source": [
    "data = {\n",
    "    \"SSN\": [\"000-00-0000\", \"error\", \"876-54-3210 invalid or 210-54-3210\", \"111-11-1111\", \n",
    "            \"I refuse to provide\", \"456-78-9012\", \"abc-12-3456\", \"Nice try, FBI agent\",\"777-77-7777\", \n",
    "    \"seventy-seven\", \"987-65-4321 please or 876-54-3210\", \"222-22-2222\", \"classified information\", \n",
    "            \"135-79-2468\", \"xyz-98-7654\", \"I only give my SSN to aliens\",\"555-55-5555\", \"fifty-five\", \n",
    "            \"345-67-8901 not sure or 789-01-2345\", \"333-33-3333\", \"I'm a robot\", \"678-90-1234\", \n",
    "            \"aaa-11-2222\", \"Ask my cat for the SSN\", \"444-44-4444\", \"forty-four\", \n",
    "            \"234-56-7890 maybe or 876-54-3210\", \"444-44-4444\", \"top secret\", \"789-01-2345\", \n",
    "            \"bbb-22-3333\", \"I only speak in emojis 🤖\", \"666-66-6666\", \"sixty-six\", \n",
    "            \"432-10-9876 not applicable or 765-43-2109\", \"555-55-5555\", \"I'm a ghost\", \"012-34-5678\", \n",
    "            \"ccc-33-4444\", \"SSN? What's that?\", \"111-11-1111\", \"eleven\", \n",
    "            \"543-21-0987 avoid or 890-12-3456\", \"666-66-6666\", \"I'm on the run\", \"345-67-8901\", \n",
    "            \"ddd-44-5555\", \"My SSN is a secret code\", \"999-99-9999\", \"ninety-nine\", \n",
    "            \"654-32-1098 dodge or 210-98-7654\", \"777-77-7777\", \"I'm a spy\", \"567-89-0123\", \n",
    "            \"eee-55-6666\", \"I'll give you my SSN if you beat me in a dance-off\", \"123-45-6789\", \n",
    "            \"twelve\", \"765-43-2109 sidestep or 098-76-5432\", \"888-88-8888\", \"I'm an alien\", \n",
    "            \"678-90-1234\", \"fff-66-7777\", \"SSN? I speak in riddles\", \"234-56-7890\", \"twenty-four\", \n",
    "            \"876-54-3210 escape or 765-43-2109\", \"999-99-9999\", \"I'm a time traveler\", \"789-01-2345\", \n",
    "            \"ggg-77-8888\", \"My SSN is a password\", \"345-67-8901\", \"thirty-four\", \n",
    "            \"987-65-4321 run or 876-54-3210\", \"000-00-0000\", \"I'm a superhero\", \n",
    "            \"012-34-5678\", \"hhh-88-9999\", \"You'll never guess my SSN\"]\n",
    "}\n",
    "ssn_data = pd.DataFrame(data)\n",
    "ssn_data"
   ]
  },
  {
   "cell_type": "code",
   "execution_count": null,
   "metadata": {},
   "outputs": [],
   "source": [
    "ssn_data[\"SSN\"].str.findall(ssn_pattern)\n"
   ]
  },
  {
   "cell_type": "code",
   "execution_count": null,
   "metadata": {},
   "outputs": [],
   "source": [
    "capturing_ssn_pattern = r\"([0-9]{3})-([0-9]{2})-([0-9]{4})\"\n",
    "ssn_data[\"SSN\"].str.extract(capturing_ssn_pattern) \n",
    "# Note: this just extracts the first matching pattern"
   ]
  },
  {
   "cell_type": "code",
   "execution_count": null,
   "metadata": {},
   "outputs": [],
   "source": []
  }
 ],
 "metadata": {
  "kernelspec": {
   "display_name": "data_env",
   "language": "python",
   "name": "python3"
  },
  "language_info": {
   "codemirror_mode": {
    "name": "ipython",
    "version": 3
   },
   "file_extension": ".py",
   "mimetype": "text/x-python",
   "name": "python",
   "nbconvert_exporter": "python",
   "pygments_lexer": "ipython3",
   "version": "3.10.16"
  }
 },
 "nbformat": 4,
 "nbformat_minor": 2
}

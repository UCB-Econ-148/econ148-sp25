{
 "cells": [
  {
   "cell_type": "markdown",
   "id": "772dd95f-6953-4cbf-8e2a-1f79a77565f5",
   "metadata": {},
   "source": [
    "# Finance and Graphics Demo\n",
    "## Calculate Bollinger Bands\n",
    "## Graph with MatplotLib \n",
    "## Use a widget to make it interactive\n"
   ]
  },
  {
   "cell_type": "code",
   "execution_count": null,
   "id": "f55e524d-7fa6-4289-a67a-8fffe06ff86d",
   "metadata": {},
   "outputs": [],
   "source": [
    "\n",
    "import pandas as pd\n",
    "import matplotlib.pyplot as plt \n",
    "\n",
    "import ipywidgets as widgets\n",
    "from IPython.display import display\n",
    "%matplotlib inline"
   ]
  },
  {
   "cell_type": "code",
   "execution_count": null,
   "id": "aa1fd416-89ce-45dd-ba0d-4dce606916ce",
   "metadata": {},
   "outputs": [],
   "source": [
    "try:\n",
    "    import yfinance as yf\n",
    "except: \n",
    "    !pip install yfinance\n",
    "    import yfinance as yf \n"
   ]
  },
  {
   "cell_type": "code",
   "execution_count": null,
   "id": "7508dfb4-7243-4cb6-8739-cbf157159cb8",
   "metadata": {},
   "outputs": [],
   "source": []
  },
  {
   "cell_type": "markdown",
   "id": "116d64b3-dc24-47a0-a7ee-0ece6d5eabcb",
   "metadata": {},
   "source": [
    "## Let's download a stocks Dataset\n"
   ]
  },
  {
   "cell_type": "code",
   "execution_count": null,
   "id": "56733d17-41b3-4902-a10a-5b85d0854478",
   "metadata": {},
   "outputs": [],
   "source": [
    "# Define the tickers for multiple stocks\n",
    "tickers = [\"AAPL\", \"GOOG\", \"AMZN\", \"META\", \"NVDA\", \"MSFT\"]\n",
    "\n",
    "# Download historical data for the past 5 years\n",
    "stock_data = yf.download(tickers, start=\"2019-01-01\", end=\"2025-02-19\", group_by=\"ticker\")\n",
    "\n",
    "# Save the data to a CSV file (optional)\n",
    "stock_data.to_csv(\"stock_data.csv\")\n",
    "\n",
    "# Display the first few rows\n",
    "stock_data"
   ]
  },
  {
   "cell_type": "code",
   "execution_count": null,
   "id": "374247d6-2c49-455d-9723-209527c9b090",
   "metadata": {},
   "outputs": [],
   "source": [
    "# Extract AAPL data\n",
    "ap_prices = stock_data['AAPL'].copy()\n",
    "ap_prices"
   ]
  },
  {
   "cell_type": "markdown",
   "id": "48b90078-5acc-4eae-ab9a-3f98fcd6ca49",
   "metadata": {},
   "source": [
    "# Bollinger Bands Explained\n",
    "\n",
    "Bollinger Bands are a **technical analysis tool** used to measure market volatility and identify overbought or oversold conditions. They consist of three lines:\n",
    "\n",
    "1. **Middle Band** – A simple moving average (SMA), typically a **20-day SMA**.\n",
    "2. **Upper Band** – The SMA plus **2 standard deviations**.\n",
    "3. **Lower Band** – The SMA minus **2 standard deviations**.\n",
    "\n",
    "Since standard deviation measures volatility, the bands expand when the market is volatile and contract when the market is stable.\n",
    "\n",
    "---\n",
    "\n",
    "## **Formula for Bollinger Bands**\n",
    "Given a time period \\( N \\) (typically 20 days):\n",
    "\n",
    "- **Middle Band (SMA)**:  \n",
    "  $$ \\text{SMA} = \\frac{1}{N} \\sum_{i=1}^{N} P_i $$  \n",
    "  where \\( P_i \\) is the price at day \\( i \\).\n",
    "\n",
    "- **Upper Band**:  \n",
    "  $$ \\text{Upper Band} = \\text{SMA} + (k \\times \\sigma) $$\n",
    "\n",
    "- **Lower Band**:  \n",
    "  $$ \\text{Lower Band} = \\text{SMA} - (k \\times \\sigma) $$\n",
    "where:\n",
    "-  $\\sigma $ is the standard deviation of prices over $ N $ days.\n",
    "- $k$ is typically **2**, meaning bands are **2 standard deviations** from the SMA.\n",
    "\n",
    "---\n",
    "\n",
    "## **How to Interpret Bollinger Bands**\n",
    "1. **Price Near the Upper Band → Overbought**\n",
    "   - If the price touches or moves above the upper band, the asset **may be overbought**, signaling a possible reversal downward.\n",
    "\n",
    "2. **Price Near the Lower Band → Oversold**\n",
    "   - If the price touches or moves below the lower band, the asset **may be oversold**, signaling a possible upward reversal.\n",
    "\n",
    "3. **Bollinger Band Squeeze → Low Volatility**\n",
    "   - When bands contract, it signals **low volatility** and often precedes a breakout in either direction.\n",
    "\n",
    "4. **Bollinger Band Expansion → High Volatility**\n",
    "   - When bands widen, volatility is increasing. This often happens after a strong move in price.\n",
    "\n",
    "---\n"
   ]
  },
  {
   "cell_type": "markdown",
   "id": "6ad6c033-e2d2-49b5-92ee-bfe0a51bbfef",
   "metadata": {},
   "source": [
    "## Calculate the new Bollinger Bands columns\n",
    "`Pandas` has a `.rolling` argument that we can pass in"
   ]
  },
  {
   "cell_type": "code",
   "execution_count": null,
   "id": "07d69ec6-6631-4b39-a8cf-9acdb46e3e18",
   "metadata": {},
   "outputs": [],
   "source": [
    "window = 20  "
   ]
  },
  {
   "cell_type": "code",
   "execution_count": null,
   "id": "8be810df-9b58-466e-a0e8-8e7be787800a",
   "metadata": {},
   "outputs": [],
   "source": [
    "ap_prices['SMA'] = ap_prices['Close'].rolling(window).mean()  # Simple Moving Average\n",
    "ap_prices['StdDev'] = ap_prices['Close'].rolling(window).std()  # Standard Deviation\n",
    "ap_prices['Upper'] = ap_prices['SMA'] + (2 * ap_prices['StdDev'])  # Upper Band\n",
    "ap_prices['Lower'] = ap_prices['SMA'] - (2 * ap_prices['StdDev'])  # Lower Band"
   ]
  },
  {
   "cell_type": "code",
   "execution_count": null,
   "id": "68718f33-dcc0-4573-a3b8-957a86e2c74a",
   "metadata": {},
   "outputs": [],
   "source": [
    "ap_prices = ap_prices.dropna()\n",
    "ap_prices"
   ]
  },
  {
   "cell_type": "code",
   "execution_count": null,
   "id": "03724552-eaef-4424-a645-6f141c9b08ed",
   "metadata": {},
   "outputs": [],
   "source": [
    "plt.figure(figsize=(12, 6))\n",
    "plt.plot(ap_prices.index, ap_prices['Close'], label=\"Closing Price\", color='blue')\n",
    "plt.plot(ap_prices.index, ap_prices['SMA'], label=\"SMA\", color='black', linestyle=\"dashed\")\n",
    "plt.plot(ap_prices.index, ap_prices['Upper'], label=\"Upper Band\", color='red')\n",
    "plt.plot(ap_prices.index, ap_prices['Lower'], label=\"Lower Band\", color='green')\n",
    "plt.fill_between(ap_prices.index, ap_prices['Upper'], ap_prices['Lower'], color='gray', alpha=0.2)\n",
    "plt.title(\"Bollinger Bands (Apple 5 years)\")\n",
    "plt.legend()\n",
    "plt.show()"
   ]
  },
  {
   "cell_type": "code",
   "execution_count": null,
   "id": "472833f6-3724-4054-b3c6-a795598787d7",
   "metadata": {},
   "outputs": [],
   "source": [
    "# Filter the data to only include the last year\n",
    "last_year = ap_prices.loc[ap_prices.index >= ap_prices.index.max() - pd.DateOffset(years=1)]\n"
   ]
  },
  {
   "cell_type": "code",
   "execution_count": null,
   "id": "76f3a75e-0467-48ea-94d9-c3a4b313733e",
   "metadata": {},
   "outputs": [],
   "source": [
    "# Plot Bollinger Bands for the last year\n",
    "plt.figure(figsize=(12, 6))\n",
    "plt.plot(last_year.index, last_year['Close'], label=\"Closing Price\", color='blue')\n",
    "plt.plot(last_year.index, last_year['SMA'], label=\"SMA\", color='black', linestyle=\"dashed\")\n",
    "plt.plot(last_year.index, last_year['Upper'], label=\"Upper Band\", color='red')\n",
    "plt.plot(last_year.index, last_year['Lower'], label=\"Lower Band\", color='green')\n",
    "\n",
    "# Fill the area between the upper and lower bands\n",
    "plt.fill_between(last_year.index, last_year['Upper'].values, last_year['Lower'].values, color='gray', alpha=0.2)\n",
    "\n",
    "plt.title(\"Bollinger Bands (Last Year)\")\n",
    "plt.legend()\n",
    "plt.show()"
   ]
  },
  {
   "cell_type": "markdown",
   "id": "42867f83-161a-4356-954c-9c8ce427256f",
   "metadata": {},
   "source": [
    "## Identify overbought conditions where the closing price is above the upper Bollinger Band"
   ]
  },
  {
   "cell_type": "code",
   "execution_count": null,
   "id": "ab41aa7a-b9ee-4482-8334-402a688cd6b3",
   "metadata": {},
   "outputs": [],
   "source": [
    "overbought = last_year[last_year['Close'] > last_year['Upper']]\n",
    "\n",
    "overbought"
   ]
  },
  {
   "cell_type": "markdown",
   "id": "459177fb-86d8-4b31-8905-70ee7b99a7cb",
   "metadata": {
    "collapsed": true,
    "jupyter": {
     "outputs_hidden": true
    }
   },
   "source": [
    "### Plot Bollinger Bands with overbought conditions highlighted\n"
   ]
  },
  {
   "cell_type": "code",
   "execution_count": null,
   "id": "500349c3-2d62-4bed-b883-d3e6a735df7c",
   "metadata": {},
   "outputs": [],
   "source": [
    "plt.figure(figsize=(12, 6))\n",
    "plt.plot(last_year.index, last_year['Close'], label=\"Closing Price\", color='blue')\n",
    "plt.plot(last_year.index, last_year['SMA'], label=\"SMA\", color='black', linestyle=\"dashed\")\n",
    "plt.plot(last_year.index, last_year['Upper'], label=\"Upper Band\", color='red')\n",
    "plt.plot(last_year.index, last_year['Lower'], label=\"Lower Band\", color='green')\n",
    "\n",
    "# Fill the Bollinger Bands range\n",
    "plt.fill_between(last_year.index, last_year['Upper'].values, last_year['Lower'].values, color='gray', alpha=0.2)\n",
    "\n",
    "# Highlight overbought points\n",
    "plt.scatter(overbought.index, overbought['Close'], color='RED', label=\"Overbought\", marker='o')\n",
    "\n",
    "plt.title(\"Bollinger Bands - Overbought Periods (Last Year)\")\n",
    "plt.legend()\n",
    "plt.show()"
   ]
  },
  {
   "cell_type": "markdown",
   "id": "19394939-ae86-43fc-aa06-02ca8495f89a",
   "metadata": {},
   "source": [
    "## Lets build some widgets!"
   ]
  },
  {
   "cell_type": "code",
   "execution_count": null,
   "id": "b9227724-4cd3-4f6f-acca-28a4485f71bb",
   "metadata": {},
   "outputs": [],
   "source": [
    "tickers"
   ]
  },
  {
   "cell_type": "code",
   "execution_count": null,
   "id": "51533d6a-a323-4f8b-b503-c41e1a739e27",
   "metadata": {},
   "outputs": [],
   "source": [
    "# Create dropdown for stock selection\n",
    "stock_picker = widgets.Dropdown(\n",
    "    options=tickers,\n",
    "    value=\"AAPL\",\n",
    "    description=\"Stock:\"\n",
    ")\n",
    "\n",
    "# Create slider for selecting the time window in years\n",
    "time_window = widgets.IntSlider(\n",
    "    value=1,  # Default to 1 year\n",
    "    min=1,\n",
    "    max=5,\n",
    "    step=1,\n",
    "    description=\"Years:\"\n",
    ")"
   ]
  },
  {
   "cell_type": "code",
   "execution_count": null,
   "id": "41882a8e-2092-4f4a-a93c-4c320ec77264",
   "metadata": {},
   "outputs": [],
   "source": [
    "# Display widgets\n",
    "display(stock_picker, time_window)"
   ]
  },
  {
   "cell_type": "code",
   "execution_count": null,
   "id": "86652cb6-9bc0-4acb-9a2b-47632b37ced8",
   "metadata": {},
   "outputs": [],
   "source": [
    "# Load stock data from CSV (Ensure the file is in the same directory)\n",
    "#stock_data = pd.read_csv(\"stock_data.csv\", header=[0, 1], index_col=0, parse_dates=True)\n",
    "\n",
    "# Extract available tickers from the CSV columns\n",
    "#tickers = [col[0] for col in stock_data.columns.levels[0]"
   ]
  },
  {
   "cell_type": "code",
   "execution_count": null,
   "id": "cdd70fd3-c0d1-4159-8c75-67c5b236526e",
   "metadata": {},
   "outputs": [],
   "source": []
  },
  {
   "cell_type": "code",
   "execution_count": null,
   "id": "d60717f7-73de-43d7-a35d-eee79d00b9e9",
   "metadata": {},
   "outputs": [],
   "source": [
    "# Function to compute and plot Bollinger Bands\n",
    "def plot_bollinger_bands(stock, years):\n",
    "    # Extract only the selected stock's data\n",
    "    df = stock_data[stock].copy()\n",
    "    \n",
    "    # Get the last date in the dataset and compute the start date\n",
    "    end_date = df.index.max()\n",
    "    start_date = end_date - pd.DateOffset(years=years)\n",
    "    \n",
    "    # Filter data based on the selected time window\n",
    "    df = df.loc[start_date:end_date]\n",
    "\n",
    "    # Compute Bollinger Bands\n",
    "    window = 20  # Rolling window size\n",
    "    df['SMA'] = df['Close'].rolling(window).mean()\n",
    "    df['StdDev'] = df['Close'].rolling(window).std()\n",
    "    df['Upper'] = df['SMA'] + (2 * df['StdDev'])\n",
    "    df['Lower'] = df['SMA'] - (2 * df['StdDev'])\n",
    "\n",
    "    # Drop NaN values\n",
    "    df = df.dropna()\n",
    "\n",
    "    # Plot Bollinger Bands\n",
    "    plt.figure(figsize=(12, 6))\n",
    "    plt.plot(df.index, df['Close'], label=\"Closing Price\", color='blue')\n",
    "    plt.plot(df.index, df['SMA'], label=\"SMA\", color='black', linestyle=\"dashed\")\n",
    "    plt.plot(df.index, df['Upper'], label=\"Upper Band\", color='red')\n",
    "    plt.plot(df.index, df['Lower'], label=\"Lower Band\", color='green')\n",
    "    plt.fill_between(df.index, df['Upper'], df['Lower'], color='gray', alpha=0.2)\n",
    "\n",
    "    plt.title(f\"Bollinger Bands for {stock} ({years} Year(s))\")\n",
    "    plt.legend()\n",
    "    plt.show()\n",
    "\n"
   ]
  },
  {
   "cell_type": "code",
   "execution_count": null,
   "id": "150fef79-e554-4954-aa32-e6e39f7b17d4",
   "metadata": {},
   "outputs": [],
   "source": [
    "# Create an interactive widget with output\n",
    "output = widgets.Output()\n",
    "\n",
    "# Function to update the output widget\n",
    "def update_plot(stock, years):\n",
    "    with output:\n",
    "        output.clear_output(wait=True)\n",
    "        plot_bollinger_bands(stock, years)\n",
    "\n",
    "# Create interactive widgets\n",
    "interactive_plot = widgets.interactive(update_plot, stock=stock_picker, years=time_window)\n",
    "\n",
    "# Display widgets and output\n",
    "display(stock_picker, time_window, output)\n",
    "\n",
    "# Call the function once to display initial plot\n",
    "update_plot(stock_picker.value, time_window.value)"
   ]
  },
  {
   "cell_type": "code",
   "execution_count": null,
   "id": "e85760d0-ecfd-42e0-8680-929ccf9ed7b3",
   "metadata": {},
   "outputs": [],
   "source": []
  }
 ],
 "metadata": {
  "kernelspec": {
   "display_name": "Python 3 (ipykernel)",
   "language": "python",
   "name": "python3"
  },
  "language_info": {
   "codemirror_mode": {
    "name": "ipython",
    "version": 3
   },
   "file_extension": ".py",
   "mimetype": "text/x-python",
   "name": "python",
   "nbconvert_exporter": "python",
   "pygments_lexer": "ipython3",
   "version": "3.11.11"
  }
 },
 "nbformat": 4,
 "nbformat_minor": 5
}

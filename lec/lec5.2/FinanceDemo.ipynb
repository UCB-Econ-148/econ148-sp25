{
 "cells": [
  {
   "cell_type": "code",
   "execution_count": null,
   "metadata": {},
   "outputs": [],
   "source": []
  },
  {
   "cell_type": "markdown",
   "metadata": {},
   "source": [
    "## Finance Charts in Python Pandas "
   ]
  },
  {
   "cell_type": "code",
   "execution_count": null,
   "metadata": {},
   "outputs": [],
   "source": [
    "import plotly.express as px\n",
    "import yfinance as yf\n",
    "import plotly.graph_objs as go\n",
    "import pandas as pd\n",
    "import matplotlib.pyplot as plt "
   ]
  },
  {
   "cell_type": "code",
   "execution_count": null,
   "metadata": {},
   "outputs": [],
   "source": [
    "try:\n",
    "    import yfinance as yf\n",
    "except: \n",
    "    !pip install yfinance\n",
    "    import yfinance as yf "
   ]
  },
  {
   "cell_type": "code",
   "execution_count": null,
   "metadata": {},
   "outputs": [],
   "source": [
    "try:\n",
    "    from mplchart.chart import Chart\n",
    "except: \n",
    "    !pip install mplchart\n",
    "  "
   ]
  },
  {
   "cell_type": "markdown",
   "metadata": {},
   "source": [
    "## MPL Finance Demo \n",
    "\n",
    "https://pypi.org/project/mplchart/"
   ]
  },
  {
   "cell_type": "code",
   "execution_count": null,
   "metadata": {},
   "outputs": [],
   "source": [
    "from mplchart.chart import Chart\n",
    "from mplchart.primitives import Candlesticks, Volume\n",
    "from mplchart.indicators import ROC, SMA, EMA, RSI, MACD, BBANDS"
   ]
  },
  {
   "cell_type": "code",
   "execution_count": null,
   "metadata": {},
   "outputs": [],
   "source": [
    "ticker = 'AAPL'\n",
    "ap_prices = yf.Ticker(ticker).history('5y')\n",
    "ap_prices['Date'] = ap_prices.index\n",
    "ap_prices.to_csv('ap_prices.csv')\n",
    "ap_prices\n"
   ]
  },
  {
   "cell_type": "code",
   "execution_count": null,
   "metadata": {},
   "outputs": [],
   "source": [
    "#ap_prices = pd.read_csv(\"ap_prices.csv\")"
   ]
  },
  {
   "cell_type": "code",
   "execution_count": null,
   "metadata": {},
   "outputs": [],
   "source": [
    "indicators = [\n",
    "    Candlesticks(),Volume()]\n",
    "max_bars = 250"
   ]
  },
  {
   "cell_type": "code",
   "execution_count": null,
   "metadata": {},
   "outputs": [],
   "source": [
    "chart = Chart(title=ticker, max_bars=max_bars)\n",
    "chart.plot(ap_prices, indicators)"
   ]
  },
  {
   "cell_type": "markdown",
   "metadata": {},
   "source": [
    "Built-in Indicators\n",
    "The libary contains some basic technical analysis indicators implemented in pandas/numpy. Indicators are classes that must be instantiated before being used in the plot api.\n",
    "\n",
    "Some of the indicators included are:\n",
    "\n",
    "- SMA Simple Moving Average\n",
    "- EMA Exponential Moving Average\n",
    "- ROC Rate of Change\n",
    "- RSI Relative Strength Index\n",
    "- MACD Moving Average Convergence Divergence\n",
    "- PPO Price Percentage Oscillator\n",
    "- SLOPE Slope (linear regression with time)\n",
    "- BBANDS Bolling Bands\n"
   ]
  },
  {
   "cell_type": "code",
   "execution_count": null,
   "metadata": {},
   "outputs": [],
   "source": [
    "indicators = [\n",
    "    Candlesticks(),Volume(),\n",
    "    SMA(50), SMA(200), RSI(),  MACD(),BBANDS(),\n",
    "]\n",
    "\n",
    "max_bars = 250\n"
   ]
  },
  {
   "cell_type": "code",
   "execution_count": null,
   "metadata": {},
   "outputs": [],
   "source": [
    "chart = Chart(title=ticker, max_bars=max_bars)\n",
    "chart.plot(prices, indicators)"
   ]
  },
  {
   "cell_type": "markdown",
   "metadata": {},
   "source": [
    "##  Lets Look at that in Plotly Express and call for Candlestick\n",
    "\n",
    "- User can mouse over datapoints\n",
    "- User can change the time window"
   ]
  },
  {
   "cell_type": "code",
   "execution_count": null,
   "metadata": {},
   "outputs": [],
   "source": [
    "ap_prices['Date'] = ap_prices.index\n",
    "\n",
    "fig = go.Figure(data=[go.Candlestick(x=prices['Date'],\n",
    "                open=prices['Open'],\n",
    "                high=prices ['High'],\n",
    "                low=prices['Low'],\n",
    "                close=prices['Close'])])\n",
    "fig.update_layout(title_text=\"AAPL Candlestick Chart\")\n",
    "fig.show()"
   ]
  },
  {
   "cell_type": "markdown",
   "metadata": {},
   "source": [
    "Plotly also has  default stocks dataset"
   ]
  },
  {
   "cell_type": "code",
   "execution_count": null,
   "metadata": {},
   "outputs": [],
   "source": [
    "df = px.data.stocks(indexed=True)-1\n",
    "df"
   ]
  },
  {
   "cell_type": "code",
   "execution_count": null,
   "metadata": {},
   "outputs": [],
   "source": [
    "fig = px.bar(df, x=df.index, y=\"GOOG\")\n",
    "fig.show()"
   ]
  },
  {
   "cell_type": "code",
   "execution_count": null,
   "metadata": {},
   "outputs": [],
   "source": [
    "# Faceted Plot\n",
    "fig = px.area(df, facet_col=\"company\", facet_col_wrap=2)\n",
    "fig.show()\n"
   ]
  },
  {
   "cell_type": "code",
   "execution_count": null,
   "metadata": {},
   "outputs": [],
   "source": [
    "df = px.data.stocks()\n",
    "fig = px.line(df, x=\"date\", y=df.columns,\n",
    "              hover_data={\"date\": \"|%B %d, %Y\"},\n",
    "              title='custom tick labels')\n",
    "fig.update_xaxes(\n",
    "    dtick=\"M1\",\n",
    "    tickformat=\"%b\\n%Y\")\n",
    "fig.show()"
   ]
  },
  {
   "cell_type": "markdown",
   "metadata": {},
   "source": [
    "## Let's take a look at NVIDIA"
   ]
  },
  {
   "cell_type": "code",
   "execution_count": null,
   "metadata": {},
   "outputs": [],
   "source": [
    "ticker = 'NVDA'\n",
    "nvprices = yf.Ticker(ticker).history('5y')\n",
    "nvprices.head()\n",
    "nvprices.to_csv('nvprices.csv')\n"
   ]
  },
  {
   "cell_type": "code",
   "execution_count": null,
   "metadata": {},
   "outputs": [],
   "source": [
    "chart = Chart(title=ticker, max_bars=max_bars)\n",
    "chart.plot(nvprices, indicators)"
   ]
  },
  {
   "cell_type": "markdown",
   "metadata": {},
   "source": [
    "## MPL is plotting one Year of data \n",
    "\n",
    "Lets resample the 5 years in our dataset to be weekly data "
   ]
  },
  {
   "cell_type": "code",
   "execution_count": null,
   "metadata": {},
   "outputs": [],
   "source": [
    "nv_resampled = nvprices.resample('W').ffill() \n"
   ]
  },
  {
   "cell_type": "code",
   "execution_count": null,
   "metadata": {},
   "outputs": [],
   "source": [
    "chart = Chart(title=ticker, max_bars=max_bars)\n",
    "chart.plot(nv_resampled, indicators)"
   ]
  }
 ],
 "metadata": {
  "kernelspec": {
   "display_name": "Python 3 (ipykernel)",
   "language": "python",
   "name": "python3"
  },
  "language_info": {
   "codemirror_mode": {
    "name": "ipython",
    "version": 3
   },
   "file_extension": ".py",
   "mimetype": "text/x-python",
   "name": "python",
   "nbconvert_exporter": "python",
   "pygments_lexer": "ipython3",
   "version": "3.11.11"
  }
 },
 "nbformat": 4,
 "nbformat_minor": 4
}

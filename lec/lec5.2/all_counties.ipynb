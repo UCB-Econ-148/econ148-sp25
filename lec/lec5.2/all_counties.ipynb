{
 "cells": [
  {
   "cell_type": "code",
   "execution_count": null,
   "metadata": {},
   "outputs": [],
   "source": [
    "import numpy as np\n",
    "import pandas as pd\n",
    "import re\n",
    "import matplotlib.pyplot as plt\n",
    "import geopandas as gpd\n",
    "import seaborn as sns\n",
    "\n",
    "import ipywidgets as widgets\n",
    "from ipywidgets import interact, interactive, fixed, interact_manual"
   ]
  },
  {
   "cell_type": "code",
   "execution_count": null,
   "metadata": {},
   "outputs": [],
   "source": [
    "#read in the data - saved as a csv file at a checkpoint\n",
    "rgdp_county_allindustry = pd.read_csv('data/rgdp_county_allindustry.csv')\n",
    "rgdp_county_allindustry.tail()"
   ]
  },
  {
   "cell_type": "code",
   "execution_count": null,
   "metadata": {},
   "outputs": [],
   "source": [
    "# Select year = 2021\n",
    "rgdp_county_allindustry_2021 = rgdp_county_allindustry[rgdp_county_allindustry['year'] == 2021]\n",
    "\n"
   ]
  },
  {
   "cell_type": "code",
   "execution_count": null,
   "metadata": {},
   "outputs": [],
   "source": [
    "#plot a histogram of the data with kde overlay\n",
    "sns.histplot(rgdp_county_allindustry_2021['value'], kde=True)"
   ]
  },
  {
   "cell_type": "code",
   "execution_count": null,
   "metadata": {},
   "outputs": [],
   "source": [
    "rgdp_county_allindustry_2021['value'].value_counts(bins=10)\n",
    "\n"
   ]
  },
  {
   "cell_type": "code",
   "execution_count": null,
   "metadata": {},
   "outputs": [],
   "source": [
    "#show the 10 counties with hightest RGDP\n",
    "rgdp_county_allindustry_2021.nlargest(10, 'value')"
   ]
  },
  {
   "cell_type": "code",
   "execution_count": null,
   "metadata": {},
   "outputs": [],
   "source": [
    "# make a list with the 9 bay area counties, with \",CA\" appended to each county name\n",
    "bay_area_counties = ['Alameda,CA', 'Contra Costa,CA', 'Marin,CA', 'Napa,CA', 'San Francisco,CA', 'San Mateo,CA', 'Santa Clara,CA', 'Solano,CA', 'Sonoma,CA']\n",
    "\n"
   ]
  },
  {
   "cell_type": "code",
   "execution_count": null,
   "metadata": {},
   "outputs": [],
   "source": [
    "#Show the RGDP for the 9 bay area counties\n",
    "rgdp_county_allindustry_2021[rgdp_county_allindustry_2021['GeoName'].isin(bay_area_counties)]\n"
   ]
  },
  {
   "cell_type": "code",
   "execution_count": null,
   "metadata": {},
   "outputs": [],
   "source": [
    "#can you make a table with bins of a histogram for RGDP\n",
    "#make a histogram with 10 bins\n",
    "rgdp_county_allindustry_2021['value'].hist(bins=10)\n",
    "# can you report number of counties in each bin\n",
    "rgdp_county_allindustry_2021['value'].value_counts(bins=10)\n"
   ]
  },
  {
   "cell_type": "code",
   "execution_count": null,
   "metadata": {},
   "outputs": [],
   "source": [
    "#calculate the mean RGDP across all counties\n",
    "rgdp_county_allindustry_2021['value'].mean()\n"
   ]
  },
  {
   "cell_type": "code",
   "execution_count": null,
   "metadata": {},
   "outputs": [],
   "source": [
    "#format with commas and 2 decimal places\n",
    "'{:,.2f}'.format(rgdp_county_allindustry_2021['value'].mean())"
   ]
  },
  {
   "cell_type": "code",
   "execution_count": null,
   "metadata": {},
   "outputs": [],
   "source": [
    "#calculate the median RGDP across all counties\n",
    "rgdp_county_allindustry_2021['value'].median()\n"
   ]
  },
  {
   "cell_type": "code",
   "execution_count": null,
   "metadata": {},
   "outputs": [],
   "source": [
    "'{:,.2f}'.format(rgdp_county_allindustry_2021['value'].median())"
   ]
  },
  {
   "cell_type": "code",
   "execution_count": null,
   "metadata": {},
   "outputs": [],
   "source": [
    "diff = rgdp_county_allindustry_2021['value'].mean() - rgdp_county_allindustry_2021['value'].median()\n",
    "'{:,.2f}'.format(diff)"
   ]
  },
  {
   "cell_type": "code",
   "execution_count": null,
   "metadata": {},
   "outputs": [],
   "source": []
  }
 ],
 "metadata": {
  "kernelspec": {
   "display_name": "Python 3",
   "language": "python",
   "name": "python3"
  },
  "language_info": {
   "codemirror_mode": {
    "name": "ipython",
    "version": 3
   },
   "file_extension": ".py",
   "mimetype": "text/x-python",
   "name": "python",
   "nbconvert_exporter": "python",
   "pygments_lexer": "ipython3",
   "version": "3.8.15"
  }
 },
 "nbformat": 4,
 "nbformat_minor": 2
}

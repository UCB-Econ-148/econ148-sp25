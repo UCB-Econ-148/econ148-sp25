{
 "cells": [
  {
   "cell_type": "code",
   "execution_count": null,
   "id": "0fcbe1f6-8d83-4772-b398-ae97fe53131a",
   "metadata": {},
   "outputs": [],
   "source": [
    "# run this cell - obligatory imports in every file\n",
    "from datascience import *\n",
    "import pandas as pd\n",
    "from pandas import read_stata\n",
    "import numpy as np\n",
    "%matplotlib inline\n",
    "import matplotlib.pyplot as plt\n",
    "\n",
    "plt.style.use('fivethirtyeight')"
   ]
  },
  {
   "cell_type": "code",
   "execution_count": null,
   "id": "620646ca-ab9d-431b-a8eb-5a6a82e70891",
   "metadata": {},
   "outputs": [],
   "source": [
    "!curl -LJO  https://github.com/data-8/ls88-btc/raw/master/lab6/WGP_3rounds_Data8.dta"
   ]
  },
  {
   "cell_type": "code",
   "execution_count": null,
   "id": "23570c18-eb3a-49aa-98fe-e51aa125675d",
   "metadata": {},
   "outputs": [],
   "source": []
  },
  {
   "cell_type": "code",
   "execution_count": null,
   "id": "f78324ca-9959-407d-9ff9-9ef5b94579da",
   "metadata": {},
   "outputs": [],
   "source": [
    "WGP3rds_df = pd.DataFrame(pd.read_stata('WGP_3rounds_Data8.dta'))\n",
    "WGP3rds_table= Table.from_df(WGP3rds_df)\n",
    "#WGP_df.head(10)"
   ]
  },
  {
   "cell_type": "code",
   "execution_count": null,
   "id": "d09703eb-988f-4b34-914f-117c87b2135a",
   "metadata": {},
   "outputs": [],
   "source": [
    "WGPRd2 = WGP3rds_table.where(\"round\",2).select(\"a1_cmpd_id\",'treatment_arm','Selfrptpct', 'Vldclpct')\n",
    "WGPRd2"
   ]
  },
  {
   "cell_type": "code",
   "execution_count": null,
   "id": "65fd6d46-1af7-4d76-8f4d-e3cc84d1895f",
   "metadata": {},
   "outputs": [],
   "source": [
    "# Lets group by treatment_arm take the means of each group\n",
    "# This corresponds to the summary stats in Lab 5\n",
    "round2_means = WGPRd2.group('treatment_arm', np.mean)\n",
    "round2_means"
   ]
  },
  {
   "cell_type": "code",
   "execution_count": null,
   "id": "a5d6dda2-5ff1-443e-94b2-ce8cb1cebd0e",
   "metadata": {},
   "outputs": [],
   "source": [
    "round2_stdev = WGPRd2.group('treatment_arm', np.std)\n",
    "round2_num= WGPRd2.group('treatment_arm')\n",
    "round2_self_stdev_array= round2_stdev.column('Selfrptpct std')\n",
    "round2_self_num_array = round2_num.column('count')\n",
    "round2_self_sqrtn_array = np.sqrt(round2_self_num_array)\n",
    "round2_self_se=np.divide(round2_self_stdev_array,round2_self_sqrtn_array)\n",
    "round2_self_2se = round2_self_se*2\n",
    "round2_means_self_array = round2_means.column('Selfrptpct mean')\n",
    "round2_means_vld_array = round2_means.column('Vldclpct mean')"
   ]
  },
  {
   "cell_type": "code",
   "execution_count": null,
   "id": "341b82f1-4317-4d99-acc6-3ca76d81e860",
   "metadata": {},
   "outputs": [],
   "source": [
    "round2_means.bar('treatment_arm','Selfrptpct mean') "
   ]
  },
  {
   "cell_type": "code",
   "execution_count": null,
   "id": "4514cc08-9a1a-4340-8782-75010222d879",
   "metadata": {},
   "outputs": [],
   "source": [
    "round2_means.bar('treatment_arm',make_array(2, 3)) "
   ]
  },
  {
   "cell_type": "code",
   "execution_count": null,
   "id": "79b5cd7c-dc66-4de6-bf13-819bf9547cb6",
   "metadata": {},
   "outputs": [],
   "source": [
    "round2_means.bar('treatment_arm','Selfrptpct mean', yerr=round2_self_2se) "
   ]
  },
  {
   "cell_type": "code",
   "execution_count": null,
   "id": "8b554b26-ced0-4324-9cfb-91d07a4b7501",
   "metadata": {},
   "outputs": [],
   "source": [
    "#redo for Round = 3\n",
    "WGPRd3 = WGP3rds_table.where(\"round\",3).select(\"a1_cmpd_id\",'treatment_arm','Selfrptpct', 'Vldclpct')\n",
    "round3_means = WGPRd3.group('treatment_arm', np.mean)\n",
    "round3_means_array = round3_means.column('Selfrptpct mean')\n",
    "round3_stdev = WGPRd3.group('treatment_arm', np.std)\n",
    "round3_num= WGPRd3.group('treatment_arm')\n",
    "round3_self_stdev_array= round3_stdev.column('Selfrptpct std')\n",
    "round3_self_num_array = round3_num.column('count')\n",
    "round3_self_sqrtn_array = np.sqrt(round2_self_num_array)\n",
    "round3_self_se=np.divide(round3_self_stdev_array,round3_self_sqrtn_array)\n",
    "round3_self_2se = round3_self_se*2"
   ]
  },
  {
   "cell_type": "code",
   "execution_count": null,
   "id": "7f038c06-feb0-412c-a7a4-49c10d93f18c",
   "metadata": {},
   "outputs": [],
   "source": [
    "plt.style.use('classic')\n",
    "\n",
    "N = 7\n",
    "ind = np.arange(N)  # the x locations for the groups\n",
    "width = 0.5       # the width of the bars\n",
    "\n",
    "fig, ax = plt.subplots()\n",
    "rects1 = ax.bar(ind, round2_means_self_array, width, color='g', yerr=round2_self_2se)\n",
    "\n",
    "rects2 = ax.bar(ind + width, round3_means_array, width, color='b', yerr=round3_self_2se)\n",
    "\n",
    "# add some text for labels, title and axes ticks\n",
    "ax.set_ylabel('Percent of HH using WG')\n",
    "ax.set_title('Self reported WG use')\n",
    "ax.set_xlabel('Treatment Arm')\n",
    "ax.set_xticks(ind + width / 2)\n",
    "ax.set_xticklabels(('1', '2', '3', '4', '5', '6','7'))\n",
    "\n",
    "ax.legend((rects1[0], rects2[0])\n",
    "          ,('3 Week Visit', '3 Month Visit')\n",
    "          ,bbox_to_anchor=(0.5, 1.0))\n",
    "\n",
    "plt.savefig(\"test.png\")\n",
    "\n",
    "plt.show()\n"
   ]
  },
  {
   "cell_type": "code",
   "execution_count": null,
   "id": "e41ae1eb-7e7c-42ea-a278-0e862f1a5748",
   "metadata": {},
   "outputs": [],
   "source": []
  }
 ],
 "metadata": {
  "kernelspec": {
   "display_name": "Python 3 (ipykernel)",
   "language": "python",
   "name": "python3"
  },
  "language_info": {
   "codemirror_mode": {
    "name": "ipython",
    "version": 3
   },
   "file_extension": ".py",
   "mimetype": "text/x-python",
   "name": "python",
   "nbconvert_exporter": "python",
   "pygments_lexer": "ipython3",
   "version": "3.8.15"
  }
 },
 "nbformat": 4,
 "nbformat_minor": 5
}

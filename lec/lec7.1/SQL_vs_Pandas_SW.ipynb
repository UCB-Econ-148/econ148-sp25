{
 "cells": [
  {
   "cell_type": "code",
   "execution_count": null,
   "metadata": {},
   "outputs": [],
   "source": [
    "#!pip install sqlalchemy jupysql"
   ]
  },
  {
   "cell_type": "markdown",
   "metadata": {},
   "source": [
    "##  SQL vs Pandas"
   ]
  },
  {
   "cell_type": "code",
   "execution_count": null,
   "metadata": {},
   "outputs": [],
   "source": [
    "import pandas as pd\n",
    "import numpy as np\n",
    "import sqlalchemy\n",
    "from pathlib import Path\n",
    "%load_ext sql"
   ]
  },
  {
   "cell_type": "code",
   "execution_count": null,
   "metadata": {},
   "outputs": [],
   "source": [
    "# Run this cell to connect to database\n",
    "engine = sqlalchemy.create_engine('sqlite:///starwars.db')\n",
    "connection = engine.connect()"
   ]
  },
  {
   "cell_type": "code",
   "execution_count": null,
   "metadata": {},
   "outputs": [],
   "source": [
    "%sql engine\n"
   ]
  },
  {
   "cell_type": "code",
   "execution_count": null,
   "metadata": {},
   "outputs": [],
   "source": [
    "%%sql\n",
    "SELECT * FROM sqlite_master WHERE type='table';"
   ]
  },
  {
   "cell_type": "code",
   "execution_count": null,
   "metadata": {},
   "outputs": [],
   "source": [
    "%%sql\n",
    "# Display the first 5 rows of characters table\n",
    "SELECT * FROM characters LIMIT 5;\n"
   ]
  },
  {
   "cell_type": "code",
   "execution_count": null,
   "metadata": {},
   "outputs": [],
   "source": [
    "# Read the table into a pandas DataFrame\n",
    "characters_df = pd.read_sql(\"SELECT * FROM characters\", connection)\n",
    "\n",
    "characters_df"
   ]
  },
  {
   "cell_type": "code",
   "execution_count": null,
   "metadata": {},
   "outputs": [],
   "source": [
    "characters_df.dtypes"
   ]
  },
  {
   "cell_type": "markdown",
   "metadata": {},
   "source": [
    "##  Lets compare some SQL to Pandas commands   \n",
    "\n",
    "Demo 1 - Select Data ( columns)"
   ]
  },
  {
   "cell_type": "code",
   "execution_count": null,
   "metadata": {},
   "outputs": [],
   "source": [
    "%sql SELECT name, species FROM characters"
   ]
  },
  {
   "cell_type": "markdown",
   "metadata": {},
   "source": [
    "and in Pandas"
   ]
  },
  {
   "cell_type": "code",
   "execution_count": null,
   "metadata": {},
   "outputs": [],
   "source": [
    "characters_df[['name', 'species']]"
   ]
  },
  {
   "cell_type": "markdown",
   "metadata": {},
   "source": [
    "Demo 2 - Filtering"
   ]
  },
  {
   "cell_type": "code",
   "execution_count": null,
   "metadata": {},
   "outputs": [],
   "source": [
    "%%sql\n",
    "SELECT * FROM characters\n",
    "WHERE  height > 200 AND species = 'Human'"
   ]
  },
  {
   "cell_type": "markdown",
   "metadata": {},
   "source": [
    "Oops that didn't work - because apparently height is a string and so the boolean about hieght didnt filter\n",
    "\n",
    "One approach is to ask SQL to treat that column as an integer\n",
    "\n",
    "`CAST()` is a SQL function that converts one data type into another. This is useful when a column is stored as text (TEXT or VARCHAR), but you need to perform numeric operations on it.\n"
   ]
  },
  {
   "cell_type": "code",
   "execution_count": null,
   "metadata": {},
   "outputs": [],
   "source": [
    "%%sql\n",
    "SELECT * FROM characters\n",
    "WHERE CAST(height AS INTEGER) > 200 \n",
    "AND species = 'Human';"
   ]
  },
  {
   "cell_type": "code",
   "execution_count": null,
   "metadata": {},
   "outputs": [],
   "source": [
    "characters_df"
   ]
  },
  {
   "cell_type": "markdown",
   "metadata": {},
   "source": [
    "in Pandas we also need to check the type of height - if it wasnt a float in SQL it probably isnt in Pandas"
   ]
  },
  {
   "cell_type": "code",
   "execution_count": null,
   "metadata": {},
   "outputs": [],
   "source": [
    "characters_df['height'].dtype"
   ]
  },
  {
   "cell_type": "markdown",
   "metadata": {},
   "source": [
    "convert height to numeric"
   ]
  },
  {
   "cell_type": "code",
   "execution_count": null,
   "metadata": {},
   "outputs": [],
   "source": [
    "characters_df['height'] = pd.to_numeric(characters_df['height'], errors='coerce')\n",
    "characters_df['height'].dtype"
   ]
  },
  {
   "cell_type": "code",
   "execution_count": null,
   "metadata": {},
   "outputs": [],
   "source": [
    "characters_df[(characters_df['height'] > 200) & (characters_df['species'] == 'Human')]"
   ]
  },
  {
   "cell_type": "markdown",
   "metadata": {},
   "source": [
    "Demo 3 - aggregate data\n",
    "\n",
    "Average height by species\n",
    "\n"
   ]
  },
  {
   "cell_type": "code",
   "execution_count": null,
   "metadata": {},
   "outputs": [],
   "source": [
    "%%sql\n",
    "SELECT species, AVG(CAST(height AS INTEGER)) AS avg_height\n",
    "FROM characters\n",
    "GROUP BY species;"
   ]
  },
  {
   "cell_type": "markdown",
   "metadata": {},
   "source": [
    "And in Pandas"
   ]
  },
  {
   "cell_type": "code",
   "execution_count": null,
   "metadata": {},
   "outputs": [],
   "source": [
    "species_avg_height = characters_df.groupby('species')['height'].mean()\n",
    "\n",
    "species_avg_height"
   ]
  },
  {
   "cell_type": "markdown",
   "metadata": {},
   "source": [
    "Demo 4 - \n",
    "\n",
    "4.1 Let's join two tables characters and planets\n",
    "\n",
    "4.2 Let's look for Humans from the desert"
   ]
  },
  {
   "cell_type": "code",
   "execution_count": null,
   "metadata": {},
   "outputs": [],
   "source": [
    "%%sql\n",
    "SELECT characters.name, planets.name AS homeworld\n",
    "FROM characters\n",
    "JOIN planets ON characters.homeworld = planets.name;"
   ]
  },
  {
   "cell_type": "code",
   "execution_count": null,
   "metadata": {},
   "outputs": [],
   "source": [
    "%%sql\n",
    "SELECT characters.name, characters.homeworld, characters.species, planets.climate, planets.population, planets.terrain\n",
    "FROM characters\n",
    "JOIN planets ON characters.homeworld = planets.name;"
   ]
  },
  {
   "cell_type": "code",
   "execution_count": null,
   "metadata": {},
   "outputs": [],
   "source": [
    "%%sql\n",
    "SELECT characters.name, characters.homeworld, characters.species, planets.climate, planets.population, planets.terrain\n",
    "FROM characters\n",
    "JOIN planets ON characters.homeworld = planets.name\n",
    "WHERE LOWER(characters.species) = 'human' \n",
    "AND LOWER(planets.terrain) = 'desert';"
   ]
  },
  {
   "cell_type": "code",
   "execution_count": null,
   "metadata": {},
   "outputs": [],
   "source": [
    "planets_df = pd.read_sql(\"SELECT * FROM planets\", connection)\n"
   ]
  },
  {
   "cell_type": "code",
   "execution_count": null,
   "metadata": {},
   "outputs": [],
   "source": [
    "charactersXplanets= characters_df[['name', 'species','homeworld']].merge(planets_df, left_on='homeworld', right_on='name')\n",
    "charactersXplanets"
   ]
  },
  {
   "cell_type": "markdown",
   "metadata": {},
   "source": [
    "Get a subset of the humans from the desert from merged data\n"
   ]
  },
  {
   "cell_type": "code",
   "execution_count": null,
   "metadata": {},
   "outputs": [],
   "source": [
    "charactersXplanets[(charactersXplanets['species'] == 'Human') & (charactersXplanets['terrain'] == 'desert')]\n"
   ]
  },
  {
   "cell_type": "code",
   "execution_count": null,
   "metadata": {},
   "outputs": [],
   "source": []
  },
  {
   "cell_type": "code",
   "execution_count": null,
   "metadata": {},
   "outputs": [],
   "source": []
  }
 ],
 "metadata": {
  "kernelspec": {
   "display_name": "data_env",
   "language": "python",
   "name": "python3"
  },
  "language_info": {
   "codemirror_mode": {
    "name": "ipython",
    "version": 3
   },
   "file_extension": ".py",
   "mimetype": "text/x-python",
   "name": "python",
   "nbconvert_exporter": "python",
   "pygments_lexer": "ipython3",
   "version": "3.10.16"
  }
 },
 "nbformat": 4,
 "nbformat_minor": 2
}

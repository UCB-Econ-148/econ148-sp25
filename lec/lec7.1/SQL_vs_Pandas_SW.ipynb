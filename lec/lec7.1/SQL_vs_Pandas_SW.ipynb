{
 "cells": [
  {
   "cell_type": "code",
   "execution_count": null,
   "metadata": {},
   "outputs": [],
   "source": [
    "#!pip install sqlalchemy jupysql"
   ]
  },
  {
   "cell_type": "markdown",
   "metadata": {},
   "source": [
    "##  SQL vs Pandas"
   ]
  },
  {
   "cell_type": "code",
   "execution_count": null,
   "metadata": {},
   "outputs": [],
   "source": [
    "import pandas as pd\n",
    "import numpy as np\n",
    "import sqlalchemy\n",
    "from pathlib import Path\n",
    "%load_ext sql"
   ]
  },
  {
   "cell_type": "code",
   "execution_count": null,
   "metadata": {},
   "outputs": [],
   "source": [
    "# Run this cell to connect to database\n",
    "engine = sqlalchemy.create_engine('sqlite:///starwars.db')\n",
    "connection = engine.connect()"
   ]
  },
  {
   "cell_type": "code",
   "execution_count": null,
   "metadata": {},
   "outputs": [],
   "source": [
    "%sql engine\n"
   ]
  },
  {
   "cell_type": "code",
   "execution_count": null,
   "metadata": {},
   "outputs": [],
   "source": [
    "%%sql\n",
    "SELECT * FROM sqlite_master WHERE type='table';"
   ]
  },
  {
   "cell_type": "code",
   "execution_count": null,
   "metadata": {},
   "outputs": [],
   "source": [
    "%%sql\n",
    "# Display the first 5 rows of characters table\n",
    "SELECT * FROM characters LIMIT 5;\n"
   ]
  },
  {
   "cell_type": "code",
   "execution_count": null,
   "metadata": {},
   "outputs": [],
   "source": [
    "# Read the table into a pandas DataFrame\n",
    "characters_df = pd.read_sql(\"SELECT * FROM characters\", connection)\n",
    "\n",
    "characters_df"
   ]
  },
  {
   "cell_type": "code",
   "execution_count": null,
   "metadata": {},
   "outputs": [],
   "source": [
    "characters_df.dtypes"
   ]
  },
  {
   "cell_type": "markdown",
   "metadata": {},
   "source": [
    "##  Lets compare some SQL to Pandas commands   \n",
    "\n",
    "Demo 1 - Select Data ( columns)"
   ]
  },
  {
   "cell_type": "code",
   "execution_count": null,
   "metadata": {},
   "outputs": [],
   "source": [
    "%sql SELECT name, species FROM characters"
   ]
  },
  {
   "cell_type": "markdown",
   "metadata": {},
   "source": [
    "and in Pandas"
   ]
  },
  {
   "cell_type": "code",
   "execution_count": null,
   "metadata": {},
   "outputs": [],
   "source": [
    "characters_df[['name', 'species']]"
   ]
  },
  {
   "cell_type": "markdown",
   "metadata": {},
   "source": [
    "Demo 2 - Filtering"
   ]
  },
  {
   "cell_type": "code",
   "execution_count": null,
   "metadata": {},
   "outputs": [],
   "source": [
    "%%sql\n",
    "SELECT * FROM characters\n",
    "WHERE  height > 200 AND species = 'Human'"
   ]
  },
  {
   "cell_type": "markdown",
   "metadata": {},
   "source": [
    "Oops that didn't work - because apparently height is a string and so the boolean about hieght didnt filter\n",
    "\n",
    "One approach is to ask SQL to treat that column as an integer\n",
    "\n",
    "`CAST()` is a SQL function that converts one data type into another. This is useful when a column is stored as text (TEXT or VARCHAR), but you need to perform numeric operations on it.\n"
   ]
  },
  {
   "cell_type": "code",
   "execution_count": null,
   "metadata": {},
   "outputs": [],
   "source": [
    "%%sql\n",
    "SELECT * FROM characters\n",
    "WHERE CAST(height AS INTEGER) > 200 \n",
    "AND species = 'Human';"
   ]
  },
  {
   "cell_type": "code",
   "execution_count": null,
   "metadata": {},
   "outputs": [],
   "source": [
    "characters_df"
   ]
  },
  {
   "cell_type": "markdown",
   "metadata": {},
   "source": [
    "in Pandas we also need to check the type of height - if it wasnt a float in SQL it probably isnt in Pandas"
   ]
  },
  {
   "cell_type": "code",
   "execution_count": null,
   "metadata": {},
   "outputs": [],
   "source": [
    "characters_df['height'].dtype"
   ]
  },
  {
   "cell_type": "markdown",
   "metadata": {},
   "source": [
    "convert height to numeric"
   ]
  },
  {
   "cell_type": "code",
   "execution_count": null,
   "metadata": {},
   "outputs": [],
   "source": [
    "characters_df['height'] = pd.to_numeric(characters_df['height'], errors='coerce')\n",
    "characters_df['height'].dtype"
   ]
  },
  {
   "cell_type": "code",
   "execution_count": null,
   "metadata": {},
   "outputs": [],
   "source": [
    "characters_df[(characters_df['height'] > 200) & (characters_df['species'] == 'Human')]"
   ]
  },
  {
   "cell_type": "markdown",
   "metadata": {},
   "source": [
    "Demo 3 - aggregate data\n",
    "\n",
    "Average height by species\n",
    "\n"
   ]
  },
  {
   "cell_type": "code",
   "execution_count": null,
   "metadata": {},
   "outputs": [],
   "source": [
    "%%sql\n",
    "SELECT species, AVG(CAST(height AS INTEGER)) AS avg_height\n",
    "FROM characters\n",
    "GROUP BY species;"
   ]
  },
  {
   "cell_type": "markdown",
   "metadata": {},
   "source": [
    "And in Pandas"
   ]
  },
  {
   "cell_type": "code",
   "execution_count": null,
   "metadata": {},
   "outputs": [],
   "source": [
    "species_avg_height = characters_df.groupby('species')['height'].mean()\n",
    "\n",
    "species_avg_height"
   ]
  },
  {
   "cell_type": "markdown",
   "metadata": {},
   "source": [
    "Demo 4 - \n",
    "\n",
    "4.1 Let's join two tables characters and planets\n",
    "\n",
    "4.2 Let's look for Humans from the desert"
   ]
  },
  {
   "cell_type": "code",
   "execution_count": null,
   "metadata": {},
   "outputs": [],
   "source": [
    "%%sql\n",
    "SELECT characters.name, planets.name AS homeworld\n",
    "FROM characters\n",
    "JOIN planets ON characters.homeworld = planets.name;"
   ]
  },
  {
   "cell_type": "code",
   "execution_count": null,
   "metadata": {},
   "outputs": [],
   "source": [
    "%%sql\n",
    "SELECT characters.name, characters.homeworld, characters.species, planets.climate, planets.population, planets.terrain\n",
    "FROM characters\n",
    "JOIN planets ON characters.homeworld = planets.name;"
   ]
  },
  {
   "cell_type": "code",
   "execution_count": null,
   "metadata": {},
   "outputs": [],
   "source": [
    "%%sql\n",
    "SELECT characters.name, characters.homeworld, characters.species, planets.climate, planets.population, planets.terrain\n",
    "FROM characters\n",
    "JOIN planets ON characters.homeworld = planets.name\n",
    "WHERE LOWER(characters.species) = 'human' \n",
    "AND LOWER(planets.terrain) = 'desert';"
   ]
  },
  {
   "cell_type": "code",
   "execution_count": null,
   "metadata": {},
   "outputs": [],
   "source": [
    "planets_df = pd.read_sql(\"SELECT * FROM planets\", connection)\n"
   ]
  },
  {
   "cell_type": "code",
   "execution_count": null,
   "metadata": {},
   "outputs": [],
   "source": [
    "charactersXplanets= characters_df[['name', 'species','homeworld']].merge(planets_df, left_on='homeworld', right_on='name')\n",
    "charactersXplanets"
   ]
  },
  {
   "cell_type": "markdown",
   "metadata": {},
   "source": [
    "Get a subset of the humans from the desert from merged data\n"
   ]
  },
  {
   "cell_type": "code",
   "execution_count": null,
   "metadata": {},
   "outputs": [],
   "source": [
    "charactersXplanets[(charactersXplanets['species'] == 'Human') & (charactersXplanets['terrain'] == 'desert')]\n"
   ]
  },
  {
   "cell_type": "markdown",
   "metadata": {},
   "source": [
    "Finally - Pandas does have a `.query()` command that is similar to sql"
   ]
  },
  {
   "cell_type": "code",
   "execution_count": 168,
   "metadata": {},
   "outputs": [
    {
     "data": {
      "text/html": [
       "<div>\n",
       "<style scoped>\n",
       "    .dataframe tbody tr th:only-of-type {\n",
       "        vertical-align: middle;\n",
       "    }\n",
       "\n",
       "    .dataframe tbody tr th {\n",
       "        vertical-align: top;\n",
       "    }\n",
       "\n",
       "    .dataframe thead th {\n",
       "        text-align: right;\n",
       "    }\n",
       "</style>\n",
       "<table border=\"1\" class=\"dataframe\">\n",
       "  <thead>\n",
       "    <tr style=\"text-align: right;\">\n",
       "      <th></th>\n",
       "      <th>name</th>\n",
       "      <th>height</th>\n",
       "      <th>mass</th>\n",
       "      <th>hair_color</th>\n",
       "      <th>skin_color</th>\n",
       "      <th>eye_color</th>\n",
       "      <th>birth_year</th>\n",
       "      <th>gender</th>\n",
       "      <th>homeworld</th>\n",
       "      <th>species</th>\n",
       "    </tr>\n",
       "  </thead>\n",
       "  <tbody>\n",
       "    <tr>\n",
       "      <th>0</th>\n",
       "      <td>Luke Skywalker</td>\n",
       "      <td>172.0</td>\n",
       "      <td>77</td>\n",
       "      <td>blond</td>\n",
       "      <td>fair</td>\n",
       "      <td>blue</td>\n",
       "      <td>19BBY</td>\n",
       "      <td>male</td>\n",
       "      <td>Tatooine</td>\n",
       "      <td>Human</td>\n",
       "    </tr>\n",
       "    <tr>\n",
       "      <th>3</th>\n",
       "      <td>Darth Vader</td>\n",
       "      <td>202.0</td>\n",
       "      <td>136</td>\n",
       "      <td>none</td>\n",
       "      <td>white</td>\n",
       "      <td>yellow</td>\n",
       "      <td>41.9BBY</td>\n",
       "      <td>male</td>\n",
       "      <td>Tatooine</td>\n",
       "      <td>Human</td>\n",
       "    </tr>\n",
       "    <tr>\n",
       "      <th>5</th>\n",
       "      <td>Owen Lars</td>\n",
       "      <td>178.0</td>\n",
       "      <td>120</td>\n",
       "      <td>brown, grey</td>\n",
       "      <td>light</td>\n",
       "      <td>blue</td>\n",
       "      <td>52BBY</td>\n",
       "      <td>male</td>\n",
       "      <td>Tatooine</td>\n",
       "      <td>Human</td>\n",
       "    </tr>\n",
       "    <tr>\n",
       "      <th>6</th>\n",
       "      <td>Beru Whitesun lars</td>\n",
       "      <td>165.0</td>\n",
       "      <td>75</td>\n",
       "      <td>brown</td>\n",
       "      <td>light</td>\n",
       "      <td>blue</td>\n",
       "      <td>47BBY</td>\n",
       "      <td>female</td>\n",
       "      <td>Tatooine</td>\n",
       "      <td>Human</td>\n",
       "    </tr>\n",
       "    <tr>\n",
       "      <th>8</th>\n",
       "      <td>Biggs Darklighter</td>\n",
       "      <td>183.0</td>\n",
       "      <td>84</td>\n",
       "      <td>black</td>\n",
       "      <td>light</td>\n",
       "      <td>brown</td>\n",
       "      <td>24BBY</td>\n",
       "      <td>male</td>\n",
       "      <td>Tatooine</td>\n",
       "      <td>Human</td>\n",
       "    </tr>\n",
       "    <tr>\n",
       "      <th>10</th>\n",
       "      <td>Anakin Skywalker</td>\n",
       "      <td>188.0</td>\n",
       "      <td>84</td>\n",
       "      <td>blond</td>\n",
       "      <td>fair</td>\n",
       "      <td>blue</td>\n",
       "      <td>41.9BBY</td>\n",
       "      <td>male</td>\n",
       "      <td>Tatooine</td>\n",
       "      <td>Human</td>\n",
       "    </tr>\n",
       "    <tr>\n",
       "      <th>40</th>\n",
       "      <td>Shmi Skywalker</td>\n",
       "      <td>163.0</td>\n",
       "      <td>NA</td>\n",
       "      <td>black</td>\n",
       "      <td>fair</td>\n",
       "      <td>brown</td>\n",
       "      <td>72BBY</td>\n",
       "      <td>female</td>\n",
       "      <td>Tatooine</td>\n",
       "      <td>Human</td>\n",
       "    </tr>\n",
       "    <tr>\n",
       "      <th>58</th>\n",
       "      <td>Cliegg Lars</td>\n",
       "      <td>183.0</td>\n",
       "      <td>NA</td>\n",
       "      <td>brown</td>\n",
       "      <td>fair</td>\n",
       "      <td>blue</td>\n",
       "      <td>82BBY</td>\n",
       "      <td>male</td>\n",
       "      <td>Tatooine</td>\n",
       "      <td>Human</td>\n",
       "    </tr>\n",
       "  </tbody>\n",
       "</table>\n",
       "</div>"
      ],
      "text/plain": [
       "                  name  height mass   hair_color skin_color eye_color  \\\n",
       "0       Luke Skywalker   172.0   77        blond       fair      blue   \n",
       "3          Darth Vader   202.0  136         none      white    yellow   \n",
       "5            Owen Lars   178.0  120  brown, grey      light      blue   \n",
       "6   Beru Whitesun lars   165.0   75        brown      light      blue   \n",
       "8    Biggs Darklighter   183.0   84        black      light     brown   \n",
       "10    Anakin Skywalker   188.0   84        blond       fair      blue   \n",
       "40      Shmi Skywalker   163.0   NA        black       fair     brown   \n",
       "58         Cliegg Lars   183.0   NA        brown       fair      blue   \n",
       "\n",
       "   birth_year  gender homeworld species  \n",
       "0       19BBY    male  Tatooine   Human  \n",
       "3     41.9BBY    male  Tatooine   Human  \n",
       "5       52BBY    male  Tatooine   Human  \n",
       "6       47BBY  female  Tatooine   Human  \n",
       "8       24BBY    male  Tatooine   Human  \n",
       "10    41.9BBY    male  Tatooine   Human  \n",
       "40      72BBY  female  Tatooine   Human  \n",
       "58      82BBY    male  Tatooine   Human  "
      ]
     },
     "execution_count": 168,
     "metadata": {},
     "output_type": "execute_result"
    }
   ],
   "source": [
    "# use .query \n",
    "human_tatooine_df = characters_df.query(\"species == 'Human' and homeworld == 'Tatooine'\")\n",
    "human_tatooine_df"
   ]
  },
  {
   "cell_type": "code",
   "execution_count": 169,
   "metadata": {},
   "outputs": [
    {
     "data": {
      "text/html": [
       "<div>\n",
       "<style scoped>\n",
       "    .dataframe tbody tr th:only-of-type {\n",
       "        vertical-align: middle;\n",
       "    }\n",
       "\n",
       "    .dataframe tbody tr th {\n",
       "        vertical-align: top;\n",
       "    }\n",
       "\n",
       "    .dataframe thead th {\n",
       "        text-align: right;\n",
       "    }\n",
       "</style>\n",
       "<table border=\"1\" class=\"dataframe\">\n",
       "  <thead>\n",
       "    <tr style=\"text-align: right;\">\n",
       "      <th></th>\n",
       "      <th>name</th>\n",
       "      <th>height</th>\n",
       "      <th>mass</th>\n",
       "      <th>hair_color</th>\n",
       "      <th>skin_color</th>\n",
       "      <th>eye_color</th>\n",
       "      <th>birth_year</th>\n",
       "      <th>gender</th>\n",
       "      <th>homeworld</th>\n",
       "      <th>species</th>\n",
       "    </tr>\n",
       "  </thead>\n",
       "  <tbody>\n",
       "    <tr>\n",
       "      <th>1</th>\n",
       "      <td>C-3PO</td>\n",
       "      <td>167.0</td>\n",
       "      <td>75</td>\n",
       "      <td>NA</td>\n",
       "      <td>gold</td>\n",
       "      <td>yellow</td>\n",
       "      <td>112BBY</td>\n",
       "      <td>NA</td>\n",
       "      <td>Tatooine</td>\n",
       "      <td>Droid</td>\n",
       "    </tr>\n",
       "    <tr>\n",
       "      <th>2</th>\n",
       "      <td>R2-D2</td>\n",
       "      <td>96.0</td>\n",
       "      <td>32</td>\n",
       "      <td>NA</td>\n",
       "      <td>white, blue</td>\n",
       "      <td>red</td>\n",
       "      <td>33BBY</td>\n",
       "      <td>NA</td>\n",
       "      <td>Naboo</td>\n",
       "      <td>Droid</td>\n",
       "    </tr>\n",
       "    <tr>\n",
       "      <th>7</th>\n",
       "      <td>R5-D4</td>\n",
       "      <td>97.0</td>\n",
       "      <td>32</td>\n",
       "      <td>NA</td>\n",
       "      <td>white, red</td>\n",
       "      <td>red</td>\n",
       "      <td>NA</td>\n",
       "      <td>NA</td>\n",
       "      <td>Tatooine</td>\n",
       "      <td>Droid</td>\n",
       "    </tr>\n",
       "    <tr>\n",
       "      <th>21</th>\n",
       "      <td>IG-88</td>\n",
       "      <td>200.0</td>\n",
       "      <td>140</td>\n",
       "      <td>none</td>\n",
       "      <td>metal</td>\n",
       "      <td>red</td>\n",
       "      <td>15BBY</td>\n",
       "      <td>none</td>\n",
       "      <td>NA</td>\n",
       "      <td>Droid</td>\n",
       "    </tr>\n",
       "    <tr>\n",
       "      <th>84</th>\n",
       "      <td>BB8</td>\n",
       "      <td>NaN</td>\n",
       "      <td>NA</td>\n",
       "      <td>none</td>\n",
       "      <td>none</td>\n",
       "      <td>black</td>\n",
       "      <td>NA</td>\n",
       "      <td>none</td>\n",
       "      <td>NA</td>\n",
       "      <td>Droid</td>\n",
       "    </tr>\n",
       "  </tbody>\n",
       "</table>\n",
       "</div>"
      ],
      "text/plain": [
       "     name  height mass hair_color   skin_color eye_color birth_year gender  \\\n",
       "1   C-3PO   167.0   75         NA         gold    yellow     112BBY     NA   \n",
       "2   R2-D2    96.0   32         NA  white, blue       red      33BBY     NA   \n",
       "7   R5-D4    97.0   32         NA   white, red       red         NA     NA   \n",
       "21  IG-88   200.0  140       none        metal       red      15BBY   none   \n",
       "84    BB8     NaN   NA       none         none     black         NA   none   \n",
       "\n",
       "   homeworld species  \n",
       "1   Tatooine   Droid  \n",
       "2      Naboo   Droid  \n",
       "7   Tatooine   Droid  \n",
       "21        NA   Droid  \n",
       "84        NA   Droid  "
      ]
     },
     "execution_count": 169,
     "metadata": {},
     "output_type": "execute_result"
    }
   ],
   "source": [
    "droid_df = characters_df.query(\"species == 'Droid'\")\n",
    "droid_df"
   ]
  },
  {
   "cell_type": "code",
   "execution_count": 170,
   "metadata": {},
   "outputs": [
    {
     "data": {
      "text/html": [
       "<div>\n",
       "<style scoped>\n",
       "    .dataframe tbody tr th:only-of-type {\n",
       "        vertical-align: middle;\n",
       "    }\n",
       "\n",
       "    .dataframe tbody tr th {\n",
       "        vertical-align: top;\n",
       "    }\n",
       "\n",
       "    .dataframe thead th {\n",
       "        text-align: right;\n",
       "    }\n",
       "</style>\n",
       "<table border=\"1\" class=\"dataframe\">\n",
       "  <thead>\n",
       "    <tr style=\"text-align: right;\">\n",
       "      <th></th>\n",
       "      <th>name</th>\n",
       "      <th>height</th>\n",
       "      <th>mass</th>\n",
       "      <th>hair_color</th>\n",
       "      <th>skin_color</th>\n",
       "      <th>eye_color</th>\n",
       "      <th>birth_year</th>\n",
       "      <th>gender</th>\n",
       "      <th>homeworld</th>\n",
       "      <th>species</th>\n",
       "    </tr>\n",
       "  </thead>\n",
       "  <tbody>\n",
       "    <tr>\n",
       "      <th>1</th>\n",
       "      <td>C-3PO</td>\n",
       "      <td>167.0</td>\n",
       "      <td>75</td>\n",
       "      <td>NA</td>\n",
       "      <td>gold</td>\n",
       "      <td>yellow</td>\n",
       "      <td>112BBY</td>\n",
       "      <td>NA</td>\n",
       "      <td>Tatooine</td>\n",
       "      <td>Droid</td>\n",
       "    </tr>\n",
       "    <tr>\n",
       "      <th>7</th>\n",
       "      <td>R5-D4</td>\n",
       "      <td>97.0</td>\n",
       "      <td>32</td>\n",
       "      <td>NA</td>\n",
       "      <td>white, red</td>\n",
       "      <td>red</td>\n",
       "      <td>NA</td>\n",
       "      <td>NA</td>\n",
       "      <td>Tatooine</td>\n",
       "      <td>Droid</td>\n",
       "    </tr>\n",
       "  </tbody>\n",
       "</table>\n",
       "</div>"
      ],
      "text/plain": [
       "    name  height mass hair_color  skin_color eye_color birth_year gender  \\\n",
       "1  C-3PO   167.0   75         NA        gold    yellow     112BBY     NA   \n",
       "7  R5-D4    97.0   32         NA  white, red       red         NA     NA   \n",
       "\n",
       "  homeworld species  \n",
       "1  Tatooine   Droid  \n",
       "7  Tatooine   Droid  "
      ]
     },
     "execution_count": 170,
     "metadata": {},
     "output_type": "execute_result"
    }
   ],
   "source": [
    "droid_tattoine_df = characters_df.query(\"species == 'Droid' and homeworld == 'Tatooine'\")\n",
    "droid_tattoine_df"
   ]
  },
  {
   "cell_type": "code",
   "execution_count": 171,
   "metadata": {},
   "outputs": [
    {
     "data": {
      "text/html": [
       "<span style=\"None\">Running query in &#x27;sqlite:///starwars.db&#x27;</span>"
      ],
      "text/plain": [
       "Running query in 'sqlite:///starwars.db'"
      ]
     },
     "metadata": {},
     "output_type": "display_data"
    },
    {
     "data": {
      "text/html": [
       "<table>\n",
       "    <thead>\n",
       "        <tr>\n",
       "            <th>name</th>\n",
       "            <th>height</th>\n",
       "            <th>mass</th>\n",
       "            <th>hair_color</th>\n",
       "            <th>skin_color</th>\n",
       "            <th>eye_color</th>\n",
       "            <th>birth_year</th>\n",
       "            <th>gender</th>\n",
       "            <th>homeworld</th>\n",
       "            <th>species</th>\n",
       "        </tr>\n",
       "    </thead>\n",
       "    <tbody>\n",
       "        <tr>\n",
       "            <td>Luke Skywalker</td>\n",
       "            <td>172</td>\n",
       "            <td>77</td>\n",
       "            <td>blond</td>\n",
       "            <td>fair</td>\n",
       "            <td>blue</td>\n",
       "            <td>19BBY</td>\n",
       "            <td>male</td>\n",
       "            <td>Tatooine</td>\n",
       "            <td>Human</td>\n",
       "        </tr>\n",
       "        <tr>\n",
       "            <td>Darth Vader</td>\n",
       "            <td>202</td>\n",
       "            <td>136</td>\n",
       "            <td>none</td>\n",
       "            <td>white</td>\n",
       "            <td>yellow</td>\n",
       "            <td>41.9BBY</td>\n",
       "            <td>male</td>\n",
       "            <td>Tatooine</td>\n",
       "            <td>Human</td>\n",
       "        </tr>\n",
       "        <tr>\n",
       "            <td>Owen Lars</td>\n",
       "            <td>178</td>\n",
       "            <td>120</td>\n",
       "            <td>brown, grey</td>\n",
       "            <td>light</td>\n",
       "            <td>blue</td>\n",
       "            <td>52BBY</td>\n",
       "            <td>male</td>\n",
       "            <td>Tatooine</td>\n",
       "            <td>Human</td>\n",
       "        </tr>\n",
       "        <tr>\n",
       "            <td>Beru Whitesun lars</td>\n",
       "            <td>165</td>\n",
       "            <td>75</td>\n",
       "            <td>brown</td>\n",
       "            <td>light</td>\n",
       "            <td>blue</td>\n",
       "            <td>47BBY</td>\n",
       "            <td>female</td>\n",
       "            <td>Tatooine</td>\n",
       "            <td>Human</td>\n",
       "        </tr>\n",
       "        <tr>\n",
       "            <td>Biggs Darklighter</td>\n",
       "            <td>183</td>\n",
       "            <td>84</td>\n",
       "            <td>black</td>\n",
       "            <td>light</td>\n",
       "            <td>brown</td>\n",
       "            <td>24BBY</td>\n",
       "            <td>male</td>\n",
       "            <td>Tatooine</td>\n",
       "            <td>Human</td>\n",
       "        </tr>\n",
       "        <tr>\n",
       "            <td>Anakin Skywalker</td>\n",
       "            <td>188</td>\n",
       "            <td>84</td>\n",
       "            <td>blond</td>\n",
       "            <td>fair</td>\n",
       "            <td>blue</td>\n",
       "            <td>41.9BBY</td>\n",
       "            <td>male</td>\n",
       "            <td>Tatooine</td>\n",
       "            <td>Human</td>\n",
       "        </tr>\n",
       "        <tr>\n",
       "            <td>Shmi Skywalker</td>\n",
       "            <td>163</td>\n",
       "            <td>NA</td>\n",
       "            <td>black</td>\n",
       "            <td>fair</td>\n",
       "            <td>brown</td>\n",
       "            <td>72BBY</td>\n",
       "            <td>female</td>\n",
       "            <td>Tatooine</td>\n",
       "            <td>Human</td>\n",
       "        </tr>\n",
       "        <tr>\n",
       "            <td>Cliegg Lars</td>\n",
       "            <td>183</td>\n",
       "            <td>NA</td>\n",
       "            <td>brown</td>\n",
       "            <td>fair</td>\n",
       "            <td>blue</td>\n",
       "            <td>82BBY</td>\n",
       "            <td>male</td>\n",
       "            <td>Tatooine</td>\n",
       "            <td>Human</td>\n",
       "        </tr>\n",
       "    </tbody>\n",
       "</table>"
      ],
      "text/plain": [
       "+--------------------+--------+------+-------------+------------+-----------+------------+--------+-----------+---------+\n",
       "|        name        | height | mass |  hair_color | skin_color | eye_color | birth_year | gender | homeworld | species |\n",
       "+--------------------+--------+------+-------------+------------+-----------+------------+--------+-----------+---------+\n",
       "|   Luke Skywalker   |  172   |  77  |    blond    |    fair    |    blue   |   19BBY    |  male  |  Tatooine |  Human  |\n",
       "|    Darth Vader     |  202   | 136  |     none    |   white    |   yellow  |  41.9BBY   |  male  |  Tatooine |  Human  |\n",
       "|     Owen Lars      |  178   | 120  | brown, grey |   light    |    blue   |   52BBY    |  male  |  Tatooine |  Human  |\n",
       "| Beru Whitesun lars |  165   |  75  |    brown    |   light    |    blue   |   47BBY    | female |  Tatooine |  Human  |\n",
       "| Biggs Darklighter  |  183   |  84  |    black    |   light    |   brown   |   24BBY    |  male  |  Tatooine |  Human  |\n",
       "|  Anakin Skywalker  |  188   |  84  |    blond    |    fair    |    blue   |  41.9BBY   |  male  |  Tatooine |  Human  |\n",
       "|   Shmi Skywalker   |  163   |  NA  |    black    |    fair    |   brown   |   72BBY    | female |  Tatooine |  Human  |\n",
       "|    Cliegg Lars     |  183   |  NA  |    brown    |    fair    |    blue   |   82BBY    |  male  |  Tatooine |  Human  |\n",
       "+--------------------+--------+------+-------------+------------+-----------+------------+--------+-----------+---------+"
      ]
     },
     "execution_count": 171,
     "metadata": {},
     "output_type": "execute_result"
    }
   ],
   "source": [
    "%sql SELECT * FROM characters WHERE species = 'Human' AND homeworld = 'Tatooine';"
   ]
  },
  {
   "cell_type": "code",
   "execution_count": 172,
   "metadata": {},
   "outputs": [
    {
     "data": {
      "text/html": [
       "<span style=\"None\">Running query in &#x27;sqlite:///starwars.db&#x27;</span>"
      ],
      "text/plain": [
       "Running query in 'sqlite:///starwars.db'"
      ]
     },
     "metadata": {},
     "output_type": "display_data"
    },
    {
     "data": {
      "text/html": [
       "<table>\n",
       "    <thead>\n",
       "        <tr>\n",
       "            <th>name</th>\n",
       "            <th>height</th>\n",
       "            <th>mass</th>\n",
       "            <th>hair_color</th>\n",
       "            <th>skin_color</th>\n",
       "            <th>eye_color</th>\n",
       "            <th>birth_year</th>\n",
       "            <th>gender</th>\n",
       "            <th>homeworld</th>\n",
       "            <th>species</th>\n",
       "        </tr>\n",
       "    </thead>\n",
       "    <tbody>\n",
       "        <tr>\n",
       "            <td>C-3PO</td>\n",
       "            <td>167</td>\n",
       "            <td>75</td>\n",
       "            <td>NA</td>\n",
       "            <td>gold</td>\n",
       "            <td>yellow</td>\n",
       "            <td>112BBY</td>\n",
       "            <td>NA</td>\n",
       "            <td>Tatooine</td>\n",
       "            <td>Droid</td>\n",
       "        </tr>\n",
       "        <tr>\n",
       "            <td>R5-D4</td>\n",
       "            <td>97</td>\n",
       "            <td>32</td>\n",
       "            <td>NA</td>\n",
       "            <td>white, red</td>\n",
       "            <td>red</td>\n",
       "            <td>NA</td>\n",
       "            <td>NA</td>\n",
       "            <td>Tatooine</td>\n",
       "            <td>Droid</td>\n",
       "        </tr>\n",
       "    </tbody>\n",
       "</table>"
      ],
      "text/plain": [
       "+-------+--------+------+------------+------------+-----------+------------+--------+-----------+---------+\n",
       "|  name | height | mass | hair_color | skin_color | eye_color | birth_year | gender | homeworld | species |\n",
       "+-------+--------+------+------------+------------+-----------+------------+--------+-----------+---------+\n",
       "| C-3PO |  167   |  75  |     NA     |    gold    |   yellow  |   112BBY   |   NA   |  Tatooine |  Droid  |\n",
       "| R5-D4 |   97   |  32  |     NA     | white, red |    red    |     NA     |   NA   |  Tatooine |  Droid  |\n",
       "+-------+--------+------+------------+------------+-----------+------------+--------+-----------+---------+"
      ]
     },
     "execution_count": 172,
     "metadata": {},
     "output_type": "execute_result"
    }
   ],
   "source": [
    "%sql SELECT * FROM characters WHERE species = 'Droid' AND homeworld = 'Tatooine';"
   ]
  },
  {
   "cell_type": "code",
   "execution_count": null,
   "metadata": {},
   "outputs": [],
   "source": []
  }
 ],
 "metadata": {
  "kernelspec": {
   "display_name": "data_env",
   "language": "python",
   "name": "python3"
  },
  "language_info": {
   "codemirror_mode": {
    "name": "ipython",
    "version": 3
   },
   "file_extension": ".py",
   "mimetype": "text/x-python",
   "name": "python",
   "nbconvert_exporter": "python",
   "pygments_lexer": "ipython3",
   "version": "3.10.16"
  }
 },
 "nbformat": 4,
 "nbformat_minor": 2
}

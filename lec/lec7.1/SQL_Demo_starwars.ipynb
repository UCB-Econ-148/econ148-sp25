{
 "cells": [
  {
   "cell_type": "code",
   "execution_count": null,
   "id": "ce36dae6",
   "metadata": {},
   "outputs": [],
   "source": [
    "#!pip install sqlalchemy jupysql"
   ]
  },
  {
   "cell_type": "code",
   "execution_count": null,
   "id": "46695aa8-803b-4116-857e-f444b425e573",
   "metadata": {},
   "outputs": [],
   "source": [
    "import pandas as pd\n",
    "import numpy as np\n",
    "import sqlalchemy\n",
    "from pathlib import Path\n",
    "%load_ext sql"
   ]
  },
  {
   "cell_type": "code",
   "execution_count": null,
   "id": "31ffa00c-21df-4b8e-a6a7-261a1a0b87b6",
   "metadata": {},
   "outputs": [],
   "source": [
    "# Run this cell to connect to database\n",
    "engine = sqlalchemy.create_engine('sqlite:///starwars.db')\n",
    "connection = engine.connect()"
   ]
  },
  {
   "cell_type": "code",
   "execution_count": null,
   "id": "d7936495-5ba2-4bdf-bce7-669723b31a73",
   "metadata": {},
   "outputs": [],
   "source": [
    "%sql engine\n"
   ]
  },
  {
   "cell_type": "code",
   "execution_count": null,
   "id": "e5661132-620a-4642-9cef-b7fb355cafdb",
   "metadata": {},
   "outputs": [],
   "source": [
    "%%sql\n",
    "SELECT * FROM sqlite_master WHERE type='table';"
   ]
  },
  {
   "cell_type": "code",
   "execution_count": null,
   "id": "7315cf75-ff05-4f5d-b251-7e94bb2a87b4",
   "metadata": {},
   "outputs": [],
   "source": [
    "%sql SELECT * FROM characters;\n"
   ]
  },
  {
   "cell_type": "code",
   "execution_count": null,
   "id": "0a57c471-8a7f-4d5e-808a-760b27bdafeb",
   "metadata": {},
   "outputs": [],
   "source": [
    "%sql PRAGMA table_info(characters);\n"
   ]
  },
  {
   "cell_type": "code",
   "execution_count": null,
   "id": "c1915c80-bb1f-4593-9a37-05eec515c19e",
   "metadata": {},
   "outputs": [],
   "source": [
    "%sql SELECT * FROM characters WHERE gender = 'female'\n"
   ]
  },
  {
   "cell_type": "code",
   "execution_count": null,
   "id": "30b3aa12-2a9d-4b2c-9315-dd8760d24292",
   "metadata": {},
   "outputs": [],
   "source": [
    "%%sql results_female <<\n",
    "SELECT * \n",
    "FROM characters WHERE gender = 'female'"
   ]
  },
  {
   "cell_type": "code",
   "execution_count": null,
   "id": "11dd32ad-c4c5-4de3-9339-d09006b22efa",
   "metadata": {
    "scrolled": true
   },
   "outputs": [],
   "source": [
    "results_female"
   ]
  },
  {
   "cell_type": "code",
   "execution_count": null,
   "id": "2c9e0eea-d5a5-4ca4-91d9-ca28bc038a16",
   "metadata": {
    "jupyter": {
     "source_hidden": true
    }
   },
   "outputs": [],
   "source": [
    "results_female.DataFrame()"
   ]
  },
  {
   "cell_type": "code",
   "execution_count": null,
   "id": "6e4344a1-c4c7-405a-a1a2-0dee8af0b969",
   "metadata": {},
   "outputs": [],
   "source": [
    "df_female = results_female.DataFrame()\n",
    "df_female.head()"
   ]
  },
  {
   "cell_type": "code",
   "execution_count": null,
   "id": "6ac13c2d-41d4-4394-97de-9b1be81aef0f",
   "metadata": {},
   "outputs": [],
   "source": [
    "%sql SELECT name, birth_year FROM characters ORDER BY birth_year;\n"
   ]
  },
  {
   "cell_type": "code",
   "execution_count": null,
   "id": "153ad65a",
   "metadata": {},
   "outputs": [],
   "source": [
    "%%sql\n",
    "SELECT name, birth_year \n",
    "FROM characters \n",
    "WHERE birth_year LIKE '%BBY'\n",
    "ORDER BY CAST(REPLACE(birth_year, 'BBY', '') AS INTEGER)  DESC;"
   ]
  },
  {
   "cell_type": "code",
   "execution_count": null,
   "id": "2f319cbd",
   "metadata": {},
   "outputs": [],
   "source": [
    "%%sql\n",
    "SELECT name, birth_year\n",
    "FROM characters \n",
    "WHERE birth_year LIKE '%ABY';"
   ]
  },
  {
   "cell_type": "code",
   "execution_count": null,
   "id": "54fd41d1-e16c-4d9e-a4d7-492852248a5a",
   "metadata": {},
   "outputs": [],
   "source": [
    "%%sql\n",
    "SELECT characters.name, species.name\n",
    "FROM characters\n",
    "JOIN species ON characters.species = species.name;"
   ]
  },
  {
   "cell_type": "code",
   "execution_count": null,
   "id": "6e2d031d-c151-4fa4-a076-f9bbbea7eee2",
   "metadata": {},
   "outputs": [],
   "source": [
    "%sql PRAGMA table_info(characters);\n",
    "\n"
   ]
  },
  {
   "cell_type": "code",
   "execution_count": null,
   "id": "4c157bc6-df94-44ae-87b3-dcfc12fd09ae",
   "metadata": {},
   "outputs": [],
   "source": [
    "%%sql\n",
    "SELECT characters.name, species.name\n",
    "FROM characters\n",
    "JOIN species ON characters.species = species.name;\n"
   ]
  },
  {
   "cell_type": "code",
   "execution_count": null,
   "id": "c2bb9023-fcc8-4d4a-88ce-cac2c8d4cdb1",
   "metadata": {},
   "outputs": [],
   "source": [
    "%sql SELECT * FROM starships"
   ]
  },
  {
   "cell_type": "code",
   "execution_count": null,
   "id": "f3e0d99e-4ce6-4ca6-a043-968503637edf",
   "metadata": {},
   "outputs": [],
   "source": [
    "%sql SELECT name, model, cost_in_credits FROM starships WHERE cost_in_credits < 200000;\n"
   ]
  },
  {
   "cell_type": "code",
   "execution_count": null,
   "id": "abd3127e-ff49-445c-b94c-4b3a6a9c7810",
   "metadata": {},
   "outputs": [],
   "source": [
    "%sql SELECT name, model, cost_in_credits FROM starships WHERE CAST(cost_in_credits AS INTEGER) < 200000;\n"
   ]
  },
  {
   "cell_type": "code",
   "execution_count": null,
   "id": "d8da7614-568d-4b4a-b0df-d56d51ead54b",
   "metadata": {},
   "outputs": [],
   "source": [
    "%sql SELECT name, model, cost_in_credits FROM starships WHERE cost_in_credits = 'NA';\n"
   ]
  },
  {
   "cell_type": "code",
   "execution_count": null,
   "id": "60e55473-b973-4ef3-8b98-d7cb3e439ad1",
   "metadata": {},
   "outputs": [],
   "source": [
    "%sql SELECT COUNT(*) AS num_nas FROM starships WHERE cost_in_credits = 'NA';\n"
   ]
  },
  {
   "cell_type": "code",
   "execution_count": null,
   "id": "1b851fd2-fc9c-41cd-b2d4-d7f921b7ce59",
   "metadata": {},
   "outputs": [],
   "source": [
    "%sql SELECT COUNT(*) AS total_characters FROM characters;\n"
   ]
  },
  {
   "cell_type": "code",
   "execution_count": null,
   "id": "cafc46f3-86b9-4d7f-8ddc-dc96970b6ad9",
   "metadata": {},
   "outputs": [],
   "source": [
    "%%sql\n",
    "SELECT gender, COUNT(*) AS number_of_characters\n",
    "FROM characters\n",
    "GROUP BY gender\n",
    "\n"
   ]
  },
  {
   "cell_type": "code",
   "execution_count": null,
   "id": "954942a1-f49d-4116-b68c-4ba67cc05d33",
   "metadata": {},
   "outputs": [],
   "source": [
    "%%sql\n",
    "SELECT species, COUNT(*) AS num_characters\n",
    "FROM characters\n",
    "GROUP BY species\n",
    "ORDER BY num_characters DESC;\n"
   ]
  },
  {
   "cell_type": "code",
   "execution_count": null,
   "id": "1a3df343-b534-4754-9673-89e907ffc20c",
   "metadata": {},
   "outputs": [],
   "source": [
    "%%sql\n",
    "select * from planets"
   ]
  },
  {
   "cell_type": "code",
   "execution_count": null,
   "id": "0a218ccc-508e-4cd4-bb30-cbd2731a123b",
   "metadata": {},
   "outputs": [],
   "source": [
    "%%sql\n",
    "SELECT name, climate, population \n",
    "FROM planets\n",
    "WHERE name IN ('Naboo', 'Kamino');\n"
   ]
  },
  {
   "cell_type": "code",
   "execution_count": null,
   "id": "fe9d1831-0bf4-4f5a-91cf-2844d74e6929",
   "metadata": {},
   "outputs": [],
   "source": [
    "%%sql\n",
    "SELECT name, rotation_period, diameter \n",
    "FROM planets \n",
    "WHERE rotation_period > 20 AND diameter > 10000;\n"
   ]
  },
  {
   "cell_type": "code",
   "execution_count": null,
   "id": "72285d65",
   "metadata": {},
   "outputs": [],
   "source": [
    "%sql SELECT * FROM starships LIMIT 10;\n"
   ]
  },
  {
   "cell_type": "code",
   "execution_count": null,
   "id": "2140d4d7",
   "metadata": {},
   "outputs": [],
   "source": [
    "%sql SELECT * FROM starships WHERE name = 'x-wing';\n"
   ]
  },
  {
   "cell_type": "code",
   "execution_count": null,
   "id": "dbd96fab",
   "metadata": {},
   "outputs": [],
   "source": [
    "%sql SELECT * FROM starships WHERE name LIKE '%X%';\n"
   ]
  },
  {
   "cell_type": "code",
   "execution_count": null,
   "id": "847c1648",
   "metadata": {},
   "outputs": [],
   "source": [
    "%sql SELECT * FROM starships WHERE LOWER(name) = 'x-wing';\n"
   ]
  },
  {
   "cell_type": "code",
   "execution_count": null,
   "id": "b5e6a64c-3b68-46a5-8d75-6ea67a609b7e",
   "metadata": {},
   "outputs": [],
   "source": [
    "\n"
   ]
  }
 ],
 "metadata": {
  "kernelspec": {
   "display_name": "data_env",
   "language": "python",
   "name": "python3"
  },
  "language_info": {
   "codemirror_mode": {
    "name": "ipython",
    "version": 3
   },
   "file_extension": ".py",
   "mimetype": "text/x-python",
   "name": "python",
   "nbconvert_exporter": "python",
   "pygments_lexer": "ipython3",
   "version": "3.10.16"
  }
 },
 "nbformat": 4,
 "nbformat_minor": 5
}

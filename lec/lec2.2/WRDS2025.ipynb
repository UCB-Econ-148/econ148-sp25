{
 "cells": [
  {
   "cell_type": "markdown",
   "id": "269f00a7",
   "metadata": {},
   "source": [
    "# Using Jupyter to Query the WRDS Database"
   ]
  },
  {
   "cell_type": "code",
   "execution_count": 30,
   "id": "a0cf1e7a",
   "metadata": {},
   "outputs": [],
   "source": [
    "## This notebook provides an introduction to installing and importing WRDS and some sample queries to explore available data sets.\n",
    "## Register for an account at https://wrds-www.wharton.upenn.edu/"
   ]
  },
  {
   "cell_type": "code",
   "execution_count": 31,
   "id": "4d4ae5dd",
   "metadata": {},
   "outputs": [],
   "source": [
    "## The following installs and imports WRDS "
   ]
  },
  {
   "cell_type": "code",
   "execution_count": null,
   "id": "d4e3d43f",
   "metadata": {
    "scrolled": true
   },
   "outputs": [],
   "source": [
    "!pip install wrds"
   ]
  },
  {
   "cell_type": "code",
   "execution_count": 33,
   "id": "515032a3",
   "metadata": {},
   "outputs": [],
   "source": [
    "import wrds"
   ]
  },
  {
   "cell_type": "code",
   "execution_count": 34,
   "id": "235330c2",
   "metadata": {},
   "outputs": [],
   "source": [
    "## The following defines the function of your WRDS connection.You can replace \"fx\" with any text. \n",
    "## Login with your WRDS username and password when prompted. Creating a .pgpass file is recommended."
   ]
  },
  {
   "cell_type": "code",
   "execution_count": null,
   "id": "4b35f27a",
   "metadata": {
    "scrolled": true
   },
   "outputs": [],
   "source": [
    "fx = wrds.Connection()"
   ]
  },
  {
   "cell_type": "code",
   "execution_count": 36,
   "id": "527ef9fb",
   "metadata": {},
   "outputs": [],
   "source": [
    "## This imports a few commonly used python libraries."
   ]
  },
  {
   "cell_type": "code",
   "execution_count": 37,
   "id": "63493608",
   "metadata": {},
   "outputs": [],
   "source": [
    "import numpy as np\n",
    "import pandas as pd\n",
    "import datetime as dt\n",
    "import psycopg2 \n",
    "import matplotlib.pyplot as plt"
   ]
  },
  {
   "cell_type": "code",
   "execution_count": 38,
   "id": "187bd3ed",
   "metadata": {},
   "outputs": [],
   "source": [
    "## The following lists all WRDS data sets or \"libraries\" we subscribe to. These can also be explored using the web interface."
   ]
  },
  {
   "cell_type": "code",
   "execution_count": null,
   "id": "33b68e52",
   "metadata": {},
   "outputs": [],
   "source": [
    "fx.list_libraries()"
   ]
  },
  {
   "cell_type": "code",
   "execution_count": 40,
   "id": "6baf21f8",
   "metadata": {},
   "outputs": [],
   "source": [
    "## The following lists the tables in the djones (Historical Dow Jones Indexes) library. In this library there are only two tables."
   ]
  },
  {
   "cell_type": "code",
   "execution_count": null,
   "id": "9a2d73b8",
   "metadata": {
    "scrolled": true
   },
   "outputs": [],
   "source": [
    "fx.list_tables(library='djones')"
   ]
  },
  {
   "cell_type": "code",
   "execution_count": null,
   "id": "d91be64b",
   "metadata": {},
   "outputs": [],
   "source": [
    "fx.describe_table(library='djones', table='djmonthly')\n",
    "## This describe the \"monthly\" table. For detailed descriptions of these variables see: \n",
    "## https://wrds-www.wharton.upenn.edu/pages/get-data/dow-jones-averages-total-return-indexes/dow-jones-monthly/"
   ]
  },
  {
   "cell_type": "code",
   "execution_count": null,
   "id": "404d008a",
   "metadata": {
    "scrolled": true
   },
   "outputs": [],
   "source": [
    "## This retrieves all Dow Jones monthly index variables starting from 2000-01-01 using a raw_sql command.\n",
    "djm_data = fx.raw_sql(\"select * FROM djones.djmonthly WHERE date>'2000-01-01'\")\n",
    "djm_data"
   ]
  },
  {
   "cell_type": "code",
   "execution_count": null,
   "id": "f8ffcb60",
   "metadata": {},
   "outputs": [],
   "source": [
    "## This retrieves the first two years of the Dow Jones Monthly Industial average closing values (dji). \n",
    "dow_jones_index = fx.raw_sql('SELECT date, dji FROM djones.djmonthly LIMIT 24')\n",
    "dow_jones_index"
   ]
  },
  {
   "cell_type": "code",
   "execution_count": null,
   "id": "48886343",
   "metadata": {},
   "outputs": [],
   "source": [
    "## This plot shows the history of the Dow Jones Industrials from 1930 to 1953.  \n",
    "## Note that the data from this library was discontinued in 2008 \n",
    "datadaily = fx.raw_sql(\"select date,dji from djones.djdaily WHERE date BETWEEN '1930-01-01' AND '1953-01-01'\", date_cols=['date'], index_col=['date'])\n",
    "plt.plot(datadaily),\n",
    "plt.xlabel('Date')\n",
    "plt.ylabel('Dow Jones Industrial Average')"
   ]
  },
  {
   "cell_type": "code",
   "execution_count": null,
   "id": "5bd14a94",
   "metadata": {},
   "outputs": [],
   "source": [
    "##This get_table command retrieves the first 10 observations from the Compustat Library (comp) company table.\n",
    "company1 = fx.get_table(library='comp', table='company',obs=10)\n",
    "company1"
   ]
  },
  {
   "cell_type": "code",
   "execution_count": null,
   "id": "293b0168",
   "metadata": {},
   "outputs": [],
   "source": [
    "## Same Query but narrows down to specific columns. The gvkey is a unique identifier used by Compustat.\n",
    "company_narrow = fx.get_table(library='comp', table='company', columns = ['conm', 'gvkey', 'busdesc', 'state', 'sic', 'cik'], \n",
    "    obs=5)\n",
    "company_narrow"
   ]
  },
  {
   "cell_type": "code",
   "execution_count": null,
   "id": "a0bfaca4-4956-45ae-957d-17777a9e3ab1",
   "metadata": {},
   "outputs": [],
   "source": [
    "##The following lists the tables in the boardex_na (Boardex North America) library. Boardex has biographical data for executives and board members.\n",
    "fx.list_tables(library='boardex_na')"
   ]
  },
  {
   "cell_type": "code",
   "execution_count": null,
   "id": "4665ecfc-3fb7-4307-a0ad-3ac636dd23ca",
   "metadata": {},
   "outputs": [],
   "source": [
    "## This gives the first 10 observations from the Boardex Library education association table.\n",
    "Boards = fx.get_table(library='boardex_na', table='na_board_education_assoc',obs=8)\n",
    "Boards"
   ]
  },
  {
   "cell_type": "code",
   "execution_count": null,
   "id": "aa6e3485",
   "metadata": {},
   "outputs": [],
   "source": [
    "## This is an advanced join command from two compustat libraries: fundamentals and monthly securities prices. Joining data sets is your economics data superpower  \n",
    "fx.raw_sql(\"\"\"\n",
    "    SELECT a.gvkey, a.datadate, a.tic, a.conm, a.at, a.aco, a.capx, b.prccm, b.cshoq, b.trfm\n",
    "    FROM comp.funda a\n",
    "    JOIN comp.secm b ON a.gvkey = b.gvkey AND a.datadate = b.datadate\n",
    "    WHERE a.tic = 'AAPL' AND a.datafmt = 'STD' AND a.consol = 'C' AND a.indfmt = 'INDL'\n",
    "\"\"\")"
   ]
  },
  {
   "cell_type": "code",
   "execution_count": 51,
   "id": "ab3fe8be",
   "metadata": {},
   "outputs": [],
   "source": [
    "## This notebook was derived in part from examples on the WRDS web site. For more info see:\n",
    "## https://wrds-www.wharton.upenn.edu/pages/classroom/using-jupyter-at-wrds-notebook/\n",
    "## https://wrds-www.wharton.upenn.edu/pages/support/programming-wrds/programming-python/querying-wrds-data-python/"
   ]
  }
 ],
 "metadata": {
  "kernelspec": {
   "display_name": "Python 3 (ipykernel)",
   "language": "python",
   "name": "python3"
  },
  "language_info": {
   "codemirror_mode": {
    "name": "ipython",
    "version": 3
   },
   "file_extension": ".py",
   "mimetype": "text/x-python",
   "name": "python",
   "nbconvert_exporter": "python",
   "pygments_lexer": "ipython3",
   "version": "3.9.15"
  }
 },
 "nbformat": 4,
 "nbformat_minor": 5
}

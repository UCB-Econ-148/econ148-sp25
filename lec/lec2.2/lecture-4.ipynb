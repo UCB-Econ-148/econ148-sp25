{
 "cells": [
  {
   "cell_type": "markdown",
   "id": "086ebf4e",
   "metadata": {},
   "source": [
    "# Simpson's Paradox\n",
    "### ECON 148 - Lecture 4"
   ]
  },
  {
   "cell_type": "code",
   "execution_count": 92,
   "id": "add469d1-64e6-4704-97f6-d2d92d74cd0b",
   "metadata": {
    "trusted": true
   },
   "outputs": [],
   "source": [
    "# load pandas\n",
    "import pandas as pd\n",
    "import numpy as np"
   ]
  },
  {
   "cell_type": "markdown",
   "id": "4f7b9b1b",
   "metadata": {},
   "source": [
    "_____________"
   ]
  },
  {
   "cell_type": "markdown",
   "id": "8230fd22",
   "metadata": {},
   "source": [
    "## Kidney Stone Data"
   ]
  },
  {
   "cell_type": "code",
   "execution_count": 93,
   "id": "ab366170",
   "metadata": {},
   "outputs": [
    {
     "data": {
      "text/html": [
       "<div>\n",
       "<style scoped>\n",
       "    .dataframe tbody tr th:only-of-type {\n",
       "        vertical-align: middle;\n",
       "    }\n",
       "\n",
       "    .dataframe tbody tr th {\n",
       "        vertical-align: top;\n",
       "    }\n",
       "\n",
       "    .dataframe thead th {\n",
       "        text-align: right;\n",
       "    }\n",
       "</style>\n",
       "<table border=\"1\" class=\"dataframe\">\n",
       "  <thead>\n",
       "    <tr style=\"text-align: right;\">\n",
       "      <th></th>\n",
       "      <th>treatment</th>\n",
       "      <th>stone_size</th>\n",
       "      <th>success</th>\n",
       "    </tr>\n",
       "  </thead>\n",
       "  <tbody>\n",
       "    <tr>\n",
       "      <th>0</th>\n",
       "      <td>B</td>\n",
       "      <td>large</td>\n",
       "      <td>1</td>\n",
       "    </tr>\n",
       "    <tr>\n",
       "      <th>1</th>\n",
       "      <td>A</td>\n",
       "      <td>large</td>\n",
       "      <td>1</td>\n",
       "    </tr>\n",
       "    <tr>\n",
       "      <th>2</th>\n",
       "      <td>A</td>\n",
       "      <td>large</td>\n",
       "      <td>0</td>\n",
       "    </tr>\n",
       "    <tr>\n",
       "      <th>3</th>\n",
       "      <td>A</td>\n",
       "      <td>large</td>\n",
       "      <td>1</td>\n",
       "    </tr>\n",
       "    <tr>\n",
       "      <th>4</th>\n",
       "      <td>A</td>\n",
       "      <td>large</td>\n",
       "      <td>1</td>\n",
       "    </tr>\n",
       "    <tr>\n",
       "      <th>...</th>\n",
       "      <td>...</td>\n",
       "      <td>...</td>\n",
       "      <td>...</td>\n",
       "    </tr>\n",
       "    <tr>\n",
       "      <th>695</th>\n",
       "      <td>B</td>\n",
       "      <td>small</td>\n",
       "      <td>0</td>\n",
       "    </tr>\n",
       "    <tr>\n",
       "      <th>696</th>\n",
       "      <td>B</td>\n",
       "      <td>small</td>\n",
       "      <td>1</td>\n",
       "    </tr>\n",
       "    <tr>\n",
       "      <th>697</th>\n",
       "      <td>B</td>\n",
       "      <td>small</td>\n",
       "      <td>1</td>\n",
       "    </tr>\n",
       "    <tr>\n",
       "      <th>698</th>\n",
       "      <td>A</td>\n",
       "      <td>large</td>\n",
       "      <td>1</td>\n",
       "    </tr>\n",
       "    <tr>\n",
       "      <th>699</th>\n",
       "      <td>A</td>\n",
       "      <td>small</td>\n",
       "      <td>1</td>\n",
       "    </tr>\n",
       "  </tbody>\n",
       "</table>\n",
       "<p>700 rows × 3 columns</p>\n",
       "</div>"
      ],
      "text/plain": [
       "    treatment stone_size  success\n",
       "0           B      large        1\n",
       "1           A      large        1\n",
       "2           A      large        0\n",
       "3           A      large        1\n",
       "4           A      large        1\n",
       "..        ...        ...      ...\n",
       "695         B      small        0\n",
       "696         B      small        1\n",
       "697         B      small        1\n",
       "698         A      large        1\n",
       "699         A      small        1\n",
       "\n",
       "[700 rows x 3 columns]"
      ]
     },
     "execution_count": 93,
     "metadata": {},
     "output_type": "execute_result"
    }
   ],
   "source": [
    "# read kidney stone dataset\n",
    "# Original source: Charig et al. BMJ 1986\n",
    "# Source: https://github.com/Amol-Kulkarni91/Website_Datasets/blob/master/Datasets/Kidney%20Stones/kidney_stone_data.csv\n",
    "kidney = pd.read_csv('kidney_stones.csv')\n",
    "kidney"
   ]
  },
  {
   "cell_type": "code",
   "execution_count": 94,
   "id": "ee537b58",
   "metadata": {},
   "outputs": [
    {
     "data": {
      "text/plain": [
       "treatment     0\n",
       "stone_size    0\n",
       "success       0\n",
       "dtype: int64"
      ]
     },
     "execution_count": 94,
     "metadata": {},
     "output_type": "execute_result"
    }
   ],
   "source": [
    "# check for missing values\n",
    "kidney.isnull().sum()"
   ]
  },
  {
   "cell_type": "code",
   "execution_count": 95,
   "id": "c3310539",
   "metadata": {},
   "outputs": [
    {
     "data": {
      "text/plain": [
       "stone_size\n",
       "large    72.011662\n",
       "small    88.235294\n",
       "Name: success, dtype: float64"
      ]
     },
     "execution_count": 95,
     "metadata": {},
     "output_type": "execute_result"
    }
   ],
   "source": [
    "# calculate average success rate for each stone size\n",
    "kidney.groupby('stone_size')['success'].mean()*100"
   ]
  },
  {
   "cell_type": "code",
   "execution_count": 96,
   "id": "745c38cd",
   "metadata": {},
   "outputs": [
    {
     "data": {
      "text/plain": [
       "treatment\n",
       "A    78.000000\n",
       "B    82.571429\n",
       "Name: success, dtype: float64"
      ]
     },
     "execution_count": 96,
     "metadata": {},
     "output_type": "execute_result"
    }
   ],
   "source": [
    "# calculate average success rate for each treatment\n",
    "# A = open surgery (invasive)\n",
    "# B = percutaneous nephrolithotomy (non-invasive)\n",
    "kidney.groupby('treatment')['success'].mean()*100"
   ]
  },
  {
   "cell_type": "code",
   "execution_count": 97,
   "id": "d02b3f42",
   "metadata": {},
   "outputs": [
    {
     "data": {
      "text/plain": [
       "stone_size  treatment\n",
       "large       A            73.003802\n",
       "            B            68.750000\n",
       "small       A            93.103448\n",
       "            B            86.666667\n",
       "Name: success, dtype: float64"
      ]
     },
     "execution_count": 97,
     "metadata": {},
     "output_type": "execute_result"
    }
   ],
   "source": [
    "# do the cross-tab\n",
    "kidney.groupby(['stone_size', 'treatment'])['success'].mean()*100"
   ]
  },
  {
   "cell_type": "code",
   "execution_count": 119,
   "id": "41531538",
   "metadata": {},
   "outputs": [
    {
     "data": {
      "text/plain": [
       "<Axes: xlabel='stone_size'>"
      ]
     },
     "execution_count": 119,
     "metadata": {},
     "output_type": "execute_result"
    },
    {
     "data": {
      "image/png": "[encoded data removed]",
      "text/plain": [
       "<Figure size 640x480 with 1 Axes>"
      ]
     },
     "metadata": {},
     "output_type": "display_data"
    }
   ],
   "source": [
    "# plot the results\n",
    "kidney.groupby(['stone_size', 'treatment'])['success'].mean().unstack().plot(kind='bar')"
   ]
  },
  {
   "cell_type": "code",
   "execution_count": 99,
   "id": "1dc40d19",
   "metadata": {},
   "outputs": [
    {
     "data": {
      "text/plain": [
       "stone_size  treatment\n",
       "large       A            263\n",
       "            B             80\n",
       "small       B            270\n",
       "            A             87\n",
       "Name: count, dtype: int64"
      ]
     },
     "execution_count": 99,
     "metadata": {},
     "output_type": "execute_result"
    }
   ],
   "source": [
    "kidney.groupby('stone_size')['treatment'].value_counts()"
   ]
  },
  {
   "cell_type": "code",
   "execution_count": 120,
   "id": "5928006c",
   "metadata": {},
   "outputs": [
    {
     "data": {
      "text/plain": [
       "<Axes: xlabel='stone_size'>"
      ]
     },
     "execution_count": 120,
     "metadata": {},
     "output_type": "execute_result"
    },
    {
     "data": {
      "image/png": "[encoded data removed]",
      "text/plain": [
       "<Figure size 640x480 with 1 Axes>"
      ]
     },
     "metadata": {},
     "output_type": "display_data"
    }
   ],
   "source": [
    "kidney.groupby('stone_size')['treatment'].value_counts().unstack().plot(kind='bar')"
   ]
  },
  {
   "cell_type": "markdown",
   "id": "e7935249",
   "metadata": {},
   "source": [
    "__________"
   ]
  },
  {
   "cell_type": "markdown",
   "id": "30ad538a",
   "metadata": {},
   "source": [
    "# Berkeley Grad School Admissions"
   ]
  },
  {
   "cell_type": "code",
   "execution_count": 100,
   "id": "00d9dda5",
   "metadata": {},
   "outputs": [
    {
     "data": {
      "text/html": [
       "<div>\n",
       "<style scoped>\n",
       "    .dataframe tbody tr th:only-of-type {\n",
       "        vertical-align: middle;\n",
       "    }\n",
       "\n",
       "    .dataframe tbody tr th {\n",
       "        vertical-align: top;\n",
       "    }\n",
       "\n",
       "    .dataframe thead th {\n",
       "        text-align: right;\n",
       "    }\n",
       "</style>\n",
       "<table border=\"1\" class=\"dataframe\">\n",
       "  <thead>\n",
       "    <tr style=\"text-align: right;\">\n",
       "      <th></th>\n",
       "      <th>Year</th>\n",
       "      <th>Major</th>\n",
       "      <th>Gender</th>\n",
       "      <th>Admission</th>\n",
       "    </tr>\n",
       "  </thead>\n",
       "  <tbody>\n",
       "    <tr>\n",
       "      <th>0</th>\n",
       "      <td>1973</td>\n",
       "      <td>C</td>\n",
       "      <td>F</td>\n",
       "      <td>Rejected</td>\n",
       "    </tr>\n",
       "    <tr>\n",
       "      <th>1</th>\n",
       "      <td>1973</td>\n",
       "      <td>B</td>\n",
       "      <td>M</td>\n",
       "      <td>Accepted</td>\n",
       "    </tr>\n",
       "    <tr>\n",
       "      <th>2</th>\n",
       "      <td>1973</td>\n",
       "      <td>Other</td>\n",
       "      <td>F</td>\n",
       "      <td>Accepted</td>\n",
       "    </tr>\n",
       "    <tr>\n",
       "      <th>3</th>\n",
       "      <td>1973</td>\n",
       "      <td>Other</td>\n",
       "      <td>M</td>\n",
       "      <td>Accepted</td>\n",
       "    </tr>\n",
       "    <tr>\n",
       "      <th>4</th>\n",
       "      <td>1973</td>\n",
       "      <td>Other</td>\n",
       "      <td>M</td>\n",
       "      <td>Rejected</td>\n",
       "    </tr>\n",
       "    <tr>\n",
       "      <th>...</th>\n",
       "      <td>...</td>\n",
       "      <td>...</td>\n",
       "      <td>...</td>\n",
       "      <td>...</td>\n",
       "    </tr>\n",
       "    <tr>\n",
       "      <th>12758</th>\n",
       "      <td>1973</td>\n",
       "      <td>Other</td>\n",
       "      <td>M</td>\n",
       "      <td>Accepted</td>\n",
       "    </tr>\n",
       "    <tr>\n",
       "      <th>12759</th>\n",
       "      <td>1973</td>\n",
       "      <td>D</td>\n",
       "      <td>M</td>\n",
       "      <td>Accepted</td>\n",
       "    </tr>\n",
       "    <tr>\n",
       "      <th>12760</th>\n",
       "      <td>1973</td>\n",
       "      <td>Other</td>\n",
       "      <td>F</td>\n",
       "      <td>Rejected</td>\n",
       "    </tr>\n",
       "    <tr>\n",
       "      <th>12761</th>\n",
       "      <td>1973</td>\n",
       "      <td>Other</td>\n",
       "      <td>M</td>\n",
       "      <td>Rejected</td>\n",
       "    </tr>\n",
       "    <tr>\n",
       "      <th>12762</th>\n",
       "      <td>1973</td>\n",
       "      <td>Other</td>\n",
       "      <td>M</td>\n",
       "      <td>Accepted</td>\n",
       "    </tr>\n",
       "  </tbody>\n",
       "</table>\n",
       "<p>12763 rows × 4 columns</p>\n",
       "</div>"
      ],
      "text/plain": [
       "       Year  Major Gender Admission\n",
       "0      1973      C      F  Rejected\n",
       "1      1973      B      M  Accepted\n",
       "2      1973  Other      F  Accepted\n",
       "3      1973  Other      M  Accepted\n",
       "4      1973  Other      M  Rejected\n",
       "...     ...    ...    ...       ...\n",
       "12758  1973  Other      M  Accepted\n",
       "12759  1973      D      M  Accepted\n",
       "12760  1973  Other      F  Rejected\n",
       "12761  1973  Other      M  Rejected\n",
       "12762  1973  Other      M  Accepted\n",
       "\n",
       "[12763 rows x 4 columns]"
      ]
     },
     "execution_count": 100,
     "metadata": {},
     "output_type": "execute_result"
    }
   ],
   "source": [
    "# read dataset\n",
    "# Graduate admissions for Fall 1973\n",
    "# Source: \"https://waf.cs.illinois.edu/discovery/berkeley.csv\"\n",
    "df = pd.read_csv('berkeley.csv')\n",
    "df"
   ]
  },
  {
   "cell_type": "code",
   "execution_count": 101,
   "id": "72a6af73-7673-4efe-a139-9885e1730830",
   "metadata": {
    "trusted": true
   },
   "outputs": [
    {
     "data": {
      "text/plain": [
       "Year         0\n",
       "Major        0\n",
       "Gender       0\n",
       "Admission    0\n",
       "dtype: int64"
      ]
     },
     "execution_count": 101,
     "metadata": {},
     "output_type": "execute_result"
    }
   ],
   "source": [
    "# check for missing values\n",
    "df.isnull().sum()"
   ]
  },
  {
   "cell_type": "code",
   "execution_count": 102,
   "id": "f61e9943-6ada-4216-94d6-560d0b59bc62",
   "metadata": {
    "trusted": true
   },
   "outputs": [
    {
     "data": {
      "text/plain": [
       "Admission\n",
       "Rejected    7531\n",
       "Accepted    5232\n",
       "Name: count, dtype: int64"
      ]
     },
     "execution_count": 102,
     "metadata": {},
     "output_type": "execute_result"
    }
   ],
   "source": [
    "df['Admission'].value_counts()"
   ]
  },
  {
   "cell_type": "code",
   "execution_count": 103,
   "id": "ca0a53be-c4d3-4e1d-b657-25c7f5aeb57e",
   "metadata": {
    "trusted": true
   },
   "outputs": [
    {
     "data": {
      "text/plain": [
       "Major\n",
       "Other    7924\n",
       "A        1246\n",
       "C         918\n",
       "D         792\n",
       "F         714\n",
       "B         585\n",
       "E         584\n",
       "Name: count, dtype: int64"
      ]
     },
     "execution_count": 103,
     "metadata": {},
     "output_type": "execute_result"
    }
   ],
   "source": [
    "df['Major'].value_counts()"
   ]
  },
  {
   "cell_type": "code",
   "execution_count": 128,
   "id": "4f64413a",
   "metadata": {},
   "outputs": [
    {
     "data": {
      "text/plain": [
       "Major\n",
       "A    1246\n",
       "C     918\n",
       "D     792\n",
       "F     714\n",
       "B     585\n",
       "E     584\n",
       "Name: count, dtype: int64"
      ]
     },
     "execution_count": 128,
     "metadata": {},
     "output_type": "execute_result"
    }
   ],
   "source": [
    "df = df[df['Major'] != 'Other']\n",
    "df['Major'].value_counts()"
   ]
  },
  {
   "cell_type": "code",
   "execution_count": 129,
   "id": "701fdaf8-d170-4828-bfe0-a77879b7d926",
   "metadata": {
    "trusted": true
   },
   "outputs": [
    {
     "data": {
      "text/plain": [
       "Gender\n",
       "M    3004\n",
       "F    1835\n",
       "Name: count, dtype: int64"
      ]
     },
     "execution_count": 129,
     "metadata": {},
     "output_type": "execute_result"
    }
   ],
   "source": [
    "df['Gender'].value_counts()"
   ]
  },
  {
   "cell_type": "code",
   "execution_count": 130,
   "id": "c322445b-5baf-4201-9175-4d1008050f6c",
   "metadata": {
    "trusted": true
   },
   "outputs": [
    {
     "data": {
      "text/plain": [
       "Gender  Admission\n",
       "F       Rejected     1278\n",
       "        Accepted      557\n",
       "M       Accepted     1511\n",
       "        Rejected     1493\n",
       "Name: count, dtype: int64"
      ]
     },
     "execution_count": 130,
     "metadata": {},
     "output_type": "execute_result"
    }
   ],
   "source": [
    "df.groupby('Gender')['Admission'].value_counts()"
   ]
  },
  {
   "cell_type": "code",
   "execution_count": 131,
   "id": "caf4737a-2764-4100-890b-f3f94df79a47",
   "metadata": {
    "trusted": true
   },
   "outputs": [],
   "source": [
    "df['Accepted'] = np.where(df['Admission'] == 'Accepted', 1, 0)"
   ]
  },
  {
   "cell_type": "code",
   "execution_count": 132,
   "id": "9f52f7d6-213d-4736-a4f0-566598a899bc",
   "metadata": {
    "trusted": true
   },
   "outputs": [
    {
     "data": {
      "text/plain": [
       "42.73610250051664"
      ]
     },
     "execution_count": 132,
     "metadata": {},
     "output_type": "execute_result"
    }
   ],
   "source": [
    "df['Accepted'].mean()*100"
   ]
  },
  {
   "cell_type": "code",
   "execution_count": 133,
   "id": "49ec196d-6b16-4b3b-b019-687e81b06996",
   "metadata": {
    "trusted": true
   },
   "outputs": [
    {
     "data": {
      "text/plain": [
       "Gender\n",
       "F    30.354223\n",
       "M    50.299601\n",
       "Name: Accepted, dtype: float64"
      ]
     },
     "execution_count": 133,
     "metadata": {},
     "output_type": "execute_result"
    }
   ],
   "source": [
    "df.groupby('Gender')['Accepted'].mean()*100"
   ]
  },
  {
   "cell_type": "code",
   "execution_count": 134,
   "id": "04c94c5a",
   "metadata": {},
   "outputs": [
    {
     "data": {
      "text/plain": [
       "Major\n",
       "A    73.354735\n",
       "B    63.247863\n",
       "C    34.967320\n",
       "D    33.964646\n",
       "E    25.171233\n",
       "F     6.582633\n",
       "Name: Accepted, dtype: float64"
      ]
     },
     "execution_count": 134,
     "metadata": {},
     "output_type": "execute_result"
    }
   ],
   "source": [
    "df.groupby('Major')['Accepted'].mean()*100"
   ]
  },
  {
   "cell_type": "code",
   "execution_count": 135,
   "id": "5d29eac9-6a85-476a-85bd-3cd9ecf62a52",
   "metadata": {
    "trusted": true
   },
   "outputs": [
    {
     "data": {
      "text/plain": [
       "Major  Gender\n",
       "A      F         82.407407\n",
       "       M         72.495606\n",
       "B      F         68.000000\n",
       "       M         63.035714\n",
       "C      F         33.895447\n",
       "       M         36.923077\n",
       "D      F         34.933333\n",
       "       M         33.093525\n",
       "E      F         23.918575\n",
       "       M         27.748691\n",
       "F      F          7.331378\n",
       "       M          5.898123\n",
       "Name: Accepted, dtype: float64"
      ]
     },
     "execution_count": 135,
     "metadata": {},
     "output_type": "execute_result"
    }
   ],
   "source": [
    "df.groupby(['Major','Gender'])['Accepted'].mean()*100"
   ]
  },
  {
   "cell_type": "code",
   "execution_count": 136,
   "id": "d7e92538",
   "metadata": {},
   "outputs": [
    {
     "data": {
      "text/plain": [
       "<Axes: xlabel='Major'>"
      ]
     },
     "execution_count": 136,
     "metadata": {},
     "output_type": "execute_result"
    },
    {
     "data": {
      "image/png": "[encoded data removed]",
      "text/plain": [
       "<Figure size 640x480 with 1 Axes>"
      ]
     },
     "metadata": {},
     "output_type": "display_data"
    }
   ],
   "source": [
    "df.groupby(['Major','Gender'])['Accepted'].mean().unstack().plot(kind='bar')"
   ]
  },
  {
   "cell_type": "code",
   "execution_count": 137,
   "id": "57926b7d-ddde-4016-8129-5e7239e9c23f",
   "metadata": {
    "trusted": true
   },
   "outputs": [
    {
     "data": {
      "text/plain": [
       "Major  Gender\n",
       "A      M         1138\n",
       "       F          108\n",
       "B      M          560\n",
       "       F           25\n",
       "C      F          593\n",
       "       M          325\n",
       "D      M          417\n",
       "       F          375\n",
       "E      F          393\n",
       "       M          191\n",
       "F      M          373\n",
       "       F          341\n",
       "Name: count, dtype: int64"
      ]
     },
     "execution_count": 137,
     "metadata": {},
     "output_type": "execute_result"
    }
   ],
   "source": [
    "df.groupby('Major')['Gender'].value_counts()"
   ]
  },
  {
   "cell_type": "code",
   "execution_count": 138,
   "id": "1064fcde-c74e-45ee-b23a-65b42b0a2ef3",
   "metadata": {
    "trusted": true
   },
   "outputs": [],
   "source": [
    "df['Male'] = np.where(df['Gender'] == 'M', 1, 0)"
   ]
  },
  {
   "cell_type": "code",
   "execution_count": 139,
   "id": "e3680cd9-2719-4e04-bf40-fa1833937c38",
   "metadata": {
    "trusted": true
   },
   "outputs": [
    {
     "data": {
      "text/html": [
       "<div>\n",
       "<style scoped>\n",
       "    .dataframe tbody tr th:only-of-type {\n",
       "        vertical-align: middle;\n",
       "    }\n",
       "\n",
       "    .dataframe tbody tr th {\n",
       "        vertical-align: top;\n",
       "    }\n",
       "\n",
       "    .dataframe thead th {\n",
       "        text-align: right;\n",
       "    }\n",
       "</style>\n",
       "<table border=\"1\" class=\"dataframe\">\n",
       "  <thead>\n",
       "    <tr style=\"text-align: right;\">\n",
       "      <th></th>\n",
       "      <th>Male</th>\n",
       "      <th>Accepted</th>\n",
       "    </tr>\n",
       "    <tr>\n",
       "      <th>Major</th>\n",
       "      <th></th>\n",
       "      <th></th>\n",
       "    </tr>\n",
       "  </thead>\n",
       "  <tbody>\n",
       "    <tr>\n",
       "      <th>A</th>\n",
       "      <td>91.332263</td>\n",
       "      <td>73.354735</td>\n",
       "    </tr>\n",
       "    <tr>\n",
       "      <th>B</th>\n",
       "      <td>95.726496</td>\n",
       "      <td>63.247863</td>\n",
       "    </tr>\n",
       "    <tr>\n",
       "      <th>C</th>\n",
       "      <td>35.403050</td>\n",
       "      <td>34.967320</td>\n",
       "    </tr>\n",
       "    <tr>\n",
       "      <th>D</th>\n",
       "      <td>52.651515</td>\n",
       "      <td>33.964646</td>\n",
       "    </tr>\n",
       "    <tr>\n",
       "      <th>E</th>\n",
       "      <td>32.705479</td>\n",
       "      <td>25.171233</td>\n",
       "    </tr>\n",
       "    <tr>\n",
       "      <th>F</th>\n",
       "      <td>52.240896</td>\n",
       "      <td>6.582633</td>\n",
       "    </tr>\n",
       "  </tbody>\n",
       "</table>\n",
       "</div>"
      ],
      "text/plain": [
       "            Male   Accepted\n",
       "Major                      \n",
       "A      91.332263  73.354735\n",
       "B      95.726496  63.247863\n",
       "C      35.403050  34.967320\n",
       "D      52.651515  33.964646\n",
       "E      32.705479  25.171233\n",
       "F      52.240896   6.582633"
      ]
     },
     "execution_count": 139,
     "metadata": {},
     "output_type": "execute_result"
    }
   ],
   "source": [
    "df2 = df.groupby('Major')[['Male', 'Accepted']].mean()*100\n",
    "df2"
   ]
  },
  {
   "cell_type": "code",
   "execution_count": 140,
   "id": "9ef8beb1",
   "metadata": {},
   "outputs": [
    {
     "data": {
      "text/plain": [
       "<Axes: xlabel='Male', ylabel='Accepted'>"
      ]
     },
     "execution_count": 140,
     "metadata": {},
     "output_type": "execute_result"
    },
    {
     "data": {
      "image/png": "[encoded data removed]",
      "text/plain": [
       "<Figure size 640x480 with 1 Axes>"
      ]
     },
     "metadata": {},
     "output_type": "display_data"
    }
   ],
   "source": [
    "df2.plot(kind='scatter', x='Male', y='Accepted')"
   ]
  }
 ],
 "metadata": {
  "kernelspec": {
   "display_name": "er131",
   "language": "python",
   "name": "python3"
  },
  "language_info": {
   "codemirror_mode": {
    "name": "ipython",
    "version": 3
   },
   "file_extension": ".py",
   "mimetype": "text/x-python",
   "name": "python",
   "nbconvert_exporter": "python",
   "pygments_lexer": "ipython3",
   "version": "3.12.2"
  }
 },
 "nbformat": 4,
 "nbformat_minor": 5
}

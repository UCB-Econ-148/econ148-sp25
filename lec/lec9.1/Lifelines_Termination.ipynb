{
 "cells": [
  {
   "cell_type": "markdown",
   "id": "caa59d55",
   "metadata": {},
   "source": [
    "##  Demo on HR Data and Employee Turnover\n",
    "\n",
    "( I think this is synthetic data )"
   ]
  },
  {
   "cell_type": "code",
   "execution_count": null,
   "id": "abbe89bf-7b91-4596-b603-098de147f05c",
   "metadata": {},
   "outputs": [],
   "source": [
    "import pandas as pd\n",
    "import matplotlib.pyplot as plt\n",
    "\n"
   ]
  },
  {
   "cell_type": "code",
   "execution_count": null,
   "id": "40ccb453",
   "metadata": {},
   "outputs": [],
   "source": [
    "termination_df = pd.read_csv('https://raw.githubusercontent.com/teuschb/hr_data/master/datasets/MFG10YearTerminationData.csv') \n",
    "termination_df"
   ]
  },
  {
   "cell_type": "markdown",
   "id": "f469326b",
   "metadata": {},
   "source": [
    "### Let's take a look at the dataset first"
   ]
  },
  {
   "cell_type": "code",
   "execution_count": null,
   "id": "c7d746ac-a942-4aa3-b456-09a7e64dd6d5",
   "metadata": {},
   "outputs": [],
   "source": [
    "term_df = termination_df.copy()\n",
    "term_df.loc[:, 'Observed'] = term_df['STATUS'].apply(lambda x: 1 if x == 'TERMINATED' else 0)\n",
    "term_df"
   ]
  },
  {
   "cell_type": "code",
   "execution_count": null,
   "id": "8c2ece1a-3502-489f-be0d-a73264c1ccee",
   "metadata": {},
   "outputs": [],
   "source": [
    "term2d_df=term_df[['length_of_service', 'STATUS','Observed']]\n",
    "term2d_df"
   ]
  },
  {
   "cell_type": "code",
   "execution_count": null,
   "id": "3aef5a10-4a58-46cb-a45f-a4329f9c5241",
   "metadata": {},
   "outputs": [],
   "source": [
    "from lifelines import KaplanMeierFitter\n",
    "kmf = KaplanMeierFitter()"
   ]
  },
  {
   "cell_type": "code",
   "execution_count": null,
   "id": "21221a2b-23a2-461a-a44a-d365d2c2da91",
   "metadata": {},
   "outputs": [],
   "source": [
    "#Kaplan-Meier estimation\n",
    "kmf.fit(term_df['length_of_service'], term_df['Observed'])"
   ]
  },
  {
   "cell_type": "code",
   "execution_count": null,
   "id": "98f4645d-ebd4-467a-9b4e-e903f00027a0",
   "metadata": {},
   "outputs": [],
   "source": [
    "\n",
    "plt.title('Employee Contract Termination Survival Function')\n",
    "kmf.plot_survival_function()"
   ]
  },
  {
   "cell_type": "code",
   "execution_count": null,
   "id": "12259a15-c11b-41f2-8d9b-a1c62e0ad5ab",
   "metadata": {},
   "outputs": [],
   "source": [
    "kmf.survival_function_\n"
   ]
  },
  {
   "cell_type": "code",
   "execution_count": null,
   "id": "aeb45636-f72d-4183-b108-bfa9e6de93d0",
   "metadata": {},
   "outputs": [],
   "source": [
    "kmf.cumulative_density_\n"
   ]
  },
  {
   "cell_type": "code",
   "execution_count": null,
   "id": "918110b2-f18e-450e-874f-1d53eaeb3af7",
   "metadata": {},
   "outputs": [],
   "source": [
    "#Separate the Male and Female data\n",
    "df_m = term_df[term_df['gender_short'] == 'M']\n",
    "df_f = term_df[term_df['gender_short'] == 'F']\n",
    "#Prepare the survival function\n",
    "kmf_m = KaplanMeierFitter()\n",
    "kmf_f = KaplanMeierFitter()\n",
    "#Estimate both dataset to acquire the survival function\n",
    "kmf_m.fit(df_m['length_of_service'], df_m['Observed'], label = 'Male')\n",
    "kmf_f.fit(df_f['length_of_service'], df_f['Observed'], label = 'Female')\n",
    "#Produce the survival function plot\n",
    "#plt.figure(figsize = (8,8))\n",
    "#plt.title('Employee Contract Termination Survival Function based on Gender')\n",
    "kmf_m.plot_survival_function()\n",
    "kmf_f.plot_survival_function()"
   ]
  },
  {
   "cell_type": "code",
   "execution_count": null,
   "id": "c7db0021-1c8c-42f6-abd7-bbe78c6e5332",
   "metadata": {},
   "outputs": [],
   "source": [
    "from lifelines import NelsonAalenFitter\n",
    "naf = NelsonAalenFitter()\n",
    "naf.fit(term_df['length_of_service'], term_df['Observed'])\n",
    "#plt.figure(figsize = (8,8))\n",
    "#plt.title('Employee Contract Termination Hazard Function')\n",
    "naf.plot_cumulative_hazard()"
   ]
  },
  {
   "cell_type": "code",
   "execution_count": null,
   "id": "296fe0a6-c725-42e4-bc94-66a3a15cd154",
   "metadata": {},
   "outputs": [],
   "source": []
  },
  {
   "cell_type": "code",
   "execution_count": null,
   "id": "3e35ef85",
   "metadata": {},
   "outputs": [],
   "source": []
  }
 ],
 "metadata": {
  "kernelspec": {
   "display_name": "data_env",
   "language": "python",
   "name": "python3"
  },
  "language_info": {
   "codemirror_mode": {
    "name": "ipython",
    "version": 3
   },
   "file_extension": ".py",
   "mimetype": "text/x-python",
   "name": "python",
   "nbconvert_exporter": "python",
   "pygments_lexer": "ipython3",
   "version": "3.10.16"
  }
 },
 "nbformat": 4,
 "nbformat_minor": 5
}

{
 "cells": [
  {
   "cell_type": "markdown",
   "metadata": {},
   "source": [
    "## Rossi Dataset on Recidivism \n",
    "\n",
    "Rossi, P.H., R.A. Berk, and K.J. Lenihan (1980). Money, Work, and Crime: Some Experimental Results. New York: Academic Press. John Fox, Marilia Sa Carvalho (2012).\n",
    "\n",
    "This data set is originally from Rossi et al. (1980), and is used as an example in Allison (1995). The data pertain to 432 convicts who were released from Maryland state prisons in the 1970s and who were followed up for one year after release. Half the released convicts were assigned at random to an experimental treatment in which they were given financial aid; half did not receive aid.:\n",
    "\n",
    "https://vincentarelbundock.github.io/Rdatasets/doc/carData/Rossi.html\n",
    "\n",
    "A data frame with 432 observations on the following 62 variables.\n",
    "\n",
    " - `week` week of first arrest after release or censoring; all censored observations are censored at 52 weeks.\n",
    "\n",
    " - `arrest` 1 if arrested, 0 if not arrested.\n",
    "\n",
    " - `fin` financial aid: no yes.\n",
    "\n",
    " - `age` in years at time of release.\n",
    "\n",
    " - `wexp` full-time work experience before incarceration: no or yes.\n"
   ]
  },
  {
   "cell_type": "code",
   "execution_count": null,
   "metadata": {},
   "outputs": [],
   "source": [
    "import lifelines.datasets as datasets\n",
    "import pandas as pd\n",
    "from lifelines import KaplanMeierFitter\n",
    "import matplotlib.pyplot as plt\n",
    "\n",
    "# Load the Rossi dataset\n",
    "rossi = datasets.load_rossi()\n",
    "\n",
    "# Display the first few rows\n",
    "print(rossi.head())"
   ]
  },
  {
   "cell_type": "code",
   "execution_count": null,
   "metadata": {},
   "outputs": [],
   "source": [
    "T = rossi[\"week\"]     # Time to event (weeks)\n",
    "E = rossi[\"arrest\"]   # Event indicator (1 if arrested, 0 if not)"
   ]
  },
  {
   "cell_type": "code",
   "execution_count": null,
   "metadata": {},
   "outputs": [],
   "source": [
    "# Initialize Kaplan-Meier fitter\n",
    "kmf = KaplanMeierFitter()\n",
    "\n",
    "# Fit the model\n",
    "kmf.fit(T, event_observed=E)\n"
   ]
  },
  {
   "cell_type": "code",
   "execution_count": null,
   "metadata": {},
   "outputs": [],
   "source": [
    "# Plot the Kaplan-Meier survival curve\n",
    "plt.figure(figsize=(8,6))\n",
    "kmf.plot_survival_function()\n",
    "plt.title(\"Kaplan-Meier Survival Curve for Recidivism (Rossi Dataset)\")\n",
    "plt.xlabel(\"Weeks After Release\")\n",
    "plt.ylabel(\"Survival Probability\")\n",
    "plt.grid(True)\n",
    "plt.show()"
   ]
  },
  {
   "cell_type": "code",
   "execution_count": null,
   "metadata": {},
   "outputs": [],
   "source": [
    "# Define groups by work experience (wexp)\n",
    "wexp_0 = rossi[rossi[\"wexp\"] == 0]  # No work experience\n",
    "wexp_1 = rossi[rossi[\"wexp\"] == 1]  # Has work experience\n",
    "\n",
    "# Kaplan-Meier Fitters for each group\n",
    "kmf_0 = KaplanMeierFitter()\n",
    "kmf_1 = KaplanMeierFitter()\n",
    "\n",
    "# Fit survival models\n",
    "kmf_0.fit(durations=wexp_0[\"week\"], event_observed=wexp_0[\"arrest\"], label=\"No Work Experience\")\n",
    "kmf_1.fit(durations=wexp_1[\"week\"], event_observed=wexp_1[\"arrest\"], label=\"Has Work Experience\")\n",
    "\n",
    "# Plot survival curves\n",
    "plt.figure(figsize=(8,6))\n",
    "kmf_0.plot_survival_function()\n",
    "kmf_1.plot_survival_function()\n",
    "\n",
    "# Labels and title\n",
    "plt.title(\"Kaplan-Meier Survival Curve by Work Experience (wexp)\")\n",
    "plt.xlabel(\"Weeks After Release\")\n",
    "plt.ylabel(\"Survival Probability\")\n",
    "plt.legend()\n",
    "plt.grid(True)\n",
    "plt.show()"
   ]
  },
  {
   "cell_type": "code",
   "execution_count": null,
   "metadata": {},
   "outputs": [],
   "source": [
    "\n",
    "# Define groups by financial aid (fin)\n",
    "fin_0 = rossi[rossi[\"fin\"] == 0]  # No financial aid\n",
    "fin_1 = rossi[rossi[\"fin\"] == 1]  # Received financial aid\n",
    "\n",
    "# Kaplan-Meier Fitters for each group\n",
    "kmf_0 = KaplanMeierFitter()\n",
    "kmf_1 = KaplanMeierFitter()\n",
    "\n",
    "# Fit survival models\n",
    "kmf_0.fit(durations=fin_0[\"week\"], event_observed=fin_0[\"arrest\"], label=\"No Financial Aid\")\n",
    "kmf_1.fit(durations=fin_1[\"week\"], event_observed=fin_1[\"arrest\"], label=\"Received Financial Aid\")\n",
    "\n",
    "# Plot survival curves\n",
    "plt.figure(figsize=(8,6))\n",
    "kmf_0.plot_survival_function()\n",
    "kmf_1.plot_survival_function()\n",
    "\n",
    "# Labels and title\n",
    "plt.title(\"Kaplan-Meier Survival Curve by Financial Aid (fin)\")\n",
    "plt.xlabel(\"Weeks After Release\")\n",
    "plt.ylabel(\"Survival Probability\")\n",
    "plt.legend()\n",
    "plt.grid(True)\n",
    "plt.show()"
   ]
  },
  {
   "cell_type": "code",
   "execution_count": null,
   "metadata": {},
   "outputs": [],
   "source": []
  }
 ],
 "metadata": {
  "kernelspec": {
   "display_name": "data_env",
   "language": "python",
   "name": "python3"
  },
  "language_info": {
   "codemirror_mode": {
    "name": "ipython",
    "version": 3
   },
   "file_extension": ".py",
   "mimetype": "text/x-python",
   "name": "python",
   "nbconvert_exporter": "python",
   "pygments_lexer": "ipython3",
   "version": "3.10.16"
  }
 },
 "nbformat": 4,
 "nbformat_minor": 2
}

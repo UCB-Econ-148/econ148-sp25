{
 "cells": [
  {
   "cell_type": "code",
   "execution_count": 1,
   "metadata": {},
   "outputs": [],
   "source": [
    "try:\n",
    "    import networkx as nx\n",
    "except ImportError:\n",
    "    !pip install networkx\n",
    "    import networkx as nx\n",
    "\n",
    "import matplotlib.pyplot as plt\n"
   ]
  },
  {
   "cell_type": "code",
   "execution_count": null,
   "metadata": {},
   "outputs": [],
   "source": [
    "G = nx.DiGraph()\n",
    "\n",
    "# Build the Graph from the Edges\n",
    "edges = [\n",
    "    (\"Ask a\\nQuestion\", \"Obtain\\nData\"),\n",
    "    (\"Obtain\\nData\", \"Understand\\nthe Data\"),\n",
    "    (\"Understand\\nthe Data\", \"Ask a\\nQuestion\"),\n",
    "    (\"Understand\\nthe Data\", \"Understand\\nthe World\"),\n",
    "    (\"Understand\\nthe Data\", \"Obtain\\nData\"),  \n",
    "    (\"Understand\\nthe World\", \"Ask a\\nQuestion\")  \n",
    "]\n",
    "G.add_edges_from(edges)\n",
    "\n",
    "# Build visualization\n",
    "plt.figure(figsize=(10, 10))\n",
    "pos = nx.circular_layout(G)  \n",
    "\n",
    "# Draw the graph\n",
    "nx.draw(G, pos,\n",
    "        with_labels=True,\n",
    "        node_color='lightgreen',\n",
    "        node_size=15000,\n",
    "        font_size=18,\n",
    "        font_weight='bold',\n",
    "        arrows=True,\n",
    "        edge_color='gray',\n",
    "        arrowsize=50, \n",
    "        width=6,\n",
    "        connectionstyle='arc3,rad=0.3')\n",
    "\n",
    "plt.title(\"Data Science Lifecycle in NetworkX\", pad=20, fontsize=30)\n",
    "plt.axis('off')\n",
    "plt.show()\n",
    "plt.savefig(\"data_science_lifecycle.png\", format=\"png\", transparent=True, bbox_inches='tight')\n"
   ]
  }
 ],
 "metadata": {
  "kernelspec": {
   "display_name": "data_env",
   "language": "python",
   "name": "python3"
  },
  "language_info": {
   "codemirror_mode": {
    "name": "ipython",
    "version": 3
   },
   "file_extension": ".py",
   "mimetype": "text/x-python",
   "name": "python",
   "nbconvert_exporter": "python",
   "pygments_lexer": "ipython3",
   "version": "3.10.16"
  }
 },
 "nbformat": 4,
 "nbformat_minor": 2
}

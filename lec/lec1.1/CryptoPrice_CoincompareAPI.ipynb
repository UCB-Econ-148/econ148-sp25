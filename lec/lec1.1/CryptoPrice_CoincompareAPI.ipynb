{
 "cells": [
  {
   "cell_type": "code",
   "execution_count": 30,
   "metadata": {},
   "outputs": [],
   "source": [
    "import requests\n",
    "import json\n",
    "import pandas as pd\n",
    "import plotly.express as px"
   ]
  },
  {
   "cell_type": "markdown",
   "metadata": {},
   "source": [
    "##  Lets Get some Crypto Prices !"
   ]
  },
  {
   "cell_type": "markdown",
   "metadata": {},
   "source": [
    "## Function to fetch current price of a cryptocurrency\n",
    "\n",
    "\n",
    "For reference on this API \n",
    "https://developers.cryptocompare.com/"
   ]
  },
  {
   "cell_type": "code",
   "execution_count": 31,
   "metadata": {},
   "outputs": [],
   "source": [
    "def get_current_price(crypto: str, currency: str = 'USD'):\n",
    "    url = f'https://min-api.cryptocompare.com/data/price?fsym={crypto}&tsyms={currency}'\n",
    "    response = requests.get(url)\n",
    "    if response.status_code == 200:\n",
    "        return response.json()\n",
    "    else:\n",
    "        return f\"Error: {response.status_code} - {response.text}\""
   ]
  },
  {
   "cell_type": "code",
   "execution_count": null,
   "metadata": {},
   "outputs": [],
   "source": [
    "btc_price = get_current_price('BTC', 'USD')\n",
    "print(btc_price)"
   ]
  },
  {
   "cell_type": "code",
   "execution_count": null,
   "metadata": {},
   "outputs": [],
   "source": [
    "# Lets print the price but not as a Json\n",
    "print(btc_price['USD'])\n"
   ]
  },
  {
   "cell_type": "code",
   "execution_count": null,
   "metadata": {},
   "outputs": [],
   "source": [
    "print(f\"Current price of BTC is: {btc_price['USD']} USD\")"
   ]
  },
  {
   "cell_type": "code",
   "execution_count": null,
   "metadata": {},
   "outputs": [],
   "source": [
    "# Lets format the price \n",
    "print(f\"Current price of BTC is: {btc_price['USD']:,.2f} USD\")"
   ]
  },
  {
   "cell_type": "markdown",
   "metadata": {},
   "source": [
    "## Function to fetch historical data for a cryptocurrency\n",
    "\n"
   ]
  },
  {
   "cell_type": "code",
   "execution_count": 36,
   "metadata": {},
   "outputs": [],
   "source": [
    "def get_historical_data(crypto: str, currency: str = 'USD', limit: int = 100):\n",
    "    url = f'https://min-api.cryptocompare.com/data/v2/histoday?fsym={crypto}&tsym={currency}&limit={limit}'\n",
    "    response = requests.get(url)\n",
    "    if response.status_code == 200:\n",
    "        return response.json()\n",
    "    else:\n",
    "        return f\"Error: {response.status_code} - {response.text}\""
   ]
  },
  {
   "cell_type": "code",
   "execution_count": null,
   "metadata": {},
   "outputs": [],
   "source": [
    "print(\"\\nFetching historical price data for Ethereum...\")\n",
    "eth_historical = get_historical_data('ETH', 'USD')\n",
    "print(json.dumps(eth_historical, indent=4))"
   ]
  },
  {
   "cell_type": "code",
   "execution_count": null,
   "metadata": {},
   "outputs": [],
   "source": [
    "eth_historical"
   ]
  },
  {
   "cell_type": "code",
   "execution_count": null,
   "metadata": {},
   "outputs": [],
   "source": [
    "eth_hist_data = eth_historical['Data']['Data']\n",
    "eth_hist_data"
   ]
  },
  {
   "cell_type": "markdown",
   "metadata": {},
   "source": [
    "### Create a dataframe from the historical data\n"
   ]
  },
  {
   "cell_type": "code",
   "execution_count": null,
   "metadata": {},
   "outputs": [],
   "source": [
    "eth_hist_df = pd.DataFrame(eth_hist_data)\n",
    "eth_hist_df "
   ]
  },
  {
   "cell_type": "markdown",
   "metadata": {},
   "source": [
    "### Convert the time to a readable format\n"
   ]
  },
  {
   "cell_type": "code",
   "execution_count": null,
   "metadata": {},
   "outputs": [],
   "source": [
    "eth_hist_df['time'] = pd.to_datetime(eth_hist_df['time'], unit='s')\n",
    "eth_hist_df"
   ]
  },
  {
   "cell_type": "markdown",
   "metadata": {},
   "source": [
    "### Plot the historical data\n"
   ]
  },
  {
   "cell_type": "code",
   "execution_count": null,
   "metadata": {},
   "outputs": [],
   "source": [
    "fig = px.line(eth_hist_df, x='time', y='close', title='ETH (Ethereum) Historical Price')\n",
    "fig.show()"
   ]
  },
  {
   "cell_type": "markdown",
   "metadata": {},
   "source": [
    "## Function to fetch top cryptocurrencies by market cap\n"
   ]
  },
  {
   "cell_type": "code",
   "execution_count": 43,
   "metadata": {},
   "outputs": [],
   "source": [
    "def get_top_cryptos(limit: int = 10):\n",
    "    url = f'https://min-api.cryptocompare.com/data/top/mktcapfull?limit={limit}&tsym=USD'\n",
    "    response = requests.get(url)\n",
    "    if response.status_code == 200:\n",
    "        return response.json()\n",
    "    else:\n",
    "        return f\"Error: {response.status_code} - {response.text}\""
   ]
  },
  {
   "cell_type": "code",
   "execution_count": null,
   "metadata": {},
   "outputs": [],
   "source": [
    "print(\"\\nFetching top cryptocurrencies by market cap...\")\n",
    "top_cryptos = get_top_cryptos(limit=10)\n",
    "top_cryptos\n",
    "\n"
   ]
  },
  {
   "cell_type": "code",
   "execution_count": null,
   "metadata": {},
   "outputs": [],
   "source": [
    "# Assume `top_cryptos` contains the JSON data we got from the original function\n",
    "# Extract the relevant fields\n",
    "crypto_data = []\n",
    "for crypto in top_cryptos[\"Data\"]:\n",
    "    name = crypto[\"CoinInfo\"][\"Name\"]\n",
    "    price = crypto[\"RAW\"][\"USD\"][\"PRICE\"]\n",
    "    market_cap = crypto[\"RAW\"][\"USD\"][\"MKTCAP\"]\n",
    "    crypto_data.append({\"Coin Name\": name, \"Price (USD)\": price, \"Market Cap (USD)\": market_cap})\n",
    "\n",
    "# Create the DataFrame\n",
    "top_cryptos_df = pd.DataFrame(crypto_data)\n",
    "\n",
    "top_cryptos_df"
   ]
  },
  {
   "cell_type": "markdown",
   "metadata": {},
   "source": [
    "#### use plotly to create a bar chart\n"
   ]
  },
  {
   "cell_type": "code",
   "execution_count": null,
   "metadata": {},
   "outputs": [],
   "source": [
    "fig = px.bar(top_cryptos_df, x='Coin Name', y='Market Cap (USD)', title='Top 5 Cryptocurrencies by Market Cap')\n",
    "fig.show()"
   ]
  },
  {
   "cell_type": "code",
   "execution_count": null,
   "metadata": {},
   "outputs": [],
   "source": [
    "# Get price for $TrumpCoin\n",
    "trump_price = get_current_price('TRUMP', 'USD')\n",
    "print(trump_price)"
   ]
  }
 ],
 "metadata": {
  "kernelspec": {
   "display_name": "data_env",
   "language": "python",
   "name": "python3"
  },
  "language_info": {
   "codemirror_mode": {
    "name": "ipython",
    "version": 3
   },
   "file_extension": ".py",
   "mimetype": "text/x-python",
   "name": "python",
   "nbconvert_exporter": "python",
   "pygments_lexer": "ipython3",
   "version": "3.10.16"
  }
 },
 "nbformat": 4,
 "nbformat_minor": 2
}

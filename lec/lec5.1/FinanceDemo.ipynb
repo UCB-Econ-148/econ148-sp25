{
 "cells": [
  {
   "cell_type": "code",
   "execution_count": null,
   "metadata": {},
   "outputs": [],
   "source": []
  },
  {
   "cell_type": "markdown",
   "metadata": {},
   "source": [
    "## Finance Charts in Python Pandas "
   ]
  },
  {
   "cell_type": "code",
   "execution_count": null,
   "metadata": {},
   "outputs": [],
   "source": [
    "import plotly.express as px\n",
    "import yfinance as yf\n",
    "import plotly.graph_objs as go\n",
    "import pandas as pd\n",
    "\n",
    "!pip install mplchart"
   ]
  },
  {
   "cell_type": "markdown",
   "metadata": {},
   "source": [
    "## MPL Finance Demo \n",
    "\n",
    "https://pypi.org/project/mplchart/"
   ]
  },
  {
   "cell_type": "code",
   "execution_count": null,
   "metadata": {},
   "outputs": [],
   "source": []
  },
  {
   "cell_type": "code",
   "execution_count": null,
   "metadata": {},
   "outputs": [],
   "source": [
    "\n",
    "from mplchart.chart import Chart\n",
    "from mplchart.primitives import Candlesticks, Volume\n",
    "from mplchart.indicators import ROC, SMA, EMA, RSI, MACD\n",
    "\n",
    "ticker = 'AAPL'\n",
    "prices = yf.Ticker(ticker).history('5y')\n",
    "\n",
    "max_bars = 250\n",
    "\n",
    "indicators = [\n",
    "    Candlesticks(), SMA(50), SMA(200), Volume(),\n",
    "    RSI(),\n",
    "    MACD(),\n",
    "]\n",
    "\n",
    "chart = Chart(title=ticker, max_bars=max_bars)\n",
    "chart.plot(prices, indicators)"
   ]
  },
  {
   "cell_type": "markdown",
   "metadata": {},
   "source": [
    "Builtin Indicators\n",
    "The libary contains some basic technical analysis indicators implemented in pandas/numpy. Indicators are classes that must be instantiated before being used in the plot api.\n",
    "\n",
    "Some of the indicators included are:\n",
    "\n",
    "- SMA Simple Moving Average\n",
    "- EMA Exponential Moving Average\n",
    "- ROC Rate of Change\n",
    "- RSI Relative Strength Index\n",
    "- MACD Moving Average Convergence Divergence\n",
    "- PPO Price Percentage Oscillator\n",
    "- SLOPE Slope (linear regression with time)\n",
    "- BBANDS Bolling Bands\n"
   ]
  },
  {
   "cell_type": "code",
   "execution_count": null,
   "metadata": {},
   "outputs": [],
   "source": [
    "prices"
   ]
  },
  {
   "cell_type": "code",
   "execution_count": null,
   "metadata": {},
   "outputs": [],
   "source": [
    "prices['Date'] = prices.index\n",
    "\n",
    "fig = go.Figure(data=[go.Candlestick(x=prices['Date'],\n",
    "                open=prices['Open'],\n",
    "                high=prices ['High'],\n",
    "                low=prices['Low'],\n",
    "                close=prices['Close'])])\n",
    "\n",
    "fig.show()"
   ]
  },
  {
   "cell_type": "code",
   "execution_count": null,
   "metadata": {},
   "outputs": [],
   "source": [
    "df = px.data.stocks(indexed=True)-1\n",
    "df"
   ]
  },
  {
   "cell_type": "code",
   "execution_count": null,
   "metadata": {},
   "outputs": [],
   "source": [
    "fig = px.bar(df, x=df.index, y=\"GOOG\")\n",
    "fig.show()"
   ]
  },
  {
   "cell_type": "code",
   "execution_count": null,
   "metadata": {},
   "outputs": [],
   "source": [
    "# Faceted Plot\n",
    "fig = px.area(df, facet_col=\"company\", facet_col_wrap=2)\n",
    "fig.show()\n"
   ]
  },
  {
   "cell_type": "code",
   "execution_count": null,
   "metadata": {},
   "outputs": [],
   "source": [
    "df = px.data.stocks()\n",
    "fig = px.line(df, x=\"date\", y=df.columns,\n",
    "              hover_data={\"date\": \"|%B %d, %Y\"},\n",
    "              title='custom tick labels')\n",
    "fig.update_xaxes(\n",
    "    dtick=\"M1\",\n",
    "    tickformat=\"%b\\n%Y\")\n",
    "fig.show()"
   ]
  },
  {
   "cell_type": "code",
   "execution_count": null,
   "metadata": {},
   "outputs": [],
   "source": []
  }
 ],
 "metadata": {
  "kernelspec": {
   "display_name": "Python 3",
   "language": "python",
   "name": "python3"
  },
  "language_info": {
   "codemirror_mode": {
    "name": "ipython",
    "version": 3
   },
   "file_extension": ".py",
   "mimetype": "text/x-python",
   "name": "python",
   "nbconvert_exporter": "python",
   "pygments_lexer": "ipython3",
   "version": "3.8.15"
  }
 },
 "nbformat": 4,
 "nbformat_minor": 2
}

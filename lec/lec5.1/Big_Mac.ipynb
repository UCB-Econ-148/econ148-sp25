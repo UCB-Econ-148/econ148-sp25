{
 "cells": [
  {
   "cell_type": "code",
   "execution_count": null,
   "metadata": {},
   "outputs": [],
   "source": [
    "import pandas as pd\n",
    "import matplotlib.pyplot as pl\n",
    "#!pip install xlrd"
   ]
  },
  {
   "cell_type": "markdown",
   "metadata": {},
   "source": [
    "## Big Mac Index \n",
    "\n",
    "The Big Mac Index, created by The Economist in 1986, is an informal measure of purchasing power parity (PPP) that compares the price of a McDonald’s Big Mac across different countries. The idea is that since a Big Mac is a globally standardized product, its price should be roughly the same when expressed in a common currency, like the U.S. dollar. If a Big Mac is significantly cheaper in one country compared to another, it suggests that the local currency may be undervalued, while a more expensive Big Mac indicates overvaluation. While not a precise economic tool, the index provides an accessible way to understand currency misalignment, inflation, and global cost-of-living differences. It is often used alongside more formal economic models to assess exchange rates and global economic conditions.\n",
    "\n",
    "\n",
    "The Economist has it on their webpate at https://www.economist.com/interactive/big-mac-index\n",
    "\n",
    "The people that maintain it have a Github that it gets updated at \n",
    "https://github.com/TheEconomist/big-mac-data\n"
   ]
  },
  {
   "cell_type": "code",
   "execution_count": null,
   "metadata": {},
   "outputs": [],
   "source": [
    "url = \"https://github.com/TheEconomist/big-mac-data/raw/refs/heads/master/output-data/big-mac-2024-07-01.xls\"\n",
    "big_mac =pd.read_excel(url, sheet_name='Jul2024')\n",
    "big_mac"
   ]
  },
  {
   "cell_type": "code",
   "execution_count": null,
   "metadata": {},
   "outputs": [],
   "source": [
    "\n",
    "big_mac = big_mac.sort_values('dollar_valuation')\n"
   ]
  },
  {
   "cell_type": "code",
   "execution_count": null,
   "metadata": {},
   "outputs": [],
   "source": [
    "\n",
    "big_mac.plot(x='Country', y='dollar_valuation', kind='barh', figsize=(10, 8), color='blue')\n"
   ]
  },
  {
   "cell_type": "code",
   "execution_count": null,
   "metadata": {},
   "outputs": [],
   "source": [
    "big_mac.plot(x='Country', y='dollar_valuation', kind='barh', figsize=(10, 8), color='blue')\n",
    "pl.title('Big Mac Index - Dollar Valuation')\n",
    "pl.xlabel('Dollar Valuation')\n",
    "pl.ylabel('Country')\n",
    "pl.xticks(rotation=45)\n",
    "pl.tight_layout()\n",
    "pl.savefig('big_mac_index.png')\n",
    "pl.show()\n"
   ]
  },
  {
   "cell_type": "code",
   "execution_count": null,
   "metadata": {},
   "outputs": [],
   "source": []
  },
  {
   "cell_type": "code",
   "execution_count": null,
   "metadata": {},
   "outputs": [],
   "source": [
    "big_mac['color'] = big_mac['dollar_valuation'].apply(lambda x: 'blue' if x > 0 else 'red')\n",
    "big_mac.plot(x='Country', y='dollar_valuation', kind='barh', figsize=(10, 8), color=big_mac['color'])\n",
    "pl.title('Big Mac Index - Dollar Valuation')\n",
    "pl.xlabel('Dollar Valuation')\n",
    "pl.ylabel('Country')\n",
    "pl.xticks(rotation=45)\n",
    "pl.tight_layout()\n",
    "pl.savefig('big_mac_index_colored.png')\n",
    "pl.show()"
   ]
  },
  {
   "cell_type": "markdown",
   "metadata": {},
   "source": [
    "### Let's pick the top 5 countries by trade volume\n",
    "in 2024 these were:   Mexico, Canada, China, Japan, Germany"
   ]
  },
  {
   "cell_type": "code",
   "execution_count": null,
   "metadata": {},
   "outputs": [],
   "source": [
    "\n",
    "largest_partners = ['Mexico', 'Canada', 'China', 'Japan', 'Germany']\n",
    "big_mac_top5 = big_mac[big_mac['Country'].isin(largest_partners)]\n",
    "big_mac_top5 = big_mac_top5.sort_values('dollar_valuation')\n",
    "big_mac_top5.plot(x='Country', y='dollar_valuation', kind='barh', figsize=(10, 8), color='blue')\n",
    "pl.title('Big Mac Index - Dollar Valuation')\n",
    "pl.xlabel('Dollar Valuation')\n",
    "pl.ylabel('Country')\n",
    "pl.xticks(rotation=45)\n",
    "pl.tight_layout()\n",
    "#pl.savefig('big_mac_index_largest_partners.png')\n",
    "pl.show()\n",
    "\n"
   ]
  },
  {
   "cell_type": "markdown",
   "metadata": {},
   "source": [
    "##  We can also look at countries over time\n",
    "In this case we can look at the adjusted - which is normalized by per capita GDP"
   ]
  },
  {
   "cell_type": "code",
   "execution_count": null,
   "metadata": {},
   "outputs": [],
   "source": [
    "url2=\"https://raw.githubusercontent.com/TheEconomist/big-mac-data/refs/heads/master/output-data/big-mac-adjusted-index.csv\"\n",
    "big_mac_adjusted = pd.read_csv(url2)\n",
    "big_mac_adjusted \n"
   ]
  },
  {
   "cell_type": "code",
   "execution_count": null,
   "metadata": {},
   "outputs": [],
   "source": [
    "# Lets pull out China\n",
    "big_mac_adjusted_china = big_mac_adjusted[big_mac_adjusted['name'] == 'China']\n",
    "# plot over time\n",
    "big_mac_adjusted_china.plot(x='date', y='USD', kind='line', figsize=(10, 8), color='blue')\n",
    "pl.title('Big Mac Index - China')\n",
    "pl.xlabel('Date')\n",
    "pl.ylabel('Adjusted Index')\n",
    "pl.xticks(rotation=45)\n",
    "pl.tight_layout()"
   ]
  },
  {
   "cell_type": "code",
   "execution_count": null,
   "metadata": {},
   "outputs": [],
   "source": []
  }
 ],
 "metadata": {
  "kernelspec": {
   "display_name": "data_env",
   "language": "python",
   "name": "python3"
  },
  "language_info": {
   "codemirror_mode": {
    "name": "ipython",
    "version": 3
   },
   "file_extension": ".py",
   "mimetype": "text/x-python",
   "name": "python",
   "nbconvert_exporter": "python",
   "pygments_lexer": "ipython3",
   "version": "3.10.16"
  }
 },
 "nbformat": 4,
 "nbformat_minor": 2
}

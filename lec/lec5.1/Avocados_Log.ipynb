{
 "cells": [
  {
   "cell_type": "code",
   "execution_count": null,
   "metadata": {},
   "outputs": [],
   "source": [
    "import pandas as pd\n",
    "import matplotlib.pyplot as plt\n",
    "import numpy as np\n"
   ]
  },
  {
   "cell_type": "code",
   "execution_count": null,
   "metadata": {},
   "outputs": [],
   "source": [
    "avocado_csv = \"https://raw.githubusercontent.com/data-88e/textbook/master/content/01-demand/avocados.csv\"\n",
    "avocados = pd.read_csv(avocado_csv)"
   ]
  },
  {
   "cell_type": "code",
   "execution_count": null,
   "metadata": {},
   "outputs": [],
   "source": [
    "avocados.plot(kind='scatter', x='Total Volume', y='Average Price', ax=plt.gca())\n"
   ]
  },
  {
   "cell_type": "code",
   "execution_count": null,
   "metadata": {},
   "outputs": [],
   "source": [
    "slope, intercept = np.polyfit(avocados['Total Volume'], avocados['Average Price'], 1)\n",
    "print(\"The slope is:\", slope)\n",
    "print(\"The intercept is:\", intercept)"
   ]
  },
  {
   "cell_type": "code",
   "execution_count": null,
   "metadata": {},
   "outputs": [],
   "source": [
    "x_fit = np.linspace(avocados['Total Volume'].min(), avocados['Total Volume'].max(), 100)\n",
    "y_fit = slope * x_fit + intercept\n"
   ]
  },
  {
   "cell_type": "code",
   "execution_count": null,
   "metadata": {},
   "outputs": [],
   "source": [
    "plt.plot(x_fit, y_fit, color='red', label='Fit Line')\n"
   ]
  },
  {
   "cell_type": "code",
   "execution_count": null,
   "metadata": {},
   "outputs": [],
   "source": [
    "avocados.plot(kind='scatter', x='Total Volume', y='Average Price', ax=plt.gca())\n",
    "plt.plot(x_fit, y_fit, color='red', label='Fit Line')\n"
   ]
  },
  {
   "cell_type": "code",
   "execution_count": null,
   "metadata": {},
   "outputs": [],
   "source": [
    "avocados"
   ]
  },
  {
   "cell_type": "code",
   "execution_count": null,
   "metadata": {},
   "outputs": [],
   "source": [
    "avocados['Predicted Price'] = slope * avocados['Total Volume'] + intercept\n",
    "\n",
    "avocados['Residuals'] = avocados['Average Price'] - avocados['Predicted Price']\n",
    "\n",
    "avocados \n"
   ]
  },
  {
   "cell_type": "code",
   "execution_count": null,
   "metadata": {},
   "outputs": [],
   "source": [
    "\n",
    "plt.scatter(avocados['Total Volume'], avocados['Residuals'], color='blue', label='Residuals')\n",
    "plt.axhline(y=0, color='red', linestyle='--')  \n",
    "plt.title('Residuals of Avocado Price Predictions', fontsize=16)\n",
    "plt.xlabel('Total Volume')\n",
    "plt.ylabel('Residuals')           \n"
   ]
  },
  {
   "cell_type": "code",
   "execution_count": null,
   "metadata": {},
   "outputs": [],
   "source": [
    "avocados['log_Total Volume'] = np.log(avocados['Total Volume'])\n",
    "avocados['log_Average Price'] = np.log(avocados['Average Price'])\n",
    "avocados\n"
   ]
  },
  {
   "cell_type": "code",
   "execution_count": null,
   "metadata": {},
   "outputs": [],
   "source": [
    "slope_sl, intercept_sl = np.polyfit(avocados['Average Price'], avocados['log_Total Volume'], 1)\n",
    "\n",
    "print(\"The slope is: \", slope_sl)\n",
    "print(\"The intercept is: \", intercept_sl)"
   ]
  },
  {
   "cell_type": "code",
   "execution_count": null,
   "metadata": {},
   "outputs": [],
   "source": [
    "avocados.plot(kind='scatter', x='log_Total Volume', y='Average Price', ax=plt.gca())\n",
    "prices = np.arange(0.5, 2.3, 0.01)\n",
    "predicted_quantities = slope_sl * prices + intercept_sl\n",
    "plt.plot(predicted_quantities, prices, color = 'red', label = \"Semi-log demand curve\")\n",
    "plt.xlabel(\"Log Quantity\")\n",
    "plt.ylabel(\"Price\")\n",
    "plt.legend();"
   ]
  },
  {
   "cell_type": "code",
   "execution_count": null,
   "metadata": {},
   "outputs": [],
   "source": [
    "slope_ll, intercept_ll = np.polyfit(avocados['log_Average Price'], avocados['log_Total Volume'], 1)\n",
    "\n",
    "print(\"The slope is: \", slope_ll)\n",
    "print(\"The intercept is: \", intercept_ll)"
   ]
  },
  {
   "cell_type": "code",
   "execution_count": null,
   "metadata": {},
   "outputs": [],
   "source": [
    "avocados.plot(kind='scatter', x='log_Total Volume', y='log_Average Price', ax=plt.gca())\n",
    "prices = np.arange(-0.2, 0.8, 0.01)\n",
    "predicted_quantities = slope_ll * prices + intercept_ll\n",
    "plt.plot(predicted_quantities, prices, color = 'red', label = \"Log-log demand curve\")\n",
    "\n",
    "plt.xlabel(\"Log Quantity\")\n",
    "plt.ylabel(\"Log Price\")\n",
    "plt.legend();"
   ]
  },
  {
   "cell_type": "markdown",
   "metadata": {},
   "source": [
    "for more information follow the Data 88E textbook !\n",
    "https://data88e.org/textbook/content/01-demand/03-log-log.html\n"
   ]
  },
  {
   "cell_type": "code",
   "execution_count": null,
   "metadata": {},
   "outputs": [],
   "source": []
  },
  {
   "cell_type": "code",
   "execution_count": null,
   "metadata": {},
   "outputs": [],
   "source": []
  }
 ],
 "metadata": {
  "kernelspec": {
   "display_name": "Python 3",
   "language": "python",
   "name": "python3"
  },
  "language_info": {
   "codemirror_mode": {
    "name": "ipython",
    "version": 3
   },
   "file_extension": ".py",
   "mimetype": "text/x-python",
   "name": "python",
   "nbconvert_exporter": "python",
   "pygments_lexer": "ipython3",
   "version": "3.8.15"
  }
 },
 "nbformat": 4,
 "nbformat_minor": 2
}

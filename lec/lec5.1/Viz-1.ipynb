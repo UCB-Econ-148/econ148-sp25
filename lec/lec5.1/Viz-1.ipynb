{
 "cells": [
  {
   "cell_type": "code",
   "execution_count": null,
   "id": "490ace99-696e-4bba-a9b8-7cffb32a0267",
   "metadata": {
    "tags": []
   },
   "outputs": [],
   "source": [
    "import seaborn as sns\n",
    "import matplotlib.pyplot as plt\n",
    "import pandas as pd"
   ]
  },
  {
   "cell_type": "code",
   "execution_count": null,
   "id": "ed9f2e7f",
   "metadata": {},
   "outputs": [],
   "source": [
    "print(sns.get_dataset_names())"
   ]
  },
  {
   "cell_type": "code",
   "execution_count": null,
   "id": "8306c80a",
   "metadata": {},
   "outputs": [],
   "source": [
    "penguins = sns.load_dataset(\"penguins\")\n"
   ]
  },
  {
   "cell_type": "code",
   "execution_count": null,
   "id": "5efb71b5",
   "metadata": {},
   "outputs": [],
   "source": [
    "sns.histplot(data=penguins, x=\"flipper_length_mm\", hue=\"species\")"
   ]
  },
  {
   "cell_type": "code",
   "execution_count": null,
   "id": "c2548014-e862-4386-8fdd-04c509e084d8",
   "metadata": {},
   "outputs": [],
   "source": [
    "penguins = sns.load_dataset(\"penguins\")\n",
    "sns.histplot(data=penguins, x=\"flipper_length_mm\", hue=\"species\", multiple=\"stack\")"
   ]
  },
  {
   "cell_type": "code",
   "execution_count": null,
   "id": "2979a170",
   "metadata": {},
   "outputs": [],
   "source": [
    "penguins = sns.load_dataset(\"penguins\")\n",
    "sns.histplot(data=penguins, x=\"flipper_length_mm\", hue=\"species\", multiple=\"dodge\")"
   ]
  },
  {
   "cell_type": "code",
   "execution_count": null,
   "id": "7cfa81a0",
   "metadata": {},
   "outputs": [],
   "source": [
    "penguins = sns.load_dataset(\"penguins\")\n",
    "sns.histplot(data=penguins, x=\"flipper_length_mm\", hue=\"species\", multiple=\"fill\")"
   ]
  },
  {
   "cell_type": "code",
   "execution_count": null,
   "id": "8cb2ad82-e60a-4661-88c4-97755eed8f7a",
   "metadata": {},
   "outputs": [],
   "source": [
    "sns.kdeplot(data=penguins, x=\"flipper_length_mm\", hue=\"species\")#, multiple=\"stack\")\n"
   ]
  },
  {
   "cell_type": "code",
   "execution_count": null,
   "id": "9d79c23c-a037-4c9b-a658-54ad2f4b77e7",
   "metadata": {},
   "outputs": [],
   "source": [
    "\n"
   ]
  },
  {
   "cell_type": "code",
   "execution_count": null,
   "id": "9a69df91",
   "metadata": {},
   "outputs": [],
   "source": []
  },
  {
   "cell_type": "code",
   "execution_count": null,
   "id": "44f7e935-45b3-4792-94d5-a46686508653",
   "metadata": {},
   "outputs": [],
   "source": [
    "sns.displot(data=penguins, x=\"flipper_length_mm\", hue=\"species\", col=\"species\")\n"
   ]
  },
  {
   "cell_type": "code",
   "execution_count": null,
   "id": "3619293b-60ff-4008-821d-71d14de2341d",
   "metadata": {},
   "outputs": [],
   "source": [
    "f, axs = plt.subplots(1, 2, figsize=(8, 4), gridspec_kw=dict(width_ratios=[4, 3]))\n",
    "sns.scatterplot(data=penguins, x=\"flipper_length_mm\", y=\"bill_length_mm\", hue=\"species\", ax=axs[0])\n",
    "sns.histplot(data=penguins, x=\"species\", hue=\"species\", shrink=.8, alpha=.8, legend=False, ax=axs[1])\n",
    "f.tight_layout()"
   ]
  },
  {
   "cell_type": "code",
   "execution_count": null,
   "id": "d472b850",
   "metadata": {},
   "outputs": [],
   "source": [
    "\n",
    "sns.pairplot(penguins)"
   ]
  },
  {
   "cell_type": "code",
   "execution_count": null,
   "id": "eda1e996",
   "metadata": {},
   "outputs": [],
   "source": [
    "sns.pairplot(penguins, hue=\"species\")\n"
   ]
  },
  {
   "cell_type": "code",
   "execution_count": null,
   "id": "a6f9d430",
   "metadata": {},
   "outputs": [],
   "source": [
    "sns.jointplot(data=penguins, x=\"bill_length_mm\", y=\"bill_depth_mm\", hue=\"species\")\n"
   ]
  },
  {
   "cell_type": "code",
   "execution_count": null,
   "id": "22931426",
   "metadata": {},
   "outputs": [],
   "source": [
    "tips = sns.load_dataset(\"tips\")\n",
    "sns.catplot(data=tips, x=\"day\", y=\"total_bill\", alpha=0.7)"
   ]
  },
  {
   "cell_type": "code",
   "execution_count": null,
   "id": "eef158bc-a754-40fc-a5c9-daafe96e7269",
   "metadata": {},
   "outputs": [],
   "source": [
    "sns.catplot(data=tips, x=\"day\", y=\"total_bill\", alpha=0.5)\n"
   ]
  },
  {
   "cell_type": "code",
   "execution_count": null,
   "id": "1da73480-453d-4d7c-8fb7-477179589172",
   "metadata": {},
   "outputs": [],
   "source": [
    "sns.catplot(data=tips, x=\"day\", y=\"total_bill\", jitter=False)\n"
   ]
  },
  {
   "cell_type": "code",
   "execution_count": null,
   "id": "3a5b18ad-bc68-4f4e-b96a-f1212c960b92",
   "metadata": {},
   "outputs": [],
   "source": [
    "sns.catplot(data=tips, x=\"day\", y=\"total_bill\", kind=\"box\")\n"
   ]
  },
  {
   "cell_type": "code",
   "execution_count": null,
   "id": "fdcc2178-0096-4356-8341-9a69af3df9f2",
   "metadata": {},
   "outputs": [],
   "source": [
    "sns.catplot(data=tips, x=\"day\", y=\"total_bill\", hue=\"smoker\", kind=\"box\")\n"
   ]
  },
  {
   "cell_type": "code",
   "execution_count": null,
   "id": "23533caa-0332-4268-9e05-76507de1e23b",
   "metadata": {},
   "outputs": [],
   "source": [
    "sns.catplot(\n",
    "    data=tips, x=\"day\", y=\"total_bill\", hue=\"sex\",\n",
    "    kind=\"violin\", split=True,\n",
    ")"
   ]
  },
  {
   "cell_type": "code",
   "execution_count": null,
   "id": "c8baeb48-707c-466f-91d3-4b06bbffdcab",
   "metadata": {},
   "outputs": [],
   "source": [
    "seaice = sns.load_dataset(\"seaice\")\n",
    "seaice\n"
   ]
  },
  {
   "cell_type": "code",
   "execution_count": null,
   "id": "bea561cc",
   "metadata": {},
   "outputs": [],
   "source": [
    "years = [1979,1980,2010,2012,2015,2016,2018,2019]"
   ]
  },
  {
   "cell_type": "code",
   "execution_count": null,
   "id": "0cc28d12",
   "metadata": {},
   "outputs": [],
   "source": [
    "seaice['Date'] = pd.to_datetime(seaice['Date'])\n",
    "seaice['year'] = seaice['Date'].dt.year\n",
    "seaice['yearday'] = seaice['Date'].dt.dayofyear  # Create 'yearday' column\n",
    "\n",
    "\n",
    "filtered_data = seaice[seaice['year'].isin(years)]\n",
    "groups = filtered_data.groupby('year')"
   ]
  },
  {
   "cell_type": "code",
   "execution_count": null,
   "id": "c45542f3",
   "metadata": {},
   "outputs": [],
   "source": [
    "\n",
    "\n",
    "pal = sns.color_palette(\"hls\", n_colors=len(years))  # Use len(years) to ensure the palette size matches\n",
    "\n",
    "fig, axs = plt.subplots(figsize=(14, 7))\n",
    "\n",
    "for (yr, g), color in zip(groups, pal):\n",
    "    axs.plot(g['yearday'], g['Extent'], lw=1.8, label=yr, color=color)\n",
    "\n",
    "plt.legend(title='Year')\n",
    "plt.title('Sea Ice Extent by Year')\n",
    "plt.xlabel('Day of Year')\n",
    "plt.ylabel('Extent')\n",
    "plt.show()\n",
    "\n",
    "\n"
   ]
  },
  {
   "cell_type": "code",
   "execution_count": null,
   "id": "949cd0e4",
   "metadata": {},
   "outputs": [],
   "source": []
  }
 ],
 "metadata": {
  "kernelspec": {
   "display_name": "data_env",
   "language": "python",
   "name": "python3"
  },
  "language_info": {
   "codemirror_mode": {
    "name": "ipython",
    "version": 3
   },
   "file_extension": ".py",
   "mimetype": "text/x-python",
   "name": "python",
   "nbconvert_exporter": "python",
   "pygments_lexer": "ipython3",
   "version": "3.10.16"
  }
 },
 "nbformat": 4,
 "nbformat_minor": 5
}

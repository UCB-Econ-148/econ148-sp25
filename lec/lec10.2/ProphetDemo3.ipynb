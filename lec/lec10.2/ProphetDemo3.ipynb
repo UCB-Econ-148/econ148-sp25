{
 "cells": [
  {
   "cell_type": "markdown",
   "id": "6504e0cc",
   "metadata": {},
   "source": [
    "# Advanced Prophet Demo Part II\n",
    "Jingyuan Chen, Prepared for ECON 148 by DSUS Modules Team"
   ]
  },
  {
   "cell_type": "markdown",
   "id": "68d84adc",
   "metadata": {},
   "source": [
    "Import the packages  if needed"
   ]
  },
  {
   "cell_type": "code",
   "execution_count": null,
   "id": "162730f2-74ba-4561-b925-ef2770180ad2",
   "metadata": {},
   "outputs": [],
   "source": [
    "#!pip install fredapi\n",
    "#!pip install prophet\n",
    "#!pip install yfinance"
   ]
  },
  {
   "cell_type": "code",
   "execution_count": null,
   "id": "01cf1a63-48b2-4163-8b81-4cfcb803d045",
   "metadata": {},
   "outputs": [],
   "source": [
    "from prophet import Prophet\n",
    "import pandas as pd\n",
    "import matplotlib.pyplot as plt\n",
    "from sklearn.metrics import mean_absolute_error\n",
    "import yfinance as yf\n",
    "from fredapi import Fred\n",
    "fred = Fred(api_key='e3053cdc3e94dfb2b73c5945b0d1b1f7')"
   ]
  },
  {
   "cell_type": "markdown",
   "id": "70e7cc69",
   "metadata": {},
   "source": [
    "## Prophet: Additive Models\n"
   ]
  },
  {
   "cell_type": "markdown",
   "id": "faa903e6",
   "metadata": {},
   "source": [
    "Previously, we learned about ARIMA Models which builds a formula for future values as a function of past data – assuming causality between past and future. Today, we’ll explore Facebook’s Prophet tool, which makes use of an “Additive Model”. Instead of attempting to forecast based on a function of past data, additive models look at major “change points” in trends through combining (hence additive) factors, i.e. looking for the “best fit curve” for our data.\n",
    "\n",
    "The idea is quite simple: we can decompose a time series as a combination of patterns\n",
    "\n",
    "$$\n",
    "y(t) = g(t) + s(t) + h(t) + \\epsilon(t)\n",
    "$$\n",
    "\n",
    "- $s(t)$ is our general data trend, which attempts to capture the general direction of our time-series through fitting piecewise linear or lin-log functions at “change points”. \n",
    "- $g(t)$ is our seasonal component using Fourier series for larger periods (months, years), and dummy variables for small periods (weeks) \n",
    "- $h(t)$ are our important holidays / exception points provided by the user or the default list. These are modeled as gaussian functions for smoothing.\n",
    "- $\\epsilon(t)$ is essentially our noise error / residual term which cannot be explained by our previous components. \n",
    " \n",
    "\n",
    "Prophet works best with time series that have strong seasonal effects and several seasons of historical data. You can read more about this model in the team’s [white paper](https://peerj.com/preprints/3190/) and [documentation](https://facebook.github.io/prophet/docs/quick_start.html#python-api). Prophet is also [open source](https://github.com/facebook/prophet)\n"
   ]
  },
  {
   "cell_type": "markdown",
   "id": "5aa0fbc9",
   "metadata": {},
   "source": [
    "## Dangers & Assumptions"
   ]
  },
  {
   "cell_type": "markdown",
   "id": "6319ef37",
   "metadata": {},
   "source": [
    "Like many other forecasting packages, Prophet is a somewhat \"opinionated\" model and has certain biases and assumptions, it is important to take into consideration these limitations when conducting analysis on our forecasts and conduct cross validation across models.\n",
    "\n",
    "Some food for thought: in 2021 Zillow’s data science team allegedly made heavy use of Prophet as the basis of their price prediction model, which failed to predict houses accurately enough leading to a loss of $300MM in a single quarter. [Read more](https://ryxcommar.com/2021/11/06/zillow-prophet-time-series-and-prices/)\n",
    "\n",
    "Some important considerations to keep in mind when using Prophet is that it assumes:  \n",
    "- Additivity, it is assumed that our trend, seasonality, holidays and error are independent and can be combined linearly. Additionally, Prophet does not assume a stochastic trend. \n",
    "- Seasonality, it is assumed that seasonal patterns repeat over time cyclically (yearly, monthly, weekly, daily, etc) and predictably.\n",
    "- Holidays & exceptions, Prophet makes use of built in lists of holiday effects it is assumed that these effects are constant over time [read more](https://facebook.github.io/prophet/docs/seasonality,_holiday_effects,_and_regressors.html)\n",
    "- Errors are assumed to be due to noise (and hence Gaussian). This gives up some inferential advantages of ARIMA (in return for more relaxed and plausible assumptions), as we do not assume causal relations between our past data/errors and our future ones (no autocorrelation on residual). \n"
   ]
  },
  {
   "cell_type": "markdown",
   "id": "9f21d05c",
   "metadata": {},
   "source": [
    "## Case 1: Air Revenue Passenger Miles Over Time"
   ]
  },
  {
   "cell_type": "markdown",
   "id": "f746bac3",
   "metadata": {},
   "source": [
    "Lets take the example of our data set Air Revenue Passenger Miles (AIRRPMTSI) from FRED. Revenue passenger miles are calculated by multiplying the number of paying passengers by the distance traveled."
   ]
  },
  {
   "cell_type": "code",
   "execution_count": null,
   "id": "2ba7790f",
   "metadata": {},
   "outputs": [],
   "source": [
    "data = fred.get_series('AIRRPMTSI')"
   ]
  },
  {
   "cell_type": "code",
   "execution_count": null,
   "id": "c5399179",
   "metadata": {},
   "outputs": [],
   "source": [
    "df = pd.DataFrame({'ds': data.index, 'y': data.values}) #can vary \n",
    "model = Prophet(seasonality_mode='multiplicative') #should be the same\n",
    "model.fit(df) #given"
   ]
  },
  {
   "cell_type": "code",
   "execution_count": null,
   "id": "d8d4f9a2-c4b8-407e-88f4-6cadbf1c1621",
   "metadata": {},
   "outputs": [],
   "source": [
    "future = model.make_future_dataframe(periods=730)  #May have slight variations\n",
    "forecast = model.predict(future) # Given"
   ]
  },
  {
   "cell_type": "code",
   "execution_count": null,
   "id": "ebb2e66f-b7d8-4cac-ba73-22625afd1ce9",
   "metadata": {},
   "outputs": [],
   "source": [
    "fig = model.plot(forecast) # should be the same #\n",
    "plt.title(\"Air Revenue Passenger Miles Forecast\") #plotly parts can have variance\n",
    "plt.xlabel(\"Date\")\n",
    "plt.ylabel(\"Air Revenue Passenger Miles (Thousands)\")\n",
    "plt.show() #given"
   ]
  },
  {
   "cell_type": "markdown",
   "id": "420dd867",
   "metadata": {},
   "source": [
    "Run the following cell:"
   ]
  },
  {
   "cell_type": "code",
   "execution_count": null,
   "id": "8f399677-4fde-47b1-816e-3bd9e4cad934",
   "metadata": {},
   "outputs": [],
   "source": [
    "from prophet.plot import add_changepoints_to_plot\n",
    "change_points_df = df.loc[df[\"ds\"].isin(model.changepoints)]\n",
    "fig = model.plot(forecast, figsize=(12, 6))\n",
    "plt.scatter(change_points_df['ds'], change_points_df['y'], color='red', marker='x', s=100, label='Change Points')\n",
    "plt.legend(loc='upper left')\n",
    "plt.show()"
   ]
  },
  {
   "cell_type": "markdown",
   "id": "e3ead56f",
   "metadata": {},
   "source": [
    "Prophet is its ability to provide component plots, which break down the forecast into its individual components. Run the following cell:"
   ]
  },
  {
   "cell_type": "code",
   "execution_count": null,
   "id": "9b0f460d",
   "metadata": {},
   "outputs": [],
   "source": [
    "fig2 = model.plot_components(forecast)\n",
    "plt.show()"
   ]
  },
  {
   "cell_type": "markdown",
   "id": "9f2671d4",
   "metadata": {},
   "source": [
    "## Case 2: Monthly Air Passengers"
   ]
  },
  {
   "cell_type": "markdown",
   "id": "9020277b",
   "metadata": {},
   "source": [
    "Traditionally, By default Prophet fits additive seasonalities, meaning the effect of the seasonality is added to the trend to get the forecast. Let's think why this might not always be the case, namely following our previous example of air travel. Why would we use multiplactive seasonality in our previous example?\n",
    "\n",
    "For this example, we make use of a seperate data set which includes the number of air passengers monthly from 1949 to 1960. (Read up on what happened to air travel during this period!)"
   ]
  },
  {
   "cell_type": "code",
   "execution_count": null,
   "id": "99e4dfdd",
   "metadata": {},
   "outputs": [],
   "source": [
    "data2 = pd.read_csv('https://raw.githubusercontent.com/facebook/prophet/main/examples/example_air_passengers.csv')"
   ]
  },
  {
   "cell_type": "code",
   "execution_count": null,
   "id": "8b5cf10b",
   "metadata": {},
   "outputs": [],
   "source": [
    "model2 = Prophet(seasonality_mode='additive')\n",
    "model2.fit(data2)\n",
    "future = model2.make_future_dataframe(50, freq='MS')\n",
    "forecast = model2.predict(future)\n",
    "fig = model2.plot(forecast)\n",
    "plt.title('Additive Model')\n",
    "plt.show()\n",
    "\n",
    "model3 = Prophet(seasonality_mode='multiplicative')\n",
    "model3.fit(data2)\n",
    "future = model3.make_future_dataframe(50, freq='MS')\n",
    "forecast = model3.predict(future)\n",
    "fig = model3.plot(forecast)\n",
    "plt.title('Multiplicative Model')\n",
    "plt.show()"
   ]
  },
  {
   "cell_type": "markdown",
   "id": "776fdc85",
   "metadata": {},
   "source": [
    "It turns out that by default Prophet fits additive seasonalities, meaning the effect of the seasonality is added to the trend to get the forecast. Consider if seasonality is an additive factor as assumed by Prophet. As air travel improves with time with greater accessibility do we expect that it should also grow with the trend? In general: \n",
    "\n",
    "Additive Model:\n",
    "Suitable when variance is constant: If the variance (fluctuations or noise) in the time series is roughly constant across different levels of the time series, an additive model may be appropriate. In other words, the seasonal patterns contribute a constant amount to the overall variability of the time series.\n",
    "\n",
    "Multiplicative Model:\n",
    "Suitable when variance scales with the level: If the variance of the time series increases (or decreases) with the overall level of the time series, a multiplicative model may be more appropriate. This is often the case when the seasonal patterns contribute proportionally to the overall level of the time series.\n"
   ]
  },
  {
   "cell_type": "markdown",
   "id": "135b807d",
   "metadata": {},
   "source": [
    "## Evaluating Performance\n",
    "While we can see that in this instance, one model clearly does a better job, we would like to find some way of quantifying this. Run the following cell."
   ]
  },
  {
   "cell_type": "code",
   "execution_count": null,
   "id": "be115514",
   "metadata": {},
   "outputs": [],
   "source": [
    "from prophet.diagnostics import cross_validation\n",
    "from prophet.diagnostics import performance_metrics\n",
    "\n",
    "df_cv_additive = cross_validation(model2, initial='730 days', period='180 days', horizon='365 days')\n",
    "metrics_additive = performance_metrics(df_cv_additive)\n",
    "\n",
    "print(metrics_additive[['horizon', 'mae']])\n",
    "overall_mae_additive = metrics_additive['mae'].mean()\n",
    "print(f'Overall MAE (Additive Model): {overall_mae_additive:.3f}')\n",
    "\n",
    "df_cv_multiplicative = cross_validation(model3, initial='730 days', period='180 days', horizon='365 days')\n",
    "metrics_multiplicative = performance_metrics(df_cv_multiplicative)\n",
    "\n",
    "print(metrics_multiplicative[['horizon', 'mae']])\n",
    "overall_mae_multiplicative = metrics_multiplicative['mae'].mean()\n",
    "print(f'Overall MAE (Multiplicative Model): {overall_mae_multiplicative:.3f}')"
   ]
  },
  {
   "cell_type": "code",
   "execution_count": null,
   "id": "da570482",
   "metadata": {},
   "outputs": [],
   "source": []
  }
 ],
 "metadata": {
  "kernelspec": {
   "display_name": "data_env",
   "language": "python",
   "name": "python3"
  },
  "language_info": {
   "codemirror_mode": {
    "name": "ipython",
    "version": 3
   },
   "file_extension": ".py",
   "mimetype": "text/x-python",
   "name": "python",
   "nbconvert_exporter": "python",
   "pygments_lexer": "ipython3",
   "version": "3.10.16"
  }
 },
 "nbformat": 4,
 "nbformat_minor": 5
}

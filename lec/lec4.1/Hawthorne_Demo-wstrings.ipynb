{
 "cells": [
  {
   "cell_type": "code",
   "execution_count": null,
   "id": "1b5b93a1-f3e0-4f9d-9b90-4ad181bf9f95",
   "metadata": {},
   "outputs": [],
   "source": [
    "import pandas as pd\n",
    "import regex as re\n",
    "import numpy as np\n",
    "import plotly.express as px\n",
    "import plotly.graph_objects as go\n",
    "import statsmodels.api as sm\n",
    "from statsmodels.api import OLS\n",
    "import matplotlib.pyplot as plt\n",
    "import seaborn as sns\n",
    "%matplotlib inline\n"
   ]
  },
  {
   "cell_type": "markdown",
   "id": "b959cb06-7dfa-469d-9827-ff513af01ddb",
   "metadata": {},
   "source": [
    "## BWM Demo for Lecture"
   ]
  },
  {
   "cell_type": "code",
   "execution_count": null,
   "id": "1ba383b2-0f31-4133-8a1b-71c39881f01e",
   "metadata": {},
   "outputs": [],
   "source": [
    "child = \"https://github.com/UCB-Econ-148/econ148-sp24/raw/main/lab/lab03/BWM_child_EVDvars.dta\"\n",
    "hh = \"https://github.com/UCB-Econ-148/econ148-sp24/raw/main/lab/lab03/BWM_HH_EVDvars.dta\""
   ]
  },
  {
   "cell_type": "code",
   "execution_count": null,
   "id": "c432ba99-8f45-4ca6-a07c-cb707d6b4e0b",
   "metadata": {},
   "outputs": [],
   "source": [
    "wg_df = pd.read_stata(child) \n",
    "wg_df.head()"
   ]
  },
  {
   "cell_type": "code",
   "execution_count": null,
   "id": "3a841c78-2eab-428f-a9d4-5f01372268c8",
   "metadata": {},
   "outputs": [],
   "source": [
    "hh_wg = pd.read_stata(hh) \n",
    "hh_wg"
   ]
  },
  {
   "cell_type": "markdown",
   "id": "82ed9cf6-4187-4116-aa48-af9c872a045c",
   "metadata": {},
   "source": [
    "## Let's look at dates of the surveys"
   ]
  },
  {
   "cell_type": "code",
   "execution_count": null,
   "id": "69ac7341-c96b-4260-8324-0833da6f42f3",
   "metadata": {},
   "outputs": [],
   "source": [
    "Dates_df = hh_wg.groupby('bwm_round')['interview_date'].first().reset_index()\n",
    "Dates_df.head(20)"
   ]
  },
  {
   "cell_type": "markdown",
   "id": "d97390c6-da1e-45b9-b576-00a23ef3417f",
   "metadata": {},
   "source": [
    "##  Lets look at the variables"
   ]
  },
  {
   "cell_type": "code",
   "execution_count": null,
   "id": "2c5c888d-c01f-401a-848a-7016a4b3fa1f",
   "metadata": {},
   "outputs": [],
   "source": [
    "hh_wg.columns"
   ]
  },
  {
   "cell_type": "code",
   "execution_count": null,
   "id": "99392738-2daa-4abe-9bf1-b90b63527eba",
   "metadata": {},
   "outputs": [],
   "source": [
    "column_names_list = list(hh_wg.columns)\n",
    "print(column_names_list)\n"
   ]
  },
  {
   "cell_type": "markdown",
   "id": "25adeb3f-8ef5-4945-9014-3f2e4b821732",
   "metadata": {},
   "source": [
    "## Lets looks for variables that begin with g\n",
    "### Using Regex syntax "
   ]
  },
  {
   "cell_type": "code",
   "execution_count": null,
   "id": "415f97cd-cb05-4657-a845-77027be7ab03",
   "metadata": {},
   "outputs": [],
   "source": [
    "#gvars = hh_wg.filter(regex='[gG]')\n",
    "#gvars = hh_wg.filter(regex='^[gG]')\n",
    "gvars = hh_wg.filter(regex='^[gG]\\d')\n",
    "gvars"
   ]
  },
  {
   "cell_type": "code",
   "execution_count": null,
   "id": "cca07ac1-aee6-4178-8a4f-afeb89761df6",
   "metadata": {},
   "outputs": [],
   "source": [
    "hvars = hh_wg.filter(regex='^[hH]\\d')\n",
    "hvars"
   ]
  },
  {
   "cell_type": "code",
   "execution_count": null,
   "id": "30a6431f-7151-4220-a47f-c2f6549c70e9",
   "metadata": {},
   "outputs": [],
   "source": [
    "hgvars = hh_wg[['a1_hh_id','bwm_round','g5_current_water_treated', 'h5_chlorine_color', 'h6_chlorine_meter']]\n",
    "hgvars"
   ]
  },
  {
   "cell_type": "code",
   "execution_count": null,
   "id": "17154362-52a5-41c5-94b3-f4039e4a7be1",
   "metadata": {},
   "outputs": [],
   "source": [
    "hgvars['g5xh5']= ((hgvars['g5_current_water_treated']==1) & (hgvars['h5_chlorine_color']>=1)).astype(int)\n",
    "hgvars['g5xh6']= ((hgvars['g5_current_water_treated']==1) & (hgvars['h6_chlorine_meter']>=0.05)).astype(int)\n",
    "\n",
    "hgvars"
   ]
  },
  {
   "cell_type": "code",
   "execution_count": null,
   "id": "daec2a0b-6628-451b-9cbd-578ea6458fdf",
   "metadata": {},
   "outputs": [],
   "source": [
    "hgvars.loc[:, 'g5xh5']= ((hgvars['g5_current_water_treated']==1) & (hgvars['h5_chlorine_color']>=1)).astype(int)\n",
    "hgvars.loc[:,'g5xh6']= ((hgvars['g5_current_water_treated']==1) & (hgvars['h6_chlorine_meter']>=0.05)).astype(int)\n",
    "\n",
    "hgvars"
   ]
  },
  {
   "cell_type": "code",
   "execution_count": null,
   "id": "b888f0b6-e823-49ae-b7a4-6797c46284d7",
   "metadata": {},
   "outputs": [],
   "source": [
    "matches = (hgvars['g5xh5'] == hgvars['g5xh6'])\n",
    "matches.sum()"
   ]
  },
  {
   "cell_type": "code",
   "execution_count": null,
   "id": "6d77f0ff-f45a-431d-bb73-cf7f975a0555",
   "metadata": {},
   "outputs": [],
   "source": [
    "mismatches = (hgvars['g5xh5'] != hgvars['g5xh6'])\n",
    "mismatches.sum()"
   ]
  },
  {
   "cell_type": "code",
   "execution_count": null,
   "id": "49d3f4d5-9828-4c88-bf34-6f79795a6385",
   "metadata": {},
   "outputs": [],
   "source": [
    "pct = mismatches.sum()/(matches.sum()+mismatches.sum())\n",
    "pct"
   ]
  },
  {
   "cell_type": "code",
   "execution_count": null,
   "id": "5c49e068-e77a-4496-a159-35adc39c59e4",
   "metadata": {},
   "outputs": [],
   "source": [
    "gvars['g4a_collect_other_type'].unique()"
   ]
  },
  {
   "cell_type": "code",
   "execution_count": null,
   "id": "43486772-0ada-4fd5-ac47-9a85eec15cee",
   "metadata": {},
   "outputs": [],
   "source": []
  },
  {
   "cell_type": "code",
   "execution_count": null,
   "id": "db4cde14-0a82-4f11-8425-b078778f8e3c",
   "metadata": {},
   "outputs": [],
   "source": [
    "gvars['protected_count'] = gvars['g4a_collect_other_type'].str.count(r'protected', flags=re.IGNORECASE)\n",
    "gvars"
   ]
  },
  {
   "cell_type": "code",
   "execution_count": null,
   "id": "94f4a55f-ba67-4b95-95e3-41363dd124fc",
   "metadata": {},
   "outputs": [],
   "source": [
    "gvars['protected_count'].describe()"
   ]
  },
  {
   "cell_type": "code",
   "execution_count": null,
   "id": "2a5cecab-8830-43c1-a77b-c198267573f5",
   "metadata": {},
   "outputs": [],
   "source": []
  }
 ],
 "metadata": {
  "kernelspec": {
   "display_name": "Python 3 (ipykernel)",
   "language": "python",
   "name": "python3"
  },
  "language_info": {
   "codemirror_mode": {
    "name": "ipython",
    "version": 3
   },
   "file_extension": ".py",
   "mimetype": "text/x-python",
   "name": "python",
   "nbconvert_exporter": "python",
   "pygments_lexer": "ipython3",
   "version": "3.11.0"
  }
 },
 "nbformat": 4,
 "nbformat_minor": 5
}

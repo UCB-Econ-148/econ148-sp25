{
 "cells": [
  {
   "cell_type": "code",
   "execution_count": null,
   "id": "0de5c4a1",
   "metadata": {
    "deletable": false,
    "editable": false
   },
   "outputs": [],
   "source": [
    "# Initialize Otter\n",
    "import otter\n",
    "grader = otter.Notebook(\"lab02.ipynb\")"
   ]
  },
  {
   "cell_type": "code",
   "execution_count": null,
   "id": "128c4974",
   "metadata": {},
   "outputs": [],
   "source": [
    "import pandas as pd\n",
    "import numpy as np\n",
    "import matplotlib.pyplot as plt\n",
    "import requests\n",
    "from urllib.parse import urlencode\n",
    "%matplotlib inline"
   ]
  },
  {
   "cell_type": "markdown",
   "id": "4efc9947",
   "metadata": {},
   "source": [
    "# Lab 2: API and Data Cleaning"
   ]
  },
  {
   "cell_type": "markdown",
   "id": "4e06ac58",
   "metadata": {},
   "source": [
    "This lab consists of two parts: the first part will give you more practice with cleaning and manipulating data with pandas, while the second part will shift focus to actually obtaining datasets with API calls. "
   ]
  },
  {
   "cell_type": "markdown",
   "id": "2449e336",
   "metadata": {},
   "source": [
    "### Learning Objectives\n",
    "- How to make an API call to extract data in the basic settings. \n",
    "- How to postprocess the API response and convert the returned data into a dataframe. \n",
    "- Filter a dataset for relevant rows and columns. \n",
    "- Use groupby and common aggregation techniques. \n",
    "- Sort the dataframe by a column. "
   ]
  },
  {
   "cell_type": "markdown",
   "id": "dfca0cb5",
   "metadata": {},
   "source": [
    "----\n",
    "## Section 1: College Majors\n",
    "This section is inspired by [\"The Economic Guide To Picking A College Major\"](https://fivethirtyeight.com/features/the-economic-guide-to-picking-a-college-major/) by FiveThirtyEight. We won't be doing the full length of analysis here."
   ]
  },
  {
   "cell_type": "markdown",
   "id": "78396fe6",
   "metadata": {},
   "source": [
    "### Import Data\n",
    "The dataset is sourced from [Integrated Public Use Microdata Series (IPUMS) USA](https://usa.ipums.org/usa/) for the 2019 ACS and the 2009 ACS.  IPUMS USA collects, preserves and harmonizes U.S. census microdata and provides easy access to these data with enhanced documentation. Data include decennial censuses from 1790 to 2010 and American Community Surveys (ACS) from 2000 to the present. \n",
    "\n",
    "In this part of the lab, we will use a fraction (about 6\\%) of the data due to Datahub's memory limitation. Feel free to download the entire IPUMS data and play around with it on your local machine. \n",
    "\n",
    "First, we will import the data sample. "
   ]
  },
  {
   "cell_type": "code",
   "execution_count": null,
   "id": "38594191",
   "metadata": {},
   "outputs": [],
   "source": [
    "ipums_raw = pd.read_csv(\"data/ipums-acs-sample.csv\")\n",
    "ipums_raw"
   ]
  },
  {
   "cell_type": "markdown",
   "id": "5a851b33-8713-471f-b365-95bab86168e0",
   "metadata": {
    "deletable": false,
    "editable": false
   },
   "source": [
    "<!-- BEGIN QUESTION -->\n",
    "\n",
    "**Question 1.1:** We have noticed that there are some missing values in the data (scroll all the way to the right of the dataframe to see some of the NaNs). What are the different ways of handling missing data? What are their advantages? What are their disadvantages?"
   ]
  },
  {
   "cell_type": "markdown",
   "id": "70a61874",
   "metadata": {},
   "source": [
    "_Type your answer here, replacing this text._"
   ]
  },
  {
   "cell_type": "markdown",
   "id": "530c369b",
   "metadata": {
    "deletable": false,
    "editable": false
   },
   "source": [
    "<!-- END QUESTION -->\n",
    "\n",
    "**Question 1.2:** For the sake of simplicity, we'll just drop these missing values here, even though it isn't the best approach for dealing with missing data. Fill in the cell below to drop all NaN values.\n",
    "\n",
    "*Bonus:* Why do we reset index after dropping the missing values?"
   ]
  },
  {
   "cell_type": "code",
   "execution_count": null,
   "id": "b40fa360",
   "metadata": {
    "tags": []
   },
   "outputs": [],
   "source": [
    "# drop rows with missing values\n",
    "ipums_raw = ...\n",
    "ipums_raw = ipums_raw.reset_index()\n",
    "ipums_raw.shape[0]"
   ]
  },
  {
   "cell_type": "code",
   "execution_count": null,
   "id": "c2e1166c",
   "metadata": {
    "deletable": false,
    "editable": false
   },
   "outputs": [],
   "source": [
    "grader.check(\"q1_2\")"
   ]
  },
  {
   "cell_type": "markdown",
   "id": "aa0c746a",
   "metadata": {},
   "source": [
    "### Selecting Relevant Variables"
   ]
  },
  {
   "cell_type": "markdown",
   "id": "e77a32ca",
   "metadata": {},
   "source": [
    "The original dataset contains many variables used to identify a particular household, a person, and their corresponding weights in the sample. We're not interested in those, so we can drop them.\n",
    "\n",
    "Below are the variables we want to keep in the dataframe. "
   ]
  },
  {
   "cell_type": "markdown",
   "id": "81c8cd92",
   "metadata": {},
   "source": [
    "| Variable | Label | Description |\n",
    "| --- | --- | --- |\n",
    "| YEAR | Census year | YEAR reports the four-digit year when the household was enumerated or included in the census, the ACS, and the PRCS. |\n",
    "| AGE | Age | AGE reports the person's age in years as of the last birthday. |\n",
    "| SCHOOL | School attendance | SCHOOL indicates whether the respondent attended school during a specified period. |\n",
    "| EDUCD | Educational attainment (detailed version) | EDUC indicates respondents' educational attainment, as measured by the highest year of school or degree completed. |\n",
    "| DEGFIELD | Field of degree (general version) | DEGFIELD reports the field in which the person received a Bachelor's degree, if the person holds a Bachelor's degree. |\n",
    "| DEGFIELDD | Field of degree (detailed version) | DEGFIELD reports the field in which the person received a Bachelor's degree, if the person holds a Bachelor's degree. |\n",
    "| DEGFIELD2 | Field of degree (2) (general version) | DEGFIELD2 reports the second field in which the person received a Bachelor's degree, if the person holds a Bachelor's degree in a second field. |\n",
    "| DEGFIELD2D | Field of degree (2) (detailed version) | DEGFIELD2 reports the second field in which the person received a Bachelor's degree, if the person holds a Bachelor's degree in a second field. |\n",
    "| EMPSTAT | Employment status (general version) | EMPSTAT indicates whether the respondent was a part of the labor force -- working or seeking work -- and, if so, whether the person was currently unemployed. |\n",
    "| OCC | Occupation | OCC reports the person's primary occupation, coded into a contemporary census classification scheme |\n",
    "| INCTOT | Total personal income | INCTOT reports each respondent's total pre-tax personal income or losses from all sources for the previous year. |\n",
    "| INCWAGE | Wage and salary income | INCWAGE reports each respondent's total pre-tax wage and salary income - that is, money received as an employee - for the previous year.  |\n",
    "| INCWAGE_CPIU_2010 | Wage and salary income (standardized using CPIU_2010) | INCWAGE reports each respondent's total pre-tax wage and salary income - that is, money received as an employee - for the previous year. |"
   ]
  },
  {
   "cell_type": "code",
   "execution_count": null,
   "id": "1b7509d0",
   "metadata": {},
   "outputs": [],
   "source": [
    "ipums = ipums_raw[[\"YEAR\", \"AGE\", \"SCHOOL\", \"EDUCD\", \"DEGFIELD\", \n",
    "                   \"DEGFIELDD\", \"DEGFIELD2\", \"DEGFIELD2D\", \"EMPSTAT\", \n",
    "                   \"OCC\", \"INCTOT\", \"INCWAGE\", \"INCWAGE_CPIU_2010\"\n",
    "                  ]].copy()\n",
    "ipums"
   ]
  },
  {
   "cell_type": "markdown",
   "id": "f10b1132",
   "metadata": {},
   "source": [
    "### Individuals with College Degrees\n",
    "Let us explore how different college degrees affect income. To do this, let's first filter the dataset for those individuals who have a college degree (at least a bachelor's degree).  Here's a description of the variables in the `EDUCD` column.\n",
    "\n",
    "| EDUCD | Description |\n",
    "| --- | --- |\n",
    "| ... | ... (rows omitted) |\n",
    "| 090 | 3 years of college |\n",
    "| 100 | 4 years of college |\n",
    "| 101 | Bachelor's degree |\n",
    "| 110 | 5+ years of college |\n",
    "| 111 | 6 years of college (6+ in 1960-1970) |\n",
    "| 112 | 7 years of college |\n",
    "| 113 | 8+ years of college |\n",
    "| 114 | Master's degree |\n",
    "| 115 | Professional degree beyond a bachelor's degree |\n",
    "| 116 | Doctoral degree |\n",
    "| 999 | Missing |\n",
    "\n",
    "Note that records with `EDUCD` greater than or equal to 101 but less than 999 represent a valid record for a person with a college degree. We will use this criterion to filter the dataset. "
   ]
  },
  {
   "cell_type": "markdown",
   "id": "96c7be09",
   "metadata": {
    "deletable": false,
    "editable": false
   },
   "source": [
    "**Question 1.3:** Filter the `ipums` dataframe for individuals with a college degree based on the criteria given above. "
   ]
  },
  {
   "cell_type": "code",
   "execution_count": null,
   "id": "33e29d1c",
   "metadata": {
    "tags": []
   },
   "outputs": [],
   "source": [
    "ipums_college = ...\n",
    "ipums_college"
   ]
  },
  {
   "cell_type": "code",
   "execution_count": null,
   "id": "90090ca6",
   "metadata": {
    "deletable": false,
    "editable": false
   },
   "outputs": [],
   "source": [
    "grader.check(\"q1_3\")"
   ]
  },
  {
   "cell_type": "markdown",
   "id": "70bff63b",
   "metadata": {},
   "source": [
    "### Individuals in the Workforce"
   ]
  },
  {
   "cell_type": "markdown",
   "id": "54b34467",
   "metadata": {},
   "source": [
    "Juniors who cannot work and seniors who have already retired cannot earn wages; therefore we would like to exclude them from our analysis. As per the [OECD norms](https://data.oecd.org/pop/working-age-population.htm), we can assume that working age means 15-64 years old (inclusive). "
   ]
  },
  {
   "cell_type": "markdown",
   "id": "94e902e1",
   "metadata": {
    "deletable": false,
    "editable": false
   },
   "source": [
    "**Question 1.4:** Filter the dataframe `ipums_college` for individuals within the working age. "
   ]
  },
  {
   "cell_type": "code",
   "execution_count": null,
   "id": "f970bdbd",
   "metadata": {
    "tags": []
   },
   "outputs": [],
   "source": [
    "ipums_college_working_age = ...\n",
    "ipums_college_working_age"
   ]
  },
  {
   "cell_type": "code",
   "execution_count": null,
   "id": "6630d182",
   "metadata": {
    "deletable": false,
    "editable": false
   },
   "outputs": [],
   "source": [
    "grader.check(\"q1_4\")"
   ]
  },
  {
   "cell_type": "markdown",
   "id": "5f812810",
   "metadata": {},
   "source": [
    "### Double Majors"
   ]
  },
  {
   "cell_type": "markdown",
   "id": "99447562",
   "metadata": {
    "deletable": false,
    "editable": false
   },
   "source": [
    "Some individuals have double majors. The way the IPUMS ACS dataset captures this is by reporting values in `DEGFIELD2` in addition to `DEGFIELD`. This can complicate our analysis because these individuals' earnings are likely to be affected by both of their majors, while the proportion of influence from each major is unknown. \n",
    "\n",
    "**Question 1.5:** To remove this bias from our analysis, we will stick to individuals with only one college major. Filter the dataframe `ipums_college_working_age` to only include students who only have 1 major, and then drop the `DEGFIELD2` and `DEGFIELD2D` columns. Assign your result to `ipums_single_major`."
   ]
  },
  {
   "cell_type": "code",
   "execution_count": null,
   "id": "b7532388",
   "metadata": {
    "tags": []
   },
   "outputs": [],
   "source": [
    "ipums_single_major = ...\n",
    "ipums_single_major = ...\n",
    "ipums_single_major"
   ]
  },
  {
   "cell_type": "code",
   "execution_count": null,
   "id": "008f8296",
   "metadata": {
    "deletable": false,
    "editable": false
   },
   "outputs": [],
   "source": [
    "grader.check(\"q1_5\")"
   ]
  },
  {
   "cell_type": "markdown",
   "id": "6babf5b4",
   "metadata": {},
   "source": [
    "### Interpreting The Majors"
   ]
  },
  {
   "cell_type": "markdown",
   "id": "1e3d7c91",
   "metadata": {},
   "source": [
    "Majors in the dataframe (`DEGFIELD`, `DEGFIELDD`) are coded as integers. To find out what each code corresponds to, we will use the conversion dictionaries given below. "
   ]
  },
  {
   "cell_type": "code",
   "execution_count": null,
   "id": "38a501cd",
   "metadata": {},
   "outputs": [],
   "source": [
    "degfield = pd.read_csv(\"data/degfield.txt\", sep='\\t').set_index(\"value\").to_dict()[\"label\"]\n",
    "degfieldd = pd.read_csv(\"data/degfieldd.txt\", sep='\\t').set_index(\"value\").to_dict()[\"label\"]\n",
    "print(degfield)"
   ]
  },
  {
   "cell_type": "markdown",
   "id": "96802597",
   "metadata": {},
   "source": [
    "`DEGFIELD` gives a more general major field. For example, `DEGFIELD` of 55 corresponds to social sciences. \n",
    "\n",
    "`DEGFIELDD` gives a more detailed major field. For example, `DEGFIELDD` of 5501 corresponds to Economics. "
   ]
  },
  {
   "cell_type": "markdown",
   "id": "8109f409",
   "metadata": {},
   "source": [
    "Now we will replace all the code in `DEGFIELD` (majors) with texts. "
   ]
  },
  {
   "cell_type": "markdown",
   "id": "2368c5d4",
   "metadata": {
    "deletable": false,
    "editable": false
   },
   "source": [
    "**Question 1.6:** Replace the values in the `DEGFIELD` and `DEGFIELDD` columns with the corresponding names of the majors.  \n",
    "\n",
    "Hint: Use [`.replace`](https://pandas.pydata.org/docs/reference/api/pandas.DataFrame.replace.html) and the `to_replace` parameter is a diciontary. "
   ]
  },
  {
   "cell_type": "code",
   "execution_count": null,
   "id": "a921459e",
   "metadata": {
    "tags": []
   },
   "outputs": [],
   "source": [
    "ipums_single_major['DEGFIELD'] = ...\n",
    "ipums_single_major['DEGFIELDD'] = ...\n",
    "ipums_single_major"
   ]
  },
  {
   "cell_type": "code",
   "execution_count": null,
   "id": "fea7e2aa",
   "metadata": {
    "deletable": false,
    "editable": false
   },
   "outputs": [],
   "source": [
    "grader.check(\"q1_6\")"
   ]
  },
  {
   "cell_type": "markdown",
   "id": "9f41f2b0",
   "metadata": {},
   "source": [
    "----\n",
    "## Section 2: The Most Lucrative Major\n",
    "\n",
    "Let's explore which major graduate get the best salary. Have things changed from 2009 to 2019?"
   ]
  },
  {
   "cell_type": "markdown",
   "id": "ebc2850e-3a4c-4c51-a747-e8a5f93ed0c3",
   "metadata": {},
   "source": [
    "### In 2009\n",
    "\n",
    "Let's take a look at the most lucrative majors as of 2009. "
   ]
  },
  {
   "cell_type": "markdown",
   "id": "33d22070-5279-45c6-9bf3-4da3ad55dc12",
   "metadata": {
    "deletable": false,
    "editable": false
   },
   "source": [
    "**Question 2.1:** Filter the `ipums_single_major` dataframe for records for 2009. Then find the median total income (`INCTOT`) and the median wage (`INCWAGE`) for each major (`DEGFIELDD`). Finally, sort the dataframe by the highest median wage. The resulting dataframe should have only three columns: `DEGFIELDD`, `INCTOT`, `INCWAGE` (in that order). Store your results in `ipums_2009_by_major`.\n",
    "\n",
    "Hint: You may want to use [`groupby`](https://pandas.pydata.org/docs/reference/api/pandas.DataFrame.groupby.html) with a correct aggregation function. \n",
    "\n",
    "Hint 2: Click [here](https://stackoverflow.com/questions/32751229/pandas-sum-by-groupby-but-exclude-certain-columns) for syntax for calculating specific columns using `.groupby`. "
   ]
  },
  {
   "cell_type": "code",
   "execution_count": null,
   "id": "9a8e734f-9097-4acf-96ab-fc9366c1922a",
   "metadata": {
    "tags": []
   },
   "outputs": [],
   "source": [
    "ipums_2009 = ...\n",
    "ipums_2009_by_major = ...\n",
    "ipums_2009_by_major = ...\n",
    "ipums_2009_by_major = ...\n",
    "ipums_2009_by_major"
   ]
  },
  {
   "cell_type": "code",
   "execution_count": null,
   "id": "c0940ed2",
   "metadata": {
    "deletable": false,
    "editable": false
   },
   "outputs": [],
   "source": [
    "grader.check(\"q2_1\")"
   ]
  },
  {
   "cell_type": "markdown",
   "id": "b4f1966b-1d22-4c3c-9aec-f0c08f42247f",
   "metadata": {},
   "source": [
    "### In 2019"
   ]
  },
  {
   "cell_type": "markdown",
   "id": "e39f4066-0ce3-413f-8bf9-4aa649dac880",
   "metadata": {},
   "source": [
    "We will repeat the same analysis for 2019."
   ]
  },
  {
   "cell_type": "markdown",
   "id": "b6819af7-0433-4ca5-92ed-d4cac65fec9a",
   "metadata": {
    "deletable": false,
    "editable": false
   },
   "source": [
    "**Question 2.2:** Create a very similar dataframe as for question 3.1, with the only difference that you're now using data from 2019 instead of 2009. Store your results in `ipums_2019_by_major`."
   ]
  },
  {
   "cell_type": "code",
   "execution_count": null,
   "id": "68a25e5b-766e-4771-88ac-972465c2edbd",
   "metadata": {
    "tags": []
   },
   "outputs": [],
   "source": [
    "ipums_2019 = ...\n",
    "ipums_2019_by_major = ...\n",
    "ipums_2019_by_major = ...\n",
    "ipums_2019_by_major = ...\n",
    "ipums_2019_by_major"
   ]
  },
  {
   "cell_type": "code",
   "execution_count": null,
   "id": "8e56240f",
   "metadata": {
    "deletable": false,
    "editable": false
   },
   "outputs": [],
   "source": [
    "grader.check(\"q2_2\")"
   ]
  },
  {
   "cell_type": "markdown",
   "id": "bc37fd04-40c7-40a1-a8fb-32083125275b",
   "metadata": {},
   "source": [
    "### Comparison\n",
    "\n",
    "There seems to be a significant change in the most lucrative majors from 2009 to 2019. Let's compare them.\n",
    "\n",
    "First, we'll select the top ten highest paid majors from 2009 and 2019. We've provided code for that and stored these majors in `top_ten_majors`."
   ]
  },
  {
   "cell_type": "code",
   "execution_count": null,
   "id": "66c6838e-df2d-4310-8f84-f046e4452324",
   "metadata": {},
   "outputs": [],
   "source": [
    "top_ten_majors = list(set(list(ipums_2009_by_major.iloc[:10][\"DEGFIELDD\"]) + \n",
    "                          list(ipums_2019_by_major.iloc[:10][\"DEGFIELDD\"])\n",
    "                         ))\n",
    "top_ten_majors"
   ]
  },
  {
   "cell_type": "markdown",
   "id": "824bde22-3b60-47d4-a681-329623e4c589",
   "metadata": {},
   "source": [
    "Now, let's filter the table for only these majors. We'll see how they changed from 2009 to 2019."
   ]
  },
  {
   "cell_type": "markdown",
   "id": "d7033c5d-ed22-48f1-9314-e9b64c7eac8d",
   "metadata": {
    "deletable": false,
    "editable": false
   },
   "source": [
    "**Question 2.3:** Filter the `ipums_2019_by_major` and `ipums_2009_by_major` for only the majors in the list `top_ten_majors`, and then merge them together. Finally, sort the dataframe by wages and salaries in 2009 in a descending order. Rename columns `INCTOT` and `INCWAGE` with their corresponding year attached to the end (Ex. For 2019's dataframe, you should rename `INCTOT` to `INCTOT_2019`). \n",
    "\n",
    "Hint: You may want to use [`isin`](https://pandas.pydata.org/pandas-docs/stable/reference/api/pandas.DataFrame.isin.html) ([examples](https://www.geeksforgeeks.org/python-pandas-dataframe-isin/)). \n",
    "\n",
    "Hint 2: What parameters should you use while merging? Justify the `how` parameter you choose."
   ]
  },
  {
   "cell_type": "code",
   "execution_count": null,
   "id": "18e0eb91-960e-48c0-b413-4e1d0f5fe094",
   "metadata": {
    "tags": []
   },
   "outputs": [],
   "source": [
    "ipums_2019_top_ten_majors = ipums_s_2019_highest_incwage_majors[...]\n",
    "ipums_2019_top_ten_majors = ipums_2019_top_ten_majors.rename(\n",
    "    columns={\"INCTOT\": \"INCTOT_2019\", \"INCWAGE\": \"INCWAGE_2019\"}\n",
    ") # rename the columns\n",
    "ipums_2009_top_ten_majors = ipums_s_2009_highest_incwage_majors[...]\n",
    "ipums_2009_top_ten_majors = ipums_2009_top_ten_majors.rename(\n",
    "    columns={\"INCTOT\": \"INCTOT_2009\", \"INCWAGE\": \"INCWAGE_2009\"} \n",
    ") # rename the columns\n",
    "\n",
    "# merge and sort here\n",
    "ipums_top_ten_majors = ... \n",
    "...\n",
    "ipums_top_ten_majors"
   ]
  },
  {
   "cell_type": "code",
   "execution_count": null,
   "id": "35fd777b",
   "metadata": {
    "deletable": false,
    "editable": false
   },
   "outputs": [],
   "source": [
    "grader.check(\"q2_3\")"
   ]
  },
  {
   "cell_type": "markdown",
   "id": "c51af0c2-2140-4ffa-9a86-4f9a2527e100",
   "metadata": {},
   "source": [
    "Now, we can visualize the change."
   ]
  },
  {
   "cell_type": "code",
   "execution_count": null,
   "id": "c0744c5b-6644-4a4f-96b7-d05a96a45e37",
   "metadata": {},
   "outputs": [],
   "source": [
    "height = 0.8\n",
    "plt.figure(figsize=(8, 10))\n",
    "\n",
    "plt.barh(y=np.arange(len(ipums_top_ten_majors))*3+height/2, height=height, \n",
    "         width=ipums_top_ten_majors.sort_values(\"INCWAGE_2009\")[\"INCWAGE_2009\"], \n",
    "         color=\"peachpuff\", label=\"2009\")\n",
    "\n",
    "plt.barh(y=np.arange(len(ipums_top_ten_majors))*3-height/2, height=height, \n",
    "         width=ipums_top_ten_majors.sort_values(\"INCWAGE_2009\")[\"INCWAGE_2019\"], \n",
    "         color=\"sandybrown\", label=\"2019\")\n",
    "\n",
    "plt.yticks(np.arange(len(ipums_top_ten_majors))*3, ipums_top_ten_majors.sort_values(\"INCWAGE_2009\")[\"DEGFIELDD\"])\n",
    "plt.title(\"Highest Paid College Majors in 2009 vs 2019 (Wage and Salaries)\")\n",
    "plt.legend();"
   ]
  },
  {
   "cell_type": "markdown",
   "id": "25dff6d6-b06c-4bcc-ac08-b1e61d013626",
   "metadata": {
    "deletable": false,
    "editable": false
   },
   "source": [
    "<!-- BEGIN QUESTION -->\n",
    "\n",
    "**Question 2.4:** Comment on the results shown above. Do they match your expectations? Could there be problems with the way this dataset is constructed?"
   ]
  },
  {
   "cell_type": "markdown",
   "id": "af051849",
   "metadata": {},
   "source": [
    "_Type your answer here, replacing this text._"
   ]
  },
  {
   "cell_type": "markdown",
   "id": "702937c8",
   "metadata": {
    "deletable": false,
    "editable": false
   },
   "source": [
    "<!-- END QUESTION -->\n",
    "\n",
    "----\n",
    "## Section 3: Phillips Curve and FRED API\n",
    "\n",
    "In this section, we will use an API (Application Programming Interface; more specifically the [FRED API](https://fred.stlouisfed.org/docs/api/fred/)) to obtain Federal Reserve Economic Data and attempt to plot the [Phillip's Curve](https://data88e.org/textbook/content/09-macro/phillips_curve.html). We encourage you to familiarise yourself with the Phillip's Curve if you are not aware of it."
   ]
  },
  {
   "cell_type": "markdown",
   "id": "784345be",
   "metadata": {},
   "source": [
    "### Step 1: Get the API Key\n",
    "**In most cases, you will need to obtain an API key in order to access an API.** For many resources, this involves some paperwork to apply and/or limited free usage if you do get it. Also, with certain APIs, people may try to steal your API key to abuse the API (e.g. make too many requests, or try to crash it). Therefore, it is good practice to keep your API keys private.\n",
    "\n",
    "In this lecture notebook, we will use macroeconomic data from FRED, which is one of the most popular and convenient sources of economic data. For FRED, the process of obtaining an API key is simple. Request the API key [here](https://fred.stlouisfed.org/docs/api/api_key.html). "
   ]
  },
  {
   "cell_type": "markdown",
   "id": "bdb339a7",
   "metadata": {
    "deletable": false,
    "editable": false
   },
   "source": [
    "**Question 3.1:** Request an API key at [FRED API](https://fred.stlouisfed.org/docs/api/fred/) and paste your API key below. \n",
    "\n",
    "Note: For submission, feel free to redact your API key (i.e. replace it with some arbitrary strings); our autograder is configured to not use your API key in testing. It is a good practice not to include your API keys in files that you will share with others. "
   ]
  },
  {
   "cell_type": "code",
   "execution_count": null,
   "id": "7d5afa0c",
   "metadata": {
    "tags": []
   },
   "outputs": [],
   "source": [
    "api_key = ..."
   ]
  },
  {
   "cell_type": "code",
   "execution_count": null,
   "id": "83851c66",
   "metadata": {
    "deletable": false,
    "editable": false
   },
   "outputs": [],
   "source": [
    "grader.check(\"q3_1\")"
   ]
  },
  {
   "cell_type": "markdown",
   "id": "326e2f5e",
   "metadata": {},
   "source": [
    "### Step 2: Read the API's Documentation\n",
    "\n",
    "Using an API is like ordering food at a restaurant with a menu. For the restaurant to bring you your food, you must know what the restaurant offers and then request specific items from the menu, along with providing additional information on what you're looking for (for example, how would you like your steak). Similarly, you must know what data the API can provide you and then make a specific request to the API, being careful that you're using the right parameters to specify the request. The API documentation tells us about how to use specific commands to get the data that we want, and what the data returned will look like. **Check out the Fred API's documentation [here](https://fred.stlouisfed.org/docs/api/fred/series_observations.html)**. "
   ]
  },
  {
   "cell_type": "markdown",
   "id": "cff73944",
   "metadata": {
    "deletable": false,
    "editable": false
   },
   "source": [
    "<!-- BEGIN QUESTION -->\n",
    "\n",
    "**Question 3.2:** Identify the parameters and their values you must use if you want to obtain year-over-year real GDP percentage changes (i.e. percent change from year ago values). \n",
    "\n",
    "Hint: You can look up the `series_id` of real GDP by searching it on Fred's website. It should be listed in parentheses next to the name of the series. "
   ]
  },
  {
   "cell_type": "markdown",
   "id": "a3c5802d",
   "metadata": {},
   "source": [
    "_Type your answer here, replacing this text._"
   ]
  },
  {
   "cell_type": "markdown",
   "id": "b6540160",
   "metadata": {
    "deletable": false,
    "editable": false
   },
   "source": [
    "<!-- END QUESTION -->\n",
    "\n",
    "### Step 3: Make the fetch!\n",
    "Now we are ready to start writing code to fetch the data we want through the API. "
   ]
  },
  {
   "cell_type": "markdown",
   "id": "0aa5fa0f",
   "metadata": {
    "deletable": false,
    "editable": false
   },
   "source": [
    "**Question 3.3:** Complete the function `fetch` so it utilizes the [requests](https://pypi.org/project/requests/) module to return json data given `base_url`, `endpoint` and `params`.\n",
    "\n",
    "*Hint 1:* See question 4.4 to see what `base_url`, `endpoint` and `params`look like.\n",
    "\n",
    "*Hint 2:* Python has special strings called **f-strings** that you can use to substitute in values of variables for you into a string. For example:\n",
    "\n",
    "```python\n",
    ">>> arr = np.array([1, 2, 3])\n",
    ">>> print(f\"The second element of arr is {arr[1]}\")\n",
    "The second element of arr is 2\n",
    "```\n",
    "You may want to use f-strings when you put together the query url in the form of `base_url`, `endpoint`, \"?\", then `url_params`. \n",
    "\n",
    "*Hint 3:* We imported in `urlencode` at the top of the lab, what does it do?\n"
   ]
  },
  {
   "cell_type": "code",
   "execution_count": null,
   "id": "9347da39",
   "metadata": {
    "tags": []
   },
   "outputs": [],
   "source": [
    "def fetch(base_url, endpoint, params, url_only=False):\n",
    "    # forms API request\n",
    "    url_params = urlencode(params)\n",
    "    url = f\"...\"\n",
    "    \n",
    "    # For testing purposes only, do not delete\n",
    "    if url_only:\n",
    "        return url\n",
    "    \n",
    "    # fires off the request\n",
    "    res = ...\n",
    "    \n",
    "    # checks if the request encounters an error\n",
    "    if res.status_code not in range(200, 299):\n",
    "        raise Exception(f\"Fetch request failed (Error: {res.status_code})\")\n",
    "    \n",
    "    # return the content of the response\n",
    "    return res.json()"
   ]
  },
  {
   "cell_type": "code",
   "execution_count": null,
   "id": "d0acf2ca",
   "metadata": {
    "deletable": false,
    "editable": false
   },
   "outputs": [],
   "source": [
    "grader.check(\"q3_3\")"
   ]
  },
  {
   "cell_type": "markdown",
   "id": "7a7b58b7",
   "metadata": {
    "deletable": false,
    "editable": false
   },
   "source": [
    "**Question 3.4:** We want to get *quarterly* unemployment data (series id: UNRATE) from the first quarter in 1958 (1958-01-01) to the last quarter in 2022 (2022-10-01) via the Fred API. Complete the code below to fetch and construct a dataframe with two columns, `date` and `unrate`. \n",
    "\n",
    "Notes: You don't need to sort the data, use the default ordering. If you need to aggregate the data, use the default averaging method.   \n",
    "\n",
    "Hint: You have to define parameters such as `frequency`, `units`, and `file_type`; reference can be found [here](https://fred.stlouisfed.org/docs/api/fred/series_observations.html). "
   ]
  },
  {
   "cell_type": "code",
   "execution_count": null,
   "id": "8c807fea",
   "metadata": {
    "tags": []
   },
   "outputs": [],
   "source": [
    "base_url = \"https://api.stlouisfed.org\"\n",
    "endpoint = \"/...\"\n",
    "params_UNRATE = {\"series_id\": ..., \n",
    "                 ...\n",
    "                 \"frequency\": ...,\n",
    "                 \"units\": ...,\n",
    "                 \"api_key\": ..., \n",
    "                 \"file_type\": \"json\"\n",
    "                }\n",
    "\n",
    "# fetch data\n",
    "res_json_UNRATE = fetch(..., ..., ...)\n",
    "\n",
    "# process json data and store it as a dataframe\n",
    "unemployment = pd.DataFrame(res_json_UNRATE[...])[[...]] # hint: look at what's inside of `res_json_UNRATE`\n",
    "unemployment.rename(columns={\"value\": \"unrate\"}, inplace=True)\n",
    "unemployment"
   ]
  },
  {
   "cell_type": "code",
   "execution_count": null,
   "id": "aab26162",
   "metadata": {
    "deletable": false,
    "editable": false
   },
   "outputs": [],
   "source": [
    "grader.check(\"q3_4\")"
   ]
  },
  {
   "cell_type": "markdown",
   "id": "78ffa241",
   "metadata": {
    "deletable": false,
    "editable": false
   },
   "source": [
    "**Question 3.5:** Now, we want to get the inflation data. This time we will be using *percent change from year ago* core CPI data (series id: CPILFESL) as our inflation measure. Once again, get the quarterly data from the first quarter in 1958 (1958-01-01) to the last quarter in 2022 (2022-10-01) via the Fred API. Complete the code below to fetch and construct a dataframe with two columns, `date` and `inflation`. \n",
    "\n",
    "Notes: You don't need to sort the data, use the default ordering. If you need to aggregate the data, use the default averaging method. "
   ]
  },
  {
   "cell_type": "code",
   "execution_count": null,
   "id": "26186e89",
   "metadata": {
    "tags": []
   },
   "outputs": [],
   "source": [
    "params_INFLATION = ...\n",
    "\n",
    "# fetch data\n",
    "res_json_INFLATION = fetch(..., ..., ...)\n",
    "\n",
    "# process json data and store it as a dataframe\n",
    "inflation = ... \n",
    "inflation.rename(columns={\"value\": \"inflation\"}, inplace=True)\n",
    "inflation"
   ]
  },
  {
   "cell_type": "code",
   "execution_count": null,
   "id": "21c514ad",
   "metadata": {
    "deletable": false,
    "editable": false
   },
   "outputs": [],
   "source": [
    "grader.check(\"q3_5\")"
   ]
  },
  {
   "cell_type": "markdown",
   "id": "1dafccc8",
   "metadata": {},
   "source": [
    "### Step 4: Plot empirical Phillips curve\n",
    "And now we can graph our empirical Phillips curve!"
   ]
  },
  {
   "cell_type": "code",
   "execution_count": null,
   "id": "62010117",
   "metadata": {},
   "outputs": [],
   "source": [
    "plt.figure(figsize=(8,6))\n",
    "\n",
    "phillips_curve_df = unemployment.merge(inflation, how=\"inner\", on=\"date\")\n",
    "\n",
    "phillips_curve_df['unrate'] = phillips_curve_df['unrate'].astype(float)\n",
    "phillips_curve_df['inflation'] = phillips_curve_df['inflation'].astype(float)\n",
    "\n",
    "plt.scatter(phillips_curve_df['unrate'], phillips_curve_df['inflation']);\n",
    "plt.xlabel(\"Unemployment\")\n",
    "plt.ylabel(\"Inflation\")\n",
    "plt.title(\"The Phillips Curve from 1958 to 2022\");"
   ]
  },
  {
   "cell_type": "markdown",
   "id": "43a736f3",
   "metadata": {},
   "source": [
    "----\n",
    "## (Optional): Income Over Life-Cycle \n",
    "\n",
    "In this section of this lab, we will take a look at how lifetime earnings vary by major (this is related to the [Life-Cycle Hypothesis](https://www.economicshelp.org/blog/27080/concepts/life-cycle-hypothesis/). **Although this section is optional, there are no questions you have to answer, and we strongly encourage you to read through it. The results are very cool!** \n",
    "\n",
    "For example, some people make a lot of money early in life but don't see a significant increase in income later on; and others don't make a lot of money right out of college, but their income increases significantly as they get older. Let us explore if earnings over time is associated with one's major."
   ]
  },
  {
   "cell_type": "markdown",
   "id": "1e45ca8a",
   "metadata": {},
   "source": [
    "### Economics Majors"
   ]
  },
  {
   "cell_type": "markdown",
   "id": "1036e21d",
   "metadata": {},
   "source": [
    "First, we will consider economics majors. We define 'economics' to include Agricultural Economics, Economics, and Business Economics, which are represented by the `DEGFIELDD` codes 1102, 5501, and 6205 respectively. Below, we filter the dataframe to consider economics majors using data from 2019."
   ]
  },
  {
   "cell_type": "code",
   "execution_count": null,
   "id": "feb4f575",
   "metadata": {},
   "outputs": [],
   "source": [
    "ipums_2019_econ = ipums_college_working_age[(ipums_college_working_age[\"DEGFIELDD\"].isin([1102, 5501, 6205])) \n",
    "& (ipums_college_working_age[\"YEAR\"] == 2019)]\n",
    "ipums_2019_econ.head()"
   ]
  },
  {
   "cell_type": "markdown",
   "id": "57796797",
   "metadata": {},
   "source": [
    "Now, let us visualize income over time for economics majors. We will plot the 25th percentile, 50th percentile, 75th percentile, and 90th percentile incomes on the same graph. The y-axis will be the income, and the x-axis will be age.\n",
    "\n",
    "Below, we have defined the percentile function for you. It can be used as an aggregation function after groupby."
   ]
  },
  {
   "cell_type": "code",
   "execution_count": null,
   "id": "de9dc888",
   "metadata": {},
   "outputs": [],
   "source": [
    "# percentile function used in groupby aggregate\n",
    "def percentile(n):\n",
    "    def _percentile(x):\n",
    "        return np.percentile(x, n)\n",
    "    _percentile.__name__ = f'percentile_{n}'\n",
    "    return _percentile"
   ]
  },
  {
   "cell_type": "markdown",
   "id": "6d6cba94",
   "metadata": {},
   "source": [
    "For example, \n",
    "\n",
    "```python\n",
    ">>> df.groupby(...).agg(percentile(25))\n",
    "```\n",
    "\n",
    "will return the 25th percentile values in each group. "
   ]
  },
  {
   "cell_type": "markdown",
   "id": "65b964e1",
   "metadata": {},
   "source": [
    "Below, we create our plot by grouping by on `AGE`"
   ]
  },
  {
   "cell_type": "code",
   "execution_count": null,
   "id": "12ace848",
   "metadata": {},
   "outputs": [],
   "source": [
    "percentiles = [25, 50, 75, 90]\n",
    "plt.figure(figsize=(9, 6))\n",
    "for p in percentiles:\n",
    "    ipums_2019_econ_age = ipums_2019_econ.groupby(\"AGE\")[[\"INCTOT\", \"INCWAGE\"]].agg(percentile(p)).reset_index()\n",
    "    plt.plot(\"AGE\", \"INCWAGE\", data=ipums_2019_econ_age, label=f\"Econ {p}th Percentile\")\n",
    "plt.title(\"Percentile Wage and Salaries By Age for Economics Majors in 2019\")\n",
    "plt.xlabel(\"Age\")\n",
    "plt.legend();\n"
   ]
  },
  {
   "cell_type": "markdown",
   "id": "a04681e2",
   "metadata": {},
   "source": [
    "*Note that the graph appears to be very volatile. This is due to our small sample size. However, the overall trend is valid.*"
   ]
  },
  {
   "cell_type": "markdown",
   "id": "f7639cdd",
   "metadata": {},
   "source": [
    "### Computer Science Majors"
   ]
  },
  {
   "cell_type": "markdown",
   "id": "427fef6b",
   "metadata": {},
   "source": [
    "We now repeat the same process for computer science majors, who are represented by the `DEGFIELDD` codes 2100, 2101, 2102, 2106, 2107, 2407, and 4005. "
   ]
  },
  {
   "cell_type": "code",
   "execution_count": null,
   "id": "5dfdb36a",
   "metadata": {},
   "outputs": [],
   "source": [
    "ipums_2019_cs = ipums_college_working_age[\n",
    "    (ipums_college_working_age[\"DEGFIELDD\"].isin([2100, 2101, 2102, 2106, 2107, 2407, 4005])) \n",
    "    & (ipums_college_working_age[\"YEAR\"] == 2019)]\n",
    "\n",
    "percentiles = [25, 50, 75, 90]\n",
    "plt.figure(figsize=(9, 6))\n",
    "for p in percentiles:\n",
    "    ipums_2019_cs_age = ipums_2019_cs.groupby(\"AGE\")[[\"INCTOT\", \"INCWAGE\"]].agg(percentile(p)).reset_index()\n",
    "    plt.plot(\"AGE\", \"INCWAGE\", data=ipums_2019_cs_age, label=f\"CS {p}th Percentile\")\n",
    "plt.title(\"Percentile Wage and Salaries By Age for CS Majors in 2019\")\n",
    "plt.xlabel(\"Age\")\n",
    "plt.legend();"
   ]
  },
  {
   "cell_type": "markdown",
   "id": "5c60d63f",
   "metadata": {},
   "source": [
    "### Comparison"
   ]
  },
  {
   "cell_type": "markdown",
   "id": "13d36ba5",
   "metadata": {},
   "source": [
    "Let's now compare the income over time for economics vs computer science majors. Below, we plot them on top of each other."
   ]
  },
  {
   "cell_type": "code",
   "execution_count": null,
   "id": "855c7340-2211-4478-849b-7280926618e8",
   "metadata": {},
   "outputs": [],
   "source": [
    "fig, (ax1, ax2) = plt.subplots(2, 1, sharex=True, figsize=(9, 6));\n",
    "percentiles = [25, 50, 75, 90]\n",
    "\n",
    "for p in percentiles:\n",
    "    ipums_2019_econ_age = ipums_2019_econ.groupby(\"AGE\")[[\"INCTOT\", \"INCWAGE\"]].agg(percentile(p)).reset_index()\n",
    "    ax1.plot(\"AGE\", \"INCWAGE\", data=ipums_2019_econ_age, label=f\"Econ {p}th Percentile\");\n",
    "    ipums_2019_cs_age = ipums_2019_cs.groupby(\"AGE\")[[\"INCTOT\", \"INCWAGE\"]].agg(percentile(p)).reset_index()\n",
    "    ax2.plot(\"AGE\", \"INCWAGE\", data=ipums_2019_cs_age, label=f\"CS {p}th Percentile\");\n",
    "\n",
    "ax1.set_ylim(0, 600000)\n",
    "ax1.set_title(\"(Percentile) Wages in 2019\")\n",
    "ax1.legend();\n",
    "\n",
    "ax2.set_ylim(0, 600000)\n",
    "ax2.set_xlabel(\"Age\")\n",
    "ax2.legend();\n",
    "\n",
    "plt.tight_layout();\n",
    "plt.show();\n"
   ]
  },
  {
   "cell_type": "markdown",
   "id": "4f661677-fd50-4298-94c5-adc602fd9f8a",
   "metadata": {},
   "source": [
    "We can also plot them on the same axis if you like, although this plot suffers from [overplotting](https://www.displayr.com/what-is-overplotting/)."
   ]
  },
  {
   "cell_type": "code",
   "execution_count": null,
   "id": "4649e695-691b-4ecc-8d28-8d038f29c97c",
   "metadata": {},
   "outputs": [],
   "source": [
    "colors = ['sandybrown', 'coral', 'chocolate', 'sienna', 'cornflowerblue', 'royalblue', 'mediumblue', 'navy']\n",
    "plt.figure(figsize=(12, 8))\n",
    "\n",
    "percentiles = [25, 50, 75, 90]\n",
    "\n",
    "for i, p in enumerate(percentiles):\n",
    "    ipums_2019_econ_age = ipums_2019_econ.groupby(\"AGE\")[[\"INCTOT\", \"INCWAGE\"]].agg(percentile(p)).reset_index()\n",
    "    plt.plot(\"AGE\", \"INCWAGE\", data=ipums_2019_econ_age, label=f\"Econ {p}th Percentile\", color=colors[i],alpha=0.8)\n",
    "    ipums_2019_cs_age = ipums_2019_cs.groupby(\"AGE\")[[\"INCTOT\", \"INCWAGE\"]].agg(percentile(p)).reset_index()\n",
    "    plt.plot(\"AGE\", \"INCWAGE\", data=ipums_2019_cs_age, label=f\"CS {p}th Percentile\", color=colors[i+len(percentiles)],alpha=0.8)\n",
    "\n",
    "plt.ylim(0, 600000)\n",
    "plt.title(\"Percentile Wages By Age in 2019 (Economics vs Computer Science)\")\n",
    "plt.xlabel(\"Age\")\n",
    "plt.legend();"
   ]
  },
  {
   "cell_type": "markdown",
   "id": "4be008ad-7d79-4aed-971a-137582876ce5",
   "metadata": {
    "jp-MarkdownHeadingCollapsed": true
   },
   "source": [
    "Feel free to repeat the analysis by looking at total income rather than total wage if you like, you have all the data necessary."
   ]
  },
  {
   "cell_type": "markdown",
   "id": "a9b3a1e8-41fa-4203-b345-35f91fb4aa4f",
   "metadata": {},
   "source": [
    "Does the curve above match what you would expect? Look [here](https://academic.oup.com/qje/article/137/3/1299/6529257) for a more advanced analysis of the Phillip's Curve, coauthored by John Bates Clark Medal Winner and UC Berkeley Economics Professor Emi Nakamura."
   ]
  },
  {
   "cell_type": "markdown",
   "id": "8d92931f",
   "metadata": {
    "jp-MarkdownHeadingCollapsed": true
   },
   "source": [
    "**Congratulations!** You're done with Econ 148 Lab 2!"
   ]
  },
  {
   "cell_type": "markdown",
   "id": "d2217a98",
   "metadata": {
    "deletable": false,
    "editable": false
   },
   "source": [
    "## Submission\n",
    "\n",
    "Make sure you have run all cells in your notebook in order before running the cell below, so that all images/graphs appear in the output. The cell below will generate a zip file for you to submit. **Please save before exporting!**"
   ]
  },
  {
   "cell_type": "code",
   "execution_count": null,
   "id": "1c352df6",
   "metadata": {
    "deletable": false,
    "editable": false
   },
   "outputs": [],
   "source": [
    "# Save your notebook first, then run this cell to export your submission.\n",
    "grader.export(run_tests=True)"
   ]
  },
  {
   "cell_type": "markdown",
   "id": "d8a1cba8",
   "metadata": {},
   "source": [
    " "
   ]
  }
 ],
 "metadata": {
  "kernelspec": {
   "display_name": "Python 3 (ipykernel)",
   "language": "python",
   "name": "python3"
  },
  "language_info": {
   "codemirror_mode": {
    "name": "ipython",
    "version": 3
   },
   "file_extension": ".py",
   "mimetype": "text/x-python",
   "name": "python",
   "nbconvert_exporter": "python",
   "pygments_lexer": "ipython3",
   "version": "3.12.7"
  },
  "otter": {
   "OK_FORMAT": true,
   "export_pdf_failure_message": "PDF did not generate, please submit screenshots for questions 1.1, 3.5 and 4.2",
   "require_no_pdf_confirmation": true,
   "tests": {
    "q1_2": {
     "name": "q1_2",
     "points": 1,
     "suites": [
      {
       "cases": [
        {
         "code": ">>> assert ipums_raw.shape[0] == 162731\n",
         "hidden": false,
         "locked": false
        }
       ],
       "scored": true,
       "setup": "",
       "teardown": "",
       "type": "doctest"
      }
     ]
    },
    "q1_3": {
     "name": "q1_3",
     "points": null,
     "suites": [
      {
       "cases": [
        {
         "code": ">>> assert ipums_college.shape == (46270, 13)\n",
         "hidden": false,
         "locked": false
        },
        {
         "code": ">>> assert np.sum(ipums_college['DEGFIELD'] == 0) == 0\n",
         "hidden": false,
         "locked": false
        }
       ],
       "scored": true,
       "setup": "",
       "teardown": "",
       "type": "doctest"
      }
     ]
    },
    "q1_4": {
     "name": "q1_4",
     "points": null,
     "suites": [
      {
       "cases": [
        {
         "code": ">>> assert ipums_college_working_age.shape == (36809, 13)\n",
         "hidden": false,
         "locked": false
        },
        {
         "code": ">>> assert len(ipums_college_working_age[ipums_college_working_age['AGE'] < 15]) == 0\n",
         "hidden": false,
         "locked": false
        },
        {
         "code": ">>> assert len(ipums_college_working_age[ipums_college_working_age['AGE'] > 64]) == 0\n",
         "hidden": false,
         "locked": false
        }
       ],
       "scored": true,
       "setup": "",
       "teardown": "",
       "type": "doctest"
      }
     ]
    },
    "q1_5": {
     "name": "q1_5",
     "points": null,
     "suites": [
      {
       "cases": [
        {
         "code": ">>> assert ipums_single_major.shape == (32570, 11)\n",
         "hidden": false,
         "locked": false
        },
        {
         "code": ">>> assert ipums_single_major.iloc[2, 5] == 6201\n",
         "hidden": false,
         "locked": false
        }
       ],
       "scored": true,
       "setup": "",
       "teardown": "",
       "type": "doctest"
      }
     ]
    },
    "q1_6": {
     "name": "q1_6",
     "points": null,
     "suites": [
      {
       "cases": [
        {
         "code": ">>> assert ipums_single_major.shape == (32570, 11)\n",
         "hidden": false,
         "locked": false
        },
        {
         "code": ">>> assert np.sum(ipums_single_major['DEGFIELD'] == 'Social Sciences') == 2218\n",
         "hidden": false,
         "locked": false
        },
        {
         "code": ">>> assert np.sum(ipums_single_major['DEGFIELDD'] == 'Economics') == 613\n",
         "hidden": false,
         "locked": false
        }
       ],
       "scored": true,
       "setup": "",
       "teardown": "",
       "type": "doctest"
      }
     ]
    },
    "q2_1": {
     "name": "q2_1",
     "points": 2,
     "suites": [
      {
       "cases": [
        {
         "code": ">>> assert ipums_2009_by_major.shape == (171, 3)\n",
         "hidden": false,
         "locked": false
        },
        {
         "code": ">>> assert np.isclose(np.max(ipums_2009_by_major['INCTOT']), 350700.0)\n",
         "hidden": false,
         "locked": false
        },
        {
         "code": ">>> assert ipums_2009_by_major.iloc[0]['DEGFIELDD'] == 'Actuarial Science'\n",
         "hidden": false,
         "locked": false
        },
        {
         "code": ">>> assert ipums_2009_by_major.iloc[-1]['DEGFIELDD'] == 'Soil Science'\n",
         "hidden": false,
         "locked": false
        }
       ],
       "scored": true,
       "setup": "",
       "teardown": "",
       "type": "doctest"
      }
     ]
    },
    "q2_2": {
     "name": "q2_2",
     "points": null,
     "suites": [
      {
       "cases": [
        {
         "code": ">>> assert ipums_2019_by_major.shape == (170, 3)\n",
         "hidden": false,
         "locked": false
        },
        {
         "code": ">>> assert ipums_2019_by_major.iloc[0]['DEGFIELDD'] == 'Naval Architecture and Marine Engineering'\n",
         "hidden": false,
         "locked": false
        },
        {
         "code": ">>> assert ipums_2019_by_major.iloc[-1]['DEGFIELDD'] == 'Actuarial Science'\n",
         "hidden": false,
         "locked": false
        }
       ],
       "scored": true,
       "setup": "",
       "teardown": "",
       "type": "doctest"
      }
     ]
    },
    "q2_3": {
     "name": "q2_3",
     "points": null,
     "suites": [
      {
       "cases": [
        {
         "code": ">>> assert ipums_top_ten_majors.shape == (18, 5)\n",
         "hidden": false,
         "locked": false
        },
        {
         "code": ">>> assert ipums_top_ten_majors.iloc[0]['DEGFIELDD'] == 'Actuarial Science'\n",
         "hidden": false,
         "locked": false
        },
        {
         "code": ">>> assert ipums_top_ten_majors.iloc[-1]['DEGFIELDD'] == 'Cognitive Science and Biopsychology'\n",
         "hidden": false,
         "locked": false
        },
        {
         "code": ">>> assert np.isclose(ipums_top_ten_majors.iloc[0]['INCTOT_2009'], 350700.0)\n",
         "hidden": false,
         "locked": false
        },
        {
         "code": ">>> assert np.isclose(ipums_top_ten_majors.iloc[0]['INCTOT_2019'], 3150.0)\n",
         "hidden": false,
         "locked": false
        },
        {
         "code": ">>> assert np.isclose(np.sum(ipums_top_ten_majors['INCWAGE_2009']), 1817000.0)\n",
         "hidden": false,
         "locked": false
        }
       ],
       "scored": true,
       "setup": "",
       "teardown": "",
       "type": "doctest"
      }
     ]
    },
    "q3_1": {
     "name": "q3_1",
     "points": null,
     "suites": [
      {
       "cases": [
        {
         "code": ">>> assert len(api_key) > 0\n",
         "hidden": false,
         "locked": false
        }
       ],
       "scored": true,
       "setup": "",
       "teardown": "",
       "type": "doctest"
      }
     ]
    },
    "q3_3": {
     "name": "q3_3",
     "points": 2,
     "suites": [
      {
       "cases": [
        {
         "code": ">>> test_params = {'ec': 148, 'eric': 'van dusen', 'ds': 'economists'}\n>>> test_link = 'https://thisisnotavalidlink.us'\n>>> test_ep = '/test'\n>>> test_res = fetch(test_link, test_ep, test_params, url_only=True)\n>>> assert test_res == 'https://thisisnotavalidlink.us/test?ec=148&eric=van+dusen&ds=economists'\n",
         "hidden": false,
         "locked": false
        }
       ],
       "scored": true,
       "setup": "",
       "teardown": "",
       "type": "doctest"
      }
     ]
    },
    "q3_4": {
     "name": "q3_4",
     "points": 3,
     "suites": [
      {
       "cases": [
        {
         "code": ">>> assert 'ed' in endpoint and 'rie' in endpoint and ('ion' in endpoint)\n",
         "hidden": false,
         "locked": false
        },
        {
         "code": ">>> assert len(params_UNRATE) >= 6\n",
         "hidden": false,
         "locked": false
        },
        {
         "code": ">>> assert 'series_id' in params_UNRATE.keys() and params_UNRATE['series_id'] == 'UNRATE'\n",
         "hidden": false,
         "locked": false
        },
        {
         "code": ">>> assert 'observation_start' in params_UNRATE.keys() and params_UNRATE['observation_start'] == '1958-01-01'\n",
         "hidden": false,
         "locked": false
        },
        {
         "code": ">>> assert 'observation_end' in params_UNRATE.keys() and params_UNRATE['observation_end'] == '2022-10-01'\n",
         "hidden": false,
         "locked": false
        },
        {
         "code": ">>> assert 'frequency' in params_UNRATE.keys() and params_UNRATE['frequency'] == 'q'\n",
         "hidden": false,
         "locked": false
        },
        {
         "code": ">>> assert 'units' not in params_UNRATE.keys() or ('units' in params_UNRATE.keys() and params_UNRATE['units'] == 'lin')\n",
         "hidden": false,
         "locked": false
        },
        {
         "code": ">>> assert 'aggregation_method' not in params_UNRATE.keys() or ('aggregation_method' in params_UNRATE.keys() and params_UNRATE['aggregation_method'] == 'avg')\n",
         "hidden": false,
         "locked": false
        },
        {
         "code": ">>> assert 'api_key' in params_UNRATE.keys()\n",
         "hidden": false,
         "locked": false
        },
        {
         "code": ">>> assert 'file_type' in params_UNRATE.keys()\n",
         "hidden": false,
         "locked": false
        }
       ],
       "scored": true,
       "setup": "",
       "teardown": "",
       "type": "doctest"
      }
     ]
    },
    "q3_5": {
     "name": "q3_5",
     "points": null,
     "suites": [
      {
       "cases": [
        {
         "code": ">>> assert 'series_id' in params_INFLATION.keys() and params_INFLATION['series_id'] == 'CPILFESL'\n",
         "hidden": false,
         "locked": false
        },
        {
         "code": ">>> assert 'observation_start' in params_INFLATION.keys() and params_INFLATION['observation_start'] == '1958-01-01'\n",
         "hidden": false,
         "locked": false
        },
        {
         "code": ">>> assert 'observation_end' in params_INFLATION.keys() and params_INFLATION['observation_end'] == '2022-10-01'\n",
         "hidden": false,
         "locked": false
        },
        {
         "code": ">>> assert 'frequency' in params_INFLATION.keys() and params_INFLATION['frequency'] == 'q'\n",
         "hidden": false,
         "locked": false
        },
        {
         "code": ">>> assert 'units' in params_INFLATION.keys() and params_INFLATION['units'] == 'pc1'\n",
         "hidden": false,
         "locked": false
        },
        {
         "code": ">>> assert 'aggregation_method' not in params_INFLATION.keys() or ('aggregation_method' in params_INFLATION.keys() and params_INFLATION['aggregation_method'] == 'avg')\n",
         "hidden": false,
         "locked": false
        },
        {
         "code": ">>> assert 'api_key' in params_UNRATE.keys()\n",
         "hidden": false,
         "locked": false
        },
        {
         "code": ">>> assert 'file_type' in params_UNRATE.keys()\n",
         "hidden": false,
         "locked": false
        }
       ],
       "scored": true,
       "setup": "",
       "teardown": "",
       "type": "doctest"
      }
     ]
    }
   }
  }
 },
 "nbformat": 4,
 "nbformat_minor": 5
}

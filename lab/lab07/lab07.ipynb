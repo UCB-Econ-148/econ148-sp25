{
 "cells": [
  {
   "cell_type": "code",
   "execution_count": null,
   "id": "a1a3ed5b",
   "metadata": {
    "deletable": false,
    "editable": false
   },
   "outputs": [],
   "source": [
    "# Initialize Otter\n",
    "import otter\n",
    "grader = otter.Notebook(\"lab07.ipynb\")"
   ]
  },
  {
   "cell_type": "code",
   "execution_count": null,
   "id": "6ed2f48a",
   "metadata": {
    "tags": []
   },
   "outputs": [],
   "source": [
    "import pandas as pd\n",
    "import numpy as np\n",
    "import statsmodels.api as sm\n",
    "import matplotlib.pyplot as plt\n",
    "import seaborn as sns\n",
    "%matplotlib inline"
   ]
  },
  {
   "cell_type": "markdown",
   "id": "70ee2892",
   "metadata": {},
   "source": [
    "# Lab 7: The Impact of Minimum Wage on Employment\n",
    "\n",
    "## Overview\n",
    "\n",
    "We are going to replicate a study conducted by **[Card and Krueger in 1994](https://davidcard.berkeley.edu/papers/njmin-aer.pdf)** that investigates the relationship between a rise in the minimum wage and employment.\n",
    "\n",
    "## Background\n",
    "\n",
    "[Economic theories](https://www.frbsf.org/research-and-insights/publications/economic-letter/2015/12/effects-of-minimum-wage-on-employment/) have long suggested that increases in the minimum wage lead to a reduction in employment for at least two reasons:\n",
    "\n",
    "1. **Businesses are less likely to hire** and will rather invest in other resources that are now cheaper because of the wage increase.\n",
    "2. **Higher salaries will induce businesses to raise their prices** to compensate for their greater costs; as prices increase, we expect fewer buyers, which will lead to lower demand and employment.\n",
    "\n",
    "These theories have found [mixed support](https://www.nber.org/papers/w12663), but the discussion is still very much open within the policy world, as states discuss the opportunity to raise their minimum wage to help local populations to face increasing living costs. Discussions are currently occurring in **[New Jersey](https://www.nytimes.com/2019/01/17/nyregion/nj-minimum-wage.html)** and **[Illinois](https://kmox.radio.com/articles/discussions-underway-raise-illinois-minimum-wage-15hour)** to raise the minimum wage to **$15/hour** ([New York](https://www.nytimes.com/2018/12/31/nyregion/15-minimum-wage-new-york.html?module=inline) has successfully passed this same raise in 2018).\n",
    "\n",
    "## The Original Study\n",
    "\n",
    "One of the first studies looking at this policy problem was **Card and Krueger’s**. They applied a difference-in-difference design to look at two groups of fast-food restaurants:\n",
    "\n",
    "- Fast-food restaurants in **New Jersey** where the minimum wage **increased** from \\\\$4.25 to $5.05 per hour (treatment group)\n",
    "- Fast-food restaurants in **Pennsylvania** where the minimum wage did not change (control group).\n",
    "\n",
    "They collected data before and after the minimum wage was approved. Data used in the study can be downloaded [here](https://github.com/DS4PS/PROG-EVAL-III/blob/master/TEXTBOOK/DATA/DID_Example.csv).\n",
    "\n",
    "## Research Question\n",
    " - Does an increase in the minimum wage affect employment rates?\n",
    "## Hypothesis\n",
    "- An increase in the minimum wage is negatively correlated with employment.\n"
   ]
  },
  {
   "cell_type": "markdown",
   "id": "3f924001",
   "metadata": {},
   "source": [
    "## Part 1: Understanding the Research "
   ]
  },
  {
   "cell_type": "markdown",
   "id": "1fc679a9",
   "metadata": {
    "deletable": false,
    "editable": false
   },
   "source": [
    "<!-- BEGIN QUESTION -->\n",
    "\n",
    "**Question 1.1:** How does using a *difference-in-differences* research design affect the *validity* and reliability of findings in studies on changes in minimum wage and their impact on employment rate?\n",
    "\n",
    "*Hint*: Think about the parallell trend assumption."
   ]
  },
  {
   "cell_type": "markdown",
   "id": "700912fc",
   "metadata": {},
   "source": [
    "_Type your answer here, replacing this text._"
   ]
  },
  {
   "cell_type": "markdown",
   "id": "708e8f54-0443-4639-bc05-a3f36a55189a",
   "metadata": {
    "deletable": false,
    "editable": false
   },
   "source": [
    "<!-- END QUESTION -->\n",
    "\n",
    "<!-- BEGIN QUESTION -->\n",
    "\n",
    "**Question 1.2:** What's the difference between the `Group` the `Treatment` columns? "
   ]
  },
  {
   "cell_type": "markdown",
   "id": "7cac8a34",
   "metadata": {},
   "source": [
    "_Type your answer here, replacing this text._"
   ]
  },
  {
   "cell_type": "markdown",
   "id": "85a0344f-aa99-4da5-a526-4278414b4a97",
   "metadata": {
    "deletable": false,
    "editable": false
   },
   "source": [
    "<!-- END QUESTION -->\n",
    "\n",
    "<hr>"
   ]
  },
  {
   "cell_type": "markdown",
   "id": "9f2bb292",
   "metadata": {},
   "source": [
    "## Part 2: Data Cleaning"
   ]
  },
  {
   "cell_type": "markdown",
   "id": "90e0fcb9",
   "metadata": {},
   "source": [
    "We now proceed with loading in the data used in the original 1994 study. It cointains the following variables:"
   ]
  },
  {
   "cell_type": "markdown",
   "id": "12b48425",
   "metadata": {},
   "source": [
    "| Variable Name | Description                                          |\n",
    "|---------------|------------------------------------------------------|\n",
    "| ID            | Unique identifier for fast food                     |\n",
    "| Treatment     | Pre-treatment (=0) and post-treatment (=1)          |\n",
    "| Group         | 1 if NJ (treatment); 0 if PA (Control)              |\n",
    "| Empl          | # of full time employees                             |\n",
    "| C.Owned       | If owned by a company (=1) or not (=0)               |\n",
    "| Hours.Opening | Number hours open per day                            |\n",
    "| Soda          | Price of medium soda, including tax                  |\n",
    "| Fries         | Price of small fries, including tax                  |\n",
    "| Chain         | 1 = BK, 2 = KFC, 3 = Roys, 4 = Wendys                |\n",
    "| SouthJ        | South New Jersey                                     |\n",
    "| CentralJ      | Central New Jersey                                   |\n",
    "| NorthJ        | North New Jersey                                     |\n",
    "| PA1           | Northeast suburbs of Philadelphia                    |\n",
    "| PA2           | Easton and other PA areas                            |\n",
    "| Shore         | New Jersey Shore                                     |\n"
   ]
  },
  {
   "cell_type": "code",
   "execution_count": null,
   "id": "dca1529f",
   "metadata": {},
   "outputs": [],
   "source": [
    "dd_df = pd.read_csv('data/DID_Example.csv')\n",
    "dd_df.head()"
   ]
  },
  {
   "cell_type": "markdown",
   "id": "4e850af7",
   "metadata": {
    "deletable": false,
    "editable": false
   },
   "source": [
    "<!-- BEGIN QUESTION -->\n",
    "\n",
    "**Question 2.1:** What does each row in `dd_df` represent?"
   ]
  },
  {
   "cell_type": "markdown",
   "id": "58320779",
   "metadata": {},
   "source": [
    "_Type your answer here, replacing this text._"
   ]
  },
  {
   "cell_type": "markdown",
   "id": "73d55597",
   "metadata": {
    "deletable": false,
    "editable": false
   },
   "source": [
    "<!-- END QUESTION -->\n",
    "\n",
    "**Question 2.2:** Summarize the data above such that it shows count, mean, and other useful statistics for each column.\n",
    "\n",
    "*Hint*: use `.describe()`"
   ]
  },
  {
   "cell_type": "code",
   "execution_count": null,
   "id": "1e07bb55",
   "metadata": {
    "tags": []
   },
   "outputs": [],
   "source": [
    "dd_df_summarized = ...\n",
    "\n",
    "\n",
    "dd_df_summarized"
   ]
  },
  {
   "cell_type": "code",
   "execution_count": null,
   "id": "8e4b595d",
   "metadata": {
    "deletable": false,
    "editable": false
   },
   "outputs": [],
   "source": [
    "grader.check(\"q2_2\")"
   ]
  },
  {
   "cell_type": "markdown",
   "id": "fa275940",
   "metadata": {
    "deletable": false,
    "editable": false
   },
   "source": [
    "**Question 2.3:** What's the average number of employees per fast-food restaurant?"
   ]
  },
  {
   "cell_type": "code",
   "execution_count": null,
   "id": "d16fb6b5",
   "metadata": {
    "tags": []
   },
   "outputs": [],
   "source": [
    "mean_employees = ...\n",
    "\n",
    "mean_employees"
   ]
  },
  {
   "cell_type": "code",
   "execution_count": null,
   "id": "201457f5",
   "metadata": {
    "deletable": false,
    "editable": false
   },
   "outputs": [],
   "source": [
    "grader.check(\"q2_3\")"
   ]
  },
  {
   "cell_type": "markdown",
   "id": "fc8ca047",
   "metadata": {
    "deletable": false,
    "editable": false
   },
   "source": [
    "**Question 2.4:** What percentage of fast-food restaurants are part of the treatment group? (e.g. 40 instead of 0.4)"
   ]
  },
  {
   "cell_type": "code",
   "execution_count": null,
   "id": "0ad5b8c4",
   "metadata": {
    "tags": []
   },
   "outputs": [],
   "source": [
    "per_treatment = ...\n",
    "\n",
    "per_treatment"
   ]
  },
  {
   "cell_type": "code",
   "execution_count": null,
   "id": "b97663b5",
   "metadata": {
    "deletable": false,
    "editable": false
   },
   "outputs": [],
   "source": [
    "grader.check(\"q2_4\")"
   ]
  },
  {
   "cell_type": "markdown",
   "id": "e01c6a80",
   "metadata": {
    "deletable": false,
    "editable": false
   },
   "source": [
    "**Question 2.5:** Notice that our `Chain` column is a categorical variable hidden as a numeric value! One-hot encode this column and save the your work along with the original `dd_df` in `dd_df_encoded`. After one-hot encoding `Chain`, you should *drop* the original column and *drop* `Roys` to avoid multicolinearity. This will be helpful for our analysis below.\n",
    "\n",
    "*Hint*: use `pd.get_dummies()` for one-hot encoding. "
   ]
  },
  {
   "cell_type": "code",
   "execution_count": null,
   "id": "3efa5fab",
   "metadata": {
    "tags": []
   },
   "outputs": [],
   "source": [
    "chain_dummies = ...\n",
    "...\n",
    "dd_df_encoded = ...\n",
    "\n",
    "dd_df_encoded"
   ]
  },
  {
   "cell_type": "code",
   "execution_count": null,
   "id": "7b42f05d",
   "metadata": {
    "deletable": false,
    "editable": false
   },
   "outputs": [],
   "source": [
    "grader.check(\"q2_5\")"
   ]
  },
  {
   "cell_type": "markdown",
   "id": "e399e79b-8155-42a6-953f-80a7cca454d0",
   "metadata": {},
   "source": [
    "<hr>"
   ]
  },
  {
   "cell_type": "markdown",
   "id": "1649987e",
   "metadata": {},
   "source": [
    "## Part 3: Analysis: Estimating the Difference-in-Differences Model\n",
    "\n",
    "We now estimate the Difference-in-Differences model based on the model below. Along with the **Group** and **Treatment** variables, we also include a set of control variables to account for differences across restaurants. \n",
    "\n",
    "Here we consider the variables:  \n",
    "- **opening hours**—suggesting that fast-food restaurants open for more hours might need more employees. \n",
    "- prices of **fries and sodas**, under the assumption that more expensive fast food might have more resources to hire additional staff.\n"
   ]
  },
  {
   "cell_type": "markdown",
   "id": "a041bd7b",
   "metadata": {
    "deletable": false,
    "editable": false
   },
   "source": [
    "<!-- BEGIN QUESTION -->\n",
    "\n",
    "**Question 3.1:** Using the general diff-in-diff model below, specify the model we're about to estimate using $\\LaTeX$. Hint: Don't forget to add your controls. Feel free to copy and reformat the Latex Code below. "
   ]
  },
  {
   "cell_type": "markdown",
   "id": "7ee58892",
   "metadata": {
    "deletable": false,
    "editable": false
   },
   "source": [
    "$(1.1)$ \n",
    "\n",
    "$$Y = \\beta_0 + \\beta_1 \\cdot \\text{Treatment} + \\beta_2 \\cdot \\text{Post} + \\beta_3 \\cdot \\text{Treatment} \\times \\text{Post} + \\text{Controls} + e$$\n"
   ]
  },
  {
   "cell_type": "markdown",
   "id": "d853253f",
   "metadata": {},
   "source": [
    "_Type your answer here, replacing this text._"
   ]
  },
  {
   "cell_type": "markdown",
   "id": "bd4d8728",
   "metadata": {
    "deletable": false,
    "editable": false
   },
   "source": [
    "<!-- END QUESTION -->\n",
    "\n",
    "**Question 3.2:** Now, rename the relevant column names of the `dd_df` to fit the equation specified in (1.1). Instead of having `Group` and `Treatment`, they should be `Treatment` and `Post`, both of which take on binary values. This will simplify our coming analysis!"
   ]
  },
  {
   "cell_type": "code",
   "execution_count": null,
   "id": "731fb7e7",
   "metadata": {
    "tags": []
   },
   "outputs": [],
   "source": [
    "dd_df = dd_df_encoded...\n",
    "dd_df"
   ]
  },
  {
   "cell_type": "code",
   "execution_count": null,
   "id": "e032b3f2",
   "metadata": {
    "deletable": false,
    "editable": false
   },
   "outputs": [],
   "source": [
    "grader.check(\"q3_2\")"
   ]
  },
  {
   "cell_type": "markdown",
   "id": "397de827",
   "metadata": {
    "deletable": false,
    "editable": false
   },
   "source": [
    "**Question 3.3:** Now, using `statsmodels` run the diff-in-diff from equation (1.1). Run this regression *without* your controls.\n",
    "\n",
    "*Hint*: [here](https://www.statsmodels.org/dev/examples/notebooks/generated/ols.html) is how to run OLS in statsmodels. \n",
    "\n",
    "*Hint*: think of what data type `X` and `y` should be.  "
   ]
  },
  {
   "cell_type": "code",
   "execution_count": null,
   "id": "fc9048ce",
   "metadata": {
    "tags": []
   },
   "outputs": [],
   "source": [
    "# Create your Treatment*Post interaction term.\n",
    "dd_df['Treatment_Post'] = ...\n",
    "\n",
    "# Define your dependent variable.\n",
    "y = dd_df[...] \n",
    "\n",
    "# Define your independent variables, including the interaction term\n",
    "X = dd_df[...]\n",
    "\n",
    "# Add a constant to the model (the intercept)\n",
    "X = sm.add_constant(X)\n",
    "\n",
    "# Create the OLS model\n",
    "model = ...\n",
    "\n",
    "# Fit the model\n",
    "results = ...\n",
    "\n",
    "# Print the summary of the model\n",
    "print(results.summary())"
   ]
  },
  {
   "cell_type": "code",
   "execution_count": null,
   "id": "1b0dce4c",
   "metadata": {
    "deletable": false,
    "editable": false
   },
   "outputs": [],
   "source": [
    "grader.check(\"q3_3\")"
   ]
  },
  {
   "cell_type": "markdown",
   "id": "951eda7b",
   "metadata": {
    "deletable": false,
    "editable": false
   },
   "source": [
    "**Question 3.4:** You notice that your output from the `print(results.summary())` gives you all NaN's as cofficients and std errors. This may be because of NaNs in the data. For the sake of simplicity, feel free to just drop all the NaNs for now."
   ]
  },
  {
   "cell_type": "code",
   "execution_count": null,
   "id": "d9b44968",
   "metadata": {
    "tags": []
   },
   "outputs": [],
   "source": [
    "dd_df = ...\n",
    "dd_df"
   ]
  },
  {
   "cell_type": "code",
   "execution_count": null,
   "id": "9bd446af",
   "metadata": {
    "deletable": false,
    "editable": false
   },
   "outputs": [],
   "source": [
    "grader.check(\"q3_4\")"
   ]
  },
  {
   "cell_type": "markdown",
   "id": "a9cbd6bb",
   "metadata": {
    "deletable": false,
    "editable": false
   },
   "source": [
    "**Question 3.5:** Repeat the analysis from `q3.3` and estimate the Diff-in-Diff estimator. Again, do not include controls from `q3.1` here. "
   ]
  },
  {
   "cell_type": "code",
   "execution_count": null,
   "id": "ee0cf4a9",
   "metadata": {
    "tags": []
   },
   "outputs": [],
   "source": [
    "..."
   ]
  },
  {
   "cell_type": "code",
   "execution_count": null,
   "id": "7ad32ead",
   "metadata": {
    "deletable": false,
    "editable": false
   },
   "outputs": [],
   "source": [
    "grader.check(\"q3_5\")"
   ]
  },
  {
   "cell_type": "markdown",
   "id": "5274e26b",
   "metadata": {
    "deletable": false,
    "editable": false
   },
   "source": [
    "**Question 3.6:** We notice that our $R^2$ (one of many goodness-of-fit parameters we can use) is very low. To aid our analysis, Include the controls you specified in the $\\LaTeX$ equation above."
   ]
  },
  {
   "cell_type": "code",
   "execution_count": null,
   "id": "1f993c2a",
   "metadata": {
    "tags": []
   },
   "outputs": [],
   "source": [
    "..."
   ]
  },
  {
   "cell_type": "code",
   "execution_count": null,
   "id": "f2d849d8",
   "metadata": {
    "deletable": false,
    "editable": false
   },
   "outputs": [],
   "source": [
    "grader.check(\"q3_6\")"
   ]
  },
  {
   "cell_type": "markdown",
   "id": "d000c100",
   "metadata": {
    "deletable": false,
    "editable": false
   },
   "source": [
    "<!-- BEGIN QUESTION -->\n",
    "\n",
    "**Question 3.7:** Controlling for opening hours, and prices of soda & fries - What is the diff-in-diff estimator for the impact on introducing a minimum wage in New Jersey? Remember to include units and give a brief interpretation of our findings following the SSS framework from above. Be sure to mention how your $R^2$ changed, and it's practical implications. \n",
    "\n",
    "*Note*: Please format your markdown nicely (like the following cell) to aid readability."
   ]
  },
  {
   "cell_type": "markdown",
   "id": "d616e6d5-33c4-439e-9dbd-f4a53a68a0d9",
   "metadata": {
    "deletable": false,
    "editable": false
   },
   "source": [
    "#### Sign, Size, and Significance (SSS) framework for interpreting regression outputs\n",
    "\n",
    "##### 1. Sign\n",
    "\n",
    "- **Expected Sign**: What sign did you expect the estimated parameter(s) to have? Why?\n",
    "- **Actual Sign**: Does your estimate(s) have this sign (i.e., are you surprised or reassured by your results)?\n",
    "\n",
    "##### 2. Significance\n",
    "\n",
    "- **Statistical Significance**: Is the estimate(s) statistically different from zero?\n",
    "- **T-Statistic**: What is the t-statistic of this hypothesis?\n",
    "\n",
    "##### 3. Size\n",
    "\n",
    "- **Effect on Dependent Variable**: How do changes in this variable affect the dependent variable according to your estimation?\n",
    "- **Economic Significance**: Is this an economically meaningful effect size?\n",
    "\n",
    "This framework is borrowed from Berkeley's EEP C118 course. See more [here.](https://are.berkeley.edu/courses/EEP118/spring2014/section/Handout4_2014.pdf)"
   ]
  },
  {
   "cell_type": "markdown",
   "id": "927b8e88",
   "metadata": {},
   "source": [
    "_Type your answer here, replacing this text._"
   ]
  },
  {
   "cell_type": "markdown",
   "id": "a55703cb-f36c-4990-9b3c-471f213b8846",
   "metadata": {
    "deletable": false,
    "editable": false
   },
   "source": [
    "<!-- END QUESTION -->\n",
    "\n",
    "<hr>"
   ]
  },
  {
   "cell_type": "markdown",
   "id": "9d72c7cd",
   "metadata": {},
   "source": [
    "## Part 4: Visualizing the diff-in-diff estimator"
   ]
  },
  {
   "cell_type": "markdown",
   "id": "6fa6eab8",
   "metadata": {},
   "source": [
    "Below, we plot the difference in difference estimates from question 3.5 and embark on a visual interpretation of our findings."
   ]
  },
  {
   "cell_type": "code",
   "execution_count": null,
   "id": "c369ac07",
   "metadata": {
    "tags": []
   },
   "outputs": [],
   "source": [
    "# First, calculate mean employment by group and time\n",
    "mean_empl = dd_df.groupby(['Treatment', 'Post'])['Empl'].mean().reset_index()\n",
    "\n",
    "# Now, plot these averages with lines to show the change from pre to post for each group\n",
    "plt.figure(figsize=(14, 7))\n",
    "sns.lineplot(x='Post', y='Empl', hue='Treatment', data=mean_empl, marker='o', palette='viridis')\n",
    "\n",
    "plt.title('Difference-in-Differences: Employment Pre and Post Treatment')\n",
    "plt.xlabel('Period (0 = Pre-Treatment, 1 = Post-Treatment)')\n",
    "plt.ylabel('Average Employment')\n",
    "plt.xticks(ticks=[0, 1], labels=['Pre-Treatment', 'Post-Treatment'])\n",
    "plt.legend(title='Group / State', labels=['Control / PA', 'Treatment / NJ'])\n",
    "\n",
    "# Adding annotations for clarity\n",
    "for line in range(mean_empl.shape[0]):\n",
    "    plt.text(mean_empl.Post[line]+0.02, mean_empl.Empl[line], \n",
    "             f\"{mean_empl.Empl[line]:.2f}\", horizontalalignment='left', \n",
    "             size='medium', color='black', weight='semibold')\n",
    "\n",
    "plt.figure(figsize=(6, 5)) \n",
    "plt.tight_layout()\n",
    "plt.show();"
   ]
  },
  {
   "cell_type": "markdown",
   "id": "a7565a87",
   "metadata": {
    "deletable": false,
    "editable": false,
    "tags": []
   },
   "source": [
    "**Question 4.1:** Now, let's make sure we can visually interpret our findings. Match the regression output numbers below to the appropriate regression equation.\n",
    "\n",
    "**Equations:**\n",
    "\n",
    "a) $const$\n",
    "\n",
    "b) $const + \\text{Treatment}$\n",
    "\n",
    "c) $const + \\text{Post}$\n",
    "\n",
    "d) $const + \\text{Post} + \\text{Treatment} + \\text{Treatment*Post}$\n",
    "\n",
    "**Regression Output Numbers:**\n",
    "\n",
    "1. $10.44$\n",
    "2. $7.59$\n",
    "3. $7.75$\n",
    "4. $8.47$\n"
   ]
  },
  {
   "cell_type": "code",
   "execution_count": null,
   "id": "02a0df54",
   "metadata": {
    "tags": []
   },
   "outputs": [],
   "source": [
    "a = ... # These should be either 10.44, or 7.59, or 7.75, or 8.47\n",
    "b = ...\n",
    "c = ...\n",
    "d = ...\n"
   ]
  },
  {
   "cell_type": "code",
   "execution_count": null,
   "id": "107da81a",
   "metadata": {
    "deletable": false,
    "editable": false
   },
   "outputs": [],
   "source": [
    "grader.check(\"q4_1\")"
   ]
  },
  {
   "cell_type": "markdown",
   "id": "ac7605e6",
   "metadata": {
    "deletable": false,
    "editable": false
   },
   "source": [
    "**Question 4.2:** Using the numbers from the visualization above, calculate the difference in difference estimate. It should match your estimate from question 3.5."
   ]
  },
  {
   "cell_type": "code",
   "execution_count": null,
   "id": "1c437d6c",
   "metadata": {
    "tags": []
   },
   "outputs": [],
   "source": [
    "DD_estimate = ...\n",
    "DD_estimate"
   ]
  },
  {
   "cell_type": "code",
   "execution_count": null,
   "id": "c5f1c813",
   "metadata": {
    "deletable": false,
    "editable": false
   },
   "outputs": [],
   "source": [
    "grader.check(\"q4_2\")"
   ]
  },
  {
   "cell_type": "markdown",
   "id": "61fe2284",
   "metadata": {
    "deletable": false,
    "editable": false
   },
   "source": [
    "<!-- BEGIN QUESTION -->\n",
    "\n",
    "**Question 4.3:** Looking back to your response to question 1.1 and the plot from above, what are some limitations in Card's Difference and Differences model's setup. \n",
    "\n",
    "*Hint*: Think of the assumptions used in Difference in Differences. "
   ]
  },
  {
   "cell_type": "markdown",
   "id": "f01f9cac",
   "metadata": {},
   "source": [
    "_Type your answer here, replacing this text._"
   ]
  },
  {
   "cell_type": "markdown",
   "id": "231632b6-2975-4b75-85d8-6bbd21bee7bd",
   "metadata": {
    "deletable": false,
    "editable": false
   },
   "source": [
    "<!-- END QUESTION -->\n",
    "\n",
    "<hr>"
   ]
  },
  {
   "cell_type": "markdown",
   "id": "51d7f774",
   "metadata": {},
   "source": [
    "### Conclusion\n",
    "Congratulations, you have finished lab 7! We hope you enjoyed the lab - you're one step closer in becoming a master replicator of economics papers...\n",
    "\n",
    "Have a great week!\n",
    "\n",
    "Justin, Luis, and Dawson.\n"
   ]
  },
  {
   "cell_type": "markdown",
   "id": "3fe12911",
   "metadata": {
    "tags": []
   },
   "source": [
    "---\n",
    "## Sources\n",
    "\n",
    "*FOUNDATIONS OF PROGRAM EVALUATION III REGRESSION TOOLS FOR CAUSAL ANALYSIS* by Data Science for \n",
    "Public Service (https://ds4ps.org/PROG-EVAL-III/index.html), retrieved 22 Feb 2024."
   ]
  },
  {
   "cell_type": "markdown",
   "id": "2b4df4dd",
   "metadata": {
    "deletable": false,
    "editable": false
   },
   "source": [
    "## Submission\n",
    "\n",
    "Make sure you have run all cells in your notebook in order before running the cell below, so that all images/graphs appear in the output. The cell below will generate a zip file for you to submit. **Please save before exporting!**"
   ]
  },
  {
   "cell_type": "code",
   "execution_count": null,
   "id": "8a8a5930",
   "metadata": {
    "deletable": false,
    "editable": false
   },
   "outputs": [],
   "source": [
    "# Save your notebook first, then run this cell to export your submission.\n",
    "grader.export(run_tests=True)"
   ]
  },
  {
   "cell_type": "markdown",
   "id": "923fe344",
   "metadata": {},
   "source": [
    " "
   ]
  }
 ],
 "metadata": {
  "kernelspec": {
   "display_name": "Python 3 (ipykernel)",
   "language": "python",
   "name": "python3"
  },
  "language_info": {
   "codemirror_mode": {
    "name": "ipython",
    "version": 3
   },
   "file_extension": ".py",
   "mimetype": "text/x-python",
   "name": "python",
   "nbconvert_exporter": "python",
   "pygments_lexer": "ipython3",
   "version": "3.12.2"
  },
  "otter": {
   "OK_FORMAT": true,
   "export_pdf_failure_message": "PDF did not generate, please submit screenshots for questions 1.1, 1.2, 2.1, 3.1, 3.7, and 4.3.",
   "require_no_pdf_confirmation": true,
   "tests": {
    "q2_2": {
     "name": "q2_2",
     "points": 1,
     "suites": [
      {
       "cases": [
        {
         "code": ">>> assert dd_df_summarized.shape == (8, 15)\n",
         "hidden": false,
         "locked": false
        }
       ],
       "scored": true,
       "setup": "",
       "teardown": "",
       "type": "doctest"
      }
     ]
    },
    "q2_3": {
     "name": "q2_3",
     "points": 1,
     "suites": [
      {
       "cases": [
        {
         "code": ">>> assert np.isclose(mean_employees, 8.238778054862843)\n",
         "hidden": false,
         "locked": false
        }
       ],
       "scored": true,
       "setup": "",
       "teardown": "",
       "type": "doctest"
      }
     ]
    },
    "q2_4": {
     "name": "q2_4",
     "points": 1,
     "suites": [
      {
       "cases": [
        {
         "code": ">>> assert np.isclose(per_treatment, 80.73170731707317)\n",
         "hidden": false,
         "locked": false
        }
       ],
       "scored": true,
       "setup": "",
       "teardown": "",
       "type": "doctest"
      }
     ]
    },
    "q2_5": {
     "name": "q2_5",
     "points": 2,
     "suites": [
      {
       "cases": [
        {
         "code": ">>> assert dd_df_encoded.shape == (820, 17)\n",
         "hidden": false,
         "locked": false
        },
        {
         "code": ">>> expected_columns = ['BK', 'KFC', 'Wendys']\n>>> assert all((column in dd_df_encoded.columns for column in expected_columns))\n",
         "hidden": false,
         "locked": false
        }
       ],
       "scored": true,
       "setup": "",
       "teardown": "",
       "type": "doctest"
      }
     ]
    },
    "q3_2": {
     "name": "q3_2",
     "points": 1,
     "suites": [
      {
       "cases": [
        {
         "code": ">>> expected_columns_after_rename = ['Treatment', 'Post']\n>>> assert all((column in dd_df.columns for column in expected_columns_after_rename))\n",
         "hidden": false,
         "locked": false
        },
        {
         "code": ">>> original_columns = ['Group']\n>>> assert all((column not in dd_df.columns for column in original_columns))\n",
         "hidden": false,
         "locked": false
        }
       ],
       "scored": true,
       "setup": "",
       "teardown": "",
       "type": "doctest"
      }
     ]
    },
    "q3_3": {
     "name": "q3_3",
     "points": 2,
     "suites": [
      {
       "cases": [
        {
         "code": ">>> assert np.isnan(results_33.params.const)\n",
         "hidden": false,
         "locked": false
        },
        {
         "code": ">>> assert len(results_33.params) == 4\n",
         "hidden": false,
         "locked": false
        }
       ],
       "scored": true,
       "setup": "",
       "teardown": "",
       "type": "doctest"
      }
     ]
    },
    "q3_4": {
     "name": "q3_4",
     "points": 1,
     "suites": [
      {
       "cases": [
        {
         "code": ">>> expected_shape = (757, 18)\n>>> assert dd_df.shape == expected_shape\n",
         "hidden": false,
         "locked": false
        },
        {
         "code": ">>> assert not dd_df.isna().any().any()\n",
         "hidden": false,
         "locked": false
        }
       ],
       "scored": true,
       "setup": "",
       "teardown": "",
       "type": "doctest"
      }
     ]
    },
    "q3_5": {
     "name": "q3_5",
     "points": 1,
     "suites": [
      {
       "cases": [
        {
         "code": ">>> expected_coefficients = {'const': {'coef': 10.4408, 'se': 0.929, 'ci_lower': 8.616, 'ci_upper': 12.265}, 'Treatment': {'coef': -2.8472, 'se': 1.037, 'ci_lower': -4.883, 'ci_upper': -0.811}, 'Post': {'coef': -2.6943, 'se': 1.337, 'ci_lower': -5.32, 'ci_upper': -0.069}, 'Treatment_Post': {'coef': 3.5708, 'se': 1.49, 'ci_lower': 0.646, 'ci_upper': 6.495}}\n>>> tolerance = 0.001\n>>> for var, expected in expected_coefficients.items():\n...     coef, se = (results_35.params[var], results_35.bse[var])\n...     ci_lower, ci_upper = results_35.conf_int().loc[var]\n...     assert abs(coef - expected['coef']) < tolerance, f'Coefficient for {var} is incorrect: expected {expected['coef']}, got {coef}'\n...     assert abs(se - expected['se']) < tolerance, f'Standard error for {var} is incorrect: expected {expected['se']}, got {se}'\n...     assert abs(ci_lower - expected['ci_lower']) < tolerance, f'Lower CI for {var} is incorrect: expected {expected['ci_lower']}, got {ci_lower}'\n...     assert abs(ci_upper - expected['ci_upper']) < tolerance, f'Upper CI for {var} is incorrect: expected {expected['ci_upper']}, got {ci_upper}'\n",
         "hidden": false,
         "locked": false
        }
       ],
       "scored": true,
       "setup": "",
       "teardown": "",
       "type": "doctest"
      }
     ]
    },
    "q3_6": {
     "name": "q3_6",
     "points": 2,
     "suites": [
      {
       "cases": [
        {
         "code": ">>> expected_coefficients = {'const': {'coef': 1.247, 'se': 3.451, 'ci_lower': -5.528, 'ci_upper': 8.022}, 'Treatment': {'coef': -2.9825, 'se': 1.056, 'ci_lower': -5.055, 'ci_upper': -0.91}, 'Post': {'coef': -1.4365, 'se': 1.3, 'ci_lower': -3.989, 'ci_upper': 1.116}, 'Treatment_Post': {'coef': 4.1275, 'se': 1.435, 'ci_lower': 1.311, 'ci_upper': 6.944}, 'Hours.Opening': {'coef': 0.5209, 'se': 0.071, 'ci_lower': 0.382, 'ci_upper': 0.659}, 'Fries': {'coef': -0.3659, 'se': 3.549, 'ci_lower': -7.333, 'ci_upper': 6.602}, 'Soda': {'coef': 2.0506, 'se': 4.222, 'ci_lower': -6.238, 'ci_upper': 10.339}}\n>>> tolerance = 0.001\n>>> for var, expected in expected_coefficients.items():\n...     coef, se = (results_37.params[var], results_37.bse[var])\n...     ci_lower, ci_upper = results_37.conf_int().loc[var]\n...     assert abs(coef - expected['coef']) < tolerance, f'Coefficient for {var} is incorrect: expected {expected['coef']}, got {coef}'\n...     assert abs(se - expected['se']) < tolerance, f'Standard error for {var} is incorrect: expected {expected['se']}, got {se}'\n...     assert abs(ci_lower - expected['ci_lower']) < tolerance, f'Lower CI for {var} is incorrect: expected {expected['ci_lower']}, got {ci_lower}'\n...     assert abs(ci_upper - expected['ci_upper']) < tolerance, f'Upper CI for {var} is incorrect: expected {expected['ci_upper']}, got {ci_upper}'\n",
         "hidden": false,
         "locked": false
        }
       ],
       "scored": true,
       "setup": "",
       "teardown": "",
       "type": "doctest"
      }
     ]
    },
    "q4_1": {
     "name": "q4_1",
     "points": 1,
     "suites": [
      {
       "cases": [
        {
         "code": ">>> assert np.isclose(np.mean([a, b]), 9.015)\n>>> assert np.isclose(np.mean([b, c]), 7.67)\n>>> assert np.isclose(np.mean([c, d]), 8.120000000000001)\n",
         "hidden": false,
         "locked": false
        }
       ],
       "scored": true,
       "setup": "",
       "teardown": "",
       "type": "doctest"
      }
     ]
    },
    "q4_2": {
     "name": "q4_2",
     "points": 1,
     "suites": [
      {
       "cases": [
        {
         "code": ">>> assert np.isclose(DD_estimate, 3.5708, 0.001)\n",
         "hidden": false,
         "locked": false
        }
       ],
       "scored": true,
       "setup": "",
       "teardown": "",
       "type": "doctest"
      }
     ]
    }
   }
  }
 },
 "nbformat": 4,
 "nbformat_minor": 5
}

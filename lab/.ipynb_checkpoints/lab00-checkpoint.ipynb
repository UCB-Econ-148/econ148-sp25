{
 "cells": [
  {
   "cell_type": "code",
   "execution_count": 1,
   "metadata": {
    "deletable": false,
    "editable": false
   },
   "outputs": [],
   "source": [
    "# Initialize Otter\n",
    "import otter\n",
    "grader = otter.Notebook(\"lab00.ipynb\")"
   ]
  },
  {
   "cell_type": "markdown",
   "metadata": {
    "editable": true,
    "slideshow": {
     "slide_type": ""
    },
    "tags": []
   },
   "source": [
    "# Lab 0: Intro to Jupyter Notebooks (Optional)\n",
    "\n",
    "Welcome to the first lab for this course! We'll share some helpful tips on using Jupyter notebooks and give a quick refresher on writing code in Python and NumPy. As with all assignments in this class, make sure you run the grader cell at the very top!"
   ]
  },
  {
   "cell_type": "markdown",
   "metadata": {
    "editable": true,
    "slideshow": {
     "slide_type": ""
    },
    "tags": []
   },
   "source": [
    "### Learning Objectives\n",
    "\n",
    "1. Learn some helpful tips on working in Jupyter notebooks\n",
    "2. Review basic Python syntax\n",
    "3. Review basic NumPy syntax and useful methods"
   ]
  },
  {
   "cell_type": "markdown",
   "metadata": {
    "editable": true,
    "slideshow": {
     "slide_type": ""
    },
    "tags": []
   },
   "source": [
    "----\n",
    "\n",
    "## Jupyter\n"
   ]
  },
  {
   "cell_type": "markdown",
   "metadata": {
    "editable": true,
    "slideshow": {
     "slide_type": ""
    },
    "tags": []
   },
   "source": [
    "We view/access all of our assignments and several of our lectures via [Jupyter Notebooks](https://jupyter-notebook.readthedocs.io/en/stable/examples/Notebook/What%20is%20the%20Jupyter%20Notebook.html), which allow us to run code in different cells and see how they compare. You should already be familiar with Jupyter Notebooks from Data 8, but here we give some helpful tips on working in them."
   ]
  },
  {
   "cell_type": "markdown",
   "metadata": {
    "editable": true,
    "slideshow": {
     "slide_type": ""
    },
    "tags": []
   },
   "source": [
    "To output the documentation for a function, use the `help` function. For example,"
   ]
  },
  {
   "cell_type": "code",
   "execution_count": null,
   "metadata": {
    "editable": true,
    "slideshow": {
     "slide_type": ""
    },
    "tags": []
   },
   "outputs": [],
   "source": [
    "help(print)"
   ]
  },
  {
   "cell_type": "markdown",
   "metadata": {},
   "source": [
    "You can also use Jupyter to view function documentation inside your notebook. The function must already be defined in the kernel for this to work.\n",
    "\n",
    "Below, click your mouse anywhere on the `print` block below and use `Shift` + `Tab` to view the function's documentation. "
   ]
  },
  {
   "cell_type": "code",
   "execution_count": null,
   "metadata": {},
   "outputs": [],
   "source": [
    "print('Welcome to Econ 148!')"
   ]
  },
  {
   "cell_type": "markdown",
   "metadata": {},
   "source": [
    "### Importing Libraries\n",
    "\n",
    "In data 8, you used the `datascience` and `numpy` libraries to work with data. In econ 148, we will introduce you to several libraries, including `pandas`, `matplotlib`, `seaborn`, `sklearn`, etc. It is convention to import any libraries you use at the very top of the notebook, along with any shorter aliases (i.e. abbreviations) which make it easy to refer to them. For this lab, we mostly use `numpy`, except one question where we load in data using `pandas`. We have imported them both along with their common aliases below."
   ]
  },
  {
   "cell_type": "code",
   "execution_count": 2,
   "metadata": {},
   "outputs": [],
   "source": [
    "import numpy as np\n",
    "import pandas as pd"
   ]
  },
  {
   "cell_type": "markdown",
   "metadata": {},
   "source": [
    "### Keyboard Shortcuts\n",
    "\n",
    "Even if you are familiar with Jupyter, we strongly encourage you to become proficient with keyboard shortcuts (this will save you a lot of time in the future). To learn about keyboard shortcuts, go to **Help --> Show Keyboard Shortcuts** in the menu above. \n",
    "\n",
    "Here are a few that we like:\n",
    "1. `Ctrl`/`Cmd` + `Return`: *Evaluate the current cell*\n",
    "1. `Shift` + `Return`: *Evaluate the current cell and move to the next*\n",
    "1. `Ctrl`/`Cmd` + `+` or `-`: *Zoom in or out*\n",
    "1. `Ctrl`/`Cmd` + `/`: *Comment or uncomment the selected code at once*\n",
    "1. `ESC` : *command mode* (press before using any of the commands below)\n",
    "    1. `a` : *create a cell above*\n",
    "    1. `b` : *create a cell below*\n",
    "    1. `dd` : *delete a cell*\n",
    "    1. `z` : *undo the last cell operation*\n",
    "    1. `m` : *convert a cell to markdown*\n",
    "    1. `y` : *convert a cell to code*"
   ]
  },
  {
   "cell_type": "markdown",
   "metadata": {},
   "source": [
    "### Running Cells \n",
    "\n",
    "Aside from keyboard shortcuts (specifically `Shift` + `Return`), you can also run a single cell by clicking the `Run` button in the top left corner of your notebook. If you hover over the button, you will also find some other options that allow you to run multiple cells. Specifically, restarting your kernel clears all saved variables and frees up memory. The `Restart Kernel and Run upto Selected Cell` option is particularly useful for situations where you believe your code is fine but you're running into strange memory issues. "
   ]
  },
  {
   "cell_type": "markdown",
   "metadata": {},
   "source": [
    "----\n",
    "\n"
   ]
  },
  {
   "cell_type": "markdown",
   "metadata": {
    "editable": true,
    "nbgrader": {
     "cell_type": "markdown",
     "checksum": "70d77ecade2565eb58c37a0bbccaca8e",
     "grade": false,
     "grade_id": "python-tutorial-links",
     "locked": false,
     "schema_version": 2,
     "solution": false
    },
    "slideshow": {
     "slide_type": ""
    },
    "tags": []
   },
   "source": [
    "## Python\n",
    "\n",
    "Python is the main programming language we'll use in the course. Work through the following cells and make sure you understand what is happening in each.\n",
    "\n",
    "Feel free to review one or more of the following materials as a refresher:\n",
    "- **[Python Tutorial](https://docs.python.org/3/tutorial/index.html)**: Introduction to Python from the creators of Python\n",
    "- **[Composing Programs Chapter 1](http://composingprograms.com/pages/11-getting-started.html)**: This is more of a introduction to programming with Python.\n",
    "- **[Advanced Crash Course](http://cs231n.github.io/python-numpy-tutorial/)**: A fast crash course which assumes some programming background.\n"
   ]
  },
  {
   "cell_type": "markdown",
   "metadata": {
    "editable": true,
    "slideshow": {
     "slide_type": ""
    },
    "tags": []
   },
   "source": [
    "### Lists"
   ]
  },
  {
   "cell_type": "markdown",
   "metadata": {
    "deletable": false,
    "editable": false
   },
   "source": [
    "**Question 1:** In the cell below, define the variable `numbers` to be equal to a list of all whole numbers from 1 to 5 (inclusive)."
   ]
  },
  {
   "cell_type": "code",
   "execution_count": null,
   "metadata": {
    "tags": []
   },
   "outputs": [],
   "source": [
    "q1 = ...\n",
    "q1"
   ]
  },
  {
   "cell_type": "code",
   "execution_count": null,
   "metadata": {
    "deletable": false,
    "editable": false
   },
   "outputs": [],
   "source": [
    "grader.check(\"q1\")"
   ]
  },
  {
   "cell_type": "markdown",
   "metadata": {
    "deletable": false,
    "editable": false
   },
   "source": [
    "**Question 2:** Add the number `6` at the end of `q1` and store the result in `q2`."
   ]
  },
  {
   "cell_type": "code",
   "execution_count": null,
   "metadata": {
    "tags": []
   },
   "outputs": [],
   "source": [
    "q2 = ...\n",
    "q2"
   ]
  },
  {
   "cell_type": "code",
   "execution_count": null,
   "metadata": {
    "deletable": false,
    "editable": false
   },
   "outputs": [],
   "source": [
    "grader.check(\"q2\")"
   ]
  },
  {
   "cell_type": "markdown",
   "metadata": {
    "deletable": false,
    "editable": false
   },
   "source": [
    "**Question 3:** Remove the element `3` from `q2` and store the result in `q3`, without editing `q2`. \n",
    "\n",
    "*Hint:* Be careful if using the `remove` method. Feel free to google if you're stuck!"
   ]
  },
  {
   "cell_type": "code",
   "execution_count": null,
   "metadata": {
    "tags": []
   },
   "outputs": [],
   "source": [
    "q3 = ...\n",
    "...\n",
    "q3"
   ]
  },
  {
   "cell_type": "code",
   "execution_count": null,
   "metadata": {
    "deletable": false,
    "editable": false
   },
   "outputs": [],
   "source": [
    "grader.check(\"q3\")"
   ]
  },
  {
   "cell_type": "markdown",
   "metadata": {},
   "source": [
    "### Loops and List Comprehensions"
   ]
  },
  {
   "cell_type": "markdown",
   "metadata": {},
   "source": [
    "Loops help us iterate over every element in an iterable object (such as a list or an array). For example, the code below prints every single month that is stored in the list `months`. "
   ]
  },
  {
   "cell_type": "code",
   "execution_count": null,
   "metadata": {},
   "outputs": [],
   "source": [
    "months = [\"January\", \"February\", \"March\", \"April\", \"May\", \"June\", \n",
    "          \"July\", \"August\", \"September\", \"October\", \"November\", \"December\"]\n",
    "for month in months:\n",
    "    print(month)"
   ]
  },
  {
   "cell_type": "markdown",
   "metadata": {},
   "source": [
    "We can perform more complicated expressions with loops. For example, let's print every single month that doesn't start with the letter J."
   ]
  },
  {
   "cell_type": "code",
   "execution_count": null,
   "metadata": {},
   "outputs": [],
   "source": [
    "for month in months:\n",
    "    if not month.startswith('J'):\n",
    "        print(month)"
   ]
  },
  {
   "cell_type": "markdown",
   "metadata": {},
   "source": [
    "While the examples above have both used for-loops, we can also use while loops. For example, what does the code below do?\n"
   ]
  },
  {
   "cell_type": "code",
   "execution_count": null,
   "metadata": {},
   "outputs": [],
   "source": [
    "i = 0\n",
    "while i < 6:\n",
    "    print(months[i])\n",
    "    i += 1"
   ]
  },
  {
   "cell_type": "markdown",
   "metadata": {},
   "source": [
    "A list comprehension in Python is essentially a simple for-loop written with special syntax. For example, we can convert our first for loop (printing every month) to a list comprehension, as done below. "
   ]
  },
  {
   "cell_type": "code",
   "execution_count": null,
   "metadata": {},
   "outputs": [],
   "source": [
    "[print(month) for month in months];"
   ]
  },
  {
   "cell_type": "markdown",
   "metadata": {},
   "source": [
    "We have included a `;` at the end of list comprehension to suppress the output, why? What would happen if we don't include it?\n",
    "\n",
    "Let's make things more complicated; let's use a list comprehension to get a list containing every single month that doesn't start with the letter J."
   ]
  },
  {
   "cell_type": "code",
   "execution_count": null,
   "metadata": {},
   "outputs": [],
   "source": [
    "[month for month in months if not month.startswith('J')]"
   ]
  },
  {
   "cell_type": "markdown",
   "metadata": {
    "deletable": false,
    "editable": false
   },
   "source": [
    "**Question 4:** The list `first_hundred` below contains all numbers from 1 to 100 (inclusive on both ends; try printing out each element in the list if you're unsure). Use a list comprehension to get a list of each number that is divisible by either 7 or 13, and store the result in `q4`."
   ]
  },
  {
   "cell_type": "code",
   "execution_count": null,
   "metadata": {
    "tags": []
   },
   "outputs": [],
   "source": [
    "first_hundred = range(1, 101)\n",
    "q4 = ...\n",
    "q4"
   ]
  },
  {
   "cell_type": "code",
   "execution_count": null,
   "metadata": {
    "deletable": false,
    "editable": false
   },
   "outputs": [],
   "source": [
    "grader.check(\"q4\")"
   ]
  },
  {
   "cell_type": "markdown",
   "metadata": {},
   "source": [
    "### Dictionaries"
   ]
  },
  {
   "cell_type": "markdown",
   "metadata": {},
   "source": [
    "Dictionaries are collections of key-value pairs, where each 'key' is associated with a certain 'value'. They are defined using `{}`, and can contain as many values as you like. You can read more about them [here](https://realpython.com/python-dicts/). We define a sample dictionary below."
   ]
  },
  {
   "cell_type": "code",
   "execution_count": null,
   "metadata": {},
   "outputs": [],
   "source": [
    "tel = {'justin': 5414, 'luis': 1685, 'dawson': 9522}\n",
    "tel\n"
   ]
  },
  {
   "cell_type": "markdown",
   "metadata": {},
   "source": [
    "Here, the keys are the names of the people, and the values are the last four digits of their phone numbers. You can retrieve the value associated with any key but not vice versa. For example, the code below retrieves the last 4 digits of Peter's phone number, but you cannot find out the name of the person whose phone number ends with 9522."
   ]
  },
  {
   "cell_type": "code",
   "execution_count": null,
   "metadata": {},
   "outputs": [],
   "source": [
    "tel['luis']\n",
    "#tel[1685] This does not work"
   ]
  },
  {
   "cell_type": "markdown",
   "metadata": {},
   "source": [
    "You can add and delete key-value pairs, as shown below."
   ]
  },
  {
   "cell_type": "code",
   "execution_count": null,
   "metadata": {},
   "outputs": [],
   "source": [
    "# insert a new key value pair\n",
    "tel['bennett'] = 3698 \n",
    "\n",
    "# delete an existing key value pair (two ways)\n",
    "tel.pop('justin')\n",
    "del tel['luis']"
   ]
  },
  {
   "cell_type": "markdown",
   "metadata": {
    "deletable": false,
    "editable": false
   },
   "source": [
    "**Question 5:** Write code that removes the record for `bennett` from the dictionary `tel2` and adds a new record for `eric` with value 1480. "
   ]
  },
  {
   "cell_type": "code",
   "execution_count": 3,
   "metadata": {
    "tags": []
   },
   "outputs": [],
   "source": [
    "tel2 = {'justin': 5414, 'luis': 1685, 'dawson': 9522, 'bennett': 9522}\n"
   ]
  },
  {
   "cell_type": "code",
   "execution_count": 4,
   "metadata": {
    "deletable": false,
    "editable": false
   },
   "outputs": [
    {
     "data": {
      "text/html": [
       "<p><strong><pre style='display: inline;'>q5</pre></strong> passed! ✨</p>"
      ],
      "text/plain": [
       "q5 results: All test cases passed!"
      ]
     },
     "execution_count": 4,
     "metadata": {},
     "output_type": "execute_result"
    }
   ],
   "source": [
    "grader.check(\"q5\")"
   ]
  },
  {
   "cell_type": "markdown",
   "metadata": {
    "nbgrader": {
     "cell_type": "markdown",
     "checksum": "4019eddb08e868ba791409d6fc683de2",
     "grade": false,
     "grade_id": "defining-functions",
     "locked": false,
     "schema_version": 2,
     "solution": false
    }
   },
   "source": [
    "### Defining Functions"
   ]
  },
  {
   "cell_type": "markdown",
   "metadata": {},
   "source": [
    "Functions take in certain values (as defined by their parameters), perform some processing with them and output some other values. You can define your own functions; an example is below:"
   ]
  },
  {
   "cell_type": "code",
   "execution_count": null,
   "metadata": {
    "nbgrader": {
     "cell_type": "code",
     "checksum": "661113989cc8f0b9d720538abe72442b",
     "grade": false,
     "grade_id": "add-2-function",
     "locked": false,
     "schema_version": 2,
     "solution": false
    }
   },
   "outputs": [],
   "source": [
    "def add2(x):\n",
    "    \"\"\"This docstring explains what this function does: it adds 2 to a number.\"\"\"\n",
    "    return x + 2"
   ]
  },
  {
   "cell_type": "markdown",
   "metadata": {},
   "source": [
    "You can see the output of `help(function)` contains the docstring of the function."
   ]
  },
  {
   "cell_type": "code",
   "execution_count": null,
   "metadata": {
    "nbgrader": {
     "cell_type": "code",
     "checksum": "5ca8b464f0d81a22dbc80a5d3290933c",
     "grade": false,
     "grade_id": "help-add2",
     "locked": false,
     "schema_version": 2,
     "solution": false
    }
   },
   "outputs": [],
   "source": [
    "help(add2)"
   ]
  },
  {
   "cell_type": "markdown",
   "metadata": {
    "deletable": false,
    "editable": false,
    "nbgrader": {
     "cell_type": "markdown",
     "checksum": "85d8b83f79434888f22c52650ac2da35",
     "grade": false,
     "grade_id": "begin-question1",
     "locked": false,
     "schema_version": 2,
     "solution": false
    }
   },
   "source": [
    "**Question 6:** Define the function `print_extension` to take in a dictionary (the parameter `phonebook`) and string (the parameter `name`), returning a string stating the four-digit value associated with the key `name` in `phonebook`. For example:\n",
    "\n",
    "    >>> print_extension(tel, 'dawson')\n",
    "    'The extension for dawson is 9522.'\n",
    "\n",
    "Note: You don't need to handle cases where `name` doesn't exist in the `phonebook`. "
   ]
  },
  {
   "cell_type": "code",
   "execution_count": null,
   "metadata": {
    "tags": []
   },
   "outputs": [],
   "source": [
    "def print_extension(phonebook, name):\n",
    "    value = ... \n",
    "    return ... # Return the string \"The extension for [name] is [value].\"\n",
    "print_extension(tel, 'bennett') # this should print \"The extension for luis is 1685.\""
   ]
  },
  {
   "cell_type": "code",
   "execution_count": null,
   "metadata": {
    "deletable": false,
    "editable": false
   },
   "outputs": [],
   "source": [
    "grader.check(\"q6\")"
   ]
  },
  {
   "cell_type": "markdown",
   "metadata": {
    "deletable": false,
    "editable": false
   },
   "source": [
    "**Question 7:** Write a function `squares_dict` that takes in a list of numbers `l` and creates a dictionary that records the the square of each number. For example:\n",
    "\n",
    "    >>> print(squares_dict([0,1,2,4]))\n",
    "    {0: 0, 1: 1, 2: 4, 4: 16}\n",
    "    "
   ]
  },
  {
   "cell_type": "code",
   "execution_count": null,
   "metadata": {
    "tags": []
   },
   "outputs": [],
   "source": [
    "def squares_dict(l):\n",
    "    squares = {} # initialize dictionary to hold the squared numbers\n",
    "\n",
    "    for number in ...:\n",
    "        ...\n",
    "\n",
    "    return squares\n",
    "print(squares_dict([0,1,2,4]))"
   ]
  },
  {
   "cell_type": "code",
   "execution_count": null,
   "metadata": {
    "deletable": false,
    "editable": false
   },
   "outputs": [],
   "source": [
    "grader.check(\"q7\")"
   ]
  },
  {
   "cell_type": "markdown",
   "metadata": {},
   "source": [
    "----\n",
    "\n"
   ]
  },
  {
   "cell_type": "markdown",
   "metadata": {
    "nbgrader": {
     "cell_type": "markdown",
     "checksum": "879fbab7b9199d887c56aa42349a5b27",
     "grade": false,
     "grade_id": "numpy-and-tables",
     "locked": false,
     "schema_version": 2,
     "solution": false
    }
   },
   "source": [
    "## NumPy\n",
    "\n",
    "The `NumPy` library lets us do fast, simple calculations with numbers in Python. \n",
    "\n",
    "If the following section is a little difficult, we've provided some resources for review below. Don't worry if you're not familiar with everything below, we will ensure to only use the NumPy functions referenced in data 8.\n",
    "\n",
    "* [Condensed Numpy Review](http://cs231n.github.io/python-numpy-tutorial/#numpy)\n",
    "* [Data 100's Numpy Review](http://ds100.org/fa17/assets/notebooks/numpy/Numpy_Review.html)\n",
    "* [The Official Numpy Tutorial](https://numpy.org/doc/stable/user/quickstart.html)\n"
   ]
  },
  {
   "cell_type": "markdown",
   "metadata": {},
   "source": [
    "### Arrays"
   ]
  },
  {
   "cell_type": "markdown",
   "metadata": {},
   "source": [
    "The heart of NumPy lies in the arrays. NumPy arrays are similar to Python lists, but much faster if you have a large number of elements. They have two key differences compared to Python lists:\n",
    "- NumPy arrays have a fixed size, you cannot directly add an element like you could in a list. Instead, you have to use a function such as `np.append`, which technically create another array. \n",
    "- NumPy arrays cannot store objects of different data types and will instead convert everything to the same data type. \n",
    "\n",
    "These are demonstrated below."
   ]
  },
  {
   "cell_type": "code",
   "execution_count": null,
   "metadata": {},
   "outputs": [],
   "source": [
    "sample_list = [1,2,3] # creating a sample list\n",
    "sample_array = np.array([1,2,3]) # creating a sample array\n",
    "sample_list, sample_array"
   ]
  },
  {
   "cell_type": "code",
   "execution_count": null,
   "metadata": {},
   "outputs": [],
   "source": [
    "sample_list_appended = sample_list + [4] # appending to Python lists is easy\n",
    "sample_array_appended = np.append(sample_array, 4) # appending to arrays requires using a function\n",
    "sample_list_appended, sample_array_appended"
   ]
  },
  {
   "cell_type": "code",
   "execution_count": null,
   "metadata": {},
   "outputs": [],
   "source": [
    "sample_list_str = sample_list_appended + ['woah'] # lists can store different data types\n",
    "sample_array_str = np.append(sample_array_appended, 'woah') # arrays cannot, they convert everything to a string here\n",
    "sample_list_str, sample_array_str"
   ]
  },
  {
   "cell_type": "markdown",
   "metadata": {},
   "source": [
    "You can easily do math and add/subtract different arrays with the same dimensions, as shown below."
   ]
  },
  {
   "cell_type": "code",
   "execution_count": null,
   "metadata": {},
   "outputs": [],
   "source": [
    "sample_array_appended = np.array([1, 2, 3, 4])\n",
    "print(f\"{sample_array_appended} + {1} is: {sample_array_appended + 1}\")\n",
    "print(f\"{sample_array_appended} * {8} is: {sample_array_appended * 8}\")\n",
    "print(f\"{sample_array_appended} + {np.arange(5,9)} is: {sample_array_appended + np.arange(5,9)}\")\n",
    "print(f\"{sample_array_appended} - {np.arange(5,9)} is: {sample_array_appended - np.arange(5,9)}\")\n",
    "print(f\"{sample_array_appended} squared is: {sample_array_appended ** 2}\")"
   ]
  },
  {
   "cell_type": "markdown",
   "metadata": {},
   "source": [
    "`NumPy` has several built-in functions you can use to work on arrays of numbers; examples shown below."
   ]
  },
  {
   "cell_type": "code",
   "execution_count": null,
   "metadata": {},
   "outputs": [],
   "source": [
    "np.sum(sample_array_appended)"
   ]
  },
  {
   "cell_type": "code",
   "execution_count": null,
   "metadata": {},
   "outputs": [],
   "source": [
    "np.mean(sample_array_appended)"
   ]
  },
  {
   "cell_type": "code",
   "execution_count": null,
   "metadata": {},
   "outputs": [],
   "source": [
    "np.min(sample_array_appended), np.max(sample_array_appended)"
   ]
  },
  {
   "cell_type": "code",
   "execution_count": null,
   "metadata": {},
   "outputs": [],
   "source": [
    "np.std(sample_array_appended)"
   ]
  },
  {
   "cell_type": "markdown",
   "metadata": {},
   "source": [
    "You can also define matrices as 2-dimensional numpy arrays, as shown below:"
   ]
  },
  {
   "cell_type": "code",
   "execution_count": null,
   "metadata": {},
   "outputs": [],
   "source": [
    "first_matrix = np.array([[1, 2, 3],[4, 5, 6],[7, 8, 9]])\n",
    "first_matrix"
   ]
  },
  {
   "cell_type": "markdown",
   "metadata": {},
   "source": [
    "You can use the `.shape` attribute for seeing the dimensions (number of rows/columns) of the numpy array."
   ]
  },
  {
   "cell_type": "code",
   "execution_count": null,
   "metadata": {},
   "outputs": [],
   "source": [
    "first_matrix.shape"
   ]
  },
  {
   "cell_type": "markdown",
   "metadata": {},
   "source": [
    "The `np.arange` function is very helpful for defining new arrays of numbers ([documentation](https://numpy.org/doc/stable/reference/generated/numpy.arange.html)). Examples are shown below."
   ]
  },
  {
   "cell_type": "code",
   "execution_count": null,
   "metadata": {},
   "outputs": [],
   "source": [
    "np.arange(10) #Starts at 0, ends at 9 (non-inclusive on the ending side), gives you all whole numbers"
   ]
  },
  {
   "cell_type": "code",
   "execution_count": null,
   "metadata": {},
   "outputs": [],
   "source": [
    "np.arange(0, 10, 2) # Starts at 0, ends at 9, gives you numbers in increments of 2"
   ]
  },
  {
   "cell_type": "code",
   "execution_count": null,
   "metadata": {},
   "outputs": [],
   "source": [
    "np.arange(3, 8, 0.5) # Starts at 3, ends at 7.5, gives you numbers in increments of 0.5"
   ]
  },
  {
   "cell_type": "code",
   "execution_count": null,
   "metadata": {},
   "outputs": [],
   "source": [
    "np.arange(10, 0, -2) # Starts at 10, ends at 2, gives you numbers in increments of -2"
   ]
  },
  {
   "cell_type": "markdown",
   "metadata": {},
   "source": [
    "### Slicing"
   ]
  },
  {
   "cell_type": "markdown",
   "metadata": {},
   "source": [
    "A key aspect of working with NumPy arrays and matrices is slicing, a convenient tool to extract a certain portion of an array. You can extract portions based on indices as well as true/false conditions.\n",
    "\n",
    "If choosing to extract portions based on indices, the basic syntax often follows `array[start:stop:step]`. Examples are shown below."
   ]
  },
  {
   "cell_type": "code",
   "execution_count": null,
   "metadata": {},
   "outputs": [],
   "source": [
    "sample_array_appended = np.array([1, 2, 3, 4])\n",
    "sample_array_appended[:] \n",
    "# Using just [:] gives you all the values in the array. You don't have to include the second :\n",
    "# This happens because the default starting index is 0 and the default ending index is after the last element\n",
    "# The default step size is 1"
   ]
  },
  {
   "cell_type": "code",
   "execution_count": null,
   "metadata": {},
   "outputs": [],
   "source": [
    "sample_array_appended[0:1] # Arrays are 0-indexed, exclusive of the element at the `stop` index"
   ]
  },
  {
   "cell_type": "code",
   "execution_count": null,
   "metadata": {},
   "outputs": [],
   "source": [
    "sample_array_appended[0:len(sample_array_appended)+1:2] # gives you every other element, starting from the first"
   ]
  },
  {
   "cell_type": "code",
   "execution_count": null,
   "metadata": {},
   "outputs": [],
   "source": [
    "sample_array_appended[-2:] # gives you the last 2 elements"
   ]
  },
  {
   "cell_type": "markdown",
   "metadata": {},
   "source": [
    "You can also use slicing with 2-D arrays, or matrices"
   ]
  },
  {
   "cell_type": "code",
   "execution_count": null,
   "metadata": {},
   "outputs": [],
   "source": [
    "first_matrix = np.array([[1, 2, 3],[4, 5, 6],[7, 8, 9]])\n",
    "first_matrix[:,:] # You're now slicing along 2 axes (rows and columns), separated by a comma"
   ]
  },
  {
   "cell_type": "code",
   "execution_count": null,
   "metadata": {},
   "outputs": [],
   "source": [
    "first_matrix[1,:]"
   ]
  },
  {
   "cell_type": "code",
   "execution_count": null,
   "metadata": {},
   "outputs": [],
   "source": [
    "first_matrix[:,1]"
   ]
  },
  {
   "cell_type": "code",
   "execution_count": null,
   "metadata": {},
   "outputs": [],
   "source": [
    "first_matrix[0:2,1:3]"
   ]
  },
  {
   "cell_type": "markdown",
   "metadata": {},
   "source": [
    "Finally, we can also slice based on true/false conditions."
   ]
  },
  {
   "cell_type": "code",
   "execution_count": null,
   "metadata": {},
   "outputs": [],
   "source": [
    "sample_array_appended = np.array([1, 2, 3, 4])\n",
    "sample_array_appended[sample_array_appended<3]"
   ]
  },
  {
   "cell_type": "code",
   "execution_count": null,
   "metadata": {},
   "outputs": [],
   "source": [
    "print(sample_array_appended**2 >= 4) # The output of this is an array of true/false values\n",
    "sample_array_appended[sample_array_appended**2 >= 4] # We keep all indices in the original array where the value is True"
   ]
  },
  {
   "cell_type": "markdown",
   "metadata": {},
   "source": [
    "In the following questions, we will use numpy to answer some questions about the California Independent System Operator (CAISO) Daily Renewables Watch. This data records the hourly production of various renewable resources as well as a hourly breakdown of total production of resource type, both in megawatts (MW). To see how the dataset is formatted, click [here](http://content.caiso.com/green/renewrpt/20180617_DailyRenewablesWatch.txt). "
   ]
  },
  {
   "cell_type": "markdown",
   "metadata": {},
   "source": [
    "The following line loads in data for Question 8.  Note that it uses pandas -- we'll learn more about that next week! However, the output is a numpy array.  "
   ]
  },
  {
   "cell_type": "code",
   "execution_count": null,
   "metadata": {},
   "outputs": [],
   "source": [
    "data_q8 = pd.read_csv(\"data/q8.csv\").values \n",
    "data_q8"
   ]
  },
  {
   "cell_type": "markdown",
   "metadata": {
    "deletable": false,
    "editable": false
   },
   "source": [
    "**Question 8:** Use slicing to output an array containing the hourly values of solar photovoltaic and solar thermal production. Make sure you see how the dataset is [formatted](http://content.caiso.com/green/renewrpt/20180617_DailyRenewablesWatch.txt).\n",
    "\n",
    "*Hint:* We have only loaded in the first dataset from the link above. What columns represent the hourly values of solar photovoltaic and solar thermal production?\n"
   ]
  },
  {
   "cell_type": "code",
   "execution_count": null,
   "metadata": {
    "tags": []
   },
   "outputs": [],
   "source": [
    "q8 = ...\n",
    "q8"
   ]
  },
  {
   "cell_type": "code",
   "execution_count": null,
   "metadata": {
    "deletable": false,
    "editable": false
   },
   "outputs": [],
   "source": [
    "grader.check(\"q8\")"
   ]
  },
  {
   "cell_type": "markdown",
   "metadata": {},
   "source": [
    "Now, we will import another dataset that contains all the data for renewable resources generation in April 2017. "
   ]
  },
  {
   "cell_type": "code",
   "execution_count": null,
   "metadata": {},
   "outputs": [],
   "source": [
    "data_q9 = pd.read_csv(\"data/q9.csv\").values\n",
    "data_q9"
   ]
  },
  {
   "cell_type": "code",
   "execution_count": null,
   "metadata": {},
   "outputs": [],
   "source": [
    "data_q9[0,:]"
   ]
  },
  {
   "cell_type": "markdown",
   "metadata": {
    "deletable": false,
    "editable": false
   },
   "source": [
    "**Question 9:** How much more electricity was produced via wind energy compared to geothermal energy (in WM) in all of April 2017? Note, each row in the dataset represents all energy produced for a given *hour*.\n"
   ]
  },
  {
   "cell_type": "code",
   "execution_count": null,
   "metadata": {
    "tags": []
   },
   "outputs": [],
   "source": [
    "q9 = ...\n",
    "q9"
   ]
  },
  {
   "cell_type": "code",
   "execution_count": null,
   "metadata": {
    "deletable": false,
    "editable": false
   },
   "outputs": [],
   "source": [
    "grader.check(\"q9\")"
   ]
  },
  {
   "cell_type": "markdown",
   "metadata": {},
   "source": [
    "## Feedback"
   ]
  },
  {
   "cell_type": "markdown",
   "metadata": {
    "deletable": false,
    "editable": false
   },
   "source": [
    "**Question 10:** Please fill out this short [feedback form](https://forms.gle/KDrqdNbv6m2J5nYW6) to let us know your thoughts on this lab! We really appreciate your opinions and feedback! At the end of the Google form, you should see a codeword. Assign the codeword to the variable `codeword` below. "
   ]
  },
  {
   "cell_type": "code",
   "execution_count": null,
   "metadata": {
    "tags": []
   },
   "outputs": [],
   "source": [
    "codeword = ..."
   ]
  },
  {
   "cell_type": "code",
   "execution_count": null,
   "metadata": {
    "deletable": false,
    "editable": false
   },
   "outputs": [],
   "source": [
    "grader.check(\"q10\")"
   ]
  },
  {
   "cell_type": "markdown",
   "metadata": {},
   "source": [
    "----\n",
    "\n",
    "**Congratulations**, you are finished with lab 0 of econ 148! You are not required to submit this lab, but you may do so if you wish."
   ]
  },
  {
   "cell_type": "markdown",
   "metadata": {
    "deletable": false,
    "editable": false
   },
   "source": [
    "## Submission\n",
    "\n",
    "Make sure you have run all cells in your notebook in order before running the cell below, so that all images/graphs appear in the output. The cell below will generate a zip file for you to submit. **Please save before exporting!**"
   ]
  },
  {
   "cell_type": "code",
   "execution_count": null,
   "metadata": {
    "deletable": false,
    "editable": false
   },
   "outputs": [],
   "source": [
    "# Save your notebook first, then run this cell to export your submission.\n",
    "grader.export(pdf=False, run_tests=True)"
   ]
  },
  {
   "cell_type": "markdown",
   "metadata": {},
   "source": [
    " "
   ]
  }
 ],
 "metadata": {
  "kernelspec": {
   "display_name": "Python 3 (ipykernel)",
   "language": "python",
   "name": "python3"
  },
  "language_info": {
   "codemirror_mode": {
    "name": "ipython",
    "version": 3
   },
   "file_extension": ".py",
   "mimetype": "text/x-python",
   "name": "python",
   "nbconvert_exporter": "python",
   "pygments_lexer": "ipython3",
   "version": "3.12.7"
  },
  "otter": {
   "OK_FORMAT": true,
   "tests": {
    "q1": {
     "name": "q1",
     "points": null,
     "suites": [
      {
       "cases": [
        {
         "code": ">>> assert q1 == [1, 2, 3, 4, 5]\n",
         "hidden": false,
         "locked": false
        }
       ],
       "scored": true,
       "setup": "",
       "teardown": "",
       "type": "doctest"
      }
     ]
    },
    "q10": {
     "name": "q10",
     "points": 1,
     "suites": [
      {
       "cases": [
        {
         "code": ">>> assert sum([ord(c) for c in codeword]) ^ 966984 == 967588\n",
         "hidden": false,
         "locked": false
        }
       ],
       "scored": true,
       "setup": "",
       "teardown": "",
       "type": "doctest"
      }
     ]
    },
    "q2": {
     "name": "q2",
     "points": null,
     "suites": [
      {
       "cases": [
        {
         "code": ">>> assert q2 == [1, 2, 3, 4, 5, 6]\n",
         "hidden": false,
         "locked": false
        }
       ],
       "scored": true,
       "setup": "",
       "teardown": "",
       "type": "doctest"
      }
     ]
    },
    "q3": {
     "name": "q3",
     "points": null,
     "suites": [
      {
       "cases": [
        {
         "code": ">>> assert q2 == [1, 2, 3, 4, 5, 6]\n",
         "hidden": false,
         "locked": false
        },
        {
         "code": ">>> assert q3 == [1, 2, 4, 5, 6]\n",
         "hidden": false,
         "locked": false
        }
       ],
       "scored": true,
       "setup": "",
       "teardown": "",
       "type": "doctest"
      }
     ]
    },
    "q4": {
     "name": "q4",
     "points": null,
     "suites": [
      {
       "cases": [
        {
         "code": ">>> assert q4 == [7, 13, 14, 21, 26, 28, 35, 39, 42, 49, 52, 56, 63, 65, 70, 77, 78, 84, 91, 98]\n",
         "hidden": false,
         "locked": false
        }
       ],
       "scored": true,
       "setup": "",
       "teardown": "",
       "type": "doctest"
      }
     ]
    },
    "q5": {
     "name": "q5",
     "points": null,
     "suites": [
      {
       "cases": [
        {
         "code": ">>> assert len(tel2) == 4\n",
         "hidden": false,
         "locked": false
        },
        {
         "code": ">>> assert not 'bennett' in tel2\n",
         "hidden": false,
         "locked": false
        },
        {
         "code": ">>> assert 'eric' in tel2\n>>> assert np.isclose(tel2['eric'], 1480)\n",
         "hidden": false,
         "locked": false
        }
       ],
       "scored": true,
       "setup": "",
       "teardown": "",
       "type": "doctest"
      }
     ]
    },
    "q6": {
     "name": "q6",
     "points": null,
     "suites": [
      {
       "cases": [
        {
         "code": ">>> callable(print_extension)\nTrue",
         "hidden": false,
         "locked": false
        },
        {
         "code": ">>> tel_test = {'alice': 1, 'bob': 2, 'chris': 3}\n>>> assert print_extension(tel_test, 'alice') == 'The extension for alice is 1.'\n>>> assert print_extension(tel_test, 'chris') == 'The extension for chris is 3.'\n",
         "hidden": false,
         "locked": false
        }
       ],
       "scored": true,
       "setup": "",
       "teardown": "",
       "type": "doctest"
      }
     ]
    },
    "q7": {
     "name": "q7",
     "points": null,
     "suites": [
      {
       "cases": [
        {
         "code": ">>> assert callable(squares_dict)\n",
         "hidden": false,
         "locked": false
        },
        {
         "code": ">>> squares_test_1 = [0, 1, 2, 4]\n>>> squares_test_out = squares_dict(squares_test_1)\n>>> for e in squares_test_1:\n...     assert e in squares_test_out and squares_test_out[e] == e ** 2\n",
         "hidden": false,
         "locked": false
        },
        {
         "code": ">>> squares_test_2 = [-1, 1, 30, 2]\n>>> squares_test_2_out = squares_dict(squares_test_2)\n>>> for e in squares_test_2:\n...     assert e in squares_test_2_out and squares_test_2_out[e] == e ** 2\n",
         "hidden": false,
         "locked": false
        }
       ],
       "scored": true,
       "setup": "",
       "teardown": "",
       "type": "doctest"
      }
     ]
    },
    "q8": {
     "name": "q8",
     "points": null,
     "suites": [
      {
       "cases": [
        {
         "code": ">>> assert q8.shape == (24, 2)\n",
         "hidden": false,
         "locked": false
        },
        {
         "code": ">>> assert np.isclose(np.sum(q8[:, 0]) / np.sum(q8[:, 1]), 22.97100987575661)\n",
         "hidden": false,
         "locked": false
        }
       ],
       "scored": true,
       "setup": "",
       "teardown": "",
       "type": "doctest"
      }
     ]
    },
    "q9": {
     "name": "q9",
     "points": null,
     "suites": [
      {
       "cases": [
        {
         "code": ">>> assert np.isclose(q9 ^ 966984, 379797)\n",
         "hidden": false,
         "locked": false
        }
       ],
       "scored": true,
       "setup": "",
       "teardown": "",
       "type": "doctest"
      }
     ]
    }
   }
  },
  "toc": {
   "base_numbering": 1,
   "colors": {
    "hover_highlight": "#DAA520",
    "running_highlight": "#FF0000",
    "selected_highlight": "#FFD700"
   },
   "moveMenuLeft": true,
   "nav_menu": {
    "height": "512px",
    "width": "252px"
   },
   "navigate_menu": true,
   "number_sections": true,
   "sideBar": true,
   "threshold": 4,
   "toc_cell": true,
   "toc_section_display": "none",
   "toc_window_display": true
  }
 },
 "nbformat": 4,
 "nbformat_minor": 4
}

{
 "cells": [
  {
   "cell_type": "code",
   "execution_count": null,
   "id": "a00c7a92",
   "metadata": {
    "deletable": false,
    "editable": false
   },
   "outputs": [],
   "source": [
    "# Initialize Otter\n",
    "import otter\n",
    "grader = otter.Notebook(\"lab04.ipynb\")"
   ]
  },
  {
   "cell_type": "code",
   "execution_count": null,
   "id": "561232f1",
   "metadata": {},
   "outputs": [],
   "source": [
    "import pandas as pd\n",
    "import numpy as np\n",
    "import matplotlib.pyplot as plt\n",
    "plt.style.use('fivethirtyeight')\n",
    "import seaborn as sns\n",
    "%matplotlib inline"
   ]
  },
  {
   "cell_type": "markdown",
   "id": "1c8b384c-813e-44ac-8de2-8c98ef1e81a3",
   "metadata": {},
   "source": [
    "# Lab 4: Intro to Visualization"
   ]
  },
  {
   "cell_type": "markdown",
   "id": "6e7bdca9-bfa8-41a6-8e13-3cbbe688ab9c",
   "metadata": {},
   "source": [
    "### Learning Objectives\n",
    "\n",
    "In this notebook, you will learn about:\n",
    "\n",
    "- How to explore datasets\n",
    "- How to prepare data to be visualizaed\n",
    "- The purpose of different visualizations \n",
    "- How to create and code visualizations\n",
    "- How to analyze and draw insights from visualizations"
   ]
  },
  {
   "cell_type": "markdown",
   "id": "2c951bfb-b031-4c48-bb6e-38197cd3c218",
   "metadata": {},
   "source": [
    "#### Helpful Data Science Resources \n",
    "Here are some resources you can check out while doing this notebook and to explore data visualization further!\n",
    "- [DATA 8 Textbook](https://inferentialthinking.com/chapters/07/Visualization.html) - Visualization chapter\n",
    "- [Cool Data Visualizations](https://www.tableau.com/learn/articles/best-beautiful-data-visualization-examples)\n",
    "- [Statistica: Find Data on Interesting Topics](https://www.statista.com/)"
   ]
  },
  {
   "cell_type": "markdown",
   "id": "a9e86561",
   "metadata": {},
   "source": [
    "**A note on the autograder for this lab:** The test cases in the autograder are not comprehensive -- you can create some completely incorrect graph while passing the autograder. So assure yourself that you are making the correct visualizations, we have provided the correct outputs with each question. Your score for this lab will still solely depend on the autograder provided. "
   ]
  },
  {
   "cell_type": "markdown",
   "id": "c045667e-3aec-4815-84c2-3f113e3b607d",
   "metadata": {
    "cell_id": "1de2459aa74e4df8bb7be8416cf03c83",
    "deepnote_cell_type": "text-cell-h2",
    "formattedRanges": [],
    "is_collapsed": false,
    "tags": []
   },
   "source": [
    "---\n",
    "## Part 1: Explorative Data Analysis (EDA)"
   ]
  },
  {
   "cell_type": "markdown",
   "id": "d953462c",
   "metadata": {},
   "source": [
    "### Unemployment rate and NaN values \n",
    "\n",
    "Let's start off with loading in the dataset. We will be using unemployment rate data from Fred. "
   ]
  },
  {
   "cell_type": "markdown",
   "id": "da0d3e9e-66ca-4e50-9a42-11caa9573a79",
   "metadata": {
    "cell_id": "d149b7caacf646f4acbc553a297c867c",
    "deepnote_cell_type": "markdown",
    "deletable": false,
    "editable": false,
    "tags": []
   },
   "source": [
    "**Question 1.1:** Load in the dataset `data/unemployment_rate.csv` and read it into a Pandas dataframe. Name it `unemployment_df`."
   ]
  },
  {
   "cell_type": "code",
   "execution_count": null,
   "id": "87917562-6d27-4aa4-8aa0-4c7e345e5cb6",
   "metadata": {
    "tags": []
   },
   "outputs": [],
   "source": [
    "unemployment_df = ...\n",
    "unemployment_df.head()"
   ]
  },
  {
   "cell_type": "code",
   "execution_count": null,
   "id": "0bf8a0a8",
   "metadata": {
    "deletable": false,
    "editable": false
   },
   "outputs": [],
   "source": [
    "grader.check(\"q1_1\")"
   ]
  },
  {
   "cell_type": "markdown",
   "id": "b6eecc41-3ca5-46ce-a506-f330bf0ecda0",
   "metadata": {
    "deletable": false,
    "editable": false
   },
   "source": [
    "**Question 1.2:** The dataset contains three columns: the overall unemployment rate, unemployment rate for males, and unemployment rate for females. Referencing [Fred's website](https://fred.stlouisfed.org/graph/?g=jXvf), change the column names accordingly and in the following order: `Date`, `Male Unemployment`, `Female Unemployment`, and `Overall Unemployment`. "
   ]
  },
  {
   "cell_type": "code",
   "execution_count": null,
   "id": "515543b1-b076-4b41-af10-eb39b8ca7ac6",
   "metadata": {
    "tags": []
   },
   "outputs": [],
   "source": [
    "unemployment_df = ...\n",
    "unemployment_df.head()"
   ]
  },
  {
   "cell_type": "code",
   "execution_count": null,
   "id": "07857ee9",
   "metadata": {
    "deletable": false,
    "editable": false
   },
   "outputs": [],
   "source": [
    "grader.check(\"q1_2\")"
   ]
  },
  {
   "cell_type": "markdown",
   "id": "c33fc5dc-1ecd-416d-882e-ca6afe2bbf3b",
   "metadata": {},
   "source": [
    "Before plotting the data, it is important to determine if there are any nan values in the dataset. \n"
   ]
  },
  {
   "cell_type": "markdown",
   "id": "298005a7",
   "metadata": {
    "deletable": false,
    "editable": false
   },
   "source": [
    "<!-- BEGIN QUESTION -->\n",
    "\n",
    "**Question 1.3:**  Does the dataset contain any NaN values? Explain what you did to reach your conclusion.\n",
    "\n",
    "*Hint*: `df.isnull()` could be useful; [here](https://pandas.pydata.org/docs/reference/api/pandas.isnull.html) for reference. "
   ]
  },
  {
   "cell_type": "markdown",
   "id": "e6f66eb5",
   "metadata": {},
   "source": [
    "_Type your answer here, replacing this text._"
   ]
  },
  {
   "cell_type": "code",
   "execution_count": null,
   "id": "46207344-aa1b-4054-bd1f-1fa180e5151c",
   "metadata": {
    "tags": []
   },
   "outputs": [],
   "source": [
    "# OPTIONAL FOR TESTING\n"
   ]
  },
  {
   "cell_type": "markdown",
   "id": "31a5d5a0-7d5e-49be-a4b2-daeecb4222c4",
   "metadata": {
    "cell_id": "b7752fad123a4d05832932de2b7d1612",
    "deepnote_cell_type": "text-cell-h2",
    "deletable": false,
    "editable": false,
    "formattedRanges": [],
    "is_collapsed": false,
    "tags": []
   },
   "source": [
    "<!-- END QUESTION -->\n",
    "\n",
    "---\n",
    "## Part 2: Data Visualization"
   ]
  },
  {
   "cell_type": "markdown",
   "id": "dc246f44-0513-44f2-bf7f-04a6eaacd35d",
   "metadata": {},
   "source": [
    "### Line Plots\n",
    "\n",
    "A line plot is used to display data as a series of points connected by a line. It's generally used to visualize how a variable changes over time (also known as [time series data](https://www.investopedia.com/terms/t/timeseries.asp)), often with a time-related variable on the x-axis (minutes, days, months, years, etc.) and a numerical variable on the y-axis.\n",
    "\n",
    "Let's create a line plot to see how the overall unemployment rate changes over the years.\n"
   ]
  },
  {
   "cell_type": "markdown",
   "id": "e84bb0ce",
   "metadata": {
    "deletable": false,
    "editable": false
   },
   "source": [
    "**Question 2.1:** Use *matplotlib* to make a line plot for the overall unemployment rate over the entire sample period. Specifically here we want to use [datetime](https://docs.python.org/3/library/datetime.html). Label your plot properly (both axes and title).  There is no need to include a legend in your plot. It's ok if your plot looks slightly different (e.g. different colors, different line width, etc) as long as it is still readable and contains all the pertinent information. We have included an image of what your line plot should look like.\n",
    "\n",
    "*Hint:* you might need to convert the date column into a pandas [datetime data type](https://pandas.pydata.org/docs/reference/api/pandas.to_datetime.html) object first.\n",
    "\n",
    "<img src=\"assets/q2_1.png\" width=\"700\">"
   ]
  },
  {
   "cell_type": "code",
   "execution_count": null,
   "id": "9464c208-2696-405f-b312-c1c2551c33f3",
   "metadata": {
    "tags": []
   },
   "outputs": [],
   "source": [
    "def q2_1():\n",
    "    ...\n",
    "    plt.ylabel(...)\n",
    "    plt.xlabel(...)\n",
    "    plt.title(...)\n",
    "    return plt.gca() # DO NOT edit this line, it's necessary for the autograder\n",
    "q2_1(); # Once you have created the plot, try removing the semi-colon at the end. What happens?"
   ]
  },
  {
   "cell_type": "code",
   "execution_count": null,
   "id": "60de12ae",
   "metadata": {
    "deletable": false,
    "editable": false
   },
   "outputs": [],
   "source": [
    "grader.check(\"q2_1\")"
   ]
  },
  {
   "cell_type": "markdown",
   "id": "35b1202f-1a86-4250-b59a-d956b307c351",
   "metadata": {
    "deletable": false,
    "editable": false
   },
   "source": [
    "<!-- BEGIN QUESTION -->\n",
    "\n",
    "**Question 2.2:** What kind of trend in unemployment rate can you find from the graph above? Please provide potential reasonings of the trend you find from the graph above. "
   ]
  },
  {
   "cell_type": "markdown",
   "id": "f9a51de5",
   "metadata": {},
   "source": [
    "_Type your answer here, replacing this text._"
   ]
  },
  {
   "cell_type": "markdown",
   "id": "79001937-4e08-4a98-88c7-43f7ba6bc21b",
   "metadata": {
    "deletable": false,
    "editable": false
   },
   "source": [
    "<!-- END QUESTION -->\n",
    "\n",
    "**Question 2.3:** Create similar line plots as in question 2.1, but illustrate the unemployment rate separately for each sex. Label your plot properly (both axes and title) and include an appropriate legend. We have included an image of what the plot should look like.\n",
    "\n",
    "*Hint*: To graph multiple line graphs on the axis, you can simply stack multiple `plt.plot(...)` with the same x argument. \n",
    "\n",
    "*Hint*: Graph males before females for specific test cases. \n",
    "\n",
    "<img src=\"assets/q2_3.png\" width=\"800\">"
   ]
  },
  {
   "cell_type": "code",
   "execution_count": null,
   "id": "fdd37b95-38db-4ed1-9426-409f73c91000",
   "metadata": {
    "tags": []
   },
   "outputs": [],
   "source": [
    "def q2_3():\n",
    "    ...\n",
    "    plt.ylabel(...)\n",
    "    plt.xlabel(...)\n",
    "    plt.title(...)\n",
    "    plt.legend()\n",
    "    return plt.gca() # DO NOT edit this line\n",
    "\n",
    "q2_3();"
   ]
  },
  {
   "cell_type": "code",
   "execution_count": null,
   "id": "d328727b",
   "metadata": {
    "deletable": false,
    "editable": false
   },
   "outputs": [],
   "source": [
    "grader.check(\"q2_3\")"
   ]
  },
  {
   "cell_type": "markdown",
   "id": "1150e7e3-b7eb-4399-a23c-cb73a4160255",
   "metadata": {
    "deletable": false,
    "editable": false
   },
   "source": [
    "<!-- BEGIN QUESTION -->\n",
    "\n",
    "**Question 2.4:** What kind of differences between the sexes do you see in the plot above? Why may they have occured?"
   ]
  },
  {
   "cell_type": "markdown",
   "id": "242e5ec2",
   "metadata": {},
   "source": [
    "_Type your answer here, replacing this text._"
   ]
  },
  {
   "cell_type": "markdown",
   "id": "c3ac47d8-5161-4a66-9d0e-79f67479ca86",
   "metadata": {
    "deletable": false,
    "editable": false
   },
   "source": [
    "<!-- END QUESTION -->\n",
    "\n",
    "#### Inflation and Unemployment Rate"
   ]
  },
  {
   "cell_type": "markdown",
   "id": "2204821c",
   "metadata": {},
   "source": [
    "Now, we'll be plotting both inflation and unemployment data. What's the famous curve that attempts to connect these quantities?"
   ]
  },
  {
   "cell_type": "markdown",
   "id": "f6a111b5",
   "metadata": {
    "deletable": false,
    "editable": false
   },
   "source": [
    "**Question 2.5**: Load in the dataset `data/inflation_rate.csv` and read it into a pandas dataframe named `inflation_df`. Then, rename the columns to `Date` and `Inflation`. "
   ]
  },
  {
   "cell_type": "code",
   "execution_count": null,
   "id": "3436b1a9-15ab-4992-a9a0-cbccd65c457a",
   "metadata": {
    "tags": []
   },
   "outputs": [],
   "source": [
    "inflation_df = ...\n",
    "...\n",
    "inflation_df.head()"
   ]
  },
  {
   "cell_type": "code",
   "execution_count": null,
   "id": "568a1e0c",
   "metadata": {
    "deletable": false,
    "editable": false
   },
   "outputs": [],
   "source": [
    "grader.check(\"q2_5\")"
   ]
  },
  {
   "cell_type": "markdown",
   "id": "a65f1588",
   "metadata": {},
   "source": [
    "#### Merging datasets"
   ]
  },
  {
   "cell_type": "markdown",
   "id": "d52ec854",
   "metadata": {},
   "source": [
    "It's far easier to plot with a single dataframe; several plotting libraries require you to pass in the dataframe you're intending to plot. "
   ]
  },
  {
   "cell_type": "markdown",
   "id": "9d32005e",
   "metadata": {
    "deletable": false,
    "editable": false
   },
   "source": [
    "**Question 2.6**: Merge `unemployment_df` and `inflation_df`, only keep rows that are present in both data frames.\n"
   ]
  },
  {
   "cell_type": "code",
   "execution_count": null,
   "id": "3de2d29e-9f86-416b-be0b-5ca48c7cae94",
   "metadata": {
    "tags": []
   },
   "outputs": [],
   "source": [
    "merged_df = ...\n",
    "merged_df.head()"
   ]
  },
  {
   "cell_type": "code",
   "execution_count": null,
   "id": "b0aee135",
   "metadata": {
    "deletable": false,
    "editable": false
   },
   "outputs": [],
   "source": [
    "grader.check(\"q2_6\")"
   ]
  },
  {
   "cell_type": "markdown",
   "id": "57f4ceb4",
   "metadata": {
    "deletable": false,
    "editable": false
   },
   "source": [
    "**Question 2.7**: Using the merged dataframe, plot line graphs for both inflation and unemployment over time. Label your plot properly (both axes and title), and use a legend. We have included an image of what the plot should look like.\n",
    "\n",
    "*Hint:* The code for this question should look fairly similar to the code for question 2.3.\n",
    "\n",
    "*Hint:* Graph inflation before unemployment for specific test cases. \n",
    "\n",
    "<img src=\"assets/q2_7.png\" width=\"700\">"
   ]
  },
  {
   "cell_type": "code",
   "execution_count": null,
   "id": "7a39b1d0-75c0-4292-b1a6-f5bfce5993da",
   "metadata": {
    "tags": []
   },
   "outputs": [],
   "source": [
    "def q2_7():\n",
    "    ... # Make your plot\n",
    "    ... # Label your plot\n",
    "    return plt.gca() # DO NOT edit this line\n",
    "q2_7();"
   ]
  },
  {
   "cell_type": "code",
   "execution_count": null,
   "id": "dabe65f4",
   "metadata": {
    "deletable": false,
    "editable": false
   },
   "outputs": [],
   "source": [
    "grader.check(\"q2_7\")"
   ]
  },
  {
   "cell_type": "markdown",
   "id": "067c9cbf-a6b3-47df-94e8-37bd7961e05b",
   "metadata": {
    "deletable": false,
    "editable": false
   },
   "source": [
    "<!-- BEGIN QUESTION -->\n",
    "\n",
    "**Question 2.8**: We briefly spoke about the Phillip's Curve in lab 2; read more [here](https://data88e.org/textbook/content/09-macro/phillips_curve.html). Does the graph above roughly match what you would expect from the curve? Why or why not?"
   ]
  },
  {
   "cell_type": "markdown",
   "id": "7eed1c52",
   "metadata": {},
   "source": [
    "_Type your answer here, replacing this text._"
   ]
  },
  {
   "cell_type": "markdown",
   "id": "7859b5fe-1596-419d-83a8-cc9c75487682",
   "metadata": {
    "deletable": false,
    "editable": false
   },
   "source": [
    "<!-- END QUESTION -->\n",
    "\n",
    "**Question 2.9**: For the rest of our analysis, it will be helpful to have a `Decade` column that represents which decade a measurement was taken in. Add this column to `merged_df`; each decade should be represented by the first year in that decade (so all years from 1950-1959 fall under the decade of 1950).\n",
    "\n",
    "*Hint:* This may be tricky, `//` is floor division; look [here](https://www.geeksforgeeks.org/floor-division-in-python/) for more reference. "
   ]
  },
  {
   "cell_type": "code",
   "execution_count": null,
   "id": "ab245ffa-7e2d-4d53-9ec3-8aeb9cc96437",
   "metadata": {
    "tags": []
   },
   "outputs": [],
   "source": [
    "merged_df['Decade'] = ...\n",
    "merged_df.head()"
   ]
  },
  {
   "cell_type": "code",
   "execution_count": null,
   "id": "998c9e29",
   "metadata": {
    "deletable": false,
    "editable": false
   },
   "outputs": [],
   "source": [
    "grader.check(\"q2_9\")"
   ]
  },
  {
   "cell_type": "markdown",
   "id": "34f8fc71-97cf-463f-be03-0e90523dae85",
   "metadata": {},
   "source": [
    "### Bar Charts\n",
    "\n",
    "A bar chart is a familiar way of visualizing categorical distributions. It displays a bar for each category, and the length of each bar is proportional to the frequency of the corresponding category. While not necessary, most bar charts have equally spaced and equally wide columns."
   ]
  },
  {
   "cell_type": "markdown",
   "id": "f1b9e141-fa5c-49df-8d15-f45fb40bae0b",
   "metadata": {
    "deletable": false,
    "editable": false
   },
   "source": [
    "**Question 2.10**: `Decade` is a categorical variable in our analysis. Make a bar chart representing the number of years from each decade in our analysis. We have included an image of what the plot should look like.\n",
    "\n",
    "*Hint:* You will first need to get the number of years from each decade in `merged_df`, consider making a series and storing it in `counts`.\n",
    "\n",
    "*Hint:* Don't use `.value_counts()` as it will fail specific test cases; think of other ways to find the sizes. \n",
    "\n",
    "<img src=\"assets/q2_10.png\" width=\"700\">"
   ]
  },
  {
   "cell_type": "code",
   "execution_count": null,
   "id": "9da68a9b-0eb4-4b31-8315-27994f07047e",
   "metadata": {
    "tags": []
   },
   "outputs": [],
   "source": [
    "def q2_10():\n",
    "    counts = ...\n",
    "    ... # Make your plot; consider using the parameters `color='skyblue', edgecolor='black', width=5`\n",
    "    ... # Label your plot\n",
    "    return plt.gca() # DO NOT edit this line\n",
    "q2_10();\n"
   ]
  },
  {
   "cell_type": "code",
   "execution_count": null,
   "id": "ae604909",
   "metadata": {
    "deletable": false,
    "editable": false
   },
   "outputs": [],
   "source": [
    "grader.check(\"q2_10\")"
   ]
  },
  {
   "cell_type": "markdown",
   "id": "375db994-94ae-4576-bc39-ed13f3dddcd8",
   "metadata": {},
   "source": [
    "### Histograms\n",
    "\n",
    "A histogram allows you to visualize the distribution of a numerical variable, helping you understand how spread out the values in your data are. It looks quite similar to a bar chart, with a few important differences.\n",
    "\n",
    "Histograms follow the *area principle* and have two defining properties:\n",
    "\n",
    "1. As the values on the horizontal axis are numerical and therefore have fixed positions on the number line, the bins are drawn to scale and are contiguous (though some might be empty).\n",
    "1. The area of each bar is proportional to the number of entries (or percent of data values) in the corresponding bin. The histogram is said to be drawn on a *density scale*.\n"
   ]
  },
  {
   "cell_type": "markdown",
   "id": "0dcb16d0",
   "metadata": {
    "deletable": false,
    "editable": false
   },
   "source": [
    "**Question 2.11**: Plot histogram for overall unemployment, using all the data available in `merged_df`. The `bins` of the histogram should range from 3 to 11 (inclusive) with stepsizes of 0.5. Label your plot appropriately (including axes and titles). We have included an image of what the plot should look like.\n",
    "\n",
    "*Hint:* Python's `np.arange` function is exclusive for the endpoint. \n",
    "\n",
    "<img src=\"assets/q2_11.png\" width=\"700\">"
   ]
  },
  {
   "cell_type": "code",
   "execution_count": null,
   "id": "448e2b38-6422-435d-a006-4e6e85c8522e",
   "metadata": {
    "tags": []
   },
   "outputs": [],
   "source": [
    "def q2_11():\n",
    "    bins = ...\n",
    "    ... # Make your plot\n",
    "    ... # Label your plot\n",
    "    return plt.gca() # DO NOT edit this line\n",
    "q2_11();"
   ]
  },
  {
   "cell_type": "code",
   "execution_count": null,
   "id": "fa489773",
   "metadata": {
    "deletable": false,
    "editable": false
   },
   "outputs": [],
   "source": [
    "grader.check(\"q2_11\")"
   ]
  },
  {
   "cell_type": "markdown",
   "id": "062268a1-87a3-4817-977e-cb26f70774ab",
   "metadata": {},
   "source": [
    "### Scatter Plots\n",
    "\n",
    "Scatter plots are used to visualize the relationship between two numerical variables. They help us infer the association between two variables. The association between two variables refers to how one variable changes with respect to the other.  We can describe the association between two variables based on two factors:\n",
    "\n",
    "1. *Magnitude:* Is the association strong or weak? If the points on the scatter plot all line up along a straight line (in any direction), it means that the association between the variables is strong. On the other hand, if the points are all spread out and scattered (no pun intended), it means that the association is weak.\n",
    "\n",
    "2. *Direction (or sign):* Is the association positive or negative? If one variable increases as the other variable increases, the association between the two variables is positive. If one decreases as the other increases, the association is negative.\n",
    "\n",
    "In lab 2, we had already created a scatter plot of US unemployment vs inflation. That scatter plot is replicated below for your convenience.\n"
   ]
  },
  {
   "cell_type": "code",
   "execution_count": null,
   "id": "fe05a73d-1e58-44c7-b95b-e4688f158208",
   "metadata": {},
   "outputs": [],
   "source": [
    "plt.figure(figsize=(8,6))\n",
    "plt.scatter(merged_df['Overall Unemployment'], merged_df['Inflation']);\n",
    "plt.xlabel(\"Unemployment\")\n",
    "plt.ylabel(\"Inflation\")\n",
    "plt.title(\"The Phillips Curve from 1958 to 2022\");"
   ]
  },
  {
   "cell_type": "markdown",
   "id": "80927721-dbf6-4776-b828-a6900d4fc83c",
   "metadata": {},
   "source": [
    "If you look [here](https://data88e.org/textbook/content/09-macro/phillips_curve.html?highlight=phillip), you can see that economists were looking at the Phillip's curve by decade. They do this because we may have too broad of a timeframe to accurately see the pattern of the curve. Let's help remedy this issue by considering the relationship separately for each decade."
   ]
  },
  {
   "cell_type": "markdown",
   "id": "208f2e56",
   "metadata": {
    "deletable": false,
    "editable": false
   },
   "source": [
    "**Question 2.12**: Use the [seaborn](https://seaborn.pydata.org/index.html) package to create a scatter plot using the same data as above, but with colored scatter points based on the `Decade` column. Keep unemployment on the x-axis and inflation on the y-axis. Include a legend and label your plot properly. We have included an image of what the plot should look like.\n",
    "\n",
    "*Hint:* Read the [documentation](https://seaborn.pydata.org/generated/seaborn.scatterplot.html).\n",
    "\n",
    "<img src=\"assets/q2_12.png\" width=\"700\">"
   ]
  },
  {
   "cell_type": "code",
   "execution_count": null,
   "id": "d237845b-a9fb-487f-8d2f-4783c59a22bc",
   "metadata": {
    "tags": []
   },
   "outputs": [],
   "source": [
    "def q2_12():\n",
    "    sns....(data=..., ... , palette=\"bright\", alpha=0.75)\n",
    "    ... # Label your plot\n",
    "    return plt.gca()  # DO NOT edit this line\n",
    "q2_12();"
   ]
  },
  {
   "cell_type": "code",
   "execution_count": null,
   "id": "cf6c528e",
   "metadata": {
    "deletable": false,
    "editable": false
   },
   "outputs": [],
   "source": [
    "grader.check(\"q2_12\")"
   ]
  },
  {
   "cell_type": "markdown",
   "id": "9705eadf-e9fb-412c-a706-af937f67695e",
   "metadata": {
    "deletable": false,
    "editable": false
   },
   "source": [
    "<!-- BEGIN QUESTION -->\n",
    "\n",
    "**Question 2.13**: We defined an `alpha` parameter for you in the function call above. What is that parameter, what does it do and which problem does it help avoid?\n",
    "\n",
    "*Hint:* Try removing/changing the alpha value and see how that changes the plot."
   ]
  },
  {
   "cell_type": "markdown",
   "id": "31a20271",
   "metadata": {},
   "source": [
    "_Type your answer here, replacing this text._"
   ]
  },
  {
   "cell_type": "markdown",
   "id": "ff693215",
   "metadata": {
    "deletable": false,
    "editable": false
   },
   "source": [
    "<!-- END QUESTION -->\n",
    "\n",
    "Seaborn's `sns.lmplot` is great for drawing linear patterns on scatter plots. Not only can it draw one linear pattern, but it can plot and color multiple lines for different values of a categorical variable."
   ]
  },
  {
   "cell_type": "markdown",
   "id": "d9464c5e",
   "metadata": {
    "deletable": false,
    "editable": false
   },
   "source": [
    "**Question 2.14**: Firstly, as we don't have complete data from the decades `1950` and `2020`, please drop all rows from those decades and store the resulting dataframe in `relevant_decades`. Then, create your `lmplot`. Keep unemployment on the x-axis and inflation on the y-axis. Include a legend and label your plot properly. We have included an image of what the plot should look like.\n",
    "\n",
    "*Hint:* Read the [documentation](https://seaborn.pydata.org/generated/seaborn.lmplot.html), the parameters you pass in are extremely similar to what you did for question 2.12.\n",
    "\n",
    "<img src=\"assets/q2_14.png\" width=\"700\">"
   ]
  },
  {
   "cell_type": "code",
   "execution_count": null,
   "id": "737c6771-5ad4-48e7-b8a4-d218bdc14e3e",
   "metadata": {
    "tags": []
   },
   "outputs": [],
   "source": [
    "def q2_14():\n",
    "    relevant_decades = ...\n",
    "    ag_test = sns.lmplot(..., # DO NOT edit ag_test = sns.lmplot\n",
    "            ci = None, lowess = True, line_kws={'lw': 2}, palette=\"bright\") \n",
    "    ...\n",
    "    return relevant_decades, ag_test.axes.flatten(), plt.gca() # DO NOT edit this line\n",
    "q2_14();"
   ]
  },
  {
   "cell_type": "code",
   "execution_count": null,
   "id": "fe277e00",
   "metadata": {
    "deletable": false,
    "editable": false
   },
   "outputs": [],
   "source": [
    "grader.check(\"q2_14\")"
   ]
  },
  {
   "cell_type": "markdown",
   "id": "5cb70806-d2a1-45a2-9429-01451ff5794e",
   "metadata": {},
   "source": [
    "---\n",
    "## Part 3. More Plots with Seaborn"
   ]
  },
  {
   "cell_type": "markdown",
   "id": "97c5476d-ba22-4384-aa6d-f53c073e1128",
   "metadata": {},
   "source": [
    "### Boxplot\n",
    "\n",
    "A boxplot is similar to a histogram as it also visualizes the distribution of a numerical variable, but it gives you more specific statistics about the distribution: the minimum, lower quartile (value at the bottom 25th percentile), median (value at the 50th percentile), upper quartile (value at the top 25th percentile) and maximum. \n"
   ]
  },
  {
   "cell_type": "markdown",
   "id": "9f7c74c4",
   "metadata": {
    "deletable": false,
    "editable": false
   },
   "source": [
    "**Question 3.1**: Use [`sns.boxplot()`](https://seaborn.pydata.org/generated/seaborn.boxplot.html) and `unemployment_df` to create a box plot of three different unemployment rates: `Male Unemployment`, `Female Unemployment`, and `Overall Unemployment rate`. Label your plot properly (although there should be no need to manually label your x-axis). We have included an image of what the plot should look like.\n",
    "\n",
    "<img src=\"assets/q3_1.png\" width=\"700\">"
   ]
  },
  {
   "cell_type": "code",
   "execution_count": null,
   "id": "99d2bab1-df3b-467b-ac55-8e4b61c15d8d",
   "metadata": {
    "tags": []
   },
   "outputs": [],
   "source": [
    "def q3_1():\n",
    "    plt.figure(figsize=(9, 6))\n",
    "    ag_test = sns....(...) # DO NOT edit ag_test = sns...\n",
    "    ...\n",
    "    return ag_test.lines, plt.gca() # DO NOT edit this line\n",
    "q3_1();"
   ]
  },
  {
   "cell_type": "code",
   "execution_count": null,
   "id": "7ff460db",
   "metadata": {
    "deletable": false,
    "editable": false
   },
   "outputs": [],
   "source": [
    "grader.check(\"q3_1\")"
   ]
  },
  {
   "cell_type": "markdown",
   "id": "1691cf86-a152-4f26-af5c-343a67b571ad",
   "metadata": {},
   "source": [
    "### Violin Plot\n",
    "\n",
    "A violin plot is a combination of a histogram and boxplot. It shows you the general distribution of the data (by creating a histogram and drawing a line to capture its general shape) as well as specific statistics (same as the boxplot). "
   ]
  },
  {
   "cell_type": "markdown",
   "id": "0a75e016",
   "metadata": {
    "deletable": false,
    "editable": false
   },
   "source": [
    "**Question 3.2**: Use [`sns.violinplot()`](https://seaborn.pydata.org/generated/seaborn.violinplot.html) on `merged_df` to create a violin plot of just the `Overall Unemployment` and `Inflation`. Label your plot properly (although there should be no need to manually label your x-axis). We have included an image of what the plot should look like.\n",
    "\n",
    "<img src=\"assets/q3_2.png\" width=\"700\">"
   ]
  },
  {
   "cell_type": "code",
   "execution_count": null,
   "id": "9aacf8aa-da98-47cd-8702-716ab1cd9fe0",
   "metadata": {
    "tags": []
   },
   "outputs": [],
   "source": [
    "def q3_2():\n",
    "    ag_test = sns...(..., , palette=\"prism\") # DO NOT edit ag_test = sns...\n",
    "    return ag_test.lines, plt.gca() # DO NOT edit this line\n",
    "q3_2();"
   ]
  },
  {
   "cell_type": "code",
   "execution_count": null,
   "id": "a3ca4869",
   "metadata": {
    "deletable": false,
    "editable": false
   },
   "outputs": [],
   "source": [
    "grader.check(\"q3_2\")"
   ]
  },
  {
   "cell_type": "markdown",
   "id": "1ddf079f-ed4d-4ebd-b2df-c9f57b4576dc",
   "metadata": {
    "deletable": false,
    "editable": false,
    "jp-MarkdownHeadingCollapsed": true,
    "tags": []
   },
   "source": [
    "<!-- BEGIN QUESTION -->\n",
    "\n",
    "**Question 3.3**: What do you notice from the violin plot above? (Distribution, skewness, etc.) Please give the reasoning to your answer.   "
   ]
  },
  {
   "cell_type": "markdown",
   "id": "c9ab2fa9",
   "metadata": {},
   "source": [
    "_Type your answer here, replacing this text._"
   ]
  },
  {
   "cell_type": "markdown",
   "id": "f7f5dd94-625f-41f4-8418-3828f069f938",
   "metadata": {
    "deletable": false,
    "editable": false
   },
   "source": [
    "<!-- END QUESTION -->\n",
    "\n",
    "**Question 3.4**: For your final plot, recreate the plot from question 2.11 in seaborn, but add a kernel density estimate. Label your plot properly. We have included an image of what the plot should look like.\n",
    "\n",
    "<img src=\"assets/q3_4.png\" width=\"700\">"
   ]
  },
  {
   "cell_type": "code",
   "execution_count": null,
   "id": "d3ec42cd-4d7d-4f96-8fe9-2080d0d9ead9",
   "metadata": {
    "tags": []
   },
   "outputs": [],
   "source": [
    "def q3_4():\n",
    "    bins = ...\n",
    "    ag_test = sns...(..., edgecolor='black', linewidth=1.2) # DO NOT edit ag_test = sns......\n",
    "    return ag_test.get_lines(), plt.gca() # DO NOT edit this line\n",
    "q3_4();"
   ]
  },
  {
   "cell_type": "code",
   "execution_count": null,
   "id": "593a2aa6",
   "metadata": {
    "deletable": false,
    "editable": false
   },
   "outputs": [],
   "source": [
    "grader.check(\"q3_4\")"
   ]
  },
  {
   "cell_type": "markdown",
   "id": "722a90b4-3db5-43fd-a9af-4d66d7d2310e",
   "metadata": {
    "deletable": false,
    "editable": false
   },
   "source": [
    "<!-- BEGIN QUESTION -->\n",
    "\n",
    "**Question 3.5**: What does a kernel density estimate try to do? How does it work?"
   ]
  },
  {
   "cell_type": "markdown",
   "id": "2a29ddbf",
   "metadata": {},
   "source": [
    "_Type your answer here, replacing this text._"
   ]
  },
  {
   "cell_type": "markdown",
   "id": "71f6d89a-54a2-4a18-b295-7ba1d2e91a62",
   "metadata": {
    "deletable": false,
    "editable": false
   },
   "source": [
    "<!-- END QUESTION -->\n",
    "\n",
    "---\n",
    "## Conclusion\n",
    "\n",
    "**Congratulations!** You have finished lab 4! We hope you enjoyed the lab!"
   ]
  },
  {
   "cell_type": "markdown",
   "id": "2dfb851d",
   "metadata": {
    "deletable": false,
    "editable": false
   },
   "source": [
    "## Submission\n",
    "\n",
    "Make sure you have run all cells in your notebook in order before running the cell below, so that all images/graphs appear in the output. The cell below will generate a zip file for you to submit. **Please save before exporting!**"
   ]
  },
  {
   "cell_type": "code",
   "execution_count": null,
   "id": "77e02f0d",
   "metadata": {
    "deletable": false,
    "editable": false
   },
   "outputs": [],
   "source": [
    "# Save your notebook first, then run this cell to export your submission.\n",
    "grader.export(run_tests=True)"
   ]
  },
  {
   "cell_type": "markdown",
   "id": "50fd121d",
   "metadata": {},
   "source": [
    " "
   ]
  }
 ],
 "metadata": {
  "kernelspec": {
   "display_name": "Python 3 (ipykernel)",
   "language": "python",
   "name": "python3"
  },
  "language_info": {
   "codemirror_mode": {
    "name": "ipython",
    "version": 3
   },
   "file_extension": ".py",
   "mimetype": "text/x-python",
   "name": "python",
   "nbconvert_exporter": "python",
   "pygments_lexer": "ipython3",
   "version": "3.12.7"
  },
  "otter": {
   "OK_FORMAT": true,
   "export_pdf_failure_message": "PDF did not generate, please submit screenshots for questions 1.3, 2.2, 2.4, 2.8, 2.13, 3.3 and 3.5.",
   "require_no_pdf_confirmation": true,
   "tests": {
    "q1_1": {
     "name": "q1_1",
     "points": null,
     "suites": [
      {
       "cases": [
        {
         "code": ">>> assert unemployment_df.shape == (826, 4)\n",
         "hidden": false,
         "locked": false
        }
       ],
       "scored": true,
       "setup": "",
       "teardown": "",
       "type": "doctest"
      }
     ]
    },
    "q1_2": {
     "name": "q1_2",
     "points": null,
     "suites": [
      {
       "cases": [
        {
         "code": ">>> assert unemployment_df.shape == (826, 4)\n",
         "hidden": false,
         "locked": false
        },
        {
         "code": ">>> assert np.all(unemployment_df.columns == ['Date', 'Male Unemployment', 'Female Unemployment', 'Overall Unemployment'])\n",
         "hidden": false,
         "locked": false
        }
       ],
       "scored": true,
       "setup": "",
       "teardown": "",
       "type": "doctest"
      }
     ]
    },
    "q2_1": {
     "name": "q2_1",
     "points": null,
     "suites": [
      {
       "cases": [
        {
         "code": ">>> ax = q2_1()\n>>> plt.close()\n>>> lines = ax.get_lines()\n>>> xy_data_list = [line.get_xydata() for line in lines]\n>>> data = xy_data_list[0].T\n>>> assert data.shape == (2, 826)\n>>> assert np.isclose(np.sum(data[0]), 5618416.0)\n>>> assert np.isclose(np.sum(data[1]), 4856.3)\n",
         "hidden": false,
         "locked": false
        },
        {
         "code": ">>> ax = q2_1()\n>>> plt.close()\n>>> assert len(ax.get_title()) > 0\n>>> assert len(ax.get_xlabel()) > 0\n>>> assert len(ax.get_ylabel()) > 0\n>>> assert 'US' in ax.get_title()\n>>> assert 'nemployment' in ax.get_title()\n>>> assert 'nemployment' in ax.get_ylabel()\n",
         "hidden": false,
         "locked": false
        }
       ],
       "scored": true,
       "setup": "",
       "teardown": "",
       "type": "doctest"
      }
     ]
    },
    "q2_10": {
     "name": "q2_10",
     "points": null,
     "suites": [
      {
       "cases": [
        {
         "code": ">>> ax = q2_10()\n>>> patches = ax.patches\n>>> plt.close()\n>>> heights = [patch.get_height() for patch in patches]\n>>> expected_heights = [5, 10, 10, 10, 10, 10, 10, 3]\n>>> assert heights == expected_heights\n",
         "hidden": false,
         "locked": false
        },
        {
         "code": ">>> ax = q2_10()\n>>> plt.close()\n>>> assert len(ax.get_title()) > 0\n>>> assert len(ax.get_xlabel()) > 0\n>>> assert len(ax.get_ylabel()) > 0\n>>> assert 'ecade' in ax.get_title()\n>>> assert 'ecade' in ax.get_xlabel()\n>>> assert 'umber' in ax.get_ylabel()\n",
         "hidden": false,
         "locked": false
        }
       ],
       "scored": true,
       "setup": "",
       "teardown": "",
       "type": "doctest"
      }
     ]
    },
    "q2_11": {
     "name": "q2_11",
     "points": null,
     "suites": [
      {
       "cases": [
        {
         "code": ">>> ax = q2_11()\n>>> patches = ax.patches\n>>> plt.close()\n>>> heights = [patch.get_height() for patch in patches]\n>>> expected_heights = [1.0, 4.0, 9.0, 8.0, 7.0, 14.0, 5.0, 5.0, 3.0, 4.0, 4.0, 1.0, 1.0, 1.0, 1.0, 0.0]\n>>> assert heights == expected_heights\n",
         "hidden": false,
         "locked": false
        },
        {
         "code": ">>> ax = q2_11()\n>>> plt.close()\n>>> assert len(ax.get_title()) > 0\n>>> assert len(ax.get_xlabel()) > 0\n>>> assert len(ax.get_ylabel()) > 0\n>>> assert 'nemployment' in ax.get_xlabel()\n>>> assert 'nemployment' in ax.get_title()\n>>> assert 'istribution' in ax.get_title()\n>>> assert 'ount' in ax.get_ylabel() or 'umber' in ax.get_ylabel()\n",
         "hidden": false,
         "locked": false
        }
       ],
       "scored": true,
       "setup": "",
       "teardown": "",
       "type": "doctest"
      }
     ]
    },
    "q2_12": {
     "name": "q2_12",
     "points": null,
     "suites": [
      {
       "cases": [
        {
         "code": ">>> ax = q2_12()\n>>> cs = ax.collections[0]\n>>> plt.close()\n>>> data = cs.get_offsets().T\n>>> assert data.shape == (2, 68)\n>>> assert np.isclose(np.sum(data[0]), 397.6)\n>>> assert np.isclose(np.sum(data[1]), 245.43425)\n",
         "hidden": false,
         "locked": false
        },
        {
         "code": ">>> ax = q2_12()\n>>> plt.close()\n>>> assert len(ax.get_title()) > 0\n>>> assert len(ax.get_xlabel()) > 0\n>>> assert len(ax.get_ylabel()) > 0\n>>> assert 'nemployment' in ax.get_xlabel()\n>>> assert 'nflation' in ax.get_ylabel()\n>>> assert 'nemployment' in ax.get_title()\n>>> assert 'nflation' in ax.get_title()\n",
         "hidden": false,
         "locked": false
        }
       ],
       "scored": true,
       "setup": "",
       "teardown": "",
       "type": "doctest"
      }
     ]
    },
    "q2_14": {
     "name": "q2_14",
     "points": null,
     "suites": [
      {
       "cases": [
        {
         "code": ">>> testing_df = q2_14()[0]\n>>> plt.close()\n>>> assert testing_df.shape == (60, 6)\n>>> assert testing_df['Decade'].unique().tolist() == [1960, 1970, 1980, 1990, 2000, 2010]\n>>> assert testing_df.loc[:, 'Overall Unemployment'].iloc[6] == 4\n",
         "hidden": false,
         "locked": false
        },
        {
         "code": ">>> ax = q2_14()[1][0]\n>>> lines = ax.get_lines()\n>>> plt.close()\n>>> xy_data_list = [line.get_xydata() for line in lines]\n>>> assert [len(x) for x in xy_data_list] == [10, 10, 10, 10, 10, 10]\n>>> assert np.isclose(np.sum(xy_data_list[0]), 70.19144964172072)\n",
         "hidden": false,
         "locked": false
        },
        {
         "code": ">>> ax = q2_14()[2]\n>>> plt.close()\n>>> assert len(ax.get_title()) > 0\n>>> assert len(ax.get_xlabel()) > 0\n>>> assert len(ax.get_ylabel()) > 0\n>>> assert 'nemployment' in ax.get_xlabel()\n>>> assert 'nflation' in ax.get_ylabel()\n>>> assert 'nemployment' in ax.get_title()\n>>> assert 'nflation' in ax.get_title()\n",
         "hidden": false,
         "locked": false
        }
       ],
       "scored": true,
       "setup": "",
       "teardown": "",
       "type": "doctest"
      }
     ]
    },
    "q2_3": {
     "name": "q2_3",
     "points": null,
     "suites": [
      {
       "cases": [
        {
         "code": ">>> ax = q2_3()\n>>> lines = ax.get_lines()\n>>> plt.close()\n>>> xy_data_list = [line.get_xydata() for line in lines]\n>>> data = xy_data_list[0].T\n>>> assert data.shape == (2, 826)\n>>> sums = [np.sum(data, axis=0) for data in xy_data_list]\n>>> expected_sums = [(5618416.0, 4753.4), (4753.4, 5618416.0)]\n>>> assert any((np.allclose(sum_pair, expected) for sum_pair in sums for expected in expected_sums))\n",
         "hidden": false,
         "locked": false
        },
        {
         "code": ">>> ax = q2_3()\n>>> plt.close()\n>>> assert len(ax.get_title()) > 0\n>>> assert len(ax.get_xlabel()) > 0\n>>> assert len(ax.get_ylabel()) > 0\n>>> assert 'nemployment' in ax.get_title()\n>>> assert 'US' in ax.get_title()\n>>> assert 'nemployment' in ax.get_ylabel()\n",
         "hidden": false,
         "locked": false
        }
       ],
       "scored": true,
       "setup": "",
       "teardown": "",
       "type": "doctest"
      }
     ]
    },
    "q2_5": {
     "name": "q2_5",
     "points": null,
     "suites": [
      {
       "cases": [
        {
         "code": ">>> assert inflation_df.shape == (75, 2)\n",
         "hidden": false,
         "locked": false
        },
        {
         "code": ">>> assert np.all(inflation_df.columns == ['Date', 'Inflation'])\n",
         "hidden": false,
         "locked": false
        }
       ],
       "scored": true,
       "setup": "",
       "teardown": "",
       "type": "doctest"
      }
     ]
    },
    "q2_6": {
     "name": "q2_6",
     "points": null,
     "suites": [
      {
       "cases": [
        {
         "code": ">>> assert merged_df.shape == (68, 5)\n",
         "hidden": false,
         "locked": false
        },
        {
         "code": ">>> assert np.allclose(merged_df[merged_df['Date'] == '1959/1/1']['Overall Unemployment'], 6.0)\n",
         "hidden": false,
         "locked": false
        },
        {
         "code": ">>> assert np.allclose(merged_df[merged_df['Date'] == '1959/1/1']['Inflation'], 0.93199)\n",
         "hidden": false,
         "locked": false
        }
       ],
       "scored": true,
       "setup": "",
       "teardown": "",
       "type": "doctest"
      }
     ]
    },
    "q2_7": {
     "name": "q2_7",
     "points": null,
     "suites": [
      {
       "cases": [
        {
         "code": ">>> ax = q2_7()\n>>> lines = ax.get_lines()\n>>> plt.close()\n>>> xy_data_list = [line.get_xydata() for line in lines]\n>>> data = xy_data_list[0].T\n>>> assert data.shape == (2, 68)\n>>> assert any((np.isclose(np.sum(data[0]), value) for value in [459476.0, 245.43425000000002])) and any((np.isclose(np.sum(data[1]), value) for value in [245.43425000000002, 459476.0]))\n",
         "hidden": false,
         "locked": false
        },
        {
         "code": ">>> ax = q2_7()\n>>> plt.close()\n>>> assert len(ax.get_title()) > 0\n>>> assert len(ax.get_xlabel()) > 0\n>>> assert len(ax.get_ylabel()) > 0\n>>> assert 'US' in ax.get_title()\n>>> assert 'ercent' in ax.get_ylabel()\n",
         "hidden": false,
         "locked": false
        }
       ],
       "scored": true,
       "setup": "",
       "teardown": "",
       "type": "doctest"
      }
     ]
    },
    "q2_9": {
     "name": "q2_9",
     "points": null,
     "suites": [
      {
       "cases": [
        {
         "code": ">>> assert 'Decade' in merged_df.columns\n>>> assert merged_df.shape == (68, 6)\n>>> assert merged_df.iloc[10].loc['Decade'] == 1960\n",
         "hidden": false,
         "locked": false
        }
       ],
       "scored": true,
       "setup": "",
       "teardown": "",
       "type": "doctest"
      }
     ]
    },
    "q3_1": {
     "name": "q3_1",
     "points": null,
     "suites": [
      {
       "cases": [
        {
         "code": ">>> lines = q3_1()[0]\n>>> plt.close()\n>>> medians = [line for line in lines]\n>>> xy_data_list = [(median.get_xdata(), median.get_ydata()) for median in medians]\n>>> assert len(xy_data_list) == 18\n>>> assert xy_data_list[0][0][0] == 0\n>>> assert xy_data_list[6][0][0] == 1\n>>> assert xy_data_list[-1][0][0] == 2\n>>> assert all([len(x) == 2 for x in xy_data_list])\n",
         "hidden": false,
         "locked": false
        },
        {
         "code": ">>> ax = q3_1()[1]\n>>> plt.close()\n>>> assert len(ax.get_xlabel()) == 0\n>>> assert len(ax.get_title()) > 0\n>>> assert len(ax.get_ylabel()) > 0\n>>> assert 'nemployment' in ax.get_ylabel()\n>>> assert 'nemployment' in ax.get_title()\n",
         "hidden": false,
         "locked": false
        }
       ],
       "scored": true,
       "setup": "",
       "teardown": "",
       "type": "doctest"
      }
     ]
    },
    "q3_2": {
     "name": "q3_2",
     "points": null,
     "suites": [
      {
       "cases": [
        {
         "code": ">>> lines = q3_2()[0]\n>>> plt.close()\n>>> medians = [line for line in lines]\n>>> xy_data_list = [(median.get_xdata(), median.get_ydata()) for median in medians]\n>>> assert len(xy_data_list) == 6\n>>> assert xy_data_list[0][0][0] == 0\n>>> assert xy_data_list[-1][0][0] == 1\n>>> assert all([len(x) == 2 for x in xy_data_list])\n",
         "hidden": false,
         "locked": false
        },
        {
         "code": ">>> ax = q3_2()[1]\n>>> plt.close()\n>>> assert len(ax.get_xlabel()) == 0\n>>> assert len(ax.get_title()) > 0\n>>> assert len(ax.get_ylabel()) > 0\n>>> assert 'ercent' in ax.get_ylabel()\n",
         "hidden": false,
         "locked": false
        }
       ],
       "scored": true,
       "setup": "",
       "teardown": "",
       "type": "doctest"
      }
     ]
    },
    "q3_4": {
     "name": "q3_4",
     "points": null,
     "suites": [
      {
       "cases": [
        {
         "code": ">>> func_call = q3_4()\n>>> ax = func_call[1]\n>>> patches = ax.patches\n>>> data = func_call[0][0].get_data()\n>>> plt.close()\n>>> heights = [patch.get_height() for patch in patches]\n>>> expected_heights = [1.0, 4.0, 9.0, 8.0, 7.0, 14.0, 5.0, 5.0, 3.0, 4.0, 4.0, 1.0, 1.0, 1.0, 1.0, 0.0]\n>>> assert heights == expected_heights\n>>> assert len(data) == 2\n>>> assert len(data[0]) == len(data[1]) == 200\n",
         "hidden": false,
         "locked": false
        },
        {
         "code": ">>> ax = q3_4()[1]\n>>> plt.close()\n>>> assert len(ax.get_title()) > 0\n>>> assert len(ax.get_xlabel()) > 0\n>>> assert len(ax.get_ylabel()) > 0\n>>> assert 'nemployment' in ax.get_xlabel()\n>>> assert 'nemployment' in ax.get_title()\n>>> assert 'istribution' in ax.get_title()\n>>> assert 'ount' in ax.get_ylabel() or 'umber' in ax.get_ylabel()\n",
         "hidden": false,
         "locked": false
        }
       ],
       "scored": true,
       "setup": "",
       "teardown": "",
       "type": "doctest"
      }
     ]
    }
   }
  }
 },
 "nbformat": 4,
 "nbformat_minor": 5
}

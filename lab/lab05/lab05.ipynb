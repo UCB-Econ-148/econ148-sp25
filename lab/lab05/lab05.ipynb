{
 "cells": [
  {
   "cell_type": "code",
   "execution_count": null,
   "id": "1a357af3",
   "metadata": {
    "deletable": false,
    "editable": false
   },
   "outputs": [],
   "source": [
    "# Initialize Otter\n",
    "import otter\n",
    "grader = otter.Notebook(\"lab05.ipynb\")"
   ]
  },
  {
   "cell_type": "code",
   "execution_count": null,
   "id": "05a0e228",
   "metadata": {},
   "outputs": [],
   "source": [
    "import numpy as np\n",
    "import pandas as pd\n",
    "\n",
    "import matplotlib.pyplot as plt\n",
    "import seaborn as sns\n",
    "import plotly.express as px\n",
    "from IPython.display import display, Latex, Markdown\n",
    "import ipywidgets as widgets\n",
    "from ipywidgets import interact, interactive, fixed, interact_manual\n",
    "%matplotlib inline\n",
    "\n",
    "import geopandas\n",
    "import pycountry\n",
    "import geopy\n",
    "\n",
    "import re"
   ]
  },
  {
   "cell_type": "markdown",
   "id": "a3855c35-d7a5-4353-a650-b80c6e897b8f",
   "metadata": {},
   "source": [
    "# Lab 5: Geospatial Visualizations"
   ]
  },
  {
   "cell_type": "markdown",
   "id": "d9416ac3-69a9-43d8-b6e2-d29fdfcc5783",
   "metadata": {},
   "source": [
    "In this lab, you will generate a 3D map visualizing data from [this paper](https://gabriel-zucman.eu/who-owns-offshore-real-estate/). The paper looks at the ownership of offshore real estate in Dubai (where Rohan grew up).  We would like to thank Professor Zucman for making his data freely available and accessible. Professor Zucman is one of the foremost experts in economic inequality; take [Econ 133](https://gabriel-zucman.eu/econ133/) to learn about it from him!\n",
    "\n",
    "In order to generate the map, we will first import a cleaned version of the dataset from the paper. Then, we will do some essential data cleaning steps so the data can be interpreted by plotting packages. Then, we will generate a sample plot. Finally, we will use widgets to easily toggle between multiple plots."
   ]
  },
  {
   "cell_type": "markdown",
   "id": "874a2bce",
   "metadata": {},
   "source": [
    "### Learning Objectives:\n",
    "- Revisits some data cleaning techniques\n",
    "- Generates geospatial visualizations in 2D and 3D"
   ]
  },
  {
   "cell_type": "markdown",
   "id": "8343927d-f471-40fa-919c-dc2686d40ef4",
   "metadata": {},
   "source": [
    "First, let's load in the dataset."
   ]
  },
  {
   "cell_type": "code",
   "execution_count": null,
   "id": "707d57d3-a0ce-4b89-a1cf-276715632b6b",
   "metadata": {},
   "outputs": [],
   "source": [
    "data = pd.read_csv('APZO2022Data-cleaned.csv')\n",
    "data.head()"
   ]
  },
  {
   "cell_type": "markdown",
   "id": "e5dd4f59-6f06-4637-b364-55aba04a610a",
   "metadata": {},
   "source": [
    "---\n",
    "## Part 1: Cleaning Data"
   ]
  },
  {
   "cell_type": "markdown",
   "id": "f5c4dc56-be41-478a-9f46-6b7e728f9912",
   "metadata": {},
   "source": [
    "In this part, you will follow the steps for cleaning the data as described in each individual subpart. If you do not follow the steps exactly, the plots will not be generated in subsequent parts."
   ]
  },
  {
   "cell_type": "markdown",
   "id": "947d7deb-1b69-4136-b398-d6554642379e",
   "metadata": {
    "deletable": false,
    "editable": false
   },
   "source": [
    "**Question 1.1:** Set the `Country` column as the table index and delete the first row (the one for the entire World) from the data."
   ]
  },
  {
   "cell_type": "code",
   "execution_count": null,
   "id": "db6a2b5a-92ec-4b4c-a5f6-32f47047db2a",
   "metadata": {
    "tags": []
   },
   "outputs": [],
   "source": [
    "data = ... # set index\n",
    "data = ... # delete the first row\n",
    "data.head()"
   ]
  },
  {
   "cell_type": "code",
   "execution_count": null,
   "id": "6f82b77b",
   "metadata": {
    "deletable": false,
    "editable": false
   },
   "outputs": [],
   "source": [
    "grader.check(\"q1_1\")"
   ]
  },
  {
   "cell_type": "markdown",
   "id": "af11cef6-7ee1-4d3f-bce5-dc7e4292be96",
   "metadata": {},
   "source": [
    "Now, let's take a look at the following columns:"
   ]
  },
  {
   "cell_type": "code",
   "execution_count": null,
   "id": "2bd714ff-2371-4943-a6e2-4cc7ea4783d0",
   "metadata": {},
   "outputs": [],
   "source": [
    "data[['Total Property Value / GDP', 'Female share', 'Share of total values owned by top 10% owners', \n",
    "            'Share of total values owned by top 10% persons','Share of total values owned by top 10% firms',\n",
    "           'Share of total values owned by top 1% owners', 'Share of total values owned by top 1% persons',\n",
    "           'Share of total values owned by top 1% firms']]"
   ]
  },
  {
   "cell_type": "markdown",
   "id": "246c3a97-106b-4c22-baeb-bb4e6fdd002b",
   "metadata": {},
   "source": [
    "As you can see, the data is written in percents. Since the software can only plot numbers, the percentages will need to be converted to a number out of 100. A similar problem can also be seen below:"
   ]
  },
  {
   "cell_type": "code",
   "execution_count": null,
   "id": "66697699-94ef-40ff-aed6-ade1712d00ed",
   "metadata": {},
   "outputs": [],
   "source": [
    "data[['Total Property Values', 'Mean Property value', 'Median Property Value']]"
   ]
  },
  {
   "cell_type": "markdown",
   "id": "b75fe43a-cd2e-4c76-894e-5e23c34e04f3",
   "metadata": {},
   "source": [
    "In this case, the letters 'USD', commas and spaces will need to be removed from the above rows so the data can be read as numbers."
   ]
  },
  {
   "cell_type": "markdown",
   "id": "b47390b5-5777-4726-bdfb-c742381855aa",
   "metadata": {
    "deletable": false,
    "editable": false
   },
   "source": [
    "**Question 1.2:** Fix the issues described above by converting the given columns to numbers. Once you have converted the columns to numbers, change the datatype of all the columns to be `float64`.\n",
    "\n",
    "For example, we want to convert \"7.81%\" to \"7.81\", \"USD 1,410,029,024\" to \"1410029024\". \n",
    "\n",
    "*Hint 1:* Consider using string methods like we did in project 1.   \n",
    "*Hint 2:* You can get part of a string by slicing a string like we did in Lab 5. We can do this on a column in a dataframe using the string method. This [tutorial](https://note.nkmk.me/en/python-pandas-str-slice/) may be helpful. "
   ]
  },
  {
   "cell_type": "code",
   "execution_count": null,
   "id": "81303763-d113-4421-82b7-d59e6d2fd2ca",
   "metadata": {
    "tags": []
   },
   "outputs": [],
   "source": [
    "for col in ['Total Property Values', 'Mean Property value', 'Median Property Value']:\n",
    "    data[col] = ... # get rid of 'USD' \n",
    "    data[col] = ... # get rid of commas using regex\n",
    "\n",
    "for col in ['Total Property Value / GDP', 'Female share', 'Share of total values owned by top 10% owners', \n",
    "            'Share of total values owned by top 10% persons','Share of total values owned by top 10% firms',\n",
    "           'Share of total values owned by top 1% owners', 'Share of total values owned by top 1% persons',\n",
    "           'Share of total values owned by top 1% firms']:\n",
    "    data[col] = ... # get rid of '%'\n",
    "\n",
    "# convert all the columns to float64\n",
    "for col in data.columns:\n",
    "    data[col] = ...\n",
    "data"
   ]
  },
  {
   "cell_type": "code",
   "execution_count": null,
   "id": "ed7299fa",
   "metadata": {
    "deletable": false,
    "editable": false
   },
   "outputs": [],
   "source": [
    "grader.check(\"q1_2\")"
   ]
  },
  {
   "cell_type": "markdown",
   "id": "4215ee4f-28ee-4582-aae7-f742afdf6465",
   "metadata": {},
   "source": [
    "Now that all of our data is stored as floats, we must deal with ambiguity in country names. For example, United States, United States of America and USA all refer to the same country. It's hard for a package to keep track of all the different names for a country, so instead packages like to refer to the standardized, 3-letter [country \n",
    "codes](https://www.iban.com/country-codes). The following function takes in a country name and attempts to find the 3 digit country code associated with the country."
   ]
  },
  {
   "cell_type": "code",
   "execution_count": null,
   "id": "f829c9f2-70ff-42cc-8304-2f7c2a6aeb4d",
   "metadata": {},
   "outputs": [],
   "source": [
    "import pycountry\n",
    "pycountry.countries.get(name='Albania').alpha_3\n",
    "                                    # .alpha_3 refers to the 3-letter country code \n",
    "                                    # .alpha_2 refers to the 2-letter country code"
   ]
  },
  {
   "cell_type": "markdown",
   "id": "dcb9736d-8535-4937-9b48-ca8df59d373e",
   "metadata": {
    "deletable": false,
    "editable": false
   },
   "source": [
    "**Question 1.3:** Use the provided function to try and find the associated country code for all the countries in your data. Write a function `get_alpha3code` that get the 3-letter country code given the country name, and then apply this function to the index of our dataframe. There will be cases where the function fails as it cannot find the associated country code - consider using a try-except block to deal with these cases."
   ]
  },
  {
   "cell_type": "code",
   "execution_count": null,
   "id": "620c479f-6c4e-4781-80c5-4c7c59b1e56a",
   "metadata": {
    "tags": []
   },
   "outputs": [],
   "source": [
    "def get_alpha3code(country_name):\n",
    "    try:\n",
    "        code = ...\n",
    "    except: # if it cannot find the associated country code\n",
    "        code = 'None'\n",
    "    return code\n",
    "data['Code'] = ...\n",
    "data.head()"
   ]
  },
  {
   "cell_type": "code",
   "execution_count": null,
   "id": "6fb90da8",
   "metadata": {
    "deletable": false,
    "editable": false
   },
   "outputs": [],
   "source": [
    "grader.check(\"q1_3\")"
   ]
  },
  {
   "cell_type": "markdown",
   "id": "0744d63a-ec55-4674-9342-ebcf9ea66d6c",
   "metadata": {},
   "source": [
    "Let us quickly see the cases where the function fails."
   ]
  },
  {
   "cell_type": "code",
   "execution_count": null,
   "id": "0452410c",
   "metadata": {},
   "outputs": [],
   "source": [
    "data[data[\"Code\"] == \"None\"]"
   ]
  },
  {
   "cell_type": "markdown",
   "id": "9d2c6403-e9a9-4e2d-9642-a51001cedb23",
   "metadata": {
    "deletable": false,
    "editable": false
   },
   "source": [
    "**Question 1.4:** We can see that the function fails in a small portion of cases. We have provided a list of all the cases where the function fails; you have to manually correct these cases by manually referencing the [website](https://www.iban.com/country-codes). This might seem tedious, but that is the point - data cleaning must done with careful attention to detail."
   ]
  },
  {
   "cell_type": "code",
   "execution_count": null,
   "id": "a9ccb1e9",
   "metadata": {
    "tags": []
   },
   "outputs": [],
   "source": [
    "data.loc['Antigua & Barbuda','Code'] = ...\n",
    "data.loc['Brunei','Code'] = ...\n",
    "data.loc['Congo, Republic Of','Code'] = ...\n",
    "data.loc['Czech Republic','Code'] = ...\n",
    "data.loc['Iran','Code'] = ...\n",
    "data.loc['Ivory Coast','Code'] = ...\n",
    "data.loc['Kyrgistan','Code'] = ...\n",
    "data.loc['Macedonia','Code'] = ...\n",
    "data.loc['Moldova','Code'] = ...\n",
    "data.loc['North Korea','Code'] = ...\n",
    "data.loc['Palestine','Code'] = ...\n",
    "data.loc['Russia','Code'] = ...\n",
    "data.loc['Saint Vincent & The Grenadines','Code'] = ...\n",
    "data.loc['South Korea','Code'] = ...\n",
    "data.loc['Southern Sudan','Code'] = ...\n",
    "data.loc['Syria','Code'] = ...\n",
    "data.loc['Taiwan','Code'] = ...\n",
    "data.loc['Tanzania','Code'] = ...\n",
    "data.loc['Trinidad & Tobago','Code'] = ...\n",
    "data.loc['USA','Code'] = ...\n",
    "data.loc['Venezuela','Code'] = ...\n",
    "data.loc['Vietnam','Code'] = ...\n",
    "data.loc['Bolivia','Code'] = ...\n",
    "data.loc['Democratic Rep, Of Congo','Code'] = ...\n",
    "data.loc['Turkey','Code'] = ...\n",
    "data.loc['Comoros Islands','Code'] = ...\n",
    "data.loc['British Virgin Islands','Code'] = ..."
   ]
  },
  {
   "cell_type": "code",
   "execution_count": null,
   "id": "86bb5cc5",
   "metadata": {
    "deletable": false,
    "editable": false
   },
   "outputs": [],
   "source": [
    "grader.check(\"q1_4\")"
   ]
  },
  {
   "cell_type": "markdown",
   "id": "aaf1b332-4b97-4dfb-9b40-4621e96920c2",
   "metadata": {},
   "source": [
    "Let us now look at the cases where the `Code` column is still 'None'."
   ]
  },
  {
   "cell_type": "code",
   "execution_count": null,
   "id": "a25f0ed3",
   "metadata": {},
   "outputs": [],
   "source": [
    "data[data[\"Code\"] == \"None\"]"
   ]
  },
  {
   "cell_type": "markdown",
   "id": "a76e35b0-e910-43ba-a1d7-eca901a3bd4d",
   "metadata": {},
   "source": [
    "We can see none of these countries/organizations have a 3-letter country code associated with them, so we can drop these rows."
   ]
  },
  {
   "cell_type": "code",
   "execution_count": null,
   "id": "ced3d11a-dd29-4c42-8380-5c00278ee708",
   "metadata": {},
   "outputs": [],
   "source": [
    "data = data[data[\"Code\"] != \"None\"]\n",
    "data.head()"
   ]
  },
  {
   "cell_type": "markdown",
   "id": "be0fe0e4-5432-4d69-9d77-c07f0d060535",
   "metadata": {},
   "source": [
    "## Part 2: Generating a Sample Map"
   ]
  },
  {
   "cell_type": "markdown",
   "id": "f121dcf8-fc3a-494d-ad57-758a7ad5d018",
   "metadata": {},
   "source": [
    "In this part, you will use your data to generate a sample plot visualizing the `Total Property Value / GDP` column."
   ]
  },
  {
   "cell_type": "markdown",
   "id": "0dc157b7-4dd9-45b2-95e3-ef65b01db251",
   "metadata": {},
   "source": [
    "When we hover over a country in the generated plot, we would like to be able to see it's name, the total property value owned and how it compares to the amount of property owned by other countries. In order to do this, we must first rank all the countries by total property value owned."
   ]
  },
  {
   "cell_type": "markdown",
   "id": "bb783053-d34f-4d14-b1b3-280ce1a233dd",
   "metadata": {
    "deletable": false,
    "editable": false
   },
   "source": [
    "**Question 2.1:** First, sort all the values in the table by `Total Property Value / GDP` in ascending order (this sorting is important for when we generate the colors in the plot later). Then, rank all the countries by `Total Property Value / GDP`, in descending order. Store all the ranks in a column in the data named 'Rank'. \n",
    "\n",
    "*Hint:* [`pandas.Series.rank`](https://pandas.pydata.org/docs/reference/api/pandas.Series.rank.html) may be useful."
   ]
  },
  {
   "cell_type": "code",
   "execution_count": null,
   "id": "7018cd53-a6a0-436e-9695-5c189d4de1ee",
   "metadata": {
    "tags": []
   },
   "outputs": [],
   "source": [
    "...\n",
    "data"
   ]
  },
  {
   "cell_type": "code",
   "execution_count": null,
   "id": "2afeb180",
   "metadata": {
    "deletable": false,
    "editable": false
   },
   "outputs": [],
   "source": [
    "grader.check(\"q2_1\")"
   ]
  },
  {
   "cell_type": "markdown",
   "id": "1406cebd-b579-41ca-9672-5bac78d7a32b",
   "metadata": {},
   "source": [
    "Now, we must think about how we want the colors in the plot to look like. For the sake of simplicity, let's say we want to bin the colors. So, we will need to group the countries into bins depending on their value of `Total Property Value / GDP`, and then assign a color to each bin. Let's take a look at the values in the column.\n"
   ]
  },
  {
   "cell_type": "code",
   "execution_count": null,
   "id": "a142b70b-a363-4acb-a90f-3f6c847250da",
   "metadata": {},
   "outputs": [],
   "source": [
    "data['Total Property Value / GDP'].describe()"
   ]
  },
  {
   "cell_type": "markdown",
   "id": "0b45609d-0220-4b33-ae22-35d580dabcec",
   "metadata": {},
   "source": [
    "As we can see, there are some clear outliers in the data. If we were to only consider the minimum and the maximum of the data, we could assign bins like ${[0,30),  [30,60),  [60,90),  [90,120),  [120,150)}$. This would leave most countries in the bottom most bin, and not provide an accurate color representation of the data. Ultimately, the bins you choose are a personal choice, but it is important to consider how those bins affect the final plot. We have provided sample bins for this part, but please feel free to mess around with these bins if you like."
   ]
  },
  {
   "cell_type": "markdown",
   "id": "926e9ac4-b4de-403d-834d-0fd384cec0dd",
   "metadata": {
    "deletable": false,
    "editable": false
   },
   "source": [
    "**Question 2.2:** Fill in the provided code below to generate your sample plot for Total Property Value / GDP!"
   ]
  },
  {
   "cell_type": "code",
   "execution_count": null,
   "id": "180a2184-408e-4010-92f8-6a8587d3d47d",
   "metadata": {
    "tags": []
   },
   "outputs": [],
   "source": [
    "fig = px.choropleth(data, # This is the name of your dataset\n",
    "                    locations= ..., # Which column are the country codes stored in?\n",
    "                    color=pd.cut(data['Total Property Value / GDP'], \n",
    "                                bins=[0, 0.015,0.05,0.1,0.2,1,140]).astype(str).fillna('No Data'),\n",
    "                                #These are our sample bins, feel free to mess around with them\n",
    "                    hover_name = ..., # Which column are the country names stored in?\n",
    "                    hover_data={\"Total Property Value / GDP\":\":.1f\", \"Rank\":\":\"},\n",
    "                    # Change the above line so we can see the ratio of property value to GDP to 2 decimal places\n",
    "                    color_discrete_sequence=px.colors.sequential.BuPu,\n",
    "                    #Feel free to mess around with colors if you're interested\n",
    "                    title = ..., # Write an appropriate title\n",
    "                    height = 900\n",
    "                   )\n",
    "fig.update_layout(\n",
    "    geo=dict(\n",
    "        showframe=False,\n",
    "        showcoastlines=False,\n",
    "        projection_type='mercator'\n",
    "    ),\n",
    "    margin=dict(l=50, r=50, t=50, b=50),\n",
    ")\n",
    "fig.show()"
   ]
  },
  {
   "cell_type": "code",
   "execution_count": null,
   "id": "d4a238ed",
   "metadata": {
    "deletable": false,
    "editable": false
   },
   "outputs": [],
   "source": [
    "grader.check(\"q2_2\")"
   ]
  },
  {
   "cell_type": "markdown",
   "id": "14b7e13b-8c5e-4af6-b431-a1027db98029",
   "metadata": {
    "deletable": false,
    "editable": false
   },
   "source": [
    "**Question 2.3:** Using the code above, generate a similar plot for `Total Property Values`.  Make sure the color bins and title are appropriate. However, make this plot 3D.\n",
    "\n",
    "*Hint:* which line of code above references a 2D projection of the Earth? Here's a [list of supported projections](https://plotly.com/python/map-configuration/#map-projections). "
   ]
  },
  {
   "cell_type": "code",
   "execution_count": null,
   "id": "55d37a49-2bd8-487a-8e63-87ba89299002",
   "metadata": {
    "tags": []
   },
   "outputs": [],
   "source": [
    "data = ... # rank the data\n",
    "fig = px.choropleth(data, #This is the name of your dataset\n",
    "                    locations= ..., # Which column are the country codes stored in?\n",
    "                    color=pd.cut(data['Total Property Values'], \n",
    "                               bins=[0, 0.001*1000000000,0.01*1000000000,0.1*1000000000,0.5*1000000000,3*1000000000,300*1000000000]).astype(str).fillna('No Data'),\n",
    "                    #These are our sample bins, feel free to mess around with them\n",
    "                    hover_name = ..., # Which column are the country names stored in?\n",
    "                    hover_data={\"Total Property Values\":\":.1f\", \"Rank\":\":\"},\n",
    "                    # Change the above line so we can see the ratio of property value to 2 decimal places\n",
    "                    color_discrete_sequence=px.colors.sequential.BuPu,\n",
    "                    #Feel free to mess around with colors if you're interested\n",
    "                    title = ..., # Write an appropriate title\n",
    "                    height = 900\n",
    "                   )\n",
    "fig.update_layout(\n",
    "    geo=dict(\n",
    "        showframe=False,\n",
    "        showcoastlines=False,\n",
    "        projection_type=...\n",
    "    ),\n",
    "    margin=dict(l=50, r=50, t=50, b=50),\n",
    ")\n",
    "fig.show()"
   ]
  },
  {
   "cell_type": "code",
   "execution_count": null,
   "id": "93855afe",
   "metadata": {
    "deletable": false,
    "editable": false
   },
   "outputs": [],
   "source": [
    "grader.check(\"q2_3\")"
   ]
  },
  {
   "cell_type": "markdown",
   "id": "cf4f3dae-7537-4737-81ab-5716a094c079",
   "metadata": {},
   "source": [
    "---\n",
    "## Part 3: Using Widgets"
   ]
  },
  {
   "cell_type": "markdown",
   "id": "a321768c-6e08-4745-a703-eb86f82ad444",
   "metadata": {},
   "source": [
    "Congratulations on making the first map! In this part, we will generate a map that can easily toggle between different columns to visualize different data. In order to do this, we must first introduce [widgets](https://ipywidgets.readthedocs.io). Widgets are interactive browser controls that allow you to choose between different values. An example is included below."
   ]
  },
  {
   "cell_type": "code",
   "execution_count": null,
   "id": "1e9eb9df-a467-4e6c-b293-4b864f23061b",
   "metadata": {
    "editable": true,
    "slideshow": {
     "slide_type": ""
    },
    "tags": [
     "otter_ignore"
    ]
   },
   "outputs": [],
   "source": [
    "from ipywidgets import Dropdown\n",
    "Dropdown(\n",
    "    options=['1', '2', '3'],\n",
    "    value='2',\n",
    "    description='Number:',\n",
    "    disabled=False,\n",
    ")"
   ]
  },
  {
   "cell_type": "markdown",
   "id": "83230c14-8cc2-4b9d-ac37-c821d6aa03dc",
   "metadata": {},
   "source": [
    "The `interact` function in the widgets module takes in a function, a list of values for it's parameters and determines the appropriate widget to let you visualize the function. 2 examples are included below."
   ]
  },
  {
   "cell_type": "code",
   "execution_count": null,
   "id": "5cebe3d0-ce6c-44e8-9799-b1be1f0a323c",
   "metadata": {
    "editable": true,
    "slideshow": {
     "slide_type": ""
    },
    "tags": [
     "otter_ignore"
    ]
   },
   "outputs": [],
   "source": [
    "def say_my_name(name):\n",
    "    \"\"\"\n",
    "    Print the current widget value in a short sentence\n",
    "    \"\"\"\n",
    "    print(f'My name is {name}')\n",
    "     \n",
    "interact(say_my_name, name=[\"James\", \"Bond\", \"James Bond\"]);"
   ]
  },
  {
   "cell_type": "code",
   "execution_count": null,
   "id": "fa2747fa-e1e8-4153-a616-41dd19a30e89",
   "metadata": {
    "editable": true,
    "slideshow": {
     "slide_type": ""
    },
    "tags": [
     "otter_ignore"
    ]
   },
   "outputs": [],
   "source": [
    "def f(x):\n",
    "    return x + 1\n",
    "lst = [1,2,3]\n",
    "interact(f, x=lst);"
   ]
  },
  {
   "cell_type": "markdown",
   "id": "8cf8dd2f-6ad7-4adf-8b3e-a84ff478d8e0",
   "metadata": {},
   "source": [
    "We will be using the `interact` function to generate a widget that lets us choose between and visualize the different column values easily. In order to this, we must first write a function that lets us generate a 3D plot for any column name. Thankfully, this isn't too hard. If you remember, other than changing the projection, making the plot for question 7 wasn't too bad once your code for question 6 was working.\n",
    "\n",
    "The main thing we must consider for different columns is how to automatically determine the different color bins. After all, we won't be able to make judgement calls for every single bin. One way to automate this process would be to look at the data quintiles - assign the bottom 20% of the data to one bin, the next 20% to another bin, and so on. "
   ]
  },
  {
   "cell_type": "markdown",
   "id": "dca018bb-fabd-4251-bfff-73b7bef66a44",
   "metadata": {
    "deletable": false,
    "editable": false
   },
   "source": [
    "**Question 3.1:** Computationally determine the *quintiles* of `data['Total Property Values']` and return the information as a list. The list must start at the minimum value of `data['Total Property Values']` and end at the maximum value.\n",
    "\n",
    "Hint: The solution does not need to be longer than one line. This [method](https://pandas.pydata.org/docs/reference/api/pandas.DataFrame.quantile.html) may be helpful. "
   ]
  },
  {
   "cell_type": "code",
   "execution_count": null,
   "id": "0410a48c-e74d-4429-8f4b-55e48f921bae",
   "metadata": {
    "tags": []
   },
   "outputs": [],
   "source": [
    "quintiles = ...\n",
    "quintiles"
   ]
  },
  {
   "cell_type": "code",
   "execution_count": null,
   "id": "59db742e",
   "metadata": {
    "deletable": false,
    "editable": false
   },
   "outputs": [],
   "source": [
    "grader.check(\"q3_1\")"
   ]
  },
  {
   "cell_type": "markdown",
   "id": "df76fc6e-64a0-40f2-b549-43dbb4c355e4",
   "metadata": {
    "deletable": false,
    "editable": false
   },
   "source": [
    "<!-- BEGIN QUESTION -->\n",
    "\n",
    "**Question 3.2:** Write a function that takes in a column name and generates a 3D plot visualizing that column data. Name the function `plot_generator`. Feel free to assign the column name as the plot title."
   ]
  },
  {
   "cell_type": "code",
   "execution_count": null,
   "id": "14a81bdb-2a23-4fdb-88fa-e3dc1cca8fdf",
   "metadata": {
    "tags": []
   },
   "outputs": [],
   "source": [
    "def plot_generator(col):\n",
    "    data_new = ... # generate ranking\n",
    "    fig = px.choropleth(data_new,\n",
    "                        locations = ...,\n",
    "                        color=pd.cut(data_new[col], \n",
    "                                    bins=data_new[col]...(insert quintiles here)...astype(str).fillna('No Data'),\n",
    "                        hover_name = ...,\n",
    "                        hover_data={col:\":.2f\", \"Rank\":\":\"},\n",
    "                        color_discrete_sequence=px.colors.sequential.BuPu,\n",
    "                        title = ...,\n",
    "                        height = 900\n",
    "                       )\n",
    "    fig.update_layout(\n",
    "         title_text=col,\n",
    "        geo=dict(\n",
    "            showframe=False,\n",
    "            showcoastlines=False,\n",
    "            projection_type= ...\n",
    "        ),\n",
    "        margin=dict(l=50, r=50, t=50, b=50),\n",
    "    )\n",
    "    fig.show()"
   ]
  },
  {
   "cell_type": "markdown",
   "id": "7c463b3f-aeaa-4658-b4cc-f05a85c13828",
   "metadata": {
    "deletable": false,
    "editable": false
   },
   "source": [
    "<!-- END QUESTION -->\n",
    "\n",
    "Let's make sure the function works:"
   ]
  },
  {
   "cell_type": "code",
   "execution_count": null,
   "id": "cfe3adf1-5527-42ed-8086-fa2971aaaf22",
   "metadata": {},
   "outputs": [],
   "source": [
    "plot_generator(\"Total Property Values\")"
   ]
  },
  {
   "cell_type": "markdown",
   "id": "6eb02cd7-8461-4224-ab01-f8527374fba2",
   "metadata": {},
   "source": [
    "Now, view the beautiful visualizations with `interact`!"
   ]
  },
  {
   "cell_type": "code",
   "execution_count": null,
   "id": "0a7c0b9d-cd2c-413d-b18c-0e51c7c06d46",
   "metadata": {
    "editable": true,
    "slideshow": {
     "slide_type": ""
    },
    "tags": [
     "otter_ignore"
    ]
   },
   "outputs": [],
   "source": [
    "interact(plot_generator, col=data);"
   ]
  },
  {
   "cell_type": "markdown",
   "id": "35a1f524-c6e9-428d-bf6d-6170a08b3d88",
   "metadata": {
    "editable": true,
    "slideshow": {
     "slide_type": ""
    },
    "tags": []
   },
   "source": [
    "Let's throw in another toggle as a bonus!"
   ]
  },
  {
   "cell_type": "code",
   "execution_count": null,
   "id": "7ade6b76-e42b-4585-a096-52db8e7fba28",
   "metadata": {
    "editable": true,
    "slideshow": {
     "slide_type": ""
    },
    "tags": [
     "otter_ignore"
    ]
   },
   "outputs": [],
   "source": [
    "display(widgets.interactive(plot_generator, col=widgets.ToggleButtons(options=[\n",
    "    \"Total Property Values\", \"Total Property Value / GDP\", \"Mean Property value\", \"Median Property Value\"])));\n"
   ]
  },
  {
   "cell_type": "markdown",
   "id": "b9d7cc2b",
   "metadata": {
    "deletable": false,
    "editable": false
   },
   "source": [
    "**Question 3.3:** Using the widget that you generate above. Name one country that has both a high total property value invested in Dubai and a high total property value / GDP. What does that potentially imply about income inequality in that country? This is an open-ended question. \n",
    "\n",
    "We are testing autograding written responses only for this question on the lab, please make sure to input your answer in a **string variable provided**."
   ]
  },
  {
   "cell_type": "code",
   "execution_count": null,
   "id": "2280eea4-95a1-442a-be10-35b70bea5cc8",
   "metadata": {
    "otter": {
     "tests": [
      "q3_3"
     ]
    },
    "tags": []
   },
   "outputs": [],
   "source": [
    "q3_3 = ...\n",
    "q3_3"
   ]
  },
  {
   "cell_type": "markdown",
   "id": "1a53537e-1c04-49b6-b530-146fc34c8508",
   "metadata": {},
   "source": [
    "**Congratulations!!** You are done with the lab. Hopefully you enjoyed producing these geospatial visualizations!"
   ]
  },
  {
   "cell_type": "markdown",
   "id": "79428c22",
   "metadata": {
    "deletable": false,
    "editable": false
   },
   "source": [
    "## Submission\n",
    "\n",
    "Make sure you have run all cells in your notebook in order before running the cell below, so that all images/graphs appear in the output. The cell below will generate a zip file for you to submit. **Please save before exporting!**"
   ]
  },
  {
   "cell_type": "code",
   "execution_count": null,
   "id": "af3a3d05",
   "metadata": {
    "deletable": false,
    "editable": false
   },
   "outputs": [],
   "source": [
    "# Save your notebook first, then run this cell to export your submission.\n",
    "grader.export(run_tests=True)"
   ]
  },
  {
   "cell_type": "markdown",
   "id": "c0c588be",
   "metadata": {},
   "source": [
    " "
   ]
  }
 ],
 "metadata": {
  "kernelspec": {
   "display_name": "Python 3 (ipykernel)",
   "language": "python",
   "name": "python3"
  },
  "language_info": {
   "codemirror_mode": {
    "name": "ipython",
    "version": 3
   },
   "file_extension": ".py",
   "mimetype": "text/x-python",
   "name": "python",
   "nbconvert_exporter": "python",
   "pygments_lexer": "ipython3",
   "version": "3.12.7"
  },
  "otter": {
   "OK_FORMAT": true,
   "export_pdf_failure_message": "PDF did not generate, please submit screenshots for questions 2.2, 2.3, 3.2 and 3.3.",
   "require_no_pdf_confirmation": true,
   "tests": {
    "q1_1": {
     "name": "q1_1",
     "points": null,
     "suites": [
      {
       "cases": [
        {
         "code": ">>> assert data.shape == (197, 26)\n",
         "hidden": false,
         "locked": false
        },
        {
         "code": ">>> assert data.index.name == 'Country'\n",
         "hidden": false,
         "locked": false
        }
       ],
       "scored": true,
       "setup": "",
       "teardown": "",
       "type": "doctest"
      }
     ]
    },
    "q1_2": {
     "name": "q1_2",
     "points": 3,
     "suites": [
      {
       "cases": [
        {
         "code": ">>> assert data.shape == (197, 26)\n",
         "failure_message": "You should not modify the shape of this dataframe.",
         "hidden": false,
         "locked": false,
         "points": 0
        },
        {
         "code": ">>> assert np.all(data[['Total Property Values', 'Mean Property value', 'Median Property Value']].dtypes == 'float64')\n",
         "failure_message": "There are some problems with the USD to float conversions.",
         "hidden": false,
         "locked": false,
         "points": 1
        },
        {
         "code": ">>> assert np.all(data[['Total Property Value / GDP', 'Female share', 'Share of total values owned by top 10% owners', 'Share of total values owned by top 10% persons', 'Share of total values owned by top 10% firms', 'Share of total values owned by top 1% owners', 'Share of total values owned by top 1% persons', 'Share of total values owned by top 1% firms']].dtypes == 'float64')\n",
         "failure_message": "There are some problems with the % to float conversions.",
         "hidden": false,
         "locked": false,
         "points": 1
        },
        {
         "code": ">>> assert np.all(data.dtypes == 'float64')\n",
         "hidden": false,
         "locked": false,
         "points": 1
        }
       ],
       "scored": true,
       "setup": "",
       "teardown": "",
       "type": "doctest"
      }
     ]
    },
    "q1_3": {
     "name": "q1_3",
     "points": null,
     "suites": [
      {
       "cases": [
        {
         "code": ">>> assert data.shape == (197, 27)\n",
         "hidden": false,
         "locked": false
        },
        {
         "code": ">>> assert data.loc['Afghanistan', 'Code'] == 'AFG'\n",
         "hidden": false,
         "locked": false
        },
        {
         "code": ">>> assert data.loc['Andorra', 'Code'] == 'AND'\n",
         "hidden": false,
         "locked": false
        },
        {
         "code": ">>> assert data.loc['Antigua & Barbuda', 'Code'] == 'None'\n",
         "hidden": false,
         "locked": false
        }
       ],
       "scored": true,
       "setup": "",
       "teardown": "",
       "type": "doctest"
      }
     ]
    },
    "q1_4": {
     "name": "q1_4",
     "points": null,
     "suites": [
      {
       "cases": [
        {
         "code": ">>> assert data.loc['Antigua & Barbuda', 'Code'] == 'ATG' and data.loc['Brunei', 'Code'] == 'BRN' and (data.loc['Congo, Republic Of', 'Code'] == 'COG') and (data.loc['Czech Republic', 'Code'] == 'CZE') and (data.loc['Iran', 'Code'] == 'IRN') and (data.loc['Ivory Coast', 'Code'] == 'CIV') and (data.loc['Kyrgistan', 'Code'] == 'KGZ') and (data.loc['Macedonia', 'Code'] == 'MKD') and (data.loc['Moldova', 'Code'] == 'MDA') and (data.loc['North Korea', 'Code'] == 'PRK') and (data.loc['Palestine', 'Code'] == 'PSE') and (data.loc['Russia', 'Code'] == 'RUS') and (data.loc['Saint Vincent & The Grenadines', 'Code'] == 'VCT') and (data.loc['South Korea', 'Code'] == 'KOR') and (data.loc['Southern Sudan', 'Code'] == 'SSD') and (data.loc['Syria', 'Code'] == 'SYR') and (data.loc['Taiwan', 'Code'] == 'TWN') and (data.loc['Tanzania', 'Code'] == 'TZA') and (data.loc['Trinidad & Tobago', 'Code'] == 'TTO') and (data.loc['USA', 'Code'] == 'USA') and (data.loc['Venezuela', 'Code'] == 'VEN') and (data.loc['Vietnam', 'Code'] == 'VNM') and (data.loc['Bolivia', 'Code'] == 'BOL') and (data.loc['Democratic Rep, Of Congo', 'Code'] == 'COD') and (data.loc['Turkey', 'Code'] == 'TUR') and (data.loc['Comoros Islands', 'Code'] == 'COM') and (data.loc['British Virgin Islands', 'Code'] == 'VGB')\n",
         "hidden": false,
         "locked": false
        }
       ],
       "scored": true,
       "setup": "",
       "teardown": "",
       "type": "doctest"
      }
     ]
    },
    "q2_1": {
     "name": "q2_1",
     "points": null,
     "suites": [
      {
       "cases": [
        {
         "code": ">>> assert np.all(data['Total Property Value / GDP'].diff()[1:] >= 0)\n",
         "hidden": false,
         "locked": false
        },
        {
         "code": ">>> assert data.loc['Seychelles', 'Rank'] == 4.0\n",
         "hidden": false,
         "locked": false
        }
       ],
       "scored": true,
       "setup": "",
       "teardown": "",
       "type": "doctest"
      }
     ]
    },
    "q2_2": {
     "name": "q2_2",
     "points": null,
     "suites": [
      {
       "cases": [
        {
         "code": ">>> assert fig.layout.geo.projection.type == 'mercator'\n",
         "hidden": false,
         "locked": false
        }
       ],
       "scored": true,
       "setup": "",
       "teardown": "",
       "type": "doctest"
      }
     ]
    },
    "q2_3": {
     "name": "q2_3",
     "points": null,
     "suites": [
      {
       "cases": [
        {
         "code": ">>> assert fig.layout.geo.projection.type == 'orthographic'\n",
         "hidden": false,
         "locked": false
        }
       ],
       "scored": true,
       "setup": "",
       "teardown": "",
       "type": "doctest"
      }
     ]
    },
    "q3_1": {
     "name": "q3_1",
     "points": null,
     "suites": [
      {
       "cases": [
        {
         "code": ">>> assert len(quintiles) == 6\n",
         "hidden": false,
         "locked": false
        },
        {
         "code": ">>> assert np.all(np.diff(quintiles) > 0)\n",
         "hidden": false,
         "locked": false
        }
       ],
       "scored": true,
       "setup": "",
       "teardown": "",
       "type": "doctest"
      }
     ]
    },
    "q3_3": {
     "name": "q3_3",
     "points": 3,
     "suites": [
      {
       "cases": [],
       "scored": true,
       "setup": "",
       "teardown": "",
       "type": "doctest"
      }
     ]
    }
   }
  }
 },
 "nbformat": 4,
 "nbformat_minor": 5
}

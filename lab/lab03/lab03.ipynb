{
 "cells": [
  {
   "cell_type": "code",
   "execution_count": null,
   "metadata": {
    "deletable": false,
    "editable": false
   },
   "outputs": [],
   "source": [
    "# Initialize Otter\n",
    "import otter\n",
    "grader = otter.Notebook(\"lab03.ipynb\")"
   ]
  },
  {
   "cell_type": "code",
   "execution_count": null,
   "metadata": {
    "cell_id": "f57fbd08ba444da1be726932e7c56cd0",
    "deepnote_cell_type": "code",
    "deepnote_to_be_reexecuted": false,
    "execution_millis": 1859,
    "execution_start": 1665542186037,
    "source_hash": "1526b418",
    "tags": []
   },
   "outputs": [],
   "source": [
    "import pandas as pd\n",
    "import numpy as np\n",
    "import plotly.express as px\n",
    "import plotly.graph_objects as go\n",
    "import statsmodels.api as sm\n",
    "from statsmodels.api import OLS\n",
    "import matplotlib.pyplot as plt\n",
    "import seaborn as sns\n",
    "%matplotlib inline"
   ]
  },
  {
   "cell_type": "markdown",
   "metadata": {
    "cell_id": "d81b0734e5a449159737bfd62ad5eba5",
    "deepnote_cell_type": "text-cell-h1",
    "formattedRanges": [],
    "is_collapsed": false,
    "tags": []
   },
   "source": [
    "# Lab 3: Wrangling Survey Data"
   ]
  },
  {
   "cell_type": "markdown",
   "metadata": {
    "cell_id": "37fa7e485e2a4111b76441d847cd4ef5",
    "collapsed": true,
    "deepnote_cell_type": "markdown",
    "jupyter": {
     "outputs_hidden": true
    }
   },
   "source": [
    "This lab uses a real-world dataset from the Rurals Water Project Spring Protection Study, collected by Innovations for Poverty Action in 2008. Professor Van Dusen was working as a Research Manager on the project at the time, and this is some of the follow-up work done after the main study.\n",
    "\n",
    "Part of this study was included in a Journal Article called [_Being Surveyed Can Change Later Behaviour and Related Parameter Estimates_](https://www.pnas.org/doi/epdf/10.1073/pnas.1000776108), published in the Proceedings of the National Academy of Science (PNAS). A summary of the work related to this notebook is contained in this [unpublished draft](https://berkeley.box.com/s/epj41ofw9bph99dim92dsa69gj17puul). \n",
    "\n",
    "In this project, there are two datasets from repeated visits to the same households. One of the datasets is at the household-level, and the other one is at the child-level (where there can be multiple children within a given household). Before embarking on the lab, make sure you understand the overall structure of the [survey](https://berkeley.app.box.com/s/2thnb8dan58o7w44mu9tpk1zy8l4c0no); it will be very helpful."
   ]
  },
  {
   "cell_type": "markdown",
   "metadata": {},
   "source": [
    "### Learning Objectives:\n",
    "- Perform an EDA of the Main Rural Project Spring Protection Study, a real-world developmental economics research project\n",
    "- Understand a complex survey\n",
    "- Understand the Hawthorne effect and finds empirical evidence\n",
    "- Analyzes survey data using Pandas tools we have learned so far"
   ]
  },
  {
   "cell_type": "markdown",
   "metadata": {
    "cell_id": "1de2459aa74e4df8bb7be8416cf03c83",
    "deepnote_cell_type": "text-cell-h2",
    "formattedRanges": [],
    "is_collapsed": false,
    "tags": []
   },
   "source": [
    "---\n",
    "## Phase 1: Explorative Data Analysis (EDA)"
   ]
  },
  {
   "cell_type": "markdown",
   "metadata": {
    "cell_id": "c915d7761d6f41a2a4d1a31dc14eedc3",
    "deepnote_cell_type": "text-cell-p",
    "formattedRanges": [],
    "is_collapsed": false,
    "tags": []
   },
   "source": [
    "Let's start off with loading in the dataset. Similar to many academic datasets, our dataset is stored in a Stata .dta file."
   ]
  },
  {
   "cell_type": "markdown",
   "metadata": {
    "cell_id": "d149b7caacf646f4acbc553a297c867c",
    "deepnote_cell_type": "markdown",
    "deletable": false,
    "editable": false,
    "tags": []
   },
   "source": [
    "**Question 1.1:** Load in the stata dataset `BWM_child_EVDvars.dta` and read it into a Pandas dataframe. Name it `wg_df`.\n",
    "\n",
    "Hint: Check out this [Pandas documentation](https://pandas.pydata.org/docs/user_guide/io.html) to see how to read in different types of files. "
   ]
  },
  {
   "cell_type": "code",
   "execution_count": null,
   "metadata": {
    "cell_id": "82e0c5d23ea94bb9a63433140f844aea",
    "deepnote_cell_type": "code",
    "deepnote_table_loading": false,
    "deepnote_table_state": {
     "filters": [],
     "pageIndex": 0,
     "pageSize": 50,
     "sortBy": []
    },
    "deepnote_to_be_reexecuted": false,
    "execution_millis": 626,
    "execution_start": 1665542191398,
    "source_hash": "4524528f",
    "tags": []
   },
   "outputs": [],
   "source": [
    "wg_df = ...\n",
    "wg_df.head()"
   ]
  },
  {
   "cell_type": "code",
   "execution_count": null,
   "metadata": {
    "deletable": false,
    "editable": false
   },
   "outputs": [],
   "source": [
    "grader.check(\"q1_1\")"
   ]
  },
  {
   "cell_type": "markdown",
   "metadata": {
    "cell_id": "b3c05b6c7e9f492bb2d5ae4a5663609a",
    "deepnote_cell_type": "markdown",
    "deletable": false,
    "editable": false,
    "tags": []
   },
   "source": [
    "**Question 1.2:** Using the `shape` attribute, find the structure of the `wg_df` dataframe. How many rows and columns are there in the dataframe? Assign the values to the corresponding variables `N_rows` and `N_cols`. "
   ]
  },
  {
   "cell_type": "code",
   "execution_count": null,
   "metadata": {
    "cell_id": "56beb7c8b0f34ddb97310633d89e0733",
    "deepnote_cell_type": "code",
    "deepnote_to_be_reexecuted": false,
    "execution_millis": 0,
    "execution_start": 1665438429011,
    "source_hash": "88185275",
    "tags": []
   },
   "outputs": [],
   "source": [
    "N_rows = ...\n",
    "N_cols = ...\n",
    "N_rows, N_cols"
   ]
  },
  {
   "cell_type": "code",
   "execution_count": null,
   "metadata": {
    "deletable": false,
    "editable": false
   },
   "outputs": [],
   "source": [
    "grader.check(\"q1_2\")"
   ]
  },
  {
   "cell_type": "markdown",
   "metadata": {
    "cell_id": "b5137be6e5454c25b9da1c9af9fdca87",
    "deepnote_cell_type": "markdown",
    "tags": []
   },
   "source": [
    "**Granularity**: Now, let's focus on the granularity of the dataset. We define this as the level of aggregation in our data. \n",
    "\n",
    "- For geospatial data, think of data summarized over city, block, street, building, address, room number etc. as increasing level of granularity. \n",
    "\n",
    "- For time series data, granularity could for instance be weekly, daily, hourly averages of a variable. \n",
    "\n",
    "Survey data might be a bit trickier to entangle, but we're certain you got this!"
   ]
  },
  {
   "cell_type": "markdown",
   "metadata": {
    "cell_id": "bb68b9add254475895826bdc093af25c",
    "deepnote_cell_type": "markdown",
    "deletable": false,
    "editable": false,
    "tags": []
   },
   "source": [
    "<!-- BEGIN QUESTION -->\n",
    "\n",
    "**Question 1.3:** What is the granularity of our dataset? Think about what each row represents. Choose 3 arbitrary columns you find interesting and explain how they help you understand the dataset's granularity. One of them should identify the *primary key* of this dataset. (Note that the primary key can be a combination of 2 or more columns.)\n",
    "\n",
    "Hint: You can use [`pandas.Series.value_counts`](https://pandas.pydata.org/docs/reference/api/pandas.Series.value_counts.html) and/or [`pandas.Series.unique`](https://pandas.pydata.org/docs/reference/api/pandas.Series.unique.html)."
   ]
  },
  {
   "cell_type": "markdown",
   "metadata": {},
   "source": [
    "_Type your answer here, replacing this text._"
   ]
  },
  {
   "cell_type": "markdown",
   "metadata": {
    "cell_id": "a212bf0004c644039f757fad64cbc4f1",
    "deepnote_cell_type": "markdown",
    "deletable": false,
    "editable": false,
    "tags": []
   },
   "source": [
    "<!-- END QUESTION -->\n",
    "\n",
    "**Question 1.4** How many unique households and springs are there in this dataset? How many rounds of interviews were held? Assign the values to the corresponding variables. \n",
    "\n",
    "*Hint:* `a1_hh_id` is the household ID. `a2_spring_id` is the spring ID. `bwm_round` specifies the round of interview. "
   ]
  },
  {
   "cell_type": "code",
   "execution_count": null,
   "metadata": {
    "cell_id": "d6752dbf90e541f68996160aae6acbc0",
    "deepnote_cell_type": "code",
    "deepnote_to_be_reexecuted": false,
    "execution_millis": 0,
    "execution_start": 1665438457347,
    "source_hash": "88185275",
    "tags": []
   },
   "outputs": [],
   "source": [
    "num_households = ...\n",
    "num_springs = ...\n",
    "num_interview_rounds = ...\n",
    "\n",
    "print('Households: ', num_households)\n",
    "print('Springs: ', num_springs)\n",
    "print('Interview Rounds: ', num_interview_rounds)"
   ]
  },
  {
   "cell_type": "code",
   "execution_count": null,
   "metadata": {
    "deletable": false,
    "editable": false
   },
   "outputs": [],
   "source": [
    "grader.check(\"q1_4\")"
   ]
  },
  {
   "cell_type": "markdown",
   "metadata": {
    "cell_id": "b7752fad123a4d05832932de2b7d1612",
    "deepnote_cell_type": "text-cell-h2",
    "formattedRanges": [],
    "is_collapsed": false,
    "tags": []
   },
   "source": [
    "---\n",
    "## Phase 2: Understanding the Survey"
   ]
  },
  {
   "cell_type": "markdown",
   "metadata": {
    "cell_id": "0c459e739b0e4118884087d8a51f24d0",
    "deepnote_cell_type": "text-cell-p",
    "formattedRanges": [],
    "is_collapsed": false,
    "tags": []
   },
   "source": [
    "Our EDA in Phase 1 helped us understand the general structure of the data. Now, turn to the [survey PDF](https://berkeley.app.box.com/s/2thnb8dan58o7w44mu9tpk1zy8l4c0no). Glance over it and try to put yourself in the shoes of the interviewer and answer the questions below. Throughout this lab, you might find it helpful to refer to [Appendix 1](#appendix_1) which connect the relevant survey sections with columns in our dataset."
   ]
  },
  {
   "cell_type": "markdown",
   "metadata": {
    "cell_id": "07d02eac590e42408e429f0e4929b677",
    "deepnote_cell_type": "text-cell-p",
    "deletable": false,
    "editable": false,
    "formattedRanges": [
     {
      "fromCodePoint": 0,
      "marks": {
       "bold": true
      },
      "toCodePoint": 13,
      "type": "marks"
     }
    ],
    "is_collapsed": false,
    "tags": []
   },
   "source": [
    "<!-- BEGIN QUESTION -->\n",
    "\n",
    "**Question 2.1:** What are the main parts of the survey? In this question, list out only the sections A, D, E, and G denoted by a letter and explain in 1 sentence what you believe to be its significance. We'll start you off with two:\n",
    "\n",
    "- Section A: Introduction with general respondent and interview round information and consent. "
   ]
  },
  {
   "cell_type": "markdown",
   "metadata": {},
   "source": [
    "_Type your answer here, replacing this text._"
   ]
  },
  {
   "cell_type": "markdown",
   "metadata": {
    "cell_id": "5f3b55d34ddb445d93693f3552816ead",
    "deepnote_cell_type": "text-cell-p",
    "deletable": false,
    "editable": false,
    "formattedRanges": [
     {
      "fromCodePoint": 0,
      "marks": {
       "bold": true
      },
      "toCodePoint": 14,
      "type": "marks"
     }
    ],
    "is_collapsed": false,
    "tags": []
   },
   "source": [
    "<!-- END QUESTION -->\n",
    "\n",
    "<!-- BEGIN QUESTION -->\n",
    "\n",
    "**Question 2.2:** Outside of the paper's \"sphere of research interest\", what would be interesting datapoints to analyse further? This is an open-ended question, and we suggest you form a short research question and how you would use the data from the survey."
   ]
  },
  {
   "cell_type": "markdown",
   "metadata": {},
   "source": [
    "_Type your answer here, replacing this text._"
   ]
  },
  {
   "cell_type": "markdown",
   "metadata": {
    "cell_id": "78528126e233421aa3b567fd74af3d06",
    "deepnote_cell_type": "text-cell-h2",
    "deletable": false,
    "editable": false,
    "formattedRanges": [],
    "is_collapsed": false,
    "tags": []
   },
   "source": [
    "<!-- END QUESTION -->\n",
    "\n",
    "---\n",
    "## Phase 3: Analyzing Disease Prevalence Across Survey Rounds"
   ]
  },
  {
   "cell_type": "markdown",
   "metadata": {
    "cell_id": "ddd9f2c9d019460d93ef0cd9ae813fb6",
    "deepnote_cell_type": "text-cell-p",
    "formattedRanges": [],
    "is_collapsed": false,
    "tags": []
   },
   "source": [
    "As we've learned from our EDA and analyzing the survey itself, we understand that our dataset is the result of a series of survey rounds (20 in total). A series of households were interviewed, asked primarily about the general health condition of children in the household over the past week. If a child was ill on the survey day, it was examined further for the symptoms of diarrhea. We now direct our focus to the result of **section D: The Health History tables** (starting Page 7 in the [survey](https://berkeley.app.box.com/s/2thnb8dan58o7w44mu9tpk1zy8l4c0no)) - one filled out for each child in the household per survey round. During the following questions, we suggest you **keep a close eye on the survey.**"
   ]
  },
  {
   "cell_type": "markdown",
   "metadata": {
    "cell_id": "8329f75799594c009476bc3bd9e379f3",
    "deepnote_cell_type": "text-cell-p",
    "deletable": false,
    "editable": false,
    "formattedRanges": [
     {
      "fromCodePoint": 0,
      "marks": {
       "bold": true
      },
      "toCodePoint": 14,
      "type": "marks"
     },
     {
      "fromCodePoint": 123,
      "ranges": [],
      "toCodePoint": 132,
      "type": "link",
      "url": "https://plotly.com/python/bar-charts/"
     }
    ],
    "is_collapsed": false,
    "tags": []
   },
   "source": [
    "**Question 3.1:** How many households were surveyed each round? Assign the result to a dataframe `grouped_by_round` with only two columns `bwm_round` and `count`. For now, exclude the survey rounds denoted 99 and 161."
   ]
  },
  {
   "cell_type": "code",
   "execution_count": null,
   "metadata": {
    "cell_id": "42426e3ef70f4d57b4bb9c2ee2ad059b",
    "deepnote_cell_type": "code",
    "deepnote_table_loading": false,
    "deepnote_table_state": {
     "filters": [],
     "pageIndex": 0,
     "pageSize": 25,
     "sortBy": []
    },
    "deepnote_to_be_reexecuted": false,
    "execution_millis": 2439,
    "execution_start": 1665542206422,
    "scrolled": true,
    "source_hash": "56c0a989",
    "tags": []
   },
   "outputs": [],
   "source": [
    "relevant_rounds = ...\n",
    "grouped_by_round = ...\n",
    "grouped_by_round.head()"
   ]
  },
  {
   "cell_type": "code",
   "execution_count": null,
   "metadata": {
    "deletable": false,
    "editable": false
   },
   "outputs": [],
   "source": [
    "grader.check(\"q3_1\")"
   ]
  },
  {
   "cell_type": "markdown",
   "metadata": {},
   "source": [
    "We can plot the data using a bar chart, as done below."
   ]
  },
  {
   "cell_type": "code",
   "execution_count": null,
   "metadata": {},
   "outputs": [],
   "source": [
    "plt.bar(grouped_by_round.index,grouped_by_round['count']);\n",
    "plt.xlabel(\"Round Index\")\n",
    "plt.ylabel(\"# Households Surveyed\");"
   ]
  },
  {
   "cell_type": "markdown",
   "metadata": {
    "cell_id": "65097737f9a0404ca98708150f08fd96",
    "deepnote_cell_type": "text-cell-p",
    "deletable": false,
    "editable": false,
    "formattedRanges": [
     {
      "fromCodePoint": 0,
      "marks": {
       "bold": true
      },
      "toCodePoint": 14,
      "type": "marks"
     }
    ],
    "is_collapsed": false,
    "tags": []
   },
   "source": [
    "<!-- BEGIN QUESTION -->\n",
    "\n",
    "**Question 3.2**: Discuss the plot and describe one potential cause for the variation in the number of participating households across rounds. "
   ]
  },
  {
   "cell_type": "markdown",
   "metadata": {},
   "source": [
    "_Type your answer here, replacing this text._"
   ]
  },
  {
   "cell_type": "markdown",
   "metadata": {
    "cell_id": "df395a4f2d1f4fe08fed332b964bae7a",
    "deepnote_cell_type": "text-cell-p",
    "deletable": false,
    "editable": false,
    "formattedRanges": [
     {
      "fromCodePoint": 0,
      "marks": {
       "bold": true
      },
      "toCodePoint": 47,
      "type": "marks"
     },
     {
      "fromCodePoint": 369,
      "ranges": [],
      "toCodePoint": 389,
      "type": "link",
      "url": "https://en.wikipedia.org/wiki/Hawthorne_effect"
     }
    ],
    "is_collapsed": false,
    "tags": []
   },
   "source": [
    "<!-- END QUESTION -->\n",
    "\n",
    "#### Rounds 99 and 161\n",
    "\n",
    "During the survey, a decision was made to survey an additional set of households that were not being surveyed as frequently. Round 99 happened at the same time as round 9 as a new control group of households, and round 161 happened at the same time as round 16.\n",
    "\n",
    "In other words, the researchers added a control group that was \"less frequently surveyed\". These households reported much higher diarrhea prevalence. We later use these extra-rounds to quantify the [Hawthorne effect](https://en.wikipedia.org/wiki/Hawthorne_effect) discussed in lecture."
   ]
  },
  {
   "cell_type": "markdown",
   "metadata": {
    "cell_id": "22f274cc0a594814bc84773ce4234398",
    "deepnote_cell_type": "text-cell-p",
    "deletable": false,
    "editable": false,
    "formattedRanges": [
     {
      "fromCodePoint": 0,
      "marks": {
       "bold": true
      },
      "toCodePoint": 14,
      "type": "marks"
     }
    ],
    "is_collapsed": false,
    "tags": []
   },
   "source": [
    "**Question 3.3**: We now turn our attention to the variable of interest: The 7-day recall variable for diarrhea in the past week, denoted `d6a1_7dd_n` in the dataset. It is a binary categorical variable: 1 if a surveyed child in a given household had diarrhea the past 7 days, 0 if not. In the code cell below, generate a **Series** with the number of households that did/didn't have children with diarrhea in the past 7 days.\n",
    "\n",
    "Hint: One way to generate a series is to use `.groupby` and attach a relevant function. "
   ]
  },
  {
   "cell_type": "code",
   "execution_count": null,
   "metadata": {
    "cell_id": "70e32d90c99745c3a8e67017297780af",
    "deepnote_cell_type": "code",
    "deepnote_to_be_reexecuted": false,
    "execution_millis": 42,
    "execution_start": 1665543337387,
    "source_hash": "193aa973",
    "tags": []
   },
   "outputs": [],
   "source": [
    "diarrhea_groups = ...\n",
    "diarrhea_groups"
   ]
  },
  {
   "cell_type": "code",
   "execution_count": null,
   "metadata": {
    "deletable": false,
    "editable": false
   },
   "outputs": [],
   "source": [
    "grader.check(\"q3_3\")"
   ]
  },
  {
   "cell_type": "markdown",
   "metadata": {},
   "source": [
    "We plot the data using a bar chart once again."
   ]
  },
  {
   "cell_type": "code",
   "execution_count": null,
   "metadata": {},
   "outputs": [],
   "source": [
    "ax = sns.barplot(x=diarrhea_groups.index, y=diarrhea_groups.values);\n",
    "ax.set(xlabel='Child had diarrhea in the past 7 days (Binary)', ylabel='Number of households', \n",
    "       title='Prevalence of diarrhea across children in past 7 days');"
   ]
  },
  {
   "cell_type": "code",
   "execution_count": null,
   "metadata": {},
   "outputs": [],
   "source": [
    "data = {\n",
    "    'bwm_round': [1, 1, 2, 2, 3, 3],\n",
    "    'd6a1_7dd_n': [0.0, 1.0, 0.0, 1.0, 0.0, 1.0],\n",
    "    'count': [292, 85, 332, 41, 329, 46]\n",
    "}\n",
    "samp_df = pd.DataFrame(data)\n",
    "samp_df"
   ]
  },
  {
   "cell_type": "markdown",
   "metadata": {
    "cell_id": "b935c4eb6cbe409ebcce730f0484cbe1",
    "deepnote_cell_type": "text-cell-p",
    "deletable": false,
    "editable": false,
    "formattedRanges": [
     {
      "fromCodePoint": 0,
      "marks": {
       "bold": true
      },
      "toCodePoint": 14,
      "type": "marks"
     }
    ],
    "is_collapsed": false,
    "tags": []
   },
   "source": [
    "**Question 3.4**: How does our variable of interest,`d6a1_7dd_n`, change across survey rounds? In the code cell below, make a data frame that has the number of reported cases of diarrhea and number of cases of no diarrhea across each round. The first few rows of the output have been given below to serve as an example, please DO NOT hard code in your dataframe."
   ]
  },
  {
   "cell_type": "code",
   "execution_count": null,
   "metadata": {
    "cell_id": "33ce67826a224154b321bed17ee1511e",
    "deepnote_cell_type": "code",
    "deepnote_to_be_reexecuted": false,
    "execution_millis": 1027,
    "execution_start": 1665543430084,
    "source_hash": "874f80b0",
    "tags": []
   },
   "outputs": [],
   "source": [
    "wg_plot_df = ...\n",
    "...\n",
    "wg_plot_df.head(6)"
   ]
  },
  {
   "cell_type": "code",
   "execution_count": null,
   "metadata": {
    "deletable": false,
    "editable": false
   },
   "outputs": [],
   "source": [
    "grader.check(\"q3_4\")"
   ]
  },
  {
   "cell_type": "markdown",
   "metadata": {},
   "source": [
    "Now, as we're visualizing change over time, we plot the data using a line plot."
   ]
  },
  {
   "cell_type": "code",
   "execution_count": null,
   "metadata": {},
   "outputs": [],
   "source": [
    "ax = sns.lineplot(data=wg_plot_df,x='bwm_round', y='count', hue='d6a1_7dd_n');\n",
    "plt.legend(title='Diarrhea Reported')\n",
    "ax.set(xlabel='Round Number', ylabel='# of Households', \n",
    "       title='Households Reporting Child Diarrhea in Last 7 days across All Survey Rounds');"
   ]
  },
  {
   "cell_type": "markdown",
   "metadata": {
    "cell_id": "f2b89fc0-f01a-4e95-947b-7d3a405709e1",
    "deepnote_cell_type": "text-cell-p",
    "deletable": false,
    "editable": false,
    "formattedRanges": [
     {
      "fromCodePoint": 0,
      "marks": {
       "bold": true
      },
      "toCodePoint": 14,
      "type": "marks"
     }
    ],
    "is_collapsed": false,
    "tags": []
   },
   "source": [
    "<!-- BEGIN QUESTION -->\n",
    "\n",
    "**Question 3.5**: Do you observe any particular trends in the reported past 7-day prevalence of child diarrhea across the survey rounds? Think of how its prevalence changes relative to previous survey rounds. Furthermore, discuss potential reasons for the trends you are observing."
   ]
  },
  {
   "cell_type": "markdown",
   "metadata": {},
   "source": [
    "_Type your answer here, replacing this text._"
   ]
  },
  {
   "cell_type": "markdown",
   "metadata": {
    "cell_id": "50f0a76751bd4870a352289d69e8ad02",
    "deepnote_cell_type": "text-cell-p",
    "deletable": false,
    "editable": false,
    "formattedRanges": [
     {
      "fromCodePoint": 0,
      "marks": {
       "bold": true
      },
      "toCodePoint": 14,
      "type": "marks"
     }
    ],
    "is_collapsed": false,
    "tags": []
   },
   "source": [
    "<!-- END QUESTION -->\n",
    "\n",
    "**Question 3.6**: Let's dive deeper into the trends we're observing here. Obtain the *proportion* of households reporting child diarrhea across the survey rounds and store it in `wg_plot_df_mean`. The resulting dataframe should have the `bwm_round` as the index and only 1 column `proportion`, representing the proportion of households reporting child diarrhea in that survey round.\n"
   ]
  },
  {
   "cell_type": "code",
   "execution_count": null,
   "metadata": {
    "cell_id": "f81fc4eaaeea4266b4a81aa47135bf6e",
    "deepnote_cell_type": "code",
    "deepnote_to_be_reexecuted": false,
    "execution_millis": 48,
    "execution_start": 1665546212492,
    "source_hash": "67d3e726",
    "tags": []
   },
   "outputs": [],
   "source": [
    "wg_plot_df_mean = \n",
    "...\n",
    "wg_plot_df_mean"
   ]
  },
  {
   "cell_type": "code",
   "execution_count": null,
   "metadata": {
    "deletable": false,
    "editable": false
   },
   "outputs": [],
   "source": [
    "grader.check(\"q3_6\")"
   ]
  },
  {
   "cell_type": "markdown",
   "metadata": {},
   "source": [
    "The following code blocks are provided for visualization of the tables that you just computed. "
   ]
  },
  {
   "cell_type": "code",
   "execution_count": null,
   "metadata": {},
   "outputs": [],
   "source": [
    "ax = sns.lineplot(x=wg_plot_df_mean.index, y=wg_plot_df_mean['proportion']);\n",
    "ax.set(xlabel='Round Number', ylabel='Prevalence among Households', \n",
    "       title='Proportion of Households Reporting Child Diarrhea across All Survey Rounds');"
   ]
  },
  {
   "cell_type": "markdown",
   "metadata": {
    "cell_id": "177a44cfc12742ad96396a902584e627",
    "deepnote_cell_type": "text-cell-p",
    "formattedRanges": [
     {
      "fromCodePoint": 0,
      "marks": {
       "bold": true
      },
      "toCodePoint": 14,
      "type": "marks"
     },
     {
      "fromCodePoint": 113,
      "ranges": [],
      "toCodePoint": 124,
      "type": "link",
      "url": "https://realpython.com/iterate-through-dictionary-python/"
     }
    ],
    "is_collapsed": false,
    "tags": []
   },
   "source": [
    "Now, we will apply the function on a dictionary of diseases already prepared for you. This will generate 5 line plots that describe the average proportion of households reporting a certain disease over the survey rounds."
   ]
  },
  {
   "cell_type": "code",
   "execution_count": null,
   "metadata": {
    "cell_id": "807fcbc80bf543cd9b639cda1c571409",
    "deepnote_cell_type": "code",
    "deepnote_to_be_reexecuted": false,
    "execution_millis": 119,
    "execution_start": 1665543599136,
    "source_hash": "601b801f",
    "tags": []
   },
   "outputs": [],
   "source": [
    "\"\"\"\n",
    "Takes in the condition column and actual name. Outputs plots of average prevalence of \n",
    "condition across survey rounds. \n",
    "\"\"\"\n",
    "def prevalence_plotter(df, condition_column, condition_name):\n",
    "\n",
    "    plot_df_mean = df.groupby('bwm_round')[[condition_column]].mean() # SOLUTION\n",
    "    \n",
    "    title_string = f\"Average proportion of households reporting {condition_name} in survey round\"\n",
    "    ax = sns.lineplot(x=plot_df_mean.index, y=plot_df_mean[condition_column]);\n",
    "    ax.set(title=title_string);\n",
    "\n",
    "prevalence_plotter(relevant_rounds, 'd6a1_7dd_n', 'Diarrhea')\n",
    "\n",
    "conditions = {\n",
    "'d6d1_7dc_n' : 'Cough',\n",
    "'d7d2_7dcn_n' : 'Chest Noise',\n",
    "'d6b_7day_fever_n' : 'Fever',\n",
    "'d6c_7day_vomiting_n':'Vomiting'}\n",
    "\n",
    "for condition_column, condition_name in conditions.items():\n",
    "    prevalence_plotter(relevant_rounds, condition_column, condition_name)\n"
   ]
  },
  {
   "cell_type": "markdown",
   "metadata": {
    "cell_id": "51ce5a7c28164f669479d75a4503b7c5",
    "deepnote_cell_type": "text-cell-p",
    "deletable": false,
    "editable": false,
    "formattedRanges": [
     {
      "fromCodePoint": 0,
      "marks": {
       "bold": true
      },
      "toCodePoint": 15,
      "type": "marks"
     }
    ],
    "is_collapsed": false,
    "tags": []
   },
   "source": [
    "<!-- BEGIN QUESTION -->\n",
    "\n",
    "**Question 3.7**: Choose one of the plots above and thoroughly reflect on a set of observations in a few sentences. Can you think of why disease prevalence is steadily declining as the number of survey rounds increase? And, what could have caused the sudden uptick in the last rounds? (Hint: Revisit the lecture slides)."
   ]
  },
  {
   "cell_type": "markdown",
   "metadata": {},
   "source": [
    "_Type your answer here, replacing this text._"
   ]
  },
  {
   "cell_type": "markdown",
   "metadata": {
    "cell_id": "626ab94be7a143aeb6e4445186cb09d2",
    "deepnote_cell_type": "text-cell-h2",
    "deletable": false,
    "editable": false,
    "formattedRanges": [],
    "is_collapsed": false,
    "tags": []
   },
   "source": [
    "<!-- END QUESTION -->\n",
    "\n",
    "---\n",
    "## Phase 4: Analyzing the Hawthorne Effect"
   ]
  },
  {
   "cell_type": "markdown",
   "metadata": {
    "cell_id": "a95633c28f6748559cc06a94dadc9373",
    "deepnote_cell_type": "text-cell-p",
    "formattedRanges": [
     {
      "fromCodePoint": 65,
      "ranges": [],
      "toCodePoint": 81,
      "type": "link",
      "url": "https://en.wikipedia.org/wiki/Hawthorne_effect"
     },
     {
      "fromCodePoint": 298,
      "ranges": [],
      "toCodePoint": 316,
      "type": "link",
      "url": "https://www.collinsdictionary.com/us/dictionary/english/hawthorne-effect"
     }
    ],
    "is_collapsed": false,
    "tags": []
   },
   "source": [
    "In this phase of the project we seek to analyze and quantify the [Hawthorne effect](https://en.wikipedia.org/wiki/Hawthorne_effect) mentioned in lecture. In general terms, it is a positive change in the performance of a group of persons taking part in an experiment or study due to their perception of being singled out for special consideration (Collins Dictionary). In our context, we define it as the decrease in disease prevalence attributed to the mere fact that households are *aware of themselves being surveyed.* Let's see if we can put a number to it!"
   ]
  },
  {
   "cell_type": "markdown",
   "metadata": {
    "cell_id": "f61caae95ccb41598b1a392f29f6c9eb",
    "deepnote_cell_type": "text-cell-p",
    "deletable": false,
    "editable": false,
    "formattedRanges": [
     {
      "fromCodePoint": 0,
      "marks": {
       "bold": true
      },
      "toCodePoint": 14,
      "type": "marks"
     }
    ],
    "is_collapsed": false,
    "tags": []
   },
   "source": [
    "**Question 4.1**: Obtain the proportion of households with reported diarrhea from rounds \"99\" and \"161\", similar to the output of question 3.6. Store the results in the dataframe `special_proportions`."
   ]
  },
  {
   "cell_type": "code",
   "execution_count": null,
   "metadata": {
    "cell_id": "51e8cabe2dba436cb9131fbe2b71e0c2",
    "deepnote_cell_type": "code",
    "deepnote_to_be_reexecuted": false,
    "execution_millis": 17,
    "execution_start": 1665547681930,
    "source_hash": "cdf60d4c",
    "tags": []
   },
   "outputs": [],
   "source": [
    "special_proportions = ...\n",
    "special_proportions.head()"
   ]
  },
  {
   "cell_type": "code",
   "execution_count": null,
   "metadata": {
    "deletable": false,
    "editable": false
   },
   "outputs": [],
   "source": [
    "grader.check(\"q4_1\")"
   ]
  },
  {
   "cell_type": "markdown",
   "metadata": {},
   "source": [
    "Let's plot the results you got on the line plot from question 3.7."
   ]
  },
  {
   "cell_type": "code",
   "execution_count": null,
   "metadata": {},
   "outputs": [],
   "source": [
    "special_proportions_plot = special_proportions.copy()\n",
    "special_proportions_plot[\"bwm_round\"] = np.array([9, 16])\n",
    "\n",
    "fig, ax = plt.subplots()\n",
    "sns.lineplot(x=wg_plot_df_mean.index, y=wg_plot_df_mean['proportion'], ax=ax)\n",
    "sns.scatterplot(data=special_proportions_plot, x='bwm_round', y='proportion', ax=ax,color='red');\n",
    "ax.set(title='Average Proportion of Households Reporting Child Diarrhea Last 7 days across All Survey Rounds',\n",
    "      xlabel='Round Number', ylabel='Proportion of Households');"
   ]
  },
  {
   "cell_type": "markdown",
   "metadata": {
    "cell_id": "87098a45c6a1457697a0bd707cbcb9e4",
    "deepnote_cell_type": "text-cell-p",
    "deletable": false,
    "editable": false,
    "formattedRanges": [
     {
      "fromCodePoint": 0,
      "marks": {
       "bold": true
      },
      "toCodePoint": 14,
      "type": "marks"
     }
    ],
    "is_collapsed": false,
    "tags": []
   },
   "source": [
    "<!-- BEGIN QUESTION -->\n",
    "\n",
    "**Question 4.2**: Look at the graph above. The red points are the corresponding control groups 99 and 161. How different are these from the normal group quantitatively? (Feel free to just eyeball it or write some code) Are you surprised by your findings? "
   ]
  },
  {
   "cell_type": "markdown",
   "metadata": {},
   "source": [
    "_Type your answer here, replacing this text._"
   ]
  },
  {
   "cell_type": "markdown",
   "metadata": {
    "deletable": false,
    "editable": false
   },
   "source": [
    "<!-- END QUESTION -->\n",
    "\n",
    "---\n",
    "## Phase 5: Analyzing WaterGuard Usage"
   ]
  },
  {
   "cell_type": "markdown",
   "metadata": {},
   "source": [
    "Now, let's turn our attention to the effect of [WaterGuard](https://www.engineeringforchange.org/solutions/product/waterguard/) usage on disease prevalence across households."
   ]
  },
  {
   "cell_type": "markdown",
   "metadata": {
    "deletable": false,
    "editable": false
   },
   "source": [
    "**Question 5.1**: Read in the `BWM_HH_EVDvars.dta` dataset and convert it into a dataframe. "
   ]
  },
  {
   "cell_type": "code",
   "execution_count": null,
   "metadata": {
    "tags": []
   },
   "outputs": [],
   "source": [
    "hh_wg = ...\n",
    "hh_wg.head()"
   ]
  },
  {
   "cell_type": "code",
   "execution_count": null,
   "metadata": {
    "deletable": false,
    "editable": false
   },
   "outputs": [],
   "source": [
    "grader.check(\"q5_1\")"
   ]
  },
  {
   "cell_type": "markdown",
   "metadata": {
    "deletable": false,
    "editable": false
   },
   "source": [
    "<!-- BEGIN QUESTION -->\n",
    "\n",
    "**Question 5.2**: What does each row of `hh_wg` contain? What does it say about the granularity (or the level of aggregation)? How does it compare to the dataframe used in phase 1-4?"
   ]
  },
  {
   "cell_type": "markdown",
   "metadata": {},
   "source": [
    "_Type your answer here, replacing this text._"
   ]
  },
  {
   "cell_type": "markdown",
   "metadata": {
    "deletable": false,
    "editable": false
   },
   "source": [
    "<!-- END QUESTION -->\n",
    "\n",
    "**Question 5.3:** How many households appear in each survey round? \n",
    "\n",
    "Hint: The resulting dataframe should have two columns `bwm_round` and `a1_hh_id`. "
   ]
  },
  {
   "cell_type": "code",
   "execution_count": null,
   "metadata": {
    "cell_id": "cdd8ac235553451982b6f37c57e04406",
    "deepnote_cell_type": "code",
    "deepnote_to_be_reexecuted": true,
    "execution_millis": 2210,
    "execution_start": 1665125882290,
    "source_hash": "c69669a2",
    "tags": []
   },
   "outputs": [],
   "source": [
    "hh_round = ...\n",
    "hh_round.head()"
   ]
  },
  {
   "cell_type": "code",
   "execution_count": null,
   "metadata": {
    "deletable": false,
    "editable": false
   },
   "outputs": [],
   "source": [
    "grader.check(\"q5_3\")"
   ]
  },
  {
   "cell_type": "markdown",
   "metadata": {
    "deletable": false,
    "editable": false
   },
   "source": [
    "**Question 5.4:** In each round, how many households have validated usage of WaterGuard? \n",
    "\n",
    "Hint: The column with the obscure name of `G5XH5` might be of interest to you - it's a dummy variable for validated WG usage! \n",
    "The resulting dataframe should have three columns: `bwm_round`, `Validated WaterGuard Usage` and `Count`."
   ]
  },
  {
   "cell_type": "code",
   "execution_count": null,
   "metadata": {
    "tags": []
   },
   "outputs": [],
   "source": [
    "hh_round_vld = ...\n",
    "hh_round_vld.head()"
   ]
  },
  {
   "cell_type": "code",
   "execution_count": null,
   "metadata": {
    "deletable": false,
    "editable": false
   },
   "outputs": [],
   "source": [
    "grader.check(\"q5_4\")"
   ]
  },
  {
   "cell_type": "markdown",
   "metadata": {},
   "source": [
    "Now we turn to a truly interesting part of the survey: How does the promotion of WaterGuard affect the actual use of the product? You might have noticed the `assign_wg` column in both of our datasets: This denotes whether or not a given household has been promoted WG as a product. Promotion includes free samples, encouragement scripts, and follow-ups on water quality. The encoding is as follows: \n",
    "\n",
    "- `assign_wg` = 0 is a control household with no WG Promotion.\n",
    "- `assign_wg` = 1 is a household with WG Promotion."
   ]
  },
  {
   "cell_type": "markdown",
   "metadata": {},
   "source": [
    "Here's an example of how a household with WG promotion looks like across all survey rounds:  "
   ]
  },
  {
   "cell_type": "code",
   "execution_count": null,
   "metadata": {},
   "outputs": [],
   "source": [
    "hh_wg[hh_wg['a1_hh_id']== 872002][['bwm_round', 'assign_wg']]"
   ]
  },
  {
   "cell_type": "markdown",
   "metadata": {
    "deletable": false,
    "editable": false
   },
   "source": [
    "**Question 5.5:** Select the `bwm_round`, `G5XH5`, `assign_wg` columns from our `hh_wg` dataset. Then rename `G5XH5` as `validated_wg` and `assign_wg` as `promoted_wg`, respectively. Only include the normal survey rounds (i.e. not including rounds 99 and 161). Assign your results to `df_55`."
   ]
  },
  {
   "cell_type": "code",
   "execution_count": null,
   "metadata": {
    "tags": []
   },
   "outputs": [],
   "source": [
    "df_55 = hh_wg[...][[...]]\n",
    "df_55 = df_55.rename({...}, axis=1)\n",
    "df_55"
   ]
  },
  {
   "cell_type": "code",
   "execution_count": null,
   "metadata": {
    "deletable": false,
    "editable": false
   },
   "outputs": [],
   "source": [
    "grader.check(\"q5_5\")"
   ]
  },
  {
   "cell_type": "markdown",
   "metadata": {
    "deletable": false,
    "editable": false
   },
   "source": [
    "**Question 5.6:** How does validated Waterguard usage vary in our treatment and control groups across all survey rounds? Use `df_55` to find out the average proportion of households with validated WG usage per round for the treatment and control group respectively. Your resulting dataframe should have 3 columns: `bwm_round` (round number), `promoted_wg` (binary column indicating treatment or control group), and `proportion` (proportion of households using waterguard for the treatment/control group in that round). Assign your results to `df_56`."
   ]
  },
  {
   "cell_type": "code",
   "execution_count": null,
   "metadata": {
    "tags": []
   },
   "outputs": [],
   "source": [
    "df_56 = ...\n",
    "...\n",
    "df_56.head()"
   ]
  },
  {
   "cell_type": "code",
   "execution_count": null,
   "metadata": {
    "deletable": false,
    "editable": false
   },
   "outputs": [],
   "source": [
    "grader.check(\"q5_6\")"
   ]
  },
  {
   "cell_type": "markdown",
   "metadata": {},
   "source": [
    "We plot the data below."
   ]
  },
  {
   "cell_type": "code",
   "execution_count": null,
   "metadata": {},
   "outputs": [],
   "source": [
    "ax = sns.lineplot(data=df_56,x='bwm_round', y='proportion', hue='promoted_wg');\n",
    "plt.legend(title='Treatment Group')\n",
    "ax.set(xlabel='Round Number', ylabel='Proportion of WaterGuard Usage', \n",
    "       title='Validated WaterGuard Usage for Treatment vs Control Groups across different rounds');"
   ]
  },
  {
   "cell_type": "markdown",
   "metadata": {
    "deletable": false,
    "editable": false
   },
   "source": [
    "**Question 5.7:** Does the plot above surprise you? Did you expect the effect of WG promotion to be larger, smaller, or follow another trend curve than what we witness above? (2-3 sentences should suffice.)"
   ]
  },
  {
   "cell_type": "markdown",
   "metadata": {},
   "source": [
    "___\n",
    "## Congratulations!"
   ]
  },
  {
   "cell_type": "markdown",
   "metadata": {},
   "source": [
    "You just finished the longest lab in Econ 148. Give yourself a clap on the shoulder and sit back and appreciate your following accomplishments:\n",
    "\n",
    "- You performed a stellar EDA of the Main Rural Project Spring Protection Study, a real-world dev-econ project!\n",
    "- You delved deep into a truly complex survey, and put yourself into the situation of both the interviewer and the one being interviewed!\n",
    "- With your understanding of the survey, you analysed the prevalence of 5 serious diseases across 2000+ households, and even built a function to do so!\n",
    "- You understood and analysed the Hawthorne effect, and managed to quanitfy the extent to which it was present in our study data.\n",
    "- You set yourself up for a further analysis of diarrhea prevalence through examining the usage and promotion of WaterGuard.\n",
    "- And much more!\n",
    "What a lab!"
   ]
  },
  {
   "cell_type": "markdown",
   "metadata": {
    "cell_id": "fa6d783abc76450881dd94c37c9a4451",
    "deepnote_cell_type": "text-cell-h2",
    "formattedRanges": [],
    "is_collapsed": false,
    "tags": []
   },
   "source": [
    "<a id='appendix_1'></a>\n",
    "## Appendix 1: Relevant Column Sections"
   ]
  },
  {
   "cell_type": "markdown",
   "metadata": {
    "cell_id": "0a62755437b1452a8316af391e0d6544",
    "deepnote_cell_type": "text-cell-p",
    "formattedRanges": [
     {
      "fromCodePoint": 0,
      "marks": {
       "bold": true
      },
      "toCodePoint": 57,
      "type": "marks"
     }
    ],
    "is_collapsed": false,
    "tags": []
   },
   "source": [
    "Columns to register children born within the past 2 weeks"
   ]
  },
  {
   "cell_type": "markdown",
   "metadata": {
    "cell_id": "df7c3cc1cd46482f8bcfc69a2c6450e5",
    "deepnote_cell_type": "text-cell-bullet",
    "formattedRanges": [],
    "is_collapsed": false,
    "tags": []
   },
   "source": [
    "- 'c3_1_child_id',\n",
    " 'c3_2a_name1',\n",
    " 'c3_2b_name2',\n",
    " 'c3_3_gender',\n",
    " 'c3_4_doa_day',\n",
    " 'c3_4_doa_month',\n",
    " 'c3_4_doa_year',\n",
    " 'c3_5_dob_day',\n",
    " 'c3_5_dob_month',\n",
    " 'c3_5_dob_year',\n",
    " 'c3_6_age_months',\n",
    " 'c3_6_age_weeks',\n",
    " 'c3_6_age_years',\n",
    " 'c3_7_verified',\n",
    " 'c3_7_verified_other',"
   ]
  },
  {
   "cell_type": "markdown",
   "metadata": {
    "cell_id": "4756d49c85564fdb88b5ede882c6f99e",
    "deepnote_cell_type": "text-cell-p",
    "formattedRanges": [
     {
      "fromCodePoint": 0,
      "marks": {
       "bold": true
      },
      "toCodePoint": 36,
      "type": "marks"
     }
    ],
    "is_collapsed": false,
    "tags": []
   },
   "source": [
    "General Child Health History columns"
   ]
  },
  {
   "cell_type": "markdown",
   "metadata": {
    "cell_id": "321b5327be5f4494aac6a02aa76b117b",
    "deepnote_cell_type": "text-cell-p",
    "formattedRanges": [
     {
      "fromCodePoint": 338,
      "marks": {
       "italic": true
      },
      "toCodePoint": 344,
      "type": "marks"
     }
    ],
    "is_collapsed": false,
    "tags": []
   },
   "source": [
    "Note: There are 10x sheets of these in the original survey, one for each child's health condition. They ask questions on whether or not child has had (during the past week) symptoms of diarrhea, blood in stool, fever, vomiting, constant cough, and/or weakness. One of the reasons for the amount of the columns is that the survey asks for daily symptom data."
   ]
  },
  {
   "cell_type": "markdown",
   "metadata": {
    "cell_id": "d303c927c1944bec97c93a80684d0601",
    "deepnote_cell_type": "text-cell-bullet",
    "formattedRanges": [],
    "is_collapsed": false,
    "tags": []
   },
   "source": [
    "-  'd1_child_id',\n",
    " 'd3_clinic_card',\n",
    " 'd4a_dob_day',\n",
    " 'd4a_dob_month',\n",
    " 'd4a_dob_year',\n",
    " 'd4b_age_months',\n",
    " 'd4b_age_weeks',\n",
    " 'd4b_age_years',\n",
    " 'd5a_main_other_relation',\n",
    " 'd5a_main_relation',\n",
    " 'd5b_hist_other_relation',\n",
    " 'd5b_hist_relation',"
   ]
  },
  {
   "cell_type": "markdown",
   "metadata": {
    "cell_id": "d630ebcb6e9b4af8822d05b6285979f5",
    "deepnote_cell_type": "text-cell-bullet",
    "formattedRanges": [],
    "is_collapsed": false,
    "tags": []
   },
   "source": [
    "- Diarrhea Section: 'd6a1_7day_diarrhea',\n",
    " 'd6a2_7day_blood_in_stool',\n",
    " 'd6b_7day_fever',\n",
    " 'd6c_7day_vomiting',\n",
    " 'd6d1_7day_cough',\n",
    " 'd6d2_7day_chest_noise',\n",
    " 'd6d3_7day_dif_breathing',\n",
    " 'd6e_7day_weakness','d7a1_num_diarrhea',\n",
    " 'd7a2_num_blood_in_stool',\n",
    " 'd7b_num_fever',\n",
    " 'd7c_num_vomiting',\n",
    " 'd7d1_num_cough',\n",
    " 'd7d2_num_chest_noise',\n",
    " 'd7d3_num_dif_breathing',\n",
    " 'd7e_num_weakness',\n",
    " 'd8a1_unit_diarrhea',\n",
    " 'd8a2_unit_blood_in_stool',\n",
    " 'd8b_unit_fever',\n",
    " 'd8c_unit_vomiting',\n",
    " 'd8d1_unit_cough',\n",
    " 'd8d2_unit_chest_noise',\n",
    " 'd8d3_unit_dif_breath',\n",
    " 'd8e_unit_weakness',\n",
    " 'd9a1_today_diarrhea',\n",
    " 'd9a2_today_blood_in_stool',\n",
    " 'd9b_today_fever',\n",
    " 'd9c_today_vomiting',\n",
    " 'd9d1_today_cough',\n",
    " 'd9d2_today_chest_noise',\n",
    " 'd9d3_today_dif_breathing',\n",
    " 'd9e_today_weakness',\n",
    " 'd10a1_yest_diarrhea',\n",
    " 'd10a2_yest_blood_in_stool',\n",
    " 'd11a1_2day_diarrhea',\n",
    " 'd11a2_2day_blood_in_stool',\n",
    " 'd12a1_3day_diarrhea',\n",
    " 'd12a2_3day_blood_in_stool',\n",
    " 'd13a1_4day_diarrhea',\n",
    " 'd13a2_4day_blood_in_stool',\n",
    " 'd14a1_5day_diarrhea',\n",
    " 'd14a2_5day_blood_in_stool',\n",
    " 'd15a1_6day_diarrhea',\n",
    " 'd15a2_6day_blood_in_stool',\n",
    " 'd16a1_7day_diarrhea',\n",
    " 'd16a2_7day_blood_in_stool',\n",
    " 'd17b_numdays_fever',\n",
    " 'd17c_numdays_vomiting',\n",
    " 'd17d1_numdays_cough',\n",
    " 'd17d2_numdays_chest_noise',\n",
    " 'd17d3_numdays_dif_breathing',\n",
    " 'd17e_numdays_weakness',\n",
    " 'd18_stool',\n",
    " 'd18_stool_other',\n",
    " 'd19_drink_from_respondent',\n",
    " 'd20_tears',\n",
    " 'd21_urine',\n",
    " 'd22_missed_school',\n",
    " 'd23_hospital',\n",
    " 'd24_breastfeeding',\n",
    " 'd25_consent',"
   ]
  },
  {
   "cell_type": "markdown",
   "metadata": {
    "cell_id": "f2b0fdbec22646359453db11fb7814d3",
    "deepnote_cell_type": "text-cell-p",
    "formattedRanges": [
     {
      "fromCodePoint": 0,
      "marks": {
       "bold": true
      },
      "toCodePoint": 25,
      "type": "marks"
     }
    ],
    "is_collapsed": false,
    "tags": []
   },
   "source": [
    "Child Examination Columns"
   ]
  },
  {
   "cell_type": "markdown",
   "metadata": {
    "cell_id": "cf3d9ea81809461b972d798dd6851c5d",
    "deepnote_cell_type": "text-cell-p",
    "formattedRanges": [],
    "is_collapsed": false,
    "tags": []
   },
   "source": [
    "Note: This section is filled out if child had diarrhea on the same day as the survey - after filling out section D, the one above. Each entry is for a unique child_id in the household. There can be multiple per visit (e.g several children have diarrhea in the household at the same time.)"
   ]
  },
  {
   "cell_type": "markdown",
   "metadata": {
    "cell_id": "030b58ced5634006a9600519cf924fe5",
    "deepnote_cell_type": "text-cell-bullet",
    "formattedRanges": [],
    "is_collapsed": false,
    "tags": []
   },
   "source": [
    "- 'e1_1_child_id',\n",
    " 'e1_2_mucous_membrane',\n",
    " 'e1_3_nasal_flaring',\n",
    " 'e1_4_acc_musc',\n",
    " 'e1_5_fontanels',\n",
    " 'e1_6_temp',\n",
    " 'e1_7_resp_num',\n",
    " 'e1_7_resp_sleep',\n",
    " 'e1_7_resp_time',\n",
    " 'e1_8_turgor',\n",
    " 'e1_9_alertness',\n",
    " 'e1_10_pulse_num',\n",
    " 'e1_10_pulse_sleep',\n",
    " 'e1_10_pulse_time',\n",
    " 'e1_11_unable_to_assess',"
   ]
  },
  {
   "cell_type": "markdown",
   "metadata": {
    "cell_id": "bd1ddf048a354ff0ab7f0468291bf449",
    "deepnote_cell_type": "text-cell-p",
    "formattedRanges": [
     {
      "fromCodePoint": 0,
      "marks": {
       "bold": true
      },
      "toCodePoint": 25,
      "type": "marks"
     }
    ],
    "is_collapsed": false,
    "tags": []
   },
   "source": [
    "Child Information Section"
   ]
  },
  {
   "cell_type": "markdown",
   "metadata": {
    "cell_id": "6f3b0e1410654da39c8e81c2d00395a3",
    "deepnote_cell_type": "text-cell-p",
    "formattedRanges": [],
    "is_collapsed": false,
    "tags": []
   },
   "source": [
    "This section aims to map an overview of the two previous sections, registering whether or not there was a child health and/or examination section filled out for every individual child in the household. It could be thought of as a 'history' chart for a given household over the time of the survey. (ERIC)"
   ]
  },
  {
   "cell_type": "markdown",
   "metadata": {
    "cell_id": "c208a64dbe80436184e863a4452e0280",
    "deepnote_cell_type": "text-cell-bullet",
    "formattedRanges": [],
    "is_collapsed": false,
    "tags": []
   },
   "source": [
    "- 'fa_id',\n",
    " 'fb1_child_alive',\n",
    " 'fb2_status_duplicate_id',\n",
    " 'fc_history_taken',\n",
    " 'fc_history_taken_explain',\n",
    " 'fd_exam_done',\n",
    " 'fd_exam_done_explain',\n",
    " 'fe_clinic_card',\n",
    " 'ff_card_measles',\n",
    " 'fg_vaccinations',\n",
    " 'fh_vacc_age',\n",
    " 'fi_vacc_public',\n",
    " 'f11_1_child_id',\n",
    " 'f11_2_diarrhea',\n",
    " 'f11_3_num_of_days',"
   ]
  },
  {
   "cell_type": "markdown",
   "metadata": {
    "deletable": false,
    "editable": false
   },
   "source": [
    "## Submission\n",
    "\n",
    "Make sure you have run all cells in your notebook in order before running the cell below, so that all images/graphs appear in the output. The cell below will generate a zip file for you to submit. **Please save before exporting!**"
   ]
  },
  {
   "cell_type": "code",
   "execution_count": null,
   "metadata": {
    "deletable": false,
    "editable": false
   },
   "outputs": [],
   "source": [
    "# Save your notebook first, then run this cell to export your submission.\n",
    "grader.export(run_tests=True)"
   ]
  },
  {
   "cell_type": "markdown",
   "metadata": {},
   "source": [
    " "
   ]
  }
 ],
 "metadata": {
  "deepnote": {},
  "deepnote_execution_queue": [],
  "deepnote_notebook_id": "29435fdcadfe45859ceb345602950de1",
  "kernelspec": {
   "display_name": "Python 3 (ipykernel)",
   "language": "python",
   "name": "python3"
  },
  "language_info": {
   "codemirror_mode": {
    "name": "ipython",
    "version": 3
   },
   "file_extension": ".py",
   "mimetype": "text/x-python",
   "name": "python",
   "nbconvert_exporter": "python",
   "pygments_lexer": "ipython3",
   "version": "3.12.7"
  },
  "otter": {
   "OK_FORMAT": true,
   "export_pdf_failure_message": "PDF did not generate, please submit screenshots for questions 1.3, 2.1, 2.2, 2.3, 3.2, 3.5, 3.8, 4.2, 5.2, 5.6 and 5.10.",
   "require_no_pdf_confirmation": true,
   "tests": {
    "q1_1": {
     "name": "q1_1",
     "points": 1,
     "suites": [
      {
       "cases": [
        {
         "code": ">>> assert wg_df.iloc[3].quiz_id == 4099 and wg_df.iloc[4].quiz_id == 5107\n",
         "hidden": false,
         "locked": false
        }
       ],
       "scored": true,
       "setup": "",
       "teardown": "",
       "type": "doctest"
      }
     ]
    },
    "q1_2": {
     "name": "q1_2",
     "points": 1,
     "suites": [
      {
       "cases": [
        {
         "code": ">>> assert N_rows == 7782 and N_cols == 224\n",
         "hidden": false,
         "locked": false
        }
       ],
       "scored": true,
       "setup": "",
       "teardown": "",
       "type": "doctest"
      }
     ]
    },
    "q1_4": {
     "name": "q1_4",
     "points": 1,
     "suites": [
      {
       "cases": [
        {
         "code": ">>> assert (num_households ^ 303) % 10 == 1 and num_springs % 5 == 2 and ((num_interview_rounds ^ 25) % 7 == 6)\n",
         "hidden": false,
         "locked": false
        }
       ],
       "scored": true,
       "setup": "",
       "teardown": "",
       "type": "doctest"
      }
     ]
    },
    "q3_1": {
     "name": "q3_1",
     "points": 1,
     "suites": [
      {
       "cases": [
        {
         "code": ">>> assert grouped_by_round.shape == (18, 2)\n",
         "hidden": false,
         "locked": false
        },
        {
         "code": ">>> assert grouped_by_round.iloc[6]['bwm_round'] == 7 and grouped_by_round.iloc[6]['count'] == 415 and (grouped_by_round.iloc[9]['bwm_round'] == 10) and (grouped_by_round.iloc[9]['count'] == 408)\n",
         "hidden": false,
         "locked": false
        },
        {
         "code": ">>> assert 'count' in grouped_by_round.columns and 'bwm_round' in grouped_by_round.columns\n",
         "hidden": false,
         "locked": false
        }
       ],
       "scored": true,
       "setup": "",
       "teardown": "",
       "type": "doctest"
      }
     ]
    },
    "q3_3": {
     "name": "q3_3",
     "points": 1,
     "suites": [
      {
       "cases": [
        {
         "code": ">>> assert diarrhea_groups.values.all()\n",
         "hidden": false,
         "locked": false
        },
        {
         "code": ">>> assert 6525 in diarrhea_groups.values and 526 in diarrhea_groups.values\n",
         "hidden": false,
         "locked": false
        }
       ],
       "scored": true,
       "setup": "",
       "teardown": "",
       "type": "doctest"
      }
     ]
    },
    "q3_4": {
     "name": "q3_4",
     "points": 1,
     "suites": [
      {
       "cases": [
        {
         "code": ">>> assert wg_plot_df.iloc[6].bwm_round == 4 and wg_plot_df.iloc[6].d6a1_7dd_n == 0 and (wg_plot_df.iloc[6]['count'] == 360)\n",
         "hidden": false,
         "locked": false
        }
       ],
       "scored": true,
       "setup": "",
       "teardown": "",
       "type": "doctest"
      }
     ]
    },
    "q3_6": {
     "name": "q3_6",
     "points": 1,
     "suites": [
      {
       "cases": [
        {
         "code": ">>> assert wg_plot_df_mean.shape == (18, 1) and np.isclose(wg_plot_df_mean.iloc[5, 0], 0.067164)\n",
         "hidden": false,
         "locked": false
        }
       ],
       "scored": true,
       "setup": "",
       "teardown": "",
       "type": "doctest"
      }
     ]
    },
    "q4_1": {
     "name": "q4_1",
     "points": 1,
     "suites": [
      {
       "cases": [
        {
         "code": ">>> assert special_proportions.shape == (2, 1)\n",
         "hidden": false,
         "locked": false
        },
        {
         "code": ">>> assert np.isclose(special_proportions[special_proportions.index == 99].values[0][0], 0.109195)\n",
         "hidden": false,
         "locked": false
        }
       ],
       "scored": true,
       "setup": "",
       "teardown": "",
       "type": "doctest"
      }
     ]
    },
    "q5_1": {
     "name": "q5_1",
     "points": 1,
     "suites": [
      {
       "cases": [
        {
         "code": ">>> assert hh_wg.shape == (3095, 2205)\n",
         "hidden": false,
         "locked": false
        }
       ],
       "scored": true,
       "setup": "",
       "teardown": "",
       "type": "doctest"
      }
     ]
    },
    "q5_3": {
     "name": "q5_3",
     "points": 1,
     "suites": [
      {
       "cases": [
        {
         "code": ">>> assert hh_round.shape == (20, 1)\n",
         "hidden": false,
         "locked": false
        },
        {
         "code": ">>> assert np.isclose(np.mean(hh_round['a1_hh_id']), 154.75)\n",
         "hidden": false,
         "locked": false
        }
       ],
       "scored": true,
       "setup": "",
       "teardown": "",
       "type": "doctest"
      }
     ]
    },
    "q5_4": {
     "name": "q5_4",
     "points": 1,
     "suites": [
      {
       "cases": [
        {
         "code": ">>> assert hh_round_vld.shape == (40, 3)\n",
         "hidden": false,
         "locked": false
        },
        {
         "code": ">>> assert np.isclose(np.mean(hh_round_vld['Count']), 77.375)\n",
         "hidden": false,
         "locked": false
        }
       ],
       "scored": true,
       "setup": "",
       "teardown": "",
       "type": "doctest"
      }
     ]
    },
    "q5_5": {
     "name": "q5_5",
     "points": 1,
     "suites": [
      {
       "cases": [
        {
         "code": ">>> assert df_55.shape == (2801, 3)\n",
         "hidden": false,
         "locked": false
        },
        {
         "code": ">>> assert np.all(df_55.columns == ['bwm_round', 'validated_wg', 'promoted_wg'])\n",
         "hidden": false,
         "locked": false
        },
        {
         "code": ">>> assert np.isclose(np.sum(df_55['validated_wg']), 678.0)\n",
         "hidden": false,
         "locked": false
        }
       ],
       "scored": true,
       "setup": "",
       "teardown": "",
       "type": "doctest"
      }
     ]
    },
    "q5_6": {
     "name": "q5_6",
     "points": 1,
     "suites": [
      {
       "cases": [
        {
         "code": ">>> assert df_56.shape == (36, 3)\n",
         "hidden": false,
         "locked": false
        },
        {
         "code": ">>> assert np.isclose(np.mean(df_56['proportion']), 0.2468974)\n",
         "hidden": false,
         "locked": false
        }
       ],
       "scored": true,
       "setup": "",
       "teardown": "",
       "type": "doctest"
      }
     ]
    }
   }
  }
 },
 "nbformat": 4,
 "nbformat_minor": 4
}

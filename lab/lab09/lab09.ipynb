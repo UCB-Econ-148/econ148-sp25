{
 "cells": [
  {
   "cell_type": "code",
   "execution_count": null,
   "id": "24f7808d",
   "metadata": {
    "deletable": false,
    "editable": false
   },
   "outputs": [],
   "source": [
    "# Initialize Otter\n",
    "import otter\n",
    "grader = otter.Notebook(\"lab09.ipynb\")"
   ]
  },
  {
   "cell_type": "code",
   "execution_count": null,
   "id": "a968a3f3",
   "metadata": {},
   "outputs": [],
   "source": [
    "import pandas as pd\n",
    "import numpy as np\n",
    "import seaborn as sns\n",
    "import matplotlib.pyplot as plt\n",
    "from scipy import stats\n",
    "%matplotlib inline\n",
    "import warnings\n",
    "warnings.filterwarnings(\"ignore\")"
   ]
  },
  {
   "cell_type": "markdown",
   "id": "3ced227f",
   "metadata": {},
   "source": [
    "# Lab 9: Time Series\n",
    "### Using Zillow to Predict CPI\n",
    "In this notebook, we're going to try to use data from Zillow (specifically, their ZORI index) to see if we can use it to predict the US consumer price index."
   ]
  },
  {
   "cell_type": "markdown",
   "id": "aebadc1a",
   "metadata": {},
   "source": [
    "---\n",
    "## Part 1: Introduction and Data Processing"
   ]
  },
  {
   "cell_type": "markdown",
   "id": "6f7c08f7",
   "metadata": {},
   "source": [
    "### Dataset 1: ZORI"
   ]
  },
  {
   "cell_type": "markdown",
   "id": "c173644a",
   "metadata": {},
   "source": [
    "We've downloaded the ZORI index for you from [Zillow Research Data](https://www.zillow.com/research/data/). Run the following cell to display information about the ZORI index. What can you tell from the data?"
   ]
  },
  {
   "cell_type": "code",
   "execution_count": null,
   "id": "ae8c3f41",
   "metadata": {},
   "outputs": [],
   "source": [
    "zori = pd.read_csv(\"data/zori1.csv\")\n",
    "zori"
   ]
  },
  {
   "cell_type": "markdown",
   "id": "1fcba7a5",
   "metadata": {
    "deletable": false,
    "editable": false
   },
   "source": [
    "<!-- BEGIN QUESTION -->\n",
    "\n",
    "**Question 1.1:** What information is stored in the ZORI data? What does each row represent?"
   ]
  },
  {
   "cell_type": "markdown",
   "id": "37adea47",
   "metadata": {},
   "source": [
    "_Type your answer here, replacing this text._"
   ]
  },
  {
   "cell_type": "markdown",
   "id": "3b9f6621",
   "metadata": {
    "deletable": false,
    "editable": false
   },
   "source": [
    "<!-- END QUESTION -->\n",
    "\n",
    "Below, we select rows within the ZORI dataframe that have the timeseries corresponding to the ZORI index for the entire country."
   ]
  },
  {
   "cell_type": "code",
   "execution_count": null,
   "id": "002d33cc",
   "metadata": {},
   "outputs": [],
   "source": [
    "zUS = zori.iloc[[0], :-1]\n",
    "zUS"
   ]
  },
  {
   "cell_type": "markdown",
   "id": "c6e0cf42",
   "metadata": {},
   "source": [
    "We notice that the dates in the timeseries actually start from the 6th entry in the index. If we wanted to create a DataFrame, we would need to find a way to extract this information, in addition to the data stored in the ZORI column."
   ]
  },
  {
   "cell_type": "markdown",
   "id": "c5c060ba",
   "metadata": {
    "deletable": false,
    "editable": false
   },
   "source": [
    "**Question 1.2:** Transpose the dataframe `zUS`, select the relevant columns and convert them into rows (similar to the picture below). Rename the column names to `DATE` and `ZORI`. Ensure the `DATE` column has an appropriate data type. The resulting dataframe `zillow` should look like the following:\n",
    "\n",
    "*Hint*: `.T` allows us to transpose a dataframe. \n",
    "\n",
    "| DATE | ZORI |\n",
    "| ----------- | ----------- |\n",
    "| 2015-03-31 | 1370.301806 |\n",
    "| 2015-04-30 | 1381.971304 |\n",
    "|  | ... (rows omitted) |"
   ]
  },
  {
   "cell_type": "code",
   "execution_count": null,
   "id": "9824a038",
   "metadata": {
    "tags": []
   },
   "outputs": [],
   "source": [
    "zillow = ... # Hint: consider taking the transpose of `zUS`\n",
    "zillow"
   ]
  },
  {
   "cell_type": "code",
   "execution_count": null,
   "id": "3476c68b",
   "metadata": {
    "deletable": false,
    "editable": false
   },
   "outputs": [],
   "source": [
    "grader.check(\"q1_2\")"
   ]
  },
  {
   "cell_type": "markdown",
   "id": "ced035b1",
   "metadata": {},
   "source": [
    "We might wonder what this looks like. Let's graph this time series."
   ]
  },
  {
   "cell_type": "code",
   "execution_count": null,
   "id": "0788bce4",
   "metadata": {},
   "outputs": [],
   "source": [
    "sns.lineplot(data=zillow, x=\"DATE\", y=\"ZORI\")\n",
    "plt.title(\"ZORI Index\");"
   ]
  },
  {
   "cell_type": "markdown",
   "id": "b3eb70f3",
   "metadata": {},
   "source": [
    "Do you notice anything interesting about this graph? "
   ]
  },
  {
   "cell_type": "markdown",
   "id": "391fae41",
   "metadata": {},
   "source": [
    "We'll focus on the part where the slope becomes noticably steeper. Around what time did this happen? What are some possible explanations?"
   ]
  },
  {
   "cell_type": "markdown",
   "id": "fbefbc91",
   "metadata": {},
   "source": [
    "### Dataset 2: US CPI"
   ]
  },
  {
   "cell_type": "markdown",
   "id": "70e4b9b8",
   "metadata": {},
   "source": [
    "We'll now turn our attention to the US CPI."
   ]
  },
  {
   "cell_type": "markdown",
   "id": "6193d997",
   "metadata": {},
   "source": [
    "We've downloaded historical **US CPI data for rent of primary residence** from the [FRED website](https://fred.stlouisfed.org/series/CUUR0000SEHA). Since our ZORI data starts on 03/31/2015, we've adjusted the sliders on the FRED website to only extract starting from 03/31/2015. We've also renamed the columns to be more readable."
   ]
  },
  {
   "cell_type": "code",
   "execution_count": null,
   "id": "b656ed8c",
   "metadata": {},
   "outputs": [],
   "source": [
    "usCPI = pd.read_csv(\"data/usCPI.csv\")\n",
    "usCPI = usCPI.rename(columns={\"CUUR0000SEHA\": \"CPI\"})\n",
    "usCPI = usCPI.iloc[1:, :]\n",
    "usCPI['DATE'] = pd.to_datetime(usCPI['DATE'], format='%Y-%m-%d')\n",
    "usCPI.head()"
   ]
  },
  {
   "cell_type": "markdown",
   "id": "9ab94af0",
   "metadata": {},
   "source": [
    "We can try plotting this to see what it looks like."
   ]
  },
  {
   "cell_type": "code",
   "execution_count": null,
   "id": "c84b71d5",
   "metadata": {},
   "outputs": [],
   "source": [
    "sns.lineplot(data=usCPI, x=\"DATE\", y=\"CPI\")\n",
    "plt.title(\"US CPI (Rent of Primary Residence)\");"
   ]
  },
  {
   "cell_type": "markdown",
   "id": "ab57625f",
   "metadata": {},
   "source": [
    "### Data Preprocessing"
   ]
  },
  {
   "cell_type": "code",
   "execution_count": null,
   "id": "b3b60fc1",
   "metadata": {},
   "outputs": [],
   "source": [
    "# set `DATE` as the index\n",
    "zillow = zillow.set_index('DATE')\n",
    "usCPI = usCPI.set_index('DATE')"
   ]
  },
  {
   "cell_type": "markdown",
   "id": "92d2e9d8",
   "metadata": {
    "deletable": false,
    "editable": false
   },
   "source": [
    "**Question 1.3:** Let's split the `usCPI` dataframe into a training set and testing set. Put all data **before** Jan. 1st, 2022 into the *training set*, and all data **on or after** Jan. 1st, 2022 into the *testing set*. \n",
    "\n",
    "Note: This is not how normally we do the train-test split. In a normal setup, we would assign a random portion of the data to training set and the rest to testing set. But in this analysis, we care about how well can we predict the future values using current values, so we'll create a train-test split based on a date. \n",
    "\n",
    "*Hint*: You can use `pd.to_datetime(\"2022-01-01\", format='%Y-%m-%d')` to generate a timestamp for comparison. "
   ]
  },
  {
   "cell_type": "code",
   "execution_count": null,
   "id": "2bc25d15",
   "metadata": {
    "scrolled": true,
    "tags": []
   },
   "outputs": [],
   "source": [
    "train = ...\n",
    "test = ...\n",
    "plt.plot(train['CPI'], color = \"black\", label='Train')\n",
    "plt.plot(test['CPI'], color = \"red\", label='Test')\n",
    "plt.ylabel('')\n",
    "plt.xlabel('Date')\n",
    "plt.title(\"Train/Test split for US CPI Data\")\n",
    "plt.legend();"
   ]
  },
  {
   "cell_type": "code",
   "execution_count": null,
   "id": "901fbe6f",
   "metadata": {
    "deletable": false,
    "editable": false
   },
   "outputs": [],
   "source": [
    "grader.check(\"q1_3\")"
   ]
  },
  {
   "cell_type": "code",
   "execution_count": null,
   "id": "16c8d9a1",
   "metadata": {
    "scrolled": true
   },
   "outputs": [],
   "source": [
    "# generate train test CPI series\n",
    "y_train = train['CPI']\n",
    "y_test = test['CPI']"
   ]
  },
  {
   "cell_type": "markdown",
   "id": "625500aa",
   "metadata": {},
   "source": [
    "---\n",
    "## Part 2: Time Series Modeling"
   ]
  },
  {
   "cell_type": "code",
   "execution_count": null,
   "id": "2cec18de",
   "metadata": {},
   "outputs": [],
   "source": [
    "!pip install scikit-learn \n",
    "from sklearn.metrics import mean_squared_error\n",
    "\n",
    "from statsmodels.tsa.arima.model import ARIMA\n",
    "from statsmodels.tsa.statespace.sarimax import SARIMAX\n",
    "\n",
    "import warnings\n",
    "warnings.filterwarnings(\"ignore\")"
   ]
  },
  {
   "cell_type": "markdown",
   "id": "12296a54",
   "metadata": {},
   "source": [
    "### Review\n",
    "Let $X_t$ be a sequence of random variables that describes a time series model. \n",
    "\n",
    "* **Random walk**:   \n",
    "A random walk is a time series model where the current observation is equal to the previous observation with a random step up or down. The model is widely used for non-stationary data, particularly financial and economic data.\n",
    "\n",
    "$$X_t = X_{t-1} + \\varepsilon_t$$ \n",
    "\n",
    "* **Random walk with drift**:   \n",
    "If the random walk has a non-zero dift and acts like a trend, we will add an additional drift term ($\\alpha$) to the process. \n",
    "\n",
    "$$X_t = X_{t-1} + \\alpha + \\varepsilon_t$$ \n",
    "\n",
    "* **Autoregressive (AR)**: AR(p) refers to the autoregressive model of order p.  \n",
    "The autoregressive model uses observations from previous time steps as input to a regression equations to predict the value at the next step. The AR model takes in one argument, p, which determines how many previous time steps will be inputted.\n",
    "\n",
    "$$X_t = c + \\phi_1 X_{t-1} + \\phi_2 X_{t-2} + \\cdots + \\phi_p X_{t-p} + \\varepsilon_t$$ \n",
    "\n",
    "* **Moving-average (MA)**: MA(q) refers to the moving average model of order q. \n",
    "The moving average model is a time series model that accounts for very short-run autocorrelation. \n",
    "\n",
    "$$X_t = \\mu + \\varepsilon_t + \\theta_1 \\varepsilon_{t-1} + \\theta_2 \\varepsilon_{t-2} + \\cdots + \\theta_q \\varepsilon_{t-q}$$ "
   ]
  },
  {
   "cell_type": "markdown",
   "id": "13270d42",
   "metadata": {},
   "source": [
    "### Autoregressive Moving Average (ARMA)\n",
    "The notation ARMA(p, q) refers to the model with p autoregressive terms and q moving-average terms. This model contains the AR(p) and MA(q) models. \n",
    "\n",
    "$$X_t = c + \\underbrace{\\phi_1 X_{t-1} + \\phi_2 X_{t-2} + \\cdots + \\phi_p X_{t-p}}_{AR(p)} + \\underbrace{\\theta_1 \\varepsilon_{t-1} + \\theta_2 \\varepsilon_{t-2} + \\cdots + \\theta_q \\varepsilon_{t-q}}_{MA(q)} + \\varepsilon_t $$ \n",
    "\n",
    "Here's a summary table for the relationship between ARIMA model and the models discussed. \n",
    "\n",
    "| Model | ARMA(p, q) |\n",
    "| ----------- | ----------- |\n",
    "| White noise | ARMA(0,0) |\n",
    "| Autoregression (AR(p)) | ARMA(p,0) |\n",
    "| Moving average (MA(q)) | ARMA(0,q) |"
   ]
  },
  {
   "cell_type": "markdown",
   "id": "77094ec6",
   "metadata": {},
   "source": [
    "Now let's try fit our data using ARMA(1, 1), which is saying we want to fit our CPI data to the following process:\n",
    "\n",
    "$$CPI_t = c + \\underbrace{\\phi_1 CPI_{t-1}}_{AR(1)} + \\underbrace{\\theta_1 \\varepsilon_{t-1}}_{MA(1)} + \\varepsilon_t $$ "
   ]
  },
  {
   "cell_type": "code",
   "execution_count": null,
   "id": "97ec1839",
   "metadata": {},
   "outputs": [],
   "source": [
    "ARMAmodel = ARIMA(y_train, order = (1, 0, 1)) # ARMA(1, 1). See ARIMA (next section) for why there's a zero\n",
    "ARMAmodel = ARMAmodel.fit() "
   ]
  },
  {
   "cell_type": "code",
   "execution_count": null,
   "id": "acd0387d",
   "metadata": {},
   "outputs": [],
   "source": [
    "y_pred = ARMAmodel.get_forecast(len(test.index))\n",
    "y_pred_df = y_pred.conf_int(alpha = 0.05) # 95% CI\n",
    "y_pred_df[\"Predictions\"] = ARMAmodel.predict(start = y_pred_df.index[0], end = y_pred_df.index[-1])\n",
    "y_pred_df.index = test.index\n",
    "y_pred_df"
   ]
  },
  {
   "cell_type": "code",
   "execution_count": null,
   "id": "e2764a71",
   "metadata": {},
   "outputs": [],
   "source": [
    "# Get predictions series\n",
    "y_pred_out = y_pred_df[\"Predictions\"]\n",
    "\n",
    "# Plot\n",
    "plt.plot(train, color = 'black')\n",
    "plt.plot(test, color = 'red', label = 'Actual')\n",
    "plt.plot(y_pred_out, color='green', label = 'Predictions')\n",
    "plt.ylabel('')\n",
    "plt.xlabel('Date')\n",
    "plt.xticks(rotation=45)\n",
    "plt.title(\"Predictions of US CPI Data\")\n",
    "plt.legend();"
   ]
  },
  {
   "cell_type": "markdown",
   "id": "7089240a",
   "metadata": {
    "deletable": false,
    "editable": false
   },
   "source": [
    "**Question 2.1:** Why does the predictions look almost constant?\n",
    "\n",
    "1. Because ARMA is a bad model for this time series\n",
    "2. Because we did not give ARMA a reasonable set of orders (i.e. p and q)\n",
    "3. Because the data is too volatile to predict\n",
    "\n",
    "Assign the number corresponding to your answer to `q2_1` below."
   ]
  },
  {
   "cell_type": "code",
   "execution_count": null,
   "id": "ec6a3d77",
   "metadata": {
    "tags": []
   },
   "outputs": [],
   "source": [
    "q2_1 = ..."
   ]
  },
  {
   "cell_type": "code",
   "execution_count": null,
   "id": "548c8c19",
   "metadata": {
    "deletable": false,
    "editable": false
   },
   "outputs": [],
   "source": [
    "grader.check(\"q2_1\")"
   ]
  },
  {
   "cell_type": "markdown",
   "id": "a1e9e797",
   "metadata": {},
   "source": [
    "We can also compute the loss of this model. "
   ]
  },
  {
   "cell_type": "code",
   "execution_count": null,
   "id": "c3f5f1da",
   "metadata": {},
   "outputs": [],
   "source": [
    "arma_rmse = np.sqrt(mean_squared_error(test[\"CPI\"].values, y_pred_df[\"Predictions\"]))\n",
    "print(\"RMSE: \",arma_rmse)"
   ]
  },
  {
   "cell_type": "markdown",
   "id": "49f3ec7d",
   "metadata": {},
   "source": [
    "### Autoregressive Integrated Moving Average (ARIMA)\n",
    "\n",
    "The notation ARIMA(p, d, q) refers to the model with p autoregressive terms with d degree of differencing and q moving-average terms. \n",
    "\n",
    "$$X_t' = c + \\underbrace{\\phi_1 X_{t-1}' + \\phi_2 X_{t-2}' + \\cdots + \\phi_p X_{t-p}'}_{AR(p)} + \\underbrace{\\theta_1 \\varepsilon_{t-1} + \\theta_2 \\varepsilon_{t-2} + \\cdots + \\theta_q \\varepsilon_{t-q}}_{MA(q)} + \\varepsilon_t $$ \n",
    "\n",
    "where $y_t'$ is the differenced series (it may have been differenced more than once).\n",
    "\n",
    "**Difference between ARMA and ARIMA**: The only difference is the “integrated” part. Integrated refers to the number of times needed to difference a series in order to achieve stationarity, which is required for ARMA models to be valid. So ARMA is a special case of ARIMA with $d = 0$. ARIMA models are widely used for real life time series analysis since most times series data are non stationary and need differencing.\n",
    "\n",
    "Here's a summary table for the relationship between the ARIMA model and the models discussed. \n",
    "\n",
    "| Model | ARIMA(p, d, q) |\n",
    "| ----------- | ----------- |\n",
    "| White noise | ARIMA(0,0,0) |\n",
    "| Random walk | ARIMA(0,1,0) with no constant |\n",
    "| Random walk with drift | ARIMA(0,1,0) with a constant |\n",
    "| Autoregression (AR(p)) | ARIMA(p,0,0) |\n",
    "| Moving average (MA(q)) | ARIMA(0,0,q) |\n",
    "| Autoregressive Moving Average (ARMA(p,q)) | ARIMA(p,0,q) |"
   ]
  },
  {
   "cell_type": "markdown",
   "id": "cfe908a1",
   "metadata": {},
   "source": [
    "Now let's try fit our data using $\\text{ARIMA}(1, 1, 1)$. "
   ]
  },
  {
   "cell_type": "code",
   "execution_count": null,
   "id": "3afd9e25",
   "metadata": {},
   "outputs": [],
   "source": [
    "ARIMAmodel_naive = ARIMA(y_train, order = (1, 1, 1))\n",
    "ARIMAmodel_naive = ARIMAmodel_naive.fit()\n",
    "\n",
    "y_pred = ARIMAmodel_naive.get_forecast(len(test.index))\n",
    "y_pred_df = y_pred.conf_int(alpha = 0.05) \n",
    "y_pred_df[\"Predictions\"] = ARIMAmodel_naive.predict(start = y_pred_df.index[0], end = y_pred_df.index[-1])\n",
    "y_pred_df.index = test.index\n",
    "y_pred_out = y_pred_df[\"Predictions\"] \n",
    "plt.plot(train, color = \"black\")\n",
    "plt.plot(test, color = \"red\", label = 'Actual')\n",
    "plt.plot(y_pred_out, color='blue', label = 'ARIMA(1, 1, 1) Predictions')\n",
    "plt.legend();"
   ]
  },
  {
   "cell_type": "code",
   "execution_count": null,
   "id": "9887865b",
   "metadata": {},
   "outputs": [],
   "source": [
    "arima_naive_rmse = np.sqrt(mean_squared_error(test[\"CPI\"].values, y_pred_df[\"Predictions\"]))\n",
    "print(\"RMSE: \",arima_naive_rmse)"
   ]
  },
  {
   "cell_type": "markdown",
   "id": "e7e6fc8f",
   "metadata": {},
   "source": [
    "After adding $d=1$ differencing, the predictions look much better than before!"
   ]
  },
  {
   "cell_type": "markdown",
   "id": "be4b1387",
   "metadata": {},
   "source": [
    "However, the ARIMA model for time series analysis and forecasting can be tricky to configure.\n",
    "\n",
    "There are 3 parameters (p, d and q) that require estimation by iterative trial and error from reviewing diagnostic plots and using 40-year-old heuristic rules. Usually we will find optimal parameters with ACF, PACF plots, and BIC/AIC information criteria or simply do a grid search, but we will not go into depth about these topics here. If you are interested, you can learn more about this in Stat 153. "
   ]
  },
  {
   "cell_type": "markdown",
   "id": "638e3f2c",
   "metadata": {
    "deletable": false,
    "editable": false
   },
   "source": [
    "<!-- BEGIN QUESTION -->\n",
    "\n",
    "**Question 2.2:** Let's find some better parameters using trial and error. Try some combinations of p, d and q and see what is the result of the predictions. We will manually grade this question, and in order to recieve full credit, you must achieve an RMSE of less than 3.5 and a plot of your predictions vs the actual values must be shown.\n",
    "\n",
    "Hint: Think about what does p, d, q mean in the ARIMA model. "
   ]
  },
  {
   "cell_type": "code",
   "execution_count": null,
   "id": "3fc7ada2",
   "metadata": {
    "tags": []
   },
   "outputs": [],
   "source": [
    "\n",
    "ARIMAmodel = ... # specify the model\n",
    "ARIMAmodel = ... # fit the model\n",
    "\n",
    "\n",
    "y_pred_arima = ARIMAmodel.get_forecast(len(test.index)) # generate predictions\n",
    "y_pred_arima_df = y_pred_arima.conf_int(alpha = 0.05) \n",
    "y_pred_arima_df[\"Predictions\"] = ARIMAmodel.predict(start = y_pred_df.index[0], end = y_pred_df.index[-1])\n",
    "y_pred_arima_df.index = test.index\n",
    "y_pred_arima_out = y_pred_arima_df[\"Predictions\"] \n",
    "\n",
    "arima_rmse = np.sqrt(mean_squared_error(test[\"CPI\"].values, y_pred_arima_out))\n",
    "print(\"RMSE: \",arima_rmse)\n",
    "\n",
    "plt.plot(train, color = \"black\") # plot\n",
    "plt.plot(test, color = \"red\", label = 'Actual')\n",
    "plt.plot(y_pred_arima_out, color='blue', label = 'ARIMA Predictions')\n",
    "plt.legend();"
   ]
  },
  {
   "cell_type": "markdown",
   "id": "d4dc8022",
   "metadata": {
    "deletable": false,
    "editable": false
   },
   "source": [
    "<!-- END QUESTION -->\n",
    "\n",
    "However, in the real world when we don't know the future values, such tuning can lead to overfitting. So we need to be aware of the [bias-variance tradeoff](https://towardsdatascience.com/understanding-the-bias-variance-tradeoff-165e6942b229) when tuning our time series model. "
   ]
  },
  {
   "cell_type": "markdown",
   "id": "84c6405f",
   "metadata": {},
   "source": [
    "---\n",
    "## The below subpart is for Extra Credit. "
   ]
  },
  {
   "cell_type": "markdown",
   "id": "7ed9eedf-c52e-4943-b9e5-303971e86ca0",
   "metadata": {},
   "source": [
    "<div class=\"alert alert-info\">\n",
    "\n",
    "***Note:*** You have now **finished** all the coding that is required for this lab - congratulations! The below parts are purely optional, if you wish to extend your knowledge further. If you do not wish to finish these parts, feel free to scroll down, fill out the survey and then submit the lab!\n",
    "\n",
    "Don't worry about not passing the following test on gradescope. \n",
    "\n",
    "</div>"
   ]
  },
  {
   "cell_type": "markdown",
   "id": "59c130ff",
   "metadata": {},
   "source": [
    "We want to combine both time series so that we can analyze them together. However, we notice that the `DATE` column has different values. ZORI is measured on the 31st of each month, while CPI is measured on the 1st day of each month. For our purposes, we can combine the two by using the `DATE` index from the US CPI and using the 1st day of the month."
   ]
  },
  {
   "cell_type": "code",
   "execution_count": null,
   "id": "1cc83f42",
   "metadata": {},
   "outputs": [],
   "source": [
    "combined = pd.concat([zillow.reset_index(drop=True), usCPI.reset_index(drop=True)], axis=1)\n",
    "combined.index = usCPI.index\n",
    "combined"
   ]
  },
  {
   "cell_type": "markdown",
   "id": "2d405a49",
   "metadata": {},
   "source": [
    "### Visual Comparison"
   ]
  },
  {
   "cell_type": "markdown",
   "id": "2ebf71bb",
   "metadata": {},
   "source": [
    "We can try plotting this graph to see if we can find anything interesting."
   ]
  },
  {
   "cell_type": "code",
   "execution_count": null,
   "id": "6bf30323",
   "metadata": {},
   "outputs": [],
   "source": [
    "sns.lineplot(data=combined, x=\"DATE\", y=\"CPI\", color='tab:blue', label='CPI')\n",
    "ax2 = plt.twinx()\n",
    "sns.lineplot(data=combined, x=\"DATE\", y=\"ZORI\", color='tab:orange', ax=ax2, label='ZORI')\n",
    "plt.legend(loc='upper left')\n",
    "ax2.legend(loc='lower right')\n",
    "plt.title(\"US CPI vs ZORI\");"
   ]
  },
  {
   "cell_type": "markdown",
   "id": "809d9e48",
   "metadata": {},
   "source": [
    "#### Logging Our Data"
   ]
  },
  {
   "cell_type": "markdown",
   "id": "c6c9712b",
   "metadata": {},
   "source": [
    "We can try logging our data to make them easier to compare."
   ]
  },
  {
   "cell_type": "markdown",
   "id": "2079d7ef",
   "metadata": {
    "deletable": false,
    "editable": false
   },
   "source": [
    "**Question 3.1:** Take the natural log for `CPI` and `ZORI` and store the results in new columns `log CPI` and `log ZORI`. Then make a plot similar to the one above. \n",
    "\n",
    "Hint: You may want to convert both column `ZORI` and `CPI` to `float64` before taking the natural log. "
   ]
  },
  {
   "cell_type": "code",
   "execution_count": null,
   "id": "fb155c9e",
   "metadata": {
    "tags": []
   },
   "outputs": [],
   "source": [
    "...\n",
    "combined[\"log CPI\"] = ...\n",
    "...\n",
    "combined[\"log ZORI\"] = ...\n",
    "\n",
    "sns.lineplot(..., color='tab:blue', label='log CPI')\n",
    "plt.ylim([5.6, 6.1])\n",
    "plt.legend(loc='upper left')\n",
    "\n",
    "ax2 = plt.twinx()\n",
    "sns.lineplot(..., color='tab:orange', ax=ax2, label='log ZORI')\n",
    "ax2.set_ylim([7.2, 7.7])\n",
    "ax2.legend(loc='lower right')\n",
    "plt.title(\"US CPI vs ZORI (Logged)\");"
   ]
  },
  {
   "cell_type": "code",
   "execution_count": null,
   "id": "b8023512",
   "metadata": {
    "deletable": false,
    "editable": false
   },
   "outputs": [],
   "source": [
    "grader.check(\"q3_1\")"
   ]
  },
  {
   "cell_type": "markdown",
   "id": "0738e591",
   "metadata": {},
   "source": [
    "**Congrats on making it to the end of the lab!**"
   ]
  },
  {
   "cell_type": "markdown",
   "id": "90803403",
   "metadata": {
    "deletable": false,
    "editable": false
   },
   "source": [
    "## Submission\n",
    "\n",
    "Make sure you have run all cells in your notebook in order before running the cell below, so that all images/graphs appear in the output. The cell below will generate a zip file for you to submit. **Please save before exporting!**"
   ]
  },
  {
   "cell_type": "code",
   "execution_count": null,
   "id": "6e3cf66f",
   "metadata": {
    "deletable": false,
    "editable": false
   },
   "outputs": [],
   "source": [
    "# Save your notebook first, then run this cell to export your submission.\n",
    "grader.export(run_tests=True)"
   ]
  },
  {
   "cell_type": "markdown",
   "id": "ff6686d9",
   "metadata": {},
   "source": [
    " "
   ]
  }
 ],
 "metadata": {
  "kernelspec": {
   "display_name": "Python 3 (ipykernel)",
   "language": "python",
   "name": "python3"
  },
  "language_info": {
   "codemirror_mode": {
    "name": "ipython",
    "version": 3
   },
   "file_extension": ".py",
   "mimetype": "text/x-python",
   "name": "python",
   "nbconvert_exporter": "python",
   "pygments_lexer": "ipython3",
   "version": "3.12.2"
  },
  "otter": {
   "OK_FORMAT": true,
   "export_pdf_failure_message": "PDF did not generate, please submit screenshots for question 1.1.",
   "require_no_pdf_confirmation": true,
   "tests": {
    "q1_2": {
     "name": "q1_2",
     "points": null,
     "suites": [
      {
       "cases": [
        {
         "code": ">>> assert zillow.shape == (90, 2)\n",
         "hidden": false,
         "locked": false
        },
        {
         "code": ">>> assert np.all(zillow.columns == ['DATE', 'ZORI'])\n",
         "hidden": false,
         "locked": false
        },
        {
         "code": ">>> assert zillow['DATE'].iloc[0] == pd.to_datetime('2015-03-31', format='%Y-%m-%d')\n",
         "hidden": false,
         "locked": false
        },
        {
         "code": ">>> assert np.isclose(zillow['ZORI'].iloc[0], 1370.3018057532663)\n",
         "hidden": false,
         "locked": false
        }
       ],
       "scored": true,
       "setup": "",
       "teardown": "",
       "type": "doctest"
      }
     ]
    },
    "q1_3": {
     "name": "q1_3",
     "points": null,
     "suites": [
      {
       "cases": [
        {
         "code": ">>> assert train.shape == (81, 1)\n",
         "hidden": false,
         "locked": false
        },
        {
         "code": ">>> assert test.shape == (9, 1)\n",
         "hidden": false,
         "locked": false
        },
        {
         "code": ">>> assert np.isclose(train['CPI'].mean(), 320.21020987654316)\n",
         "hidden": false,
         "locked": false
        },
        {
         "code": ">>> assert np.isclose(test['CPI'].mean(), 366.08233333333334)\n",
         "hidden": false,
         "locked": false
        }
       ],
       "scored": true,
       "setup": "",
       "teardown": "",
       "type": "doctest"
      }
     ]
    },
    "q2_1": {
     "name": "q2_1",
     "points": null,
     "suites": [
      {
       "cases": [
        {
         "code": ">>> assert q2_1 == 1 or q2_1 == 2\n",
         "hidden": false,
         "locked": false
        }
       ],
       "scored": true,
       "setup": "",
       "teardown": "",
       "type": "doctest"
      }
     ]
    },
    "q3_1": {
     "name": "q3_1",
     "points": 2,
     "suites": [
      {
       "cases": [
        {
         "code": ">>> assert combined.shape == (90, 4)\n",
         "hidden": false,
         "locked": false
        },
        {
         "code": ">>> assert np.allclose(combined['log CPI'].iloc[1:4:8], 5.649837)\n",
         "hidden": false,
         "locked": false
        },
        {
         "code": ">>> assert np.allclose(combined['log ZORI'].iloc[1:4:8], 7.231266)\n",
         "hidden": false,
         "locked": false
        }
       ],
       "scored": true,
       "setup": "",
       "teardown": "",
       "type": "doctest"
      }
     ]
    }
   }
  }
 },
 "nbformat": 4,
 "nbformat_minor": 5
}

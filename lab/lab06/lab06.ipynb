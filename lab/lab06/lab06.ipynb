{
 "cells": [
  {
   "cell_type": "code",
   "execution_count": null,
   "id": "b32e01a8",
   "metadata": {
    "deletable": false,
    "editable": false
   },
   "outputs": [],
   "source": [
    "# Initialize Otter\n",
    "import otter\n",
    "grader = otter.Notebook(\"lab06.ipynb\")"
   ]
  },
  {
   "cell_type": "code",
   "execution_count": null,
   "id": "af051b90",
   "metadata": {},
   "outputs": [],
   "source": [
    "import pandas as pd\n",
    "import numpy as np\n",
    "!pip install sqlalchemy\n",
    "import sqlalchemy\n",
    "from pathlib import Path\n",
    "%load_ext sql"
   ]
  },
  {
   "cell_type": "markdown",
   "id": "9afeedcf",
   "metadata": {},
   "source": [
    "# Lab 6: SQL \n",
    "This notebook is an introduction to SQL. We will be working with a two SQLite datasets: the International Debt Database collected by [the World Bank](https://www.worldbank.org/en/programs/debt-statistics/ids#standard), and a dataset of each country's [PPP](https://www.investopedia.com/updates/purchasing-power-parity-ppp/) (purchasing power parity), as collected by the Organisation for Economic Co-operation and Development (OECD; dataset source [here](https://data.oecd.org/gdp/gross-domestic-product-gdp.htm#indicator-chart)). We are going to explore several questions, some of which include:\n",
    "\n",
    "- How much debt do various countries have?\n",
    "- What are the different debt indicators?\n",
    "- How can we calculate the debt ratio for each country?\n",
    "- How can we translate between SQL and Pandas queries?\n",
    "\n",
    "We will be working with these datasets via [SQL magic functions](https://jupyter-tutorial.readthedocs.io/en/stable/data-processing/postgresql/ipython-sql.html), more information included in part 1. "
   ]
  },
  {
   "cell_type": "markdown",
   "id": "86565362",
   "metadata": {},
   "source": [
    "### Learning Objectives: \n",
    "- Practice basic SQL queries\n",
    "- Translate between SQL queries and Pandas methods"
   ]
  },
  {
   "cell_type": "markdown",
   "id": "2c8747fc",
   "metadata": {},
   "source": [
    "## Setup"
   ]
  },
  {
   "cell_type": "markdown",
   "id": "e47c0c6c-7507-4d70-9c95-3a95bb1726c6",
   "metadata": {},
   "source": [
    "Please just run the cells below to set up your SQL database and the autograder."
   ]
  },
  {
   "cell_type": "code",
   "execution_count": null,
   "id": "9a7f6d94-86f7-4a2a-83cc-7abe9072fecc",
   "metadata": {},
   "outputs": [],
   "source": [
    "# These lines specify the location of our database file\n",
    "dbfile = 'international_debt_3.db'\n",
    "tmpdb = Path('data') / dbfile\n",
    "\n",
    "# Specify the database connection path (in this case, a sqlite database in a file)\n",
    "sqlite_conn = 'sqlite:///' + str(tmpdb)"
   ]
  },
  {
   "cell_type": "code",
   "execution_count": null,
   "id": "cf24652a-7223-40f3-82e9-c48013e1460f",
   "metadata": {},
   "outputs": [],
   "source": [
    "# Run this cell to connect to database\n",
    "engine = sqlalchemy.create_engine(sqlite_conn)\n",
    "connection = engine.connect()"
   ]
  },
  {
   "cell_type": "code",
   "execution_count": null,
   "id": "06884de6-cf44-4936-8fe0-42625e872f6a",
   "metadata": {},
   "outputs": [],
   "source": [
    "%sql engine\n",
    "\n",
    "%load_ext sql\n",
    "db_url = \"postgresql://postgres:@localhost/test\"\n",
    "engine = create_engine(db_url)\n",
    "%sql engine\n",
    "%sql select * from cell_per"
   ]
  },
  {
   "cell_type": "markdown",
   "id": "52a4eccf",
   "metadata": {},
   "source": [
    "In Jupyter Notebooks, a [cell 'magic' command](https://ipython.readthedocs.io/en/stable/interactive/magics.html) is a special command that is preceded by two percentage signs (%%). Cell magics operate on entire cells and are used to change the behavior of the entire cell. They are not part of the Python language itself but are specific to the Jupyter environment. They help us do a lot of cool things, like run SQL commands directly within Jupyter! Using cell magic, let's load in the database and see which datasets we have access to."
   ]
  },
  {
   "cell_type": "code",
   "execution_count": null,
   "id": "aeb729eb",
   "metadata": {},
   "outputs": [],
   "source": [
    "%%sql\n",
    "-- just run this cell --\n",
    "SELECT * FROM sqlite_master WHERE type='table';"
   ]
  },
  {
   "cell_type": "markdown",
   "id": "dbd9fe4f",
   "metadata": {},
   "source": [
    "From running the above cell, we see that our database has two tables, `debt` and `gdp_2022`, both of which we will explore further in this notebook."
   ]
  },
  {
   "cell_type": "markdown",
   "id": "76350f77",
   "metadata": {},
   "source": [
    "---\n",
    "## Part 1: Exploring the Data"
   ]
  },
  {
   "cell_type": "markdown",
   "id": "1aad344b",
   "metadata": {},
   "source": [
    "We can read in data from the SQL database using SQL queries. As a very simple example, the cell below reads in the first 100 rows from the `debt` table. Despite us reading in 100 rows, the restrictions of this Jupyter notebook only display 10 at a time.\n"
   ]
  },
  {
   "cell_type": "code",
   "execution_count": null,
   "id": "e04fd6aa-2518-4e24-9a0a-9533082941ab",
   "metadata": {},
   "outputs": [],
   "source": [
    "%%sql\n",
    "SELECT *\n",
    "FROM debt\n",
    "LIMIT 100"
   ]
  },
  {
   "cell_type": "markdown",
   "id": "f5533299-37ab-4446-baa3-1f24fd7fd04f",
   "metadata": {},
   "source": [
    "<div class=\"alert alert-info\">\n",
    "\n",
    "**Note:** SQL is designed for very fast and efficient use with extremely large databases. However, if you try to access all the rows at once, SQL won't prevent them from being returned. This could crash your computer as you may not have enough space to accommodate such a large output. Please always `LIMIT` your SQL queries unless you are 100% sure the output will not be excessively large. \n",
    "\n",
    "While the datasets in this lab are small enough to not crash your computer, it is still generally a good practice to limit your outputs while you're brainstorming different chunks of code. However, please do not limit your final answer as that may cause the autograder to not work.\n",
    "\n",
    "</div>"
   ]
  },
  {
   "cell_type": "markdown",
   "id": "7b44d7af-8b44-45ed-97ab-e7fda78d5c63",
   "metadata": {},
   "source": [
    "Notice how the output of the SQL command is not a pandas DataFrame. Instead, it's a SQL [Result Set](https://docs.oracle.com/cd/E17952_01/x-devapi-userguide-en/working-with-sql-result-sets.html). You can easily convert it to a dataframe by storing the ResultSet object and calling `.DataFrame()` on it. To store the ResultSet object, just add `res_(the_name) <<` after your `%%sql` call. By doing this, `res_(the_name)` will be assigned to a variable containing the actual ResultSet output, which you can convert to a dataframe easily. An example is shown below."
   ]
  },
  {
   "cell_type": "code",
   "execution_count": null,
   "id": "7f9b433c-53ba-4256-a7e7-3440791310d8",
   "metadata": {},
   "outputs": [],
   "source": [
    "%%sql res_example1 <<\n",
    "/* hi */\n",
    "SELECT *\n",
    "FROM debt"
   ]
  },
  {
   "cell_type": "code",
   "execution_count": null,
   "id": "ae3ce718-34f6-428b-a38e-8d1d17f37444",
   "metadata": {},
   "outputs": [],
   "source": [
    "res_example1"
   ]
  },
  {
   "cell_type": "code",
   "execution_count": null,
   "id": "740d1e25-4732-4a4f-a647-ab65aa27785d",
   "metadata": {},
   "outputs": [],
   "source": [
    "res_example1.DataFrame()"
   ]
  },
  {
   "cell_type": "markdown",
   "id": "24bfa2c8",
   "metadata": {},
   "source": [
    "Our autograder does something similar to access your SQL outputs, please **never** edit the first line of your answer."
   ]
  },
  {
   "cell_type": "markdown",
   "id": "5c668ace",
   "metadata": {
    "deletable": false,
    "editable": false
   },
   "source": [
    "**Question 1.1:** Write a query to select all values for Afghanistan from the `debt` table."
   ]
  },
  {
   "cell_type": "code",
   "execution_count": null,
   "id": "d22394f5",
   "metadata": {
    "tags": []
   },
   "outputs": [],
   "source": [
    "%%sql res_q1_1 <<\n",
    "\n",
    "...\n"
   ]
  },
  {
   "cell_type": "code",
   "execution_count": null,
   "id": "850d7316",
   "metadata": {
    "deletable": false,
    "editable": false
   },
   "outputs": [],
   "source": [
    "grader.check(\"q1_1\")"
   ]
  },
  {
   "cell_type": "markdown",
   "id": "0e6af98e",
   "metadata": {
    "deletable": false,
    "editable": false
   },
   "source": [
    "**Question 1.2:** How many distinct countries are there in the dataset? Write a query that can help us answer this. Your query output should look like the following:\n",
    "\n",
    "| total_distinct_countries |\n",
    "| --- |\n",
    "| XXX |\n",
    "\n",
    "Hint: remember to rename the column. "
   ]
  },
  {
   "cell_type": "code",
   "execution_count": null,
   "id": "a6039b2f",
   "metadata": {
    "tags": []
   },
   "outputs": [],
   "source": [
    "%%sql res_q1_2 <<\n",
    "..."
   ]
  },
  {
   "cell_type": "code",
   "execution_count": null,
   "id": "426d9fc5",
   "metadata": {
    "deletable": false,
    "editable": false
   },
   "outputs": [],
   "source": [
    "grader.check(\"q1_2\")"
   ]
  },
  {
   "cell_type": "markdown",
   "id": "6bae8930",
   "metadata": {
    "deletable": false,
    "editable": false
   },
   "source": [
    "**Question 1.3:** What are the distinct debt indicators? Write a query that can help us answer this. And then order the result by the indicators in an alphabetical order. Your query output should look like the following:\n",
    "\n",
    "| | distinct_debt_indicators |\n",
    "| --- | --- |\n",
    "| 0 | DT.AMT.BLAT.CD |\n",
    "| 1 | DT.AMT.DLXF.CD |\n",
    "| 2 | ... (rows omitted) |\n",
    "\n",
    "Hint: remember to rename the column. "
   ]
  },
  {
   "cell_type": "code",
   "execution_count": null,
   "id": "4c75393d",
   "metadata": {
    "tags": []
   },
   "outputs": [],
   "source": [
    "%%sql res_q1_3 <<\n",
    "..."
   ]
  },
  {
   "cell_type": "code",
   "execution_count": null,
   "id": "2f77ee6e",
   "metadata": {
    "deletable": false,
    "editable": false
   },
   "outputs": [],
   "source": [
    "grader.check(\"q1_3\")"
   ]
  },
  {
   "cell_type": "markdown",
   "id": "087e1738",
   "metadata": {
    "deletable": false,
    "editable": false
   },
   "source": [
    "**Question 1.4:** What is the total amount of debt for each country? Write a query that can help us answer this. And then order the result by the country name in an alphabetical order. Your query output should look like the following:\n",
    "\n",
    "| | country_name | total_debt |\n",
    "| --- | --- | --- |\n",
    "| 0 | Afghanistan | XXX |\n",
    "| 1 | Albania | XXX |\n",
    "| 2 |  | ... (rows omitted) |\n",
    "\n",
    "Hint: Assume that the total amount of debt is the sum of debt from all categories in the table. Remember to rename the column. "
   ]
  },
  {
   "cell_type": "code",
   "execution_count": null,
   "id": "5fe5c174",
   "metadata": {
    "tags": []
   },
   "outputs": [],
   "source": [
    "%%sql res_q1_4 <<\n",
    "...\n"
   ]
  },
  {
   "cell_type": "code",
   "execution_count": null,
   "id": "2d425e19",
   "metadata": {
    "deletable": false,
    "editable": false
   },
   "outputs": [],
   "source": [
    "grader.check(\"q1_4\")"
   ]
  },
  {
   "cell_type": "markdown",
   "id": "d883e95c",
   "metadata": {
    "deletable": false,
    "editable": false
   },
   "source": [
    "**Question 1.5:** Which are the countries with largest debt? Similar to the last question, but order by the total amount of debt this time in a descending order. Break the tie (if any) by country name in an alphabetical order. Your query output should look like the following:\n",
    "\n",
    "| | country_name | total_debt |\n",
    "| --- | --- | --- |\n",
    "| 0 | China | XXX |\n",
    "| 1 | Brazil | XXX |\n",
    "| 2 |  | ... (rows omitted) |\n",
    "\n",
    "Hint: Assume that the total amount of debt is the sum of debt from all categories in the table. Remember to rename the column. "
   ]
  },
  {
   "cell_type": "code",
   "execution_count": null,
   "id": "ac2eb283",
   "metadata": {
    "tags": []
   },
   "outputs": [],
   "source": [
    "%%sql res_q1_5 <<\n",
    "...\n"
   ]
  },
  {
   "cell_type": "code",
   "execution_count": null,
   "id": "e685a0b5",
   "metadata": {
    "deletable": false,
    "editable": false
   },
   "outputs": [],
   "source": [
    "grader.check(\"q1_5\")"
   ]
  },
  {
   "cell_type": "markdown",
   "id": "f9db0ee3",
   "metadata": {
    "deletable": false,
    "editable": false
   },
   "source": [
    "**Question 1.6:** What are the various types of debts and their totals for the developing countries in our data? Write a query that can help us answer this. Order by the total amount of debt for each category in a descending order. Your query output should look like the following:\n",
    "\n",
    "| | indicator_name | total_debt |\n",
    "| --- | --- | --- |\n",
    "| 0 | Principal repayments on external debt, long-te... | XXX |\n",
    "| 1 | Principal repayments on external debt, private... | XXX |\n",
    "| 2 |  | ... (rows omitted) |\n",
    "\n",
    "Hint: remember to rename the column. "
   ]
  },
  {
   "cell_type": "code",
   "execution_count": null,
   "id": "18b49816",
   "metadata": {
    "tags": []
   },
   "outputs": [],
   "source": [
    "%%sql res_q1_6 <<\n",
    "...\n"
   ]
  },
  {
   "cell_type": "code",
   "execution_count": null,
   "id": "0e27ed0e",
   "metadata": {
    "deletable": false,
    "editable": false
   },
   "outputs": [],
   "source": [
    "grader.check(\"q1_6\")"
   ]
  },
  {
   "cell_type": "markdown",
   "id": "3eb7e2c3",
   "metadata": {
    "deletable": false,
    "editable": false
   },
   "source": [
    "**Question 1.7:** Now we want to investigate further about the two countries with the largest debt--China and Brazil. Write a query that select only China and Brazil. Order by the debt category code in an alphabetical order, and break tie by country name in an alphabetical order. Your query output should look like the following:\n",
    "\n",
    "| | country_name | country_code\t| indicator_name | indicator_code | debt |\n",
    "| --- | --- | --- | --- | --- | --- |\n",
    "| 0 | Brazil | BRA | PPG, bilateral (AMT, current US\\$) | DT.AMT.BLAT.CD | XXX |\n",
    "| 1 | China | CHN | PPG, bilateral (AMT, current US\\$) | DT.AMT.BLAT.CD | XXX |\n",
    "| 2 |  |  |  |  | ... (rows omitted) |"
   ]
  },
  {
   "cell_type": "code",
   "execution_count": null,
   "id": "14633849",
   "metadata": {
    "tags": []
   },
   "outputs": [],
   "source": [
    "%%sql res_q1_7 <<\n",
    "...\n"
   ]
  },
  {
   "cell_type": "code",
   "execution_count": null,
   "id": "aeec8d9a",
   "metadata": {
    "deletable": false,
    "editable": false
   },
   "outputs": [],
   "source": [
    "grader.check(\"q1_7\")"
   ]
  },
  {
   "cell_type": "markdown",
   "id": "d7c545a1",
   "metadata": {
    "deletable": false,
    "editable": false
   },
   "source": [
    "<!-- BEGIN QUESTION -->\n",
    "\n",
    "**Question 1.8:** Look at the result above. Do you notice any big difference in the amount of debt in some categories between Brazil and China?"
   ]
  },
  {
   "cell_type": "markdown",
   "id": "766d80ee",
   "metadata": {},
   "source": [
    "_Type your answer here, replacing this text._"
   ]
  },
  {
   "cell_type": "markdown",
   "id": "97f28936-c625-406f-b56b-ea6614e4dbff",
   "metadata": {
    "deletable": false,
    "editable": false
   },
   "source": [
    "<!-- END QUESTION -->\n",
    "\n",
    "---\n",
    "## Part 2: Using multiple tables\n",
    "\n",
    "In this part, we will join our two SQL tables and do operations with them. First, let's take a look at the `gdp_2022` table."
   ]
  },
  {
   "cell_type": "code",
   "execution_count": null,
   "id": "1d276b0e-0885-45aa-98dd-9b7db3eb2d3b",
   "metadata": {},
   "outputs": [],
   "source": [
    "%%sql\n",
    "SELECT *\n",
    "FROM gdp_2022\n",
    "LIMIT 100"
   ]
  },
  {
   "cell_type": "markdown",
   "id": "004ea88a-8196-4efc-839a-c63c4f69b080",
   "metadata": {
    "deletable": false,
    "editable": false
   },
   "source": [
    "**Question 2.1:** Looking at the `gdp_2022` table, it appears the the `LOCATION` column contains the three digit country code for each country, similar to the `country_code` column in the `debt` table. Use this information to perform a simple join on both tables, only keeping rows where there are no missing values in either table."
   ]
  },
  {
   "cell_type": "code",
   "execution_count": null,
   "id": "148ec6a5-688e-433d-8121-419663bc298f",
   "metadata": {
    "tags": []
   },
   "outputs": [],
   "source": [
    "%%sql res_q2_1 <<\n",
    "..."
   ]
  },
  {
   "cell_type": "code",
   "execution_count": null,
   "id": "f35d1d6a",
   "metadata": {
    "deletable": false,
    "editable": false
   },
   "outputs": [],
   "source": [
    "grader.check(\"q2_1\")"
   ]
  },
  {
   "cell_type": "markdown",
   "id": "85d3fc07-48ba-4612-b783-cca6934336b8",
   "metadata": {},
   "source": [
    "This table has a slight misnomer. While it is named `gdp_2022`, it actually doesn't have any GDP information at all. Instead, it contains the total PPP for each country (in millions of dollars) in 2022 in the `Value` column (read more about the difference [here](https://unacademy.com/content/railway-exam/study-material/static-gk/differentiate-between-gdp-and-ppp/#:~:text=GDP%20can%20be%20used%20as,country%20boundaries%20annually%20or%20quarterly))."
   ]
  },
  {
   "cell_type": "markdown",
   "id": "c351ad0f-f6dc-40fc-a195-cc332401e587",
   "metadata": {
    "deletable": false,
    "editable": false
   },
   "source": [
    "**Question 2.2:** Combining data from the two tables, generate a new table that has each country's name, total debt (across all indicators), ppp in dollars (not in millions of dollars) and the year in which these values were measured (which is always 2022). The first 5 rows of your output should look like the sample dataframe below."
   ]
  },
  {
   "cell_type": "code",
   "execution_count": null,
   "id": "b1d5f45a-5e43-497f-8977-094dfd01fdf5",
   "metadata": {
    "deletable": false,
    "editable": false
   },
   "outputs": [],
   "source": [
    "examp_2_2_data = {\n",
    "    'country': ['Bulgaria', 'China', 'Colombia', 'Costa Rica', 'Indonesia'],\n",
    "    'debt': [6.369102e9, 2.857935e11, 4.543012e10, 8.616331e9, 1.134357e11],\n",
    "    'ppp': [2.202952e11, 3.009070e13, 1.051418e12, 1.291200e11, 3.969883e12],\n",
    "    'year': [2022, 2022, 2022, 2022, 2022]\n",
    "}\n",
    "\n",
    "df_2_2 = pd.DataFrame(examp_2_2_data)\n",
    "df_2_2"
   ]
  },
  {
   "cell_type": "code",
   "execution_count": null,
   "id": "8f9620f1-a4c3-4169-be4d-59504eb6df0c",
   "metadata": {
    "tags": []
   },
   "outputs": [],
   "source": [
    "%%sql res_q2_2 <<\n",
    "\n",
    "..."
   ]
  },
  {
   "cell_type": "code",
   "execution_count": null,
   "id": "4b504b3b",
   "metadata": {
    "deletable": false,
    "editable": false
   },
   "outputs": [],
   "source": [
    "grader.check(\"q2_2\")"
   ]
  },
  {
   "cell_type": "markdown",
   "id": "fd938e03-25d9-4ccf-93f7-c9aff9e266c8",
   "metadata": {},
   "source": [
    "The `debt` table has 124 different country codes, while the `gdp_2022` table has 50 different country codes. Despite that, both tables only have 10 overlapping countries. This is unfortunate, but it is the only data we have - welcome to real world data science!"
   ]
  },
  {
   "cell_type": "markdown",
   "id": "ae00cb26-8b75-455b-b379-48e4b42575e7",
   "metadata": {
    "deletable": false,
    "editable": false
   },
   "source": [
    "**Question 2.3:** Since we have all the relevant data, we might as well calculate the [debt ratio](https://worldpopulationreview.com/country-rankings/debt-to-gdp-ratio-by-country) for each country. Your output for this question should be very similar to your output for 2.2, with the only new column being called `debtRatio` and representing the debt ratio for each country. For the sake of clarity, only show the first 3 decimal places of each country's debt ratio.\n",
    "\n",
    "*Note:* As we're comparing debt with PPP rather than with GDP, we're calculating the Debt-to-PPP ratio rather than Debt-to-GDP."
   ]
  },
  {
   "cell_type": "code",
   "execution_count": null,
   "id": "69a06cab-3c76-4147-8de5-60ea2a140468",
   "metadata": {
    "tags": []
   },
   "outputs": [],
   "source": [
    "%%sql res_q2_3 <<\n",
    "\n",
    "...\n"
   ]
  },
  {
   "cell_type": "code",
   "execution_count": null,
   "id": "e4df0965",
   "metadata": {
    "deletable": false,
    "editable": false
   },
   "outputs": [],
   "source": [
    "grader.check(\"q2_3\")"
   ]
  },
  {
   "cell_type": "markdown",
   "id": "012da278-8d95-4067-8025-ac7fac677c8d",
   "metadata": {
    "deletable": false,
    "editable": false
   },
   "source": [
    "**Question 2.4:** As we saw above, there are very few countries with data across both tables. To mitigate this, create a table which has information on the debt for as many countries as possible, regardless on whether or not we also have data on their ppp. Don't include any countries for which you do not have information on the debt. This table should have the same columns as the output for question 2.2."
   ]
  },
  {
   "cell_type": "code",
   "execution_count": null,
   "id": "a3f1c859-bd34-4719-a378-d6f558d15ae3",
   "metadata": {
    "editable": true,
    "slideshow": {
     "slide_type": ""
    },
    "tags": []
   },
   "outputs": [],
   "source": [
    "%%sql res_q2_4 <<\n",
    "\n",
    "...\n"
   ]
  },
  {
   "cell_type": "code",
   "execution_count": null,
   "id": "8745f43b",
   "metadata": {
    "deletable": false,
    "editable": false
   },
   "outputs": [],
   "source": [
    "grader.check(\"q2_4\")"
   ]
  },
  {
   "cell_type": "markdown",
   "id": "6331e3b7-7cd1-470a-a3df-f42dc7891f70",
   "metadata": {
    "deletable": false,
    "editable": false
   },
   "source": [
    "**Question 2.5:** Filter the table from question 2.4 to only output countries with a total debt greater than 10 billion dollars."
   ]
  },
  {
   "cell_type": "code",
   "execution_count": null,
   "id": "2ac7d898-dbcb-4def-a21d-3e0c4e8dfa6d",
   "metadata": {
    "tags": []
   },
   "outputs": [],
   "source": [
    "%%sql res_q2_5 <<\n",
    "\n",
    "...\n"
   ]
  },
  {
   "cell_type": "code",
   "execution_count": null,
   "id": "9de9a25f",
   "metadata": {
    "deletable": false,
    "editable": false
   },
   "outputs": [],
   "source": [
    "grader.check(\"q2_5\")"
   ]
  },
  {
   "cell_type": "markdown",
   "id": "8c46d7b7-0352-41ff-b408-1788b23f7689",
   "metadata": {
    "editable": true,
    "slideshow": {
     "slide_type": ""
    },
    "tags": []
   },
   "source": [
    "Looking at the output, we can see that the `debt` table also contains some regions which aren't exactly countries. If we did our EDA better, we would've ideally caught these rows earlier and appropriately dealt with them."
   ]
  },
  {
   "cell_type": "markdown",
   "id": "11c6459b-34e9-454e-a3d4-9adaaf05949e",
   "metadata": {
    "deletable": false,
    "editable": false
   },
   "source": [
    "**Question 2.6:** Let's take a slightly more sophisticated approach. Let's add in a column `Warning Level` to the table from question 2.4, which says `safe` if the debt level is less than 100 million dollars, `warning` if the debt level is between 100 million and 10 billion dollars, and `danger` if the debt level is greater than 10 billion dollars."
   ]
  },
  {
   "cell_type": "code",
   "execution_count": null,
   "id": "d2f80b62-d3ae-4c2c-bfe6-1bc493c66bf4",
   "metadata": {
    "tags": []
   },
   "outputs": [],
   "source": [
    "%%sql res_q2_6 <<\n",
    "...\n"
   ]
  },
  {
   "cell_type": "code",
   "execution_count": null,
   "id": "ad9199f9",
   "metadata": {
    "deletable": false,
    "editable": false
   },
   "outputs": [],
   "source": [
    "grader.check(\"q2_6\")"
   ]
  },
  {
   "cell_type": "markdown",
   "id": "f0763bc2",
   "metadata": {},
   "source": [
    "---\n",
    "## Part 3: Translating SQL queries\n",
    "In this part, we will do some simple exercise to find equivalent commands in SQL and Pandas. "
   ]
  },
  {
   "cell_type": "markdown",
   "id": "32dc1189",
   "metadata": {},
   "source": [
    "In this part, we will have two tables or dataframes: `farm` and `shop`. You may have already seen them in the discussion sections!\n",
    "\n",
    "The `farm` table:\n",
    "\n",
    "| | crop | price | type | is_red |\n",
    "| --- | --- | --- | --- | --- |\n",
    "| 0 | Starfruit | 750 | Fruit | False |\n",
    "| 1 | Sweet Gem Berry | 3000 | Fruit | True |\n",
    "| 2 | Red Cabbage | 260 | Vegetable | True |\n",
    "| 3 | Parsnip | 35 | Vegetable | True |\n",
    "| 4 | Pumpkin | 320 | Vegetable | False |\n",
    "\n",
    "The `shop` table:\n",
    "\n",
    "| | type | on_sale |\n",
    "| --- | --- | --- |\n",
    "| 0 | Fruit | True |\n",
    "| 1 | Vegetable | False |\n",
    "| 2 | Egg | False |\n",
    "| 3 | Fish | False |"
   ]
  },
  {
   "cell_type": "markdown",
   "id": "b7cb6970",
   "metadata": {
    "deletable": false,
    "editable": false
   },
   "source": [
    "**Question 3.1:** Which of the following SQL query or queries are logically equivalent to the following Pandas query?\n",
    "\n",
    "```python\n",
    "farm.merge(shop, how=\"inner\", on=\"type\")\n",
    "```\n",
    "\n",
    "a.\n",
    "``` mysql\n",
    "SELECT * FROM farm, shop\n",
    "WHERE type = type;\n",
    "``` \n",
    "b.\n",
    "``` mysql\n",
    "SELECT * FROM farm, shop \n",
    "WHERE farm.type = shop.type;\n",
    "``` \n",
    "c.\n",
    "``` mysql\n",
    "SELECT * FROM farm\n",
    "INNER JOIN shop\n",
    "WHERE farm.type = shop.type;\n",
    "``` \n",
    "d.\n",
    "``` mysql\n",
    "SELECT * FROM farm\n",
    "INNER JOIN shop\n",
    "ON farm.type = shop.type;\n",
    "``` \n",
    "\n",
    "Assign an array of letters corresponding to your answer to `q2_1` below. For example, `q2_1 = np.array(['a', 'b', 'c', 'd'])`."
   ]
  },
  {
   "cell_type": "code",
   "execution_count": null,
   "id": "bb8fd34f",
   "metadata": {
    "tags": []
   },
   "outputs": [],
   "source": [
    "q3_1 = ..."
   ]
  },
  {
   "cell_type": "code",
   "execution_count": null,
   "id": "612d33b5",
   "metadata": {
    "deletable": false,
    "editable": false
   },
   "outputs": [],
   "source": [
    "grader.check(\"q3_1\")"
   ]
  },
  {
   "cell_type": "markdown",
   "id": "8dde0c9d",
   "metadata": {
    "deletable": false,
    "editable": false
   },
   "source": [
    "**Question 3.2:** Which of the following Pandas command or commands are logically equivalent to the following SQL queries query?\n",
    "\n",
    "``` mysql\n",
    "SELECT type, AVG(price)\n",
    "FROM farm\n",
    "GROUP BY type;\n",
    "\n",
    "``` \n",
    "\n",
    "a.\n",
    "``` python\n",
    "farm[\"price\"].mean()\n",
    "``` \n",
    "b.\n",
    "``` python\n",
    "farm.groupby([\"type\", \"price\"]).mean()\n",
    "```  \n",
    "c.\n",
    "``` python\n",
    "farm.groupby(\"price\")[[\"type\"]].mean()\n",
    "``` \n",
    "d.\n",
    "``` python\n",
    "farm.groupby(\"type\")[[\"price\"]].mean()\n",
    "``` \n",
    "\n",
    "Assign an array of letters corresponding to your answer to `q2_2` below. For example, `q2_2 = np.array(['a', 'b', 'c', 'd'])`."
   ]
  },
  {
   "cell_type": "code",
   "execution_count": null,
   "id": "425af9b6",
   "metadata": {
    "tags": []
   },
   "outputs": [],
   "source": [
    "q3_2 = ..."
   ]
  },
  {
   "cell_type": "code",
   "execution_count": null,
   "id": "8bf39a93",
   "metadata": {
    "deletable": false,
    "editable": false
   },
   "outputs": [],
   "source": [
    "grader.check(\"q3_2\")"
   ]
  },
  {
   "cell_type": "markdown",
   "id": "d464ed0c",
   "metadata": {},
   "source": [
    "---\n",
    "## Feedback"
   ]
  },
  {
   "cell_type": "markdown",
   "id": "f53630f4",
   "metadata": {
    "deletable": false,
    "editable": false
   },
   "source": [
    "**Question 4:** Please fill out this short [feedback form](https://forms.gle/CUMuTDkgZR56zUWx8) to let us know your thoughts about this lab! We really appreciate your opinions and feedback! At the end of the Google form, you should see a codeword. Assign the codeword to the variable `codeword` below. "
   ]
  },
  {
   "cell_type": "code",
   "execution_count": null,
   "id": "bb0e37a7",
   "metadata": {
    "tags": []
   },
   "outputs": [],
   "source": [
    "codeword = ..."
   ]
  },
  {
   "cell_type": "code",
   "execution_count": null,
   "id": "6c253c46",
   "metadata": {
    "deletable": false,
    "editable": false
   },
   "outputs": [],
   "source": [
    "grader.check(\"q4\")"
   ]
  },
  {
   "cell_type": "markdown",
   "id": "99bd1ae1",
   "metadata": {
    "deletable": false,
    "editable": false
   },
   "source": [
    "## Submission\n",
    "\n",
    "Make sure you have run all cells in your notebook in order before running the cell below, so that all images/graphs appear in the output. The cell below will generate a zip file for you to submit. **Please save before exporting!**"
   ]
  },
  {
   "cell_type": "code",
   "execution_count": null,
   "id": "4a50dfcb",
   "metadata": {
    "deletable": false,
    "editable": false
   },
   "outputs": [],
   "source": [
    "# Save your notebook first, then run this cell to export your submission.\n",
    "grader.export(run_tests=True)"
   ]
  },
  {
   "cell_type": "markdown",
   "id": "a4295d03",
   "metadata": {},
   "source": [
    " "
   ]
  }
 ],
 "metadata": {
  "kernelspec": {
   "display_name": "Python 3 (ipykernel)",
   "language": "python",
   "name": "python3"
  },
  "language_info": {
   "codemirror_mode": {
    "name": "ipython",
    "version": 3
   },
   "file_extension": ".py",
   "mimetype": "text/x-python",
   "name": "python",
   "nbconvert_exporter": "python",
   "pygments_lexer": "ipython3",
   "version": "3.12.7"
  },
  "otter": {
   "OK_FORMAT": true,
   "export_pdf_failure_message": "PDF did not generate, please submit screenshots for question 1.8",
   "require_no_pdf_confirmation": true,
   "tests": {
    "q1_1": {
     "name": "q1_1",
     "points": null,
     "suites": [
      {
       "cases": [
        {
         "code": ">>> if type(res_q1_1) != pd.core.frame.DataFrame:\n...     res_q1_1 = res_q1_1.DataFrame()\n>>> assert res_q1_1.shape == (12, 5)\n",
         "hidden": false,
         "locked": false
        },
        {
         "code": ">>> if type(res_q1_1) != pd.core.frame.DataFrame:\n...     res_q1_1 = res_q1_1.DataFrame()\n>>> assert np.all(res_q1_1['country_code'] == 'AFG')\n",
         "hidden": false,
         "locked": false
        }
       ],
       "scored": true,
       "setup": "",
       "teardown": "",
       "type": "doctest"
      }
     ]
    },
    "q1_2": {
     "name": "q1_2",
     "points": null,
     "suites": [
      {
       "cases": [
        {
         "code": ">>> if type(res_q1_2) != pd.core.frame.DataFrame:\n...     res_q1_2 = res_q1_2.DataFrame()\n>>> assert res_q1_2.shape == (1, 1)\n",
         "hidden": false,
         "locked": false
        },
        {
         "code": ">>> if type(res_q1_2) != pd.core.frame.DataFrame:\n...     res_q1_2 = res_q1_2.DataFrame()\n>>> assert res_q1_2.columns[0] == 'total_distinct_countries'\n",
         "hidden": false,
         "locked": false
        },
        {
         "code": ">>> if type(res_q1_2) != pd.core.frame.DataFrame:\n...     res_q1_2 = res_q1_2.DataFrame()\n>>> assert np.isclose(res_q1_2.iloc[0, 0], 124)\n",
         "hidden": false,
         "locked": false
        }
       ],
       "scored": true,
       "setup": "",
       "teardown": "",
       "type": "doctest"
      }
     ]
    },
    "q1_3": {
     "name": "q1_3",
     "points": null,
     "suites": [
      {
       "cases": [
        {
         "code": ">>> if type(res_q1_3) != pd.core.frame.DataFrame:\n...     res_q1_3 = res_q1_3.DataFrame()\n>>> assert res_q1_3.shape == (25, 1)\n",
         "hidden": false,
         "locked": false
        },
        {
         "code": ">>> if type(res_q1_3) != pd.core.frame.DataFrame:\n...     res_q1_3 = res_q1_3.DataFrame()\n>>> assert res_q1_3.columns[0] == 'distinct_debt_indicators'\n",
         "hidden": false,
         "locked": false
        },
        {
         "code": ">>> if type(res_q1_3) != pd.core.frame.DataFrame:\n...     res_q1_3 = res_q1_3.DataFrame()\n>>> assert len(res_q1_3.iloc[:, 0].unique()) == 25\n",
         "hidden": false,
         "locked": false
        }
       ],
       "scored": true,
       "setup": "",
       "teardown": "",
       "type": "doctest"
      }
     ]
    },
    "q1_4": {
     "name": "q1_4",
     "points": null,
     "suites": [
      {
       "cases": [
        {
         "code": ">>> if type(res_q1_4) != pd.core.frame.DataFrame:\n...     res_q1_4 = res_q1_4.DataFrame()\n>>> assert res_q1_4.shape == (124, 2)\n",
         "hidden": false,
         "locked": false
        },
        {
         "code": ">>> if type(res_q1_4) != pd.core.frame.DataFrame:\n...     res_q1_4 = res_q1_4.DataFrame()\n>>> assert res_q1_4.iloc[5].country_name == 'Azerbaijan'\n",
         "hidden": false,
         "locked": false
        },
        {
         "code": ">>> if type(res_q1_4) != pd.core.frame.DataFrame:\n...     res_q1_4 = res_q1_4.DataFrame()\n>>> assert np.isclose(res_q1_4.iloc[5].total_debt, 8753733000.0)\n",
         "hidden": false,
         "locked": false
        }
       ],
       "scored": true,
       "setup": "",
       "teardown": "",
       "type": "doctest"
      }
     ]
    },
    "q1_5": {
     "name": "q1_5",
     "points": null,
     "suites": [
      {
       "cases": [
        {
         "code": ">>> if type(res_q1_5) != pd.core.frame.DataFrame:\n...     res_q1_5 = res_q1_5.DataFrame()\n>>> assert res_q1_5.shape == (124, 2)\n",
         "hidden": false,
         "locked": false
        },
        {
         "code": ">>> if type(res_q1_5) != pd.core.frame.DataFrame:\n...     res_q1_5 = res_q1_5.DataFrame()\n>>> assert res_q1_5.iloc[4].country_name == 'Russian Federation'\n",
         "hidden": false,
         "locked": false
        },
        {
         "code": ">>> if type(res_q1_5) != pd.core.frame.DataFrame:\n...     res_q1_5 = res_q1_5.DataFrame()\n>>> assert np.isclose(res_q1_5.iloc[4].total_debt, 191289100000.0)\n",
         "hidden": false,
         "locked": false
        }
       ],
       "scored": true,
       "setup": "",
       "teardown": "",
       "type": "doctest"
      }
     ]
    },
    "q1_6": {
     "name": "q1_6",
     "points": null,
     "suites": [
      {
       "cases": [
        {
         "code": ">>> if type(res_q1_6) != pd.core.frame.DataFrame:\n...     res_q1_6 = res_q1_6.DataFrame()\n>>> assert res_q1_6.shape == (25, 2)\n",
         "hidden": false,
         "locked": false
        },
        {
         "code": ">>> if type(res_q1_6) != pd.core.frame.DataFrame:\n...     res_q1_6 = res_q1_6.DataFrame()\n>>> assert res_q1_6.iloc[4].indicator_name == 'Interest payments on external debt, long-term (INT, current US$)'\n",
         "hidden": false,
         "locked": false
        },
        {
         "code": ">>> if type(res_q1_6) != pd.core.frame.DataFrame:\n...     res_q1_6 = res_q1_6.DataFrame()\n>>> assert np.isclose(res_q1_6.iloc[4].total_debt, 203859000000.0)\n",
         "hidden": false,
         "locked": false
        }
       ],
       "scored": true,
       "setup": "",
       "teardown": "",
       "type": "doctest"
      }
     ]
    },
    "q1_7": {
     "name": "q1_7",
     "points": null,
     "suites": [
      {
       "cases": [
        {
         "code": ">>> if type(res_q1_7) != pd.core.frame.DataFrame:\n...     res_q1_7 = res_q1_7.DataFrame()\n>>> assert res_q1_7.shape == (48, 5)\n",
         "hidden": false,
         "locked": false
        },
        {
         "code": ">>> if type(res_q1_7) != pd.core.frame.DataFrame:\n...     res_q1_7 = res_q1_7.DataFrame()\n>>> assert np.all(res_q1_7['country_code'].isin(['CHN', 'BRA']))\n",
         "hidden": false,
         "locked": false
        },
        {
         "code": ">>> if type(res_q1_7) != pd.core.frame.DataFrame:\n...     res_q1_7 = res_q1_7.DataFrame()\n>>> assert res_q1_7.iloc[4].indicator_name == 'Principal repayments on external debt, private nonguaranteed (PNG) (AMT, current US$)'\n",
         "hidden": false,
         "locked": false
        },
        {
         "code": ">>> if type(res_q1_7) != pd.core.frame.DataFrame:\n...     res_q1_7 = res_q1_7.DataFrame()\n>>> assert np.isclose(res_q1_7.iloc[4].debt, 41831444053.3)\n",
         "hidden": false,
         "locked": false
        }
       ],
       "scored": true,
       "setup": "",
       "teardown": "",
       "type": "doctest"
      }
     ]
    },
    "q2_1": {
     "name": "q2_1",
     "points": null,
     "suites": [
      {
       "cases": [
        {
         "code": ">>> if type(res_q2_1) != pd.core.frame.DataFrame:\n...     res_q2_1 = res_q2_1.DataFrame()\n>>> assert res_q2_1.shape == (225, 11)\n",
         "hidden": false,
         "locked": false
        },
        {
         "code": ">>> if type(res_q2_1) != pd.core.frame.DataFrame:\n...     res_q2_1 = res_q2_1.DataFrame()\n>>> assert np.isclose(len(res_q2_1['country_name'].unique()), 10)\n",
         "hidden": false,
         "locked": false
        }
       ],
       "scored": true,
       "setup": "",
       "teardown": "",
       "type": "doctest"
      }
     ]
    },
    "q2_2": {
     "name": "q2_2",
     "points": 2,
     "suites": [
      {
       "cases": [
        {
         "code": ">>> if type(res_q2_2) != pd.core.frame.DataFrame:\n...     res_q2_2 = res_q2_2.DataFrame()\n>>> assert res_q2_2.shape == (10, 4)\n",
         "hidden": false,
         "locked": false
        },
        {
         "code": ">>> if type(res_q2_2) != pd.core.frame.DataFrame:\n...     res_q2_2 = res_q2_2.DataFrame()\n>>> assert np.isclose(res_q2_2.loc[res_q2_2['country'] == 'Romania', 'ppp'].iloc[0], 792547021000.0)\n",
         "hidden": false,
         "locked": false
        }
       ],
       "scored": true,
       "setup": "",
       "teardown": "",
       "type": "doctest"
      }
     ]
    },
    "q2_3": {
     "name": "q2_3",
     "points": 2,
     "suites": [
      {
       "cases": [
        {
         "code": ">>> if type(res_q2_3) != pd.core.frame.DataFrame:\n...     res_q2_3 = res_q2_3.DataFrame()\n>>> assert res_q2_3.shape == (10, 5)\n",
         "hidden": false,
         "locked": false
        },
        {
         "code": ">>> if type(res_q2_3) != pd.core.frame.DataFrame:\n...     res_q2_3 = res_q2_3.DataFrame()\n>>> assert res_q2_3.loc[res_q2_3['country'] == 'Romania', 'debtRatio'].iloc[0] == 0.054\n",
         "hidden": false,
         "locked": false
        }
       ],
       "scored": true,
       "setup": "",
       "teardown": "",
       "type": "doctest"
      }
     ]
    },
    "q2_4": {
     "name": "q2_4",
     "points": null,
     "suites": [
      {
       "cases": [
        {
         "code": ">>> if type(res_q2_4) != pd.core.frame.DataFrame:\n...     res_q2_4 = res_q2_4.DataFrame()\n>>> assert res_q2_4.shape == (124, 4)\n",
         "hidden": false,
         "locked": false
        },
        {
         "code": ">>> if type(res_q2_4) != pd.core.frame.DataFrame:\n...     res_q2_4 = res_q2_4.DataFrame()\n>>> assert float(res_q2_4.loc[res_q2_4['country'] == 'South Africa', 'year'].iloc[0]) == 2022\n>>> assert len(res_q2_4.loc[res_q2_4['country'] == 'Yemen', 'ppp']) == 0\n",
         "hidden": false,
         "locked": false
        }
       ],
       "scored": true,
       "setup": "",
       "teardown": "",
       "type": "doctest"
      }
     ]
    },
    "q2_5": {
     "name": "q2_5",
     "points": null,
     "suites": [
      {
       "cases": [
        {
         "code": ">>> if type(res_q2_5) != pd.core.frame.DataFrame:\n...     res_q2_5 = res_q2_5.DataFrame()\n>>> assert res_q2_5.shape == (7, 4)\n",
         "hidden": false,
         "locked": false
        },
        {
         "code": ">>> if type(res_q2_5) != pd.core.frame.DataFrame:\n...     res_q2_5 = res_q2_5.DataFrame()\n>>> assert 'South Asia' in res_q2_5['country'].tolist()\n",
         "hidden": false,
         "locked": false
        }
       ],
       "scored": true,
       "setup": "",
       "teardown": "",
       "type": "doctest"
      }
     ]
    },
    "q2_6": {
     "name": "q2_6",
     "points": null,
     "suites": [
      {
       "cases": [
        {
         "code": ">>> if type(res_q2_6) != pd.core.frame.DataFrame:\n...     res_q2_6 = res_q2_6.DataFrame()\n>>> assert 'Warning Level' in res_q2_6.columns\n>>> assert res_q2_6.shape == (124, 5)\n",
         "hidden": false,
         "locked": false
        },
        {
         "code": ">>> if type(res_q2_6) != pd.core.frame.DataFrame:\n...     res_q2_6 = res_q2_6.DataFrame()\n>>> assert res_q2_6.loc[res_q2_6['country'] == 'Angola', 'Warning Level'].iloc[0] == 'danger'\n>>> assert res_q2_6.loc[res_q2_6['country'] == 'Afghanistan', 'Warning Level'].iloc[0] == 'safe'\n>>> assert res_q2_6.loc[res_q2_6['country'] == 'Albania', 'Warning Level'].iloc[0] == 'warning'\n",
         "hidden": false,
         "locked": false
        }
       ],
       "scored": true,
       "setup": "",
       "teardown": "",
       "type": "doctest"
      }
     ]
    },
    "q3_1": {
     "name": "q3_1",
     "points": null,
     "suites": [
      {
       "cases": [
        {
         "code": ">>> assert len(q3_1) > 0\n",
         "hidden": false,
         "locked": false
        },
        {
         "code": ">>> assert sum([ord(c) for c in q3_1]) ^ 966984 == 967054\n",
         "hidden": false,
         "locked": false
        }
       ],
       "scored": true,
       "setup": "",
       "teardown": "",
       "type": "doctest"
      }
     ]
    },
    "q3_2": {
     "name": "q3_2",
     "points": null,
     "suites": [
      {
       "cases": [
        {
         "code": ">>> assert len(q3_2) > 0\n",
         "hidden": false,
         "locked": false
        },
        {
         "code": ">>> assert sum([ord(c) for c in q3_2]) ^ 966984 == 966956\n",
         "hidden": false,
         "locked": false
        }
       ],
       "scored": true,
       "setup": "",
       "teardown": "",
       "type": "doctest"
      }
     ]
    },
    "q4": {
     "name": "q4",
     "points": null,
     "suites": [
      {
       "cases": [
        {
         "code": ">>> assert sum([ord(c) for c in codeword]) ^ 966984 == 967606\n",
         "hidden": false,
         "locked": false
        }
       ],
       "scored": true,
       "setup": "",
       "teardown": "",
       "type": "doctest"
      }
     ]
    }
   }
  }
 },
 "nbformat": 4,
 "nbformat_minor": 5
}

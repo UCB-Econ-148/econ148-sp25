{
 "cells": [
  {
   "cell_type": "code",
   "execution_count": null,
   "id": "6e952840",
   "metadata": {
    "deletable": false,
    "editable": false
   },
   "outputs": [],
   "source": [
    "# Initialize Otter\n",
    "import otter\n",
    "grader = otter.Notebook(\"lab01.ipynb\")"
   ]
  },
  {
   "cell_type": "code",
   "execution_count": null,
   "id": "08da1ca7",
   "metadata": {
    "editable": true,
    "slideshow": {
     "slide_type": ""
    },
    "tags": []
   },
   "outputs": [],
   "source": [
    "import pandas as pd\n",
    "import numpy as np\n",
    "from datetime import date\n",
    "import matplotlib.pyplot as plt\n",
    "%matplotlib inline"
   ]
  },
  {
   "cell_type": "markdown",
   "id": "f33e08f3-4338-4f2f-a91d-cf253efc5e3f",
   "metadata": {},
   "source": [
    "# Lab 1: Using Pandas"
   ]
  },
  {
   "cell_type": "markdown",
   "id": "155f898f",
   "metadata": {
    "editable": true,
    "slideshow": {
     "slide_type": ""
    },
    "tags": []
   },
   "source": [
    "*This lab is heavily inspired by [Data 198 Module 2](https://github.com/ds-modules/DATA-198-SP21/blob/main/module_2/module2.ipynb) and [Data 88E Lab 9](https://github.com/data-88e/fa22-dev/blob/main/lab/lab09/lab09.ipynb).*\n",
    "\n",
    "The `pandas` module is a powerful library for manipulating and analyzing data. In this lab, you will use what you learned in lecture, as well as the `pandas` documentation, to manipulate and analyze some example datasets."
   ]
  },
  {
   "cell_type": "markdown",
   "id": "b4064518",
   "metadata": {
    "editable": true,
    "slideshow": {
     "slide_type": ""
    },
    "tags": []
   },
   "source": [
    "### Learning Objectives\n",
    "\n",
    "By the end of this lab, you should be able to work with datasets with basic Pandas methods, including\n",
    "- Read a `.csv` file into a `pandas` dataframe\n",
    "- Select certain columns from a dataframe\n",
    "- Filter a dataframe\n",
    "- Use the `pandas` documentation to complete a certain data manipulation task (e.g. a join)"
   ]
  },
  {
   "cell_type": "markdown",
   "id": "dd44882b",
   "metadata": {
    "editable": true,
    "slideshow": {
     "slide_type": ""
    },
    "tags": []
   },
   "source": [
    "----\n",
    "\n",
    "## Price Data over Time"
   ]
  },
  {
   "cell_type": "markdown",
   "id": "80ea8f2d",
   "metadata": {
    "editable": true,
    "slideshow": {
     "slide_type": ""
    },
    "tags": []
   },
   "source": [
    "We begin by importing an example dataset that tells us the price of some good over time."
   ]
  },
  {
   "cell_type": "markdown",
   "id": "c19e5588",
   "metadata": {
    "deletable": false,
    "editable": false
   },
   "source": [
    "**Question 1.1:** Import the data from the `prices.csv` file into a DataFrame named `prices_raw`."
   ]
  },
  {
   "cell_type": "code",
   "execution_count": null,
   "id": "70606507",
   "metadata": {
    "tags": []
   },
   "outputs": [],
   "source": [
    "prices_raw = ...\n",
    "prices_raw"
   ]
  },
  {
   "cell_type": "code",
   "execution_count": null,
   "id": "1d12fd4f",
   "metadata": {
    "deletable": false,
    "editable": false
   },
   "outputs": [],
   "source": [
    "grader.check(\"q1_1\")"
   ]
  },
  {
   "cell_type": "markdown",
   "id": "88d63f02",
   "metadata": {},
   "source": [
    "First, we want to add a `date` row to this table that contains the date of each entry as a [Python date object](https://docs.python.org/3/library/datetime.html#datetime.date). Using Python date objects allows us to manipulate dates and times conveniently (for example, they make sorting by dates very easy). Below, we've defined a function that, given a row, tells us the date of that row based on its `year` and `month`:"
   ]
  },
  {
   "cell_type": "code",
   "execution_count": null,
   "id": "60e44f70",
   "metadata": {},
   "outputs": [],
   "source": [
    "def date_of_row(row):\n",
    "    return date(int(row['year']), int(row['month']), 1)"
   ]
  },
  {
   "cell_type": "markdown",
   "id": "00079d17",
   "metadata": {},
   "source": [
    "As an example, let's see what this function returns when applied to the first row:"
   ]
  },
  {
   "cell_type": "code",
   "execution_count": null,
   "id": "0860ae9b",
   "metadata": {},
   "outputs": [],
   "source": [
    "date_of_row(prices_raw.iloc[0])"
   ]
  },
  {
   "cell_type": "markdown",
   "id": "23a3559c",
   "metadata": {},
   "source": [
    "This looks like what we're looking for. So, how do we apply it to every row in the table? \n",
    "\n",
    "Let's look into the `apply` function. Read the [documentation](https://pandas.pydata.org/docs/reference/api/pandas.DataFrame.apply.html)."
   ]
  },
  {
   "cell_type": "markdown",
   "id": "01ef1dfe",
   "metadata": {
    "deletable": false,
    "editable": false
   },
   "source": [
    "<!-- BEGIN QUESTION -->\n",
    "\n",
    "**Question 1.2:** What is the `func` argument in the documentation? What should we pass for the `func` argument in this case?"
   ]
  },
  {
   "cell_type": "markdown",
   "id": "2925c695",
   "metadata": {},
   "source": [
    "_Type your answer here, replacing this text._"
   ]
  },
  {
   "cell_type": "markdown",
   "id": "d382caa6",
   "metadata": {
    "deletable": false,
    "editable": false
   },
   "source": [
    "<!-- END QUESTION -->\n",
    "\n",
    "<!-- BEGIN QUESTION -->\n",
    "\n",
    "**Question 1.3:** What is the `axis` argument? What should we pass for the `axis` argument in this case?"
   ]
  },
  {
   "cell_type": "markdown",
   "id": "76aef75a",
   "metadata": {},
   "source": [
    "_Type your answer here, replacing this text._"
   ]
  },
  {
   "cell_type": "markdown",
   "id": "fc1efcb1",
   "metadata": {
    "deletable": false,
    "editable": false
   },
   "source": [
    "<!-- END QUESTION -->\n",
    "\n",
    "**Question 1.4:** Now, construct a `date_column` using the `apply` function. "
   ]
  },
  {
   "cell_type": "code",
   "execution_count": null,
   "id": "da357f1c",
   "metadata": {
    "tags": []
   },
   "outputs": [],
   "source": [
    "date_column = ...\n",
    "date_column"
   ]
  },
  {
   "cell_type": "code",
   "execution_count": null,
   "id": "01625dc5",
   "metadata": {
    "deletable": false,
    "editable": false
   },
   "outputs": [],
   "source": [
    "grader.check(\"q1_4\")"
   ]
  },
  {
   "cell_type": "markdown",
   "id": "32137e0f",
   "metadata": {
    "deletable": false,
    "editable": false
   },
   "source": [
    "**Question 1.5:** Now we want to add the dates as a new column to `prices_raw`. Construct `prices_raw_with_date`, a copy of the DataFrame `prices_raw`, as well as a `date` column in our new DataFrame with the values from `date_column`."
   ]
  },
  {
   "cell_type": "code",
   "execution_count": null,
   "id": "8fad1820",
   "metadata": {
    "tags": []
   },
   "outputs": [],
   "source": [
    "prices_raw_with_date = prices_raw.copy() # make a copy of prices_raw\n",
    "...\n",
    "prices_raw_with_date"
   ]
  },
  {
   "cell_type": "code",
   "execution_count": null,
   "id": "42efb969",
   "metadata": {
    "deletable": false,
    "editable": false
   },
   "outputs": [],
   "source": [
    "grader.check(\"q1_5\")"
   ]
  },
  {
   "cell_type": "markdown",
   "id": "0b0fc765",
   "metadata": {
    "deletable": false,
    "editable": false
   },
   "source": [
    "**Question 1.6:** Create a new table, `prices`, that contains only the `date` and `price` columns from the `prices_raw_with_date` table."
   ]
  },
  {
   "cell_type": "code",
   "execution_count": null,
   "id": "798dee49",
   "metadata": {
    "tags": []
   },
   "outputs": [],
   "source": [
    "prices = ...\n",
    "prices"
   ]
  },
  {
   "cell_type": "code",
   "execution_count": null,
   "id": "26e67325",
   "metadata": {
    "deletable": false,
    "editable": false
   },
   "outputs": [],
   "source": [
    "grader.check(\"q1_6\")"
   ]
  },
  {
   "cell_type": "markdown",
   "id": "8decd6d2",
   "metadata": {
    "deletable": false,
    "editable": false
   },
   "source": [
    "**Question 1.7:** Now, we can filter the dataframe like we did in lecture. For example, we could get rows where the price is strictly between 105 and 115 (exclusive). Put all of these rows in a new dataframe, `filtered_prices`."
   ]
  },
  {
   "cell_type": "code",
   "execution_count": null,
   "id": "277eeed3",
   "metadata": {
    "tags": []
   },
   "outputs": [],
   "source": [
    "filtered_prices = ...\n",
    "filtered_prices.head()"
   ]
  },
  {
   "cell_type": "code",
   "execution_count": null,
   "id": "14108897",
   "metadata": {
    "deletable": false,
    "editable": false
   },
   "outputs": [],
   "source": [
    "grader.check(\"q1_7\")"
   ]
  },
  {
   "cell_type": "markdown",
   "id": "c4bca9bd-f0d9-4880-9039-053daf0efce0",
   "metadata": {
    "deletable": false,
    "editable": false
   },
   "source": [
    "**Question 1.8:** How many rows and columns are in `filtered_prices_subset`? Assign `dims` to a tuple (ex. (1, 3) is a tuple of length 2) containing the dimensions of `filtered_prices_subset`."
   ]
  },
  {
   "cell_type": "code",
   "execution_count": null,
   "id": "ee4f7e05-cdc3-4123-9bae-23db00be2be0",
   "metadata": {
    "tags": []
   },
   "outputs": [],
   "source": [
    "dims = ...\n",
    "dims"
   ]
  },
  {
   "cell_type": "code",
   "execution_count": null,
   "id": "de2876e5",
   "metadata": {
    "deletable": false,
    "editable": false
   },
   "outputs": [],
   "source": [
    "grader.check(\"q1_8\")"
   ]
  },
  {
   "cell_type": "markdown",
   "id": "6b624577",
   "metadata": {
    "deletable": false,
    "editable": false
   },
   "source": [
    "**Question 1.9:** Make a new dataframe that contains just the first 5 rows of `filtered_prices` and assign it to `filtered_prices_subset`. \n",
    "\n",
    "Hint: Should you use `.loc` or `.iloc` here?"
   ]
  },
  {
   "cell_type": "code",
   "execution_count": null,
   "id": "7c5f51ba",
   "metadata": {
    "tags": []
   },
   "outputs": [],
   "source": [
    "filtered_prices_subset = ...\n",
    "filtered_prices_subset"
   ]
  },
  {
   "cell_type": "code",
   "execution_count": null,
   "id": "d8006842",
   "metadata": {
    "deletable": false,
    "editable": false
   },
   "outputs": [],
   "source": [
    "grader.check(\"q1_9\")"
   ]
  },
  {
   "cell_type": "markdown",
   "id": "4c4006fd",
   "metadata": {},
   "source": [
    "Now, let's visualize how the price changes over time. We're using [Matplotlib](https://matplotlib.org/) to produce this plot; you will learn more about this later in the course."
   ]
  },
  {
   "cell_type": "code",
   "execution_count": null,
   "id": "647cd797",
   "metadata": {},
   "outputs": [],
   "source": [
    "plt.plot(filtered_prices['price'])\n",
    "plt.xlabel(\"Time\")\n",
    "plt.ylabel(\"Prices\")\n",
    "plt.title(\"Prices changes over time\");"
   ]
  },
  {
   "cell_type": "markdown",
   "id": "0ba0fd4b",
   "metadata": {
    "deletable": false,
    "editable": false
   },
   "source": [
    "**Question 1.10:** The x-axis doesn't tell us much here. By reindexing the dataframe to the `date` column, we can make the x-axis more clear. Use `.set_index` to change the index of `filtered_prices` to be the `date` column and then replot the graph.\n",
    "\n",
    "P.S. We are only able to get a meaningful x-axis because the `date` column only contains Python datetime objects!\n",
    "\n",
    "P.S. There are other ways to plot the graph with `date` as x, but here we specifically are asking to reindex. "
   ]
  },
  {
   "cell_type": "code",
   "execution_count": null,
   "id": "d2faae88",
   "metadata": {
    "tags": []
   },
   "outputs": [],
   "source": [
    "reindexed_filtered_prices = ...\n",
    "plt.plot(reindexed_filtered_prices['price']); # This line replots the graph"
   ]
  },
  {
   "cell_type": "code",
   "execution_count": null,
   "id": "90ca0c93",
   "metadata": {
    "deletable": false,
    "editable": false
   },
   "outputs": [],
   "source": [
    "grader.check(\"q1_10\")"
   ]
  },
  {
   "cell_type": "markdown",
   "id": "bc37f0a6-ccaa-4f4b-b0a8-04991ab16843",
   "metadata": {
    "deletable": false,
    "editable": false
   },
   "source": [
    "While looking at raw prices can be helpful, it is often more informative to adjust for inflation and consider the real price of the good over time. Let's say (hypothetically of course) you know that for each month in `reindexed_filtered_prices`, inflation grew by roughly 0.1%. \n",
    "\n",
    "**Question 1.11:** Create a dataframe `real_cost` which has the date as the index and 3 columns. The `price` column should be the same as in `reindexed_filtered_prices`, `deflator` should represent the [GDP deflator](https://www.khanacademy.org/economics-finance-domain/ap-macroeconomics/economic-iondicators-and-the-business-cycle/real-vs-nominal-gdp/v/gdp-deflator) (with the deflator for the first month being 100, the deflator for the second month being 100.1, etc.), and `real price` should be the inflation-adjusted price. You can see what the first 5 rows of the resulting DataFrame should look like by running the cell below.\n",
    "\n",
    "*Hint:* Consider using a list comprehension combined with a NumPy method for the `inflation` column.\n"
   ]
  },
  {
   "cell_type": "code",
   "execution_count": null,
   "id": "79909edd-4ca0-4af1-a498-444690fef591",
   "metadata": {
    "deletable": false,
    "editable": false
   },
   "outputs": [],
   "source": [
    "first_5_rows = {\n",
    "    'date': ['2004-08-01', '2004-09-01', '2004-10-01', '2004-11-01', '2004-12-01'],\n",
    "    'price': [105.04, 105.20, 105.63, 105.81, 105.93],\n",
    "    'deflator': [100.0000, 100.1000, 100.2001, 100.3003, 100.4006],\n",
    "    'real price': [105.0400, 105.0949, 105.4191, 105.4932, 105.5073]\n",
    "}\n",
    "\n",
    "pd.DataFrame(first_5_rows).set_index('date')"
   ]
  },
  {
   "cell_type": "code",
   "execution_count": null,
   "id": "09374acc-cf32-4d2f-8b5e-9ff57861aa32",
   "metadata": {
    "tags": []
   },
   "outputs": [],
   "source": [
    "real_cost = ...\n",
    "...\n",
    "...\n",
    "real_cost"
   ]
  },
  {
   "cell_type": "code",
   "execution_count": null,
   "id": "f3434cdd",
   "metadata": {
    "deletable": false,
    "editable": false
   },
   "outputs": [],
   "source": [
    "grader.check(\"q1_11\")"
   ]
  },
  {
   "cell_type": "markdown",
   "id": "187fdb9e-0454-43a3-9c61-a63ab5b650ef",
   "metadata": {
    "deletable": false,
    "editable": false
   },
   "source": [
    "<!-- BEGIN QUESTION -->\n",
    "\n",
    "**Question 1.12:** How do the real cost and nominal cost change over time?"
   ]
  },
  {
   "cell_type": "markdown",
   "id": "317dffd8",
   "metadata": {},
   "source": [
    "_Type your answer here, replacing this text._"
   ]
  },
  {
   "cell_type": "markdown",
   "id": "cd64e0b9-9b21-4801-aa79-0950a25a9021",
   "metadata": {
    "deletable": false,
    "editable": false
   },
   "source": [
    "<!-- END QUESTION -->\n",
    "\n",
    "Let us now plot the real cost over time."
   ]
  },
  {
   "cell_type": "code",
   "execution_count": null,
   "id": "074dd371-b965-4bf4-917d-e554469fafbc",
   "metadata": {},
   "outputs": [],
   "source": [
    "plt.plot(real_cost['real price']);"
   ]
  },
  {
   "cell_type": "markdown",
   "id": "ed177b81-73e6-453d-9483-c7a7d7fd16a4",
   "metadata": {},
   "source": [
    "Going back to the dataframe `prices`, which dates had the most expensive prices?"
   ]
  },
  {
   "cell_type": "markdown",
   "id": "a9a8afd2-b363-4081-93af-3dbd9cf8297c",
   "metadata": {
    "deletable": false,
    "editable": false
   },
   "source": [
    "**Question 1.13:** Sort the dataframe `prices` by the `price` column, in descending order. Notice how we expect you to sort the dataframe itself, not assign the sorted dataframe to a new variable. You should be able to do this in one line of code."
   ]
  },
  {
   "cell_type": "code",
   "execution_count": null,
   "id": "84139121-1d99-43dc-8fb9-2b4898e6b93d",
   "metadata": {
    "tags": []
   },
   "outputs": [],
   "source": [
    "prices = ..."
   ]
  },
  {
   "cell_type": "code",
   "execution_count": null,
   "id": "3ea83286",
   "metadata": {
    "deletable": false,
    "editable": false
   },
   "outputs": [],
   "source": [
    "grader.check(\"q1_13\")"
   ]
  },
  {
   "cell_type": "markdown",
   "id": "9a7264e3-086f-4f8b-b9b7-783591ee020c",
   "metadata": {
    "deletable": false,
    "editable": false
   },
   "source": [
    "**Question 1.14:** Just for fun, let us rename the columns of `prices` to have correct capitalization. `date` should become `Date` and `price` should become `Price`."
   ]
  },
  {
   "cell_type": "code",
   "execution_count": null,
   "id": "bcef799a-b7de-4701-bcb9-4cf44f634186",
   "metadata": {
    "tags": []
   },
   "outputs": [],
   "source": [
    "..."
   ]
  },
  {
   "cell_type": "code",
   "execution_count": null,
   "id": "ad70c7d1",
   "metadata": {
    "deletable": false,
    "editable": false
   },
   "outputs": [],
   "source": [
    "grader.check(\"q1_14\")"
   ]
  },
  {
   "cell_type": "markdown",
   "id": "6500d92e-c204-46ef-8087-ed256fefbe3a",
   "metadata": {},
   "source": [
    "## Pre-Semester Survey"
   ]
  },
  {
   "cell_type": "markdown",
   "id": "fe871fd9-c4c0-4647-a54e-81be9db85a8b",
   "metadata": {
    "deletable": false,
    "editable": false
   },
   "source": [
    "**Question 2:** Please fill out the [pre-semester survey](https://docs.google.com/forms/d/e/1FAIpQLSeLp78xHmUOro5Rkxg9glTIQwaxMiucS0_agMxBbyoegcYxKw/viewform?usp=sharing) to help us get to know you better! Similar to the feedback, at the end of the Google form, you should see a codeword. Assign the codeword to the variable `codeword_survey` below. \n",
    "\n",
    "**Note:** This question is worth 3 points, we strongly recommend you do not skip it."
   ]
  },
  {
   "cell_type": "code",
   "execution_count": null,
   "id": "c72a631a-335b-4230-aeed-ab198ae9db04",
   "metadata": {
    "tags": []
   },
   "outputs": [],
   "source": [
    "codeword_survey = ..."
   ]
  },
  {
   "cell_type": "code",
   "execution_count": null,
   "id": "7d28e449",
   "metadata": {
    "deletable": false,
    "editable": false
   },
   "outputs": [],
   "source": [
    "grader.check(\"q2\")"
   ]
  },
  {
   "cell_type": "markdown",
   "id": "a563b2e9-7c35-47aa-8ee1-7ca179b42bc9",
   "metadata": {},
   "source": [
    "**Congratulations**, you are finished with lab 1 of econ 148!"
   ]
  },
  {
   "cell_type": "markdown",
   "id": "ec1f6361",
   "metadata": {
    "deletable": false,
    "editable": false
   },
   "source": [
    "## Submission\n",
    "\n",
    "Make sure you have run all cells in your notebook in order before running the cell below, so that all images/graphs appear in the output. The cell below will generate a zip file for you to submit. **Please save before exporting!**"
   ]
  },
  {
   "cell_type": "code",
   "execution_count": null,
   "id": "f927b555",
   "metadata": {
    "deletable": false,
    "editable": false
   },
   "outputs": [],
   "source": [
    "# Save your notebook first, then run this cell to export your submission.\n",
    "grader.export(run_tests=True)"
   ]
  },
  {
   "cell_type": "markdown",
   "id": "5816f287",
   "metadata": {},
   "source": [
    " "
   ]
  }
 ],
 "metadata": {
  "kernelspec": {
   "display_name": "Python 3 (ipykernel)",
   "language": "python",
   "name": "python3"
  },
  "language_info": {
   "codemirror_mode": {
    "name": "ipython",
    "version": 3
   },
   "file_extension": ".py",
   "mimetype": "text/x-python",
   "name": "python",
   "nbconvert_exporter": "python",
   "pygments_lexer": "ipython3",
   "version": "3.12.7"
  },
  "otter": {
   "OK_FORMAT": true,
   "export_pdf_failure_message": "PDF did not generate, please submit screenshots for questions 1.2, 1.3 and 1.12",
   "require_no_pdf_confirmation": true,
   "tests": {
    "q1_1": {
     "name": "q1_1",
     "points": 2,
     "suites": [
      {
       "cases": [
        {
         "code": ">>> assert prices_raw.iloc[4]['price'] == 101.38\n",
         "hidden": false,
         "locked": false
        },
        {
         "code": ">>> assert prices_raw.shape == (108, 3)\n",
         "hidden": false,
         "locked": false
        }
       ],
       "scored": true,
       "setup": "",
       "teardown": "",
       "type": "doctest"
      }
     ]
    },
    "q1_10": {
     "name": "q1_10",
     "points": 1,
     "suites": [
      {
       "cases": [
        {
         "code": ">>> assert reindexed_filtered_prices.index[4].year == 2004 and reindexed_filtered_prices.index[4].month == 12 and (reindexed_filtered_prices.index[4].day == 1)\n",
         "hidden": false,
         "locked": false
        }
       ],
       "scored": true,
       "setup": "",
       "teardown": "",
       "type": "doctest"
      }
     ]
    },
    "q1_11": {
     "name": "q1_11",
     "points": 2,
     "suites": [
      {
       "cases": [
        {
         "code": ">>> assert np.isclose(real_cost['deflator'].iloc[2], 100.2001)\n",
         "hidden": false,
         "locked": false
        },
        {
         "code": ">>> assert np.isclose(real_cost['real price'].iloc[2], 105.41905646800755)\n",
         "hidden": false,
         "locked": false
        }
       ],
       "scored": true,
       "setup": "",
       "teardown": "",
       "type": "doctest"
      }
     ]
    },
    "q1_13": {
     "name": "q1_13",
     "points": 1,
     "suites": [
      {
       "cases": [
        {
         "code": ">>> assert prices.iloc[2, 1] == 120.27\n",
         "hidden": false,
         "locked": false
        },
        {
         "code": ">>> assert prices.iloc[6, 1] == 119.62\n",
         "hidden": false,
         "locked": false
        }
       ],
       "scored": true,
       "setup": "",
       "teardown": "",
       "type": "doctest"
      }
     ]
    },
    "q1_14": {
     "name": "q1_14",
     "points": 1,
     "suites": [
      {
       "cases": [
        {
         "code": ">>> assert 'Date' in prices.columns\n",
         "hidden": false,
         "locked": false
        },
        {
         "code": ">>> assert 'Price' in prices.columns\n",
         "hidden": false,
         "locked": false
        }
       ],
       "scored": true,
       "setup": "",
       "teardown": "",
       "type": "doctest"
      }
     ]
    },
    "q1_4": {
     "name": "q1_4",
     "points": 2,
     "suites": [
      {
       "cases": [
        {
         "code": ">>> assert date_column[4].year == 2003 and date_column[4].month == 5 and (date_column[4].day == 1)\n",
         "hidden": false,
         "locked": false
        }
       ],
       "scored": true,
       "setup": "",
       "teardown": "",
       "type": "doctest"
      }
     ]
    },
    "q1_5": {
     "name": "q1_5",
     "points": 2,
     "suites": [
      {
       "cases": [
        {
         "code": ">>> assert prices_raw_with_date.iloc[4]['date'].year == 2003 and prices_raw_with_date.iloc[4]['date'].month == 5 and (prices_raw_with_date.iloc[4]['date'].day == 1)\n",
         "hidden": false,
         "locked": false
        }
       ],
       "scored": true,
       "setup": "",
       "teardown": "",
       "type": "doctest"
      }
     ]
    },
    "q1_6": {
     "name": "q1_6",
     "points": 2,
     "suites": [
      {
       "cases": [
        {
         "code": ">>> assert prices.iloc[:, 0][4].year == 2003 and prices.iloc[:, 0][4].month == 5 and (prices.iloc[:, 0][4].day == 1) and (prices.iloc[:, 1][4] == 101.38)\n",
         "hidden": false,
         "locked": false
        }
       ],
       "scored": true,
       "setup": "",
       "teardown": "",
       "type": "doctest"
      }
     ]
    },
    "q1_7": {
     "name": "q1_7",
     "points": 2,
     "suites": [
      {
       "cases": [
        {
         "code": ">>> assert filtered_prices.iloc[4].date.year == 2004 and filtered_prices.iloc[4].date.month == 12 and (filtered_prices.iloc[4].date.day == 1) and (filtered_prices.iloc[4].price == 105.93)\n",
         "hidden": false,
         "locked": false
        }
       ],
       "scored": true,
       "setup": "",
       "teardown": "",
       "type": "doctest"
      }
     ]
    },
    "q1_8": {
     "name": "q1_8",
     "points": 1,
     "suites": [
      {
       "cases": [
        {
         "code": ">>> assert dims[0] == 43\n",
         "hidden": false,
         "locked": false
        },
        {
         "code": ">>> assert dims[1] == 2\n",
         "hidden": false,
         "locked": false
        },
        {
         "code": ">>> assert type(dims) == tuple\n",
         "hidden": false,
         "locked": false
        }
       ],
       "scored": true,
       "setup": "",
       "teardown": "",
       "type": "doctest"
      }
     ]
    },
    "q1_9": {
     "name": "q1_9",
     "points": 2,
     "suites": [
      {
       "cases": [
        {
         "code": ">>> assert filtered_prices_subset.iloc[4].date.year == 2004 and filtered_prices_subset.iloc[4].date.month == 12 and (filtered_prices_subset.iloc[4].date.day == 1) and (filtered_prices_subset.iloc[4].price == 105.93)\n",
         "hidden": false,
         "locked": false
        }
       ],
       "scored": true,
       "setup": "",
       "teardown": "",
       "type": "doctest"
      }
     ]
    },
    "q2": {
     "name": "q2",
     "points": 3,
     "suites": [
      {
       "cases": [
        {
         "code": ">>> assert sum([ord(c) for c in codeword_survey]) ^ 966984 == 967598\n",
         "hidden": false,
         "locked": false
        }
       ],
       "scored": true,
       "setup": "",
       "teardown": "",
       "type": "doctest"
      }
     ]
    }
   }
  },
  "toc": {
   "base_numbering": 1
  }
 },
 "nbformat": 4,
 "nbformat_minor": 5
}

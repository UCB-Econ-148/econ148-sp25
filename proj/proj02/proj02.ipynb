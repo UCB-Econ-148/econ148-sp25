{
 "cells": [
  {
   "cell_type": "code",
   "execution_count": null,
   "metadata": {
    "deletable": false,
    "editable": false
   },
   "outputs": [],
   "source": [
    "# Initialize Otter\n",
    "import otter\n",
    "grader = otter.Notebook(\"proj02.ipynb\")"
   ]
  },
  {
   "cell_type": "code",
   "execution_count": null,
   "metadata": {},
   "outputs": [],
   "source": [
    "from utils import *\n",
    "import numpy as np\n",
    "import pandas as pd\n",
    "import matplotlib.pyplot as plt\n",
    "%matplotlib inline\n",
    "import statsmodels.api as sm"
   ]
  },
  {
   "cell_type": "markdown",
   "metadata": {},
   "source": [
    "# Project 2: Mariel Boatlift\n",
    "In this project, we attempt to replicate a famous paper *The Impact of the Mariel Boatlift on the Miami Labor Market* by Prof. David Card on the effects of the Mariel Boatlift on the Miami labor market. "
   ]
  },
  {
   "cell_type": "markdown",
   "metadata": {},
   "source": [
    "#### Historical Background\n",
    "Amidst an economic downturn in Cuba, an increasing number of dissident Cubans were looking to leave the country and seek asylum. In response, on April 20, 1980, Cuban President Fidel Castro announced that any Cuban who wished to leave the island could do so, reversing the communist regime’s closed emigration policy. Between April and October 1980, some 1,700 boats, many arranged by Cuban exiles already in the United States, carried Cubans from the port of Mariel (the departure zone designated by the Cuban government) to Florida. \n",
    "\n",
    "In response, President Jimmy Carter declared temporarily a state of emergency in affected areas. On June 20, he established the Cuban-Haitian Entrant Program (CHEP), granting temporary status, access to asylum processing and community assistance for both Cubans and Haitians fleeing to the United States. Hundreds of Cubans arrived in Florida daily. The CHEP coverage window ended after the Carter administration negotiated an end to the boatlifts with the Cuban government in October 1980. ([Source](https://immigrationhistory.org/item/mariel-boatlift/))\n",
    "\n",
    "#### Economic Impact\n",
    "About half of the Mariel immigrants decided to live in Miami permanently, which resulted in \"a 7\\% increase in the labor force of Miami and a 20\\% increase in the number of Cuban workers in Miami\" ([Card (1990)](https://davidcard.berkeley.edu/papers/mariel-impact.pdf)). Aside from the unemployment rate rising from 5.0\\% in April 1980 to 7.1\\% in July, the actual damage to the economy was marginal and followed trends across the United States at the time. When observing data from 1979 to 1985 on the Miami labor market and comparing it with similar data from several other major cities across the United States, focusing on wages, the effects of the boatlift were marginal ([Alejandro and Leif (1989)](https://www.jstor.org/stable/2095716)). \n",
    "\n",
    "#### Research Approach\n",
    "Since immigrants have the freedom to choose their destinations (and will naturally choose those places with strong labor markets), it is normally not enough to simply look at places with more immigrants to determine causal effects on the local labor market. However, Card argued that with the Mariel Boatlift, the arrival of immigrants had very little to do with the local labor market of that place. Here is his argument:\n",
    "\n",
    "> The experiences of the Miami labor market in the aftermath of the Mariel Boatlift form one such \\[\"natural\"\\] experiment. From May to September 1980, some 125,000 Cuban immigrants arrived in Miami on a flotilla of privately chartered boats. Their arrival was the consequence of an unlikely sequence of events culminating in Castro's declaration on April 20, 1980, that Cubans wishing to emigrate to the United States were free to leave from the port of Mariel. Fifty percent of the Mariel immigrants settled permanently in Miami. The result was a 7% increase in the labor force of Miami and a 20% increase in the number of Cuban workers in Miami. (Card, 1990:245-6)\n",
    "\n",
    "Professor David Card received the Nobel Prize in Economics \"for his empirical contributions to labour economics\", including this paper among others. He delivered his [prize-winning lecture](https://youtu.be/wD48p6m8U-8?t=237) (talking about this topic, among others) on 8 December 2021.\n",
    "\n",
    "**Reading:** You should download a copy of the original paper and read at least pages 245-251 and pages 255-257. It is available [here](http://davidcard.berkeley.edu/papers/mariel-impact.pdf)."
   ]
  },
  {
   "cell_type": "markdown",
   "metadata": {},
   "source": [
    "### References\n",
    "\n",
    "This notebook is based on another assignment by [Prof. Josh Goldstein](https://courses.demog.berkeley.edu/goldstein175)."
   ]
  },
  {
   "cell_type": "markdown",
   "metadata": {},
   "source": [
    "**A Note on Grading:**  \n",
    "In Project 2, the autograded questions will have hidden tests, and the text-based free response questions will be graded on correctness. "
   ]
  },
  {
   "cell_type": "markdown",
   "metadata": {
    "tags": [
     "ignore"
    ]
   },
   "source": [
    "---\n",
    "## Part 1: CPS Data\n",
    "\n",
    "First, we will load in data from the Current Population Survey (CPS). The CPS \"outgoing rotation groups\" that we are using for the analysis is the largest sample available for this time period. Still, once we limit ourselves to Miami and the comparison cities, the sample sizes are still small. "
   ]
  },
  {
   "cell_type": "code",
   "execution_count": null,
   "metadata": {
    "scrolled": true
   },
   "outputs": [],
   "source": [
    "mariel_raw = pd.read_csv(\"mariel-boatlift.csv\")\n",
    "mariel_raw.head(5)"
   ]
  },
  {
   "cell_type": "markdown",
   "metadata": {
    "tags": [
     "ignore"
    ]
   },
   "source": [
    "The columns of our table have some odd names. We provide descriptions of the variables of interest below."
   ]
  },
  {
   "cell_type": "markdown",
   "metadata": {
    "tags": [
     "ignore"
    ]
   },
   "source": [
    "| Column Name | Description |\n",
    "|-----|-----|\n",
    "| age | Age of individual |\n",
    "| smsarank | City |\n",
    "| esr | Employment status |\n",
    "| ftpt79 | Full-time or part-time |\n",
    "| earnhre | Nominal hourly pay in cents |\n",
    "| educ | Level of education (BA, HS diploma, or < HS) |\n",
    "| ethrace | Race & ethnicity |"
   ]
  },
  {
   "cell_type": "markdown",
   "metadata": {
    "tags": [
     "ignore"
    ]
   },
   "source": [
    "Before moving onto the analysis of the data, there is a tiny bit of data cleaning that needs to be done. The data currently have a `.id` column, which encodes the year. However, these values range from 1 to 7, so to get the actual years, we need to add 1978 to each."
   ]
  },
  {
   "cell_type": "markdown",
   "metadata": {
    "deletable": false,
    "editable": false
   },
   "source": [
    "**Question 1.1:** Add 1978 to each value in the `.id` column of `mariel_raw`. Create a new table `mariel` with the same columns as `mariel_raw` but with a `year` column and no `.id` column.\n",
    "\n",
    "The resulting `mariel` dataframe should look like the following:\n",
    "\n",
    "| age | smsarank | esr | ftpt79 | earnhre | educ | ethrace | year |\n",
    "| ----- | ----- | ----- | ----- | ----- | ----- | ----- | ----- |\n",
    "| 71 | Los Angeles | Housework | Not In Labor Force | NaN | lessHS | whites | 1979 |\n",
    "|  |  |  |  |  |  |  | ... (rows omitted) |"
   ]
  },
  {
   "cell_type": "code",
   "execution_count": null,
   "metadata": {
    "tags": []
   },
   "outputs": [],
   "source": [
    "mariel = mariel_raw.copy()\n",
    "...\n",
    "mariel.head()"
   ]
  },
  {
   "cell_type": "code",
   "execution_count": null,
   "metadata": {
    "deletable": false,
    "editable": false
   },
   "outputs": [],
   "source": [
    "grader.check(\"q1_1\")"
   ]
  },
  {
   "cell_type": "markdown",
   "metadata": {},
   "source": [
    "As we are focusing on certain racial groups in this project, we can remove the rows of `mariel` that are not in the set of ethnicities that we are concerned with."
   ]
  },
  {
   "cell_type": "markdown",
   "metadata": {
    "deletable": false,
    "editable": false,
    "tags": [
     "ignore"
    ]
   },
   "source": [
    "**Question 1.2:** Remove the rows of `mariel` where the `ethrace` variable is `\"others\"`."
   ]
  },
  {
   "cell_type": "code",
   "execution_count": null,
   "metadata": {
    "tags": []
   },
   "outputs": [],
   "source": [
    "mariel = ...\n",
    "mariel.head(5)"
   ]
  },
  {
   "cell_type": "code",
   "execution_count": null,
   "metadata": {
    "deletable": false,
    "editable": false
   },
   "outputs": [],
   "source": [
    "grader.check(\"q1_2\")"
   ]
  },
  {
   "cell_type": "markdown",
   "metadata": {
    "deletable": false,
    "editable": false,
    "tags": [
     "ignore"
    ]
   },
   "source": [
    "**Question 1.3:** What categories are there in the `ethrace` variable (now)?\n",
    "\n",
    "1. White and Black\n",
    "2. White and Black and Cuban\n",
    "3. White, Black, Cuban, and Hispanic\n",
    "4. Cuban, Hispanic, non-Hispanic\n",
    "\n",
    "Assign the number corresponding to your answer to `q1_3` below."
   ]
  },
  {
   "cell_type": "code",
   "execution_count": null,
   "metadata": {
    "tags": []
   },
   "outputs": [],
   "source": [
    "q1_3 = ..."
   ]
  },
  {
   "cell_type": "code",
   "execution_count": null,
   "metadata": {
    "deletable": false,
    "editable": false
   },
   "outputs": [],
   "source": [
    "grader.check(\"q1_3\")"
   ]
  },
  {
   "cell_type": "markdown",
   "metadata": {
    "deletable": false,
    "editable": false,
    "tags": [
     "ignore"
    ]
   },
   "source": [
    "**Question 1.4:** What are the units of the `earnhre` variable? Read the relevant CPS data [documentation](https://data.nber.org/morg/docs/cpsx.pdf).   \n",
    "\n",
    "1. Cents per hour\n",
    "2. Dollars per hour\n",
    "3. Cents per day\n",
    "4. Dollars per day\n",
    "5. Cents per week\n",
    "6. Dollars per week\n",
    "\n",
    "Assign the number corresponding to your answer to `q1_4` below."
   ]
  },
  {
   "cell_type": "code",
   "execution_count": null,
   "metadata": {
    "tags": []
   },
   "outputs": [],
   "source": [
    "q1_4 = ..."
   ]
  },
  {
   "cell_type": "code",
   "execution_count": null,
   "metadata": {
    "deletable": false,
    "editable": false
   },
   "outputs": [],
   "source": [
    "grader.check(\"q1_4\")"
   ]
  },
  {
   "cell_type": "markdown",
   "metadata": {
    "deletable": false,
    "editable": false,
    "tags": [
     "ignore"
    ]
   },
   "source": [
    "**Question 1.5:** Which cities can make up the ideal comparison group in this study?\n",
    "\n",
    "1. All U.S. cities except Miami\n",
    "2. All Florida cities except Miami\n",
    "3. Cities nearby that are subject to the same macroeconomic influences as Miami but didn't receive many Cuban immigrants.\n",
    "4. Cities nearby that are subject to the same macroeconomic influences as Miami but received many other immigrants.\n",
    "\n",
    "Assign the number corresponding to your answer to `q1_5` below."
   ]
  },
  {
   "cell_type": "code",
   "execution_count": null,
   "metadata": {
    "tags": []
   },
   "outputs": [],
   "source": [
    "q1_5 = ..."
   ]
  },
  {
   "cell_type": "code",
   "execution_count": null,
   "metadata": {
    "deletable": false,
    "editable": false
   },
   "outputs": [],
   "source": [
    "grader.check(\"q1_5\")"
   ]
  },
  {
   "cell_type": "markdown",
   "metadata": {
    "tags": [
     "ignore"
    ]
   },
   "source": [
    "---\n",
    "## Part 2: Unemployment \n",
    "\n",
    "We're going to begin by trying to replicate Card's results for unemployment in his Table 4. (We'll do wages in Table 3 later)."
   ]
  },
  {
   "cell_type": "markdown",
   "metadata": {
    "tags": [
     "ignore"
    ]
   },
   "source": [
    "In the cell below, we define a function `get_ue` that takes in an array/series values from the `esr` column and returns the proportion of people who are unemployed (the unemployment rate)."
   ]
  },
  {
   "cell_type": "code",
   "execution_count": null,
   "metadata": {
    "tags": [
     "ignore"
    ]
   },
   "outputs": [],
   "source": [
    "def get_ue(esr):\n",
    "    unemployed_looking = sum(esr == \"Unemployed-Looking\")\n",
    "    others = sum(np.isin(esr, np.array([\"Unemployed-Looking\",  \"Employed-At Work\", \"Employed-Absent\"])))\n",
    "    return unemployed_looking / others"
   ]
  },
  {
   "cell_type": "markdown",
   "metadata": {
    "tags": [
     "ignore"
    ]
   },
   "source": [
    "When considering the effect on the unemployment rate of the boatlift, we want to first separate Miami from the comparison cities and select for the desired age group (16 to 61). After we have the desired rows, we want to create a table where the rows represent a year in the data, the columns represent the unique values of the `ethrace` variable, and the cells contain the unemployment rate.\n",
    "\n"
   ]
  },
  {
   "cell_type": "code",
   "execution_count": null,
   "metadata": {},
   "outputs": [],
   "source": [
    "miami_ue = mariel[(mariel[\"smsarank\"] == \"Miami\") & \\\n",
    "                  (mariel[\"age\"] >= 16) & \\\n",
    "                  (mariel[\"age\"] <= 61)]"
   ]
  },
  {
   "cell_type": "markdown",
   "metadata": {
    "deletable": false,
    "editable": false
   },
   "source": [
    "**Question 2.1:** Using `miami_ue`, create a lineplot that shows the unemployment rate for Miami from 1979 to 1985. Label your plot properly (both axes and title). \n",
    "Hint: You may want to use `groupby` with `get_ue` (defined above) as the aggregation function. "
   ]
  },
  {
   "cell_type": "code",
   "execution_count": null,
   "metadata": {
    "tags": []
   },
   "outputs": [],
   "source": [
    "def plot_miami_ue():\n",
    "    miami_ue_by_year = ...\n",
    "\n",
    "    plt.vlines(1980, 0, 0.2, color=\"grey\", linestyle=\"--\", linewidth=2)\n",
    "    plt.plot(...) # feel free to also change the style like color, linewidth, etc\n",
    "    ...\n",
    "    \n",
    "    return miami_ue_by_year\n",
    "miami_ue_by_year = plot_miami_ue()"
   ]
  },
  {
   "cell_type": "code",
   "execution_count": null,
   "metadata": {
    "deletable": false,
    "editable": false
   },
   "outputs": [],
   "source": [
    "grader.check(\"q2_1\")"
   ]
  },
  {
   "cell_type": "markdown",
   "metadata": {},
   "source": [
    "Now we want to explore unemployment statistics by ethnicity. This can be accomplished by creating a pivot table. The `.pivot_table()` method can also take as an argument (`aggfunc`) an aggregator function which determines how to calculate the values in the output. In this case, it will take the array of `esr` values that correspond to each `year`-`ethrace` pair to the function we pass and apply the `get_ue` function on it. \n",
    "\n",
    "The end result is that we will have a table where each column is an `ethrace` value, each row is a year, and the values are the unemployment rate for that `ethrace` value. All of this is done for you in the cell below, and the results are stored as `miami_ue_ethrace`."
   ]
  },
  {
   "cell_type": "code",
   "execution_count": null,
   "metadata": {},
   "outputs": [],
   "source": [
    "miami_ue_ethrace = pd.pivot_table(miami_ue, values='esr', index=['year'], columns=['ethrace'], aggfunc=get_ue)\n",
    "miami_ue_ethrace"
   ]
  },
  {
   "cell_type": "markdown",
   "metadata": {
    "deletable": false,
    "editable": false,
    "tags": [
     "ignore"
    ]
   },
   "source": [
    "**Question 2.2:** Create the same pivot table below (include the same age restriction through a filter), but for the comparison cities (that is, all cities _except for Miami_). As we are looking at comparison cities, we must exclude Cubans from this pivot table. Store the pivot table as `not_miami_ue_ethrace`."
   ]
  },
  {
   "cell_type": "code",
   "execution_count": null,
   "metadata": {
    "tags": [
     "gradable"
    ]
   },
   "outputs": [],
   "source": [
    "not_miami_ue = ... # select relevant rows\n",
    "not_miami_ue_ethrace = ... # pivot table\n",
    "not_miami_ue_ethrace"
   ]
  },
  {
   "cell_type": "code",
   "execution_count": null,
   "metadata": {
    "deletable": false,
    "editable": false
   },
   "outputs": [],
   "source": [
    "grader.check(\"q2_2\")"
   ]
  },
  {
   "cell_type": "markdown",
   "metadata": {
    "deletable": false,
    "editable": false,
    "tags": [
     "ignore"
    ]
   },
   "source": [
    "<!-- BEGIN QUESTION -->\n",
    "\n",
    "**Question 2.3:** Why did we drop the Cubans for comparison cities in question 2.2? Explain in the context of the study. "
   ]
  },
  {
   "cell_type": "markdown",
   "metadata": {},
   "source": [
    "_Type your answer here, replacing this text._"
   ]
  },
  {
   "cell_type": "markdown",
   "metadata": {
    "deletable": false,
    "editable": false,
    "tags": [
     "ignore"
    ]
   },
   "source": [
    "<!-- END QUESTION -->\n",
    "\n",
    "In the cell below, we plot the unemployment rates for Miami and the comparison cities for each `ethrace` value. The dashed vertical line in 1980 indicates the Mariel boatlift's occurance. (The function `plot_ue_by_ethrace`, along with the other plotting functions in this notebook, are defined in the `utils.py` file if you want to look at them. They're hidden because the code is very verbose.)"
   ]
  },
  {
   "cell_type": "code",
   "execution_count": null,
   "metadata": {
    "tags": [
     "ignore"
    ]
   },
   "outputs": [],
   "source": [
    "plot_ue_by_ethrace(miami_ue_ethrace, not_miami_ue_ethrace)"
   ]
  },
  {
   "cell_type": "markdown",
   "metadata": {
    "deletable": false,
    "editable": false,
    "tags": [
     "ignore"
    ]
   },
   "source": [
    "**Question 2.4:** How much attention should we pay to the ups and downs in these graphs? Are these chance fluctuations from the sample survey (\"noise\"), or are they important information that we should pay attention to (\"signal\")?\n",
    "\n",
    "1. The fluctuations doesn't seem arbitrary, so they are signal\n",
    "2. The trend reverses very quickly and very suddenly, so they are just noises\n",
    "3. We can’t tell just by looking, but one could in theory (and with the help of a statistics course) quantify the magnitude of fluctuations that we would expect from random sampling.\n",
    "\n",
    "Assign the number corresponding to your answer to `q2_4` below."
   ]
  },
  {
   "cell_type": "code",
   "execution_count": null,
   "metadata": {
    "tags": []
   },
   "outputs": [],
   "source": [
    "q2_4 = ..."
   ]
  },
  {
   "cell_type": "code",
   "execution_count": null,
   "metadata": {
    "deletable": false,
    "editable": false
   },
   "outputs": [],
   "source": [
    "grader.check(\"q2_4\")"
   ]
  },
  {
   "cell_type": "markdown",
   "metadata": {
    "tags": [
     "ignore"
    ]
   },
   "source": [
    "---\n",
    "## Part 3: Wages\n",
    "\n",
    "Now we will try to replicate Card's findings that the Mariel boatlift also had little or no effect on non-immigrants' wages. For simplicity, we will not deflate the wages (like we should) but we will instead consider the nominal wages."
   ]
  },
  {
   "cell_type": "markdown",
   "metadata": {
    "tags": [
     "ignore"
    ]
   },
   "source": [
    "As some of the values in the `earnhre` column are missing, for the sake of simplicity we remove these problematic rows below. Once again, this is not the best approach in real life and is only being done here for the sake of simplicity. **Throughout part 3, make sure you use `mariel_ehre` instead of `mariel`, or else your calculations may error.**"
   ]
  },
  {
   "cell_type": "code",
   "execution_count": null,
   "metadata": {},
   "outputs": [],
   "source": [
    "mariel_ehre = mariel[~np.isnan(mariel[\"earnhre\"])].copy()"
   ]
  },
  {
   "cell_type": "markdown",
   "metadata": {
    "tags": [
     "ignore"
    ]
   },
   "source": [
    "In order to make the wages more linear and to put them on an easier-to-understand scale, we take the natural log of each value in the `earnhre` column and store this as `log_w` (why do we divide by 100?)."
   ]
  },
  {
   "cell_type": "code",
   "execution_count": null,
   "metadata": {},
   "outputs": [],
   "source": [
    "log_w = np.log(mariel_ehre[\"earnhre\"]/100)\n",
    "mariel_ehre[\"log_w\"] = log_w\n",
    "mariel_ehre.head(5)"
   ]
  },
  {
   "cell_type": "markdown",
   "metadata": {
    "tags": [
     "ignore"
    ]
   },
   "source": [
    "We want to create a similar pivot table as in part 2, except we want the values in this table to be the mean of the log of wages. We create this table for Miami below, making sure to also filter `merial_ehre` for rows where the individual is employed full-time."
   ]
  },
  {
   "cell_type": "code",
   "execution_count": null,
   "metadata": {},
   "outputs": [],
   "source": [
    "miami_wages = mariel_ehre[(mariel_ehre[\"age\"] >= 16) & \\\n",
    "                          (mariel_ehre[\"age\"] <= 61) & \\\n",
    "                          (mariel_ehre[\"smsarank\"] == \"Miami\") & \\\n",
    "                          (mariel_ehre[\"ftpt79\"] == \"Employed full-time\")]\n",
    "miami_wages_ethrace = pd.pivot_table(miami_wages, values=\"log_w\", index=[\"year\"], columns=[\"ethrace\"], aggfunc=np.mean)\n",
    "miami_wages_ethrace"
   ]
  },
  {
   "cell_type": "markdown",
   "metadata": {
    "deletable": false,
    "editable": false,
    "tags": [
     "gradable",
     "ignore"
    ]
   },
   "source": [
    "**Question 3.1:** Create a similar pivot table below, except not including the cubans and using data from comparison cities (that is, all cities _except for Miami_). Store the pivot table as `not_miami_wages_ethrace`."
   ]
  },
  {
   "cell_type": "code",
   "execution_count": null,
   "metadata": {
    "tags": [
     "gradable"
    ]
   },
   "outputs": [],
   "source": [
    "not_miami_wages = ... # select relevant rows\n",
    "not_miami_wages_ethrace = ... # pivot table\n",
    "not_miami_wages_ethrace"
   ]
  },
  {
   "cell_type": "code",
   "execution_count": null,
   "metadata": {
    "deletable": false,
    "editable": false
   },
   "outputs": [],
   "source": [
    "grader.check(\"q3_1\")"
   ]
  },
  {
   "cell_type": "markdown",
   "metadata": {
    "tags": [
     "ignore"
    ]
   },
   "source": [
    "In the cell below, we plot the wages for Miami and the comparison cities for each `ethrace` value."
   ]
  },
  {
   "cell_type": "code",
   "execution_count": null,
   "metadata": {
    "tags": [
     "ignore"
    ]
   },
   "outputs": [],
   "source": [
    "plot_wages_by_ethrace(miami_wages_ethrace, not_miami_wages_ethrace)"
   ]
  },
  {
   "cell_type": "markdown",
   "metadata": {
    "tags": [
     "ignore"
    ]
   },
   "source": [
    "Our numbers differ from Card's Table 4 because we are not accounting for inflation. In order to make inferences about the effect of the boatlift on wages easier, let's plot the differences between Miami and the Comparison Cities. (The difference being plotted here is log wages for Miami *minus* log wages for comparison cities)"
   ]
  },
  {
   "cell_type": "code",
   "execution_count": null,
   "metadata": {
    "tags": [
     "ignore"
    ]
   },
   "outputs": [],
   "source": [
    "plot_wage_diffs_by_ethrace(miami_wages_ethrace, not_miami_wages_ethrace)"
   ]
  },
  {
   "cell_type": "markdown",
   "metadata": {
    "deletable": false,
    "editable": false,
    "tags": [
     "ignore"
    ]
   },
   "source": [
    "**Question 3.2:** If wages were hurt by the influx of migrants, we would expect this graph to show\n",
    "\n",
    "1. A decrease after 1980, as Miami wages went down relative to other cities\n",
    "2. Values below 0 for all periods, because Miami would always have lower wages\n",
    "3. An uptick after 1980, because we are working with logarithms.\n",
    "4. An increase after 1980, as Miami wages went down relative to other cities\n",
    "\n",
    "Assign the number corresponding to your answer to `q3_2` below.\n",
    "\n",
    "_Hint:_ $\\log A  - \\log B = \\log \\frac{A}{B}$"
   ]
  },
  {
   "cell_type": "code",
   "execution_count": null,
   "metadata": {
    "tags": []
   },
   "outputs": [],
   "source": [
    "q3_2 = ..."
   ]
  },
  {
   "cell_type": "code",
   "execution_count": null,
   "metadata": {
    "deletable": false,
    "editable": false
   },
   "outputs": [],
   "source": [
    "grader.check(\"q3_2\")"
   ]
  },
  {
   "cell_type": "markdown",
   "metadata": {
    "tags": [
     "ignore"
    ]
   },
   "source": [
    "So it seems that indeed our analysis is consistent with Card's conclusion that \"the Mariel immigration had virtually no effect on wages or unemployment outcomes of non-Cuban workers in the Miami labor market\" (p. 255)."
   ]
  },
  {
   "cell_type": "markdown",
   "metadata": {
    "tags": [
     "ignore"
    ]
   },
   "source": [
    "---\n",
    "## Part 4: Education\n",
    "\n",
    "We would expect any negative effect of the influx of immigrants to be strongest on the group that they most resemble. Because most of the Cuban immigrants in the boatlift were unskilled, we would expect the strongest effect on non-immigrants with the least education, with perhaps the clearest comparison group being Hispanics with the least education.\n",
    "\n",
    "Card used a different approach, looking at the effects for low-skilled workers by predicting wages based on education and years of experience. Here we do something a bit simpler, using education only."
   ]
  },
  {
   "cell_type": "markdown",
   "metadata": {
    "deletable": false,
    "editable": false
   },
   "source": [
    "<!-- BEGIN QUESTION -->\n",
    "\n",
    "**Question 4.1:** If the boatlift had a negative effect on the employment of unskilled workers, what would we expect to see in the unemployment for each of categories of education in both Miami and the comparison cities? \n",
    "\n",
    "_Note:_ The possible values of `educ` are `BA`, `HS`, or `lessHS`."
   ]
  },
  {
   "cell_type": "markdown",
   "metadata": {},
   "source": [
    "_Type your answer here, replacing this text._"
   ]
  },
  {
   "cell_type": "markdown",
   "metadata": {
    "deletable": false,
    "editable": false,
    "tags": [
     "ignore"
    ]
   },
   "source": [
    "<!-- END QUESTION -->\n",
    "\n",
    "We want to create a similar pivot table as in parts 2 and 3 (don't forget the age restrictions), except we want the values in this table to be the mean of the unemployment rate partitioned by _education_, not `ethrace`. We create this table for Miami below."
   ]
  },
  {
   "cell_type": "code",
   "execution_count": null,
   "metadata": {},
   "outputs": [],
   "source": [
    "miami_educ_ue = mariel[(mariel[\"age\"] >= 16) & \\\n",
    "                       (mariel[\"age\"] <= 61) & \\\n",
    "                       (mariel[\"smsarank\"] == \"Miami\")]\n",
    "miami_educ_ue = pd.pivot_table(miami_educ_ue, values=\"esr\", index=[\"year\"], \\\n",
    "                               columns=[\"educ\"], aggfunc=get_ue)\n",
    "miami_educ_ue"
   ]
  },
  {
   "cell_type": "markdown",
   "metadata": {
    "deletable": false,
    "editable": false,
    "tags": [
     "gradable"
    ]
   },
   "source": [
    "<!-- BEGIN QUESTION -->\n",
    "\n",
    "**Question 4.2:** What happens to the unemployment rates of those with a college education (BA) between 1980 and 1982, when the effects of the Mariel boatlift should have been felt? What happens to those with the least education? (\"lessHS\"). Is this consistent with a large effect of immigration on the least educated that is hypothesized above?"
   ]
  },
  {
   "cell_type": "markdown",
   "metadata": {},
   "source": [
    "_Type your answer here, replacing this text._"
   ]
  },
  {
   "cell_type": "markdown",
   "metadata": {
    "deletable": false,
    "editable": false,
    "tags": [
     "gradable",
     "ignore"
    ]
   },
   "source": [
    "<!-- END QUESTION -->\n",
    "\n",
    "**Question 4.3:** Create the same pivot table below, except for the comparison cities (that is, all cities _except for Miami_). Store the pivot table as `not_miami_educ_ue`."
   ]
  },
  {
   "cell_type": "code",
   "execution_count": null,
   "metadata": {
    "tags": [
     "gradable"
    ]
   },
   "outputs": [],
   "source": [
    "not_miami_educ_ue = ... # select relevant rows\n",
    "not_miami_educ_ue = ... # pivot table\n",
    "not_miami_educ_ue"
   ]
  },
  {
   "cell_type": "code",
   "execution_count": null,
   "metadata": {
    "deletable": false,
    "editable": false
   },
   "outputs": [],
   "source": [
    "grader.check(\"q4_3\")"
   ]
  },
  {
   "cell_type": "markdown",
   "metadata": {
    "tags": [
     "ignore"
    ]
   },
   "source": [
    "In the cell below, we plot the unemployment rates for Miami and the comparison cities for each `educ` value."
   ]
  },
  {
   "cell_type": "code",
   "execution_count": null,
   "metadata": {
    "tags": [
     "ignore"
    ]
   },
   "outputs": [],
   "source": [
    "plot_ue_by_educ(miami_educ_ue, not_miami_educ_ue)"
   ]
  },
  {
   "cell_type": "markdown",
   "metadata": {
    "deletable": false,
    "editable": false,
    "tags": [
     "gradable"
    ]
   },
   "source": [
    "<!-- BEGIN QUESTION -->\n",
    "\n",
    "**Question 4.4:** Like Card's study, many empirical papers find very small or no impact of immigration on local workers' wages and employment. Several studies even found a positive impact of skilled immigration on wages and employment. What are 2 possible reasons why having immigrants could benefit non-immigrant workers?"
   ]
  },
  {
   "cell_type": "markdown",
   "metadata": {},
   "source": [
    "_Type your answer here, replacing this text._"
   ]
  },
  {
   "cell_type": "markdown",
   "metadata": {
    "deletable": false,
    "editable": false
   },
   "source": [
    "<!-- END QUESTION -->\n",
    "\n",
    "---\n",
    "## Part 5: What Determines Wages?\n",
    "Now we want to use the data and expand on the above analysis by asking what variables are related to wages. We will use the basic OLS regression to quantitatively determine the association. This is also part of the analysis Card used to produce Table 7 in his paper. "
   ]
  },
  {
   "cell_type": "markdown",
   "metadata": {
    "deletable": false,
    "editable": false
   },
   "source": [
    "**Question 5.1:** Filter `mariel_ehre` for individuals that are being employed full-time. Assign the result to `mariel_full_time`. "
   ]
  },
  {
   "cell_type": "code",
   "execution_count": null,
   "metadata": {
    "tags": []
   },
   "outputs": [],
   "source": [
    "mariel_full_time = ...\n",
    "mariel_full_time"
   ]
  },
  {
   "cell_type": "code",
   "execution_count": null,
   "metadata": {
    "deletable": false,
    "editable": false
   },
   "outputs": [],
   "source": [
    "grader.check(\"q5_1\")"
   ]
  },
  {
   "cell_type": "markdown",
   "metadata": {},
   "source": [
    "What variables in our dataframe are related to wages? It seems like `educ`, `ethrace`, `year`, and `smsarank` can have an influence on individuals' income. \n",
    "\n",
    "But note that these columns are strings, and we cannot run regression on string-values columns. To get around this, we will create some dummy variables (this process is often called \"one-hot encoding\"). "
   ]
  },
  {
   "cell_type": "markdown",
   "metadata": {},
   "source": [
    "For example, let's create some dummies for `educ` using `pd.get_dummies`. "
   ]
  },
  {
   "cell_type": "code",
   "execution_count": null,
   "metadata": {},
   "outputs": [],
   "source": [
    "educ_dummies = pd.get_dummies(mariel_full_time[\"educ\"], dtype=float)\n",
    "educ_dummies"
   ]
  },
  {
   "cell_type": "markdown",
   "metadata": {},
   "source": [
    "And we can add them back to a dataframe using `join`. But note that we should not include all the dummy columns, otherwise we will run into issues with linear dependence. This is called the \"dummy variable trap\". "
   ]
  },
  {
   "cell_type": "code",
   "execution_count": null,
   "metadata": {},
   "outputs": [],
   "source": [
    "# Let's do everything all at once\n",
    "mariel_regression = mariel_full_time.copy() # copy the dataframe\n",
    "educ_dummies = pd.get_dummies(mariel_full_time[\"educ\"], dtype=float) # create dummies for educ\n",
    "educ_dummies = educ_dummies.iloc[:, :-1] # exclude the last column\n",
    "mariel_regression = mariel_regression.join(educ_dummies) # add the dummy vars to dataframe\n",
    "mariel_regression = mariel_regression.drop([\"educ\"], axis=1) # drop the original column\n",
    "mariel_regression"
   ]
  },
  {
   "cell_type": "markdown",
   "metadata": {},
   "source": [
    "#### How to interpret the dummy variables for education?\n",
    "\n",
    "We notice that there are two dummy variable columns for education: `BA` and `HS`. When `BA` is 1, it means the individual in this row has a Bachelor's degree. When `HS` is 1, it means the individual in this row has a high school degree (but not a Bachelor's degree). When both `BA` and `HS` are 0, that implies `lessHS` should be 1, and it means the individual in this row has less education than a high school degree. \n",
    "\n",
    "Therefore when `BA` and `HS` show up in a regression, we can interpret their coefficients as the following:\n",
    "- Coefficient for `BA`: the average amount of wages an individual with a Bachelor's degree earns *minus* the average amount of wages an individual with less than a high school degree earns. In other words, if the coefficient is 1, then we can say that on average an individual with a Bachelor's degree earns 1 unit (what's the unit?) more than an individual with less than a high school degree. \n",
    "- Coefficient for `HS`: the average amount of wages an individual with a high school degree earns *minus* the average amount of wages an individual with less than a high school degree earns. \n",
    "\n",
    "So in short, the coefficients for education (`BA` and `HS`) represent the additional wages earned compared to the base case scenario (which is the column that we excluded, and in this case `lessHS`). Let's try running the regression."
   ]
  },
  {
   "cell_type": "code",
   "execution_count": null,
   "metadata": {},
   "outputs": [],
   "source": [
    "X = mariel_regression.iloc[:, -2:] # BA and HS\n",
    "X = sm.add_constant(X) # add a constant term\n",
    "y = mariel_regression[\"earnhre\"]\n",
    "model_1 = sm.OLS(y, X).fit()\n",
    "model_1.summary()"
   ]
  },
  {
   "cell_type": "code",
   "execution_count": null,
   "metadata": {},
   "outputs": [],
   "source": [
    "# sanity check: \n",
    "# the coefficient for constant should be 575.3880\n",
    "assert np.isclose(model_1.params[\"const\"], 575.3880)"
   ]
  },
  {
   "cell_type": "markdown",
   "metadata": {},
   "source": [
    "**What is the interpretation of this regression result?**\n",
    "\n",
    "The results show that on average individuals with less than high school degree education earns 575.39 (unit omitted; you should include it!); on average individuals with high school degree earns 714.4018 (575.3880 + 139.0138); and finally individuals with Bachelor's degree earns 905.2974 (575.3880 + 329.9094) on average. And the result is highly significant given the t-stat and p-values. So in our data, education plays an important role in determining wages. "
   ]
  },
  {
   "cell_type": "markdown",
   "metadata": {},
   "source": [
    "Now we will add the remaining variables `ethrace`, `year`, and `smsarank` to our regression. First, generate dummy variables for all of them. Let's start afresh! "
   ]
  },
  {
   "cell_type": "markdown",
   "metadata": {
    "deletable": false,
    "editable": false
   },
   "source": [
    "**Question 5.2:** Generate dummy variables for `educ`, `ethrace`, `year`, and `smsarank`. Add those dummy variables to `mariel_regression` and then drop the original column. Be sure to exclude the last dummies for each variable to avoid the 'dummy variable trap'!"
   ]
  },
  {
   "cell_type": "code",
   "execution_count": null,
   "metadata": {
    "tags": []
   },
   "outputs": [],
   "source": [
    "mariel_regression = mariel_full_time.copy()\n",
    "...\n",
    "mariel_regression"
   ]
  },
  {
   "cell_type": "code",
   "execution_count": null,
   "metadata": {
    "deletable": false,
    "editable": false
   },
   "outputs": [],
   "source": [
    "grader.check(\"q5_2\")"
   ]
  },
  {
   "cell_type": "markdown",
   "metadata": {},
   "source": [
    "Great job! Now we have our dataframe is ready for regression!\n",
    "\n",
    "First, let's run an OLS regression using only `educ` and `ethrace`, so that we can get a sense of how these two variables influenced wages (use `earnhre` for now) during the sample period. "
   ]
  },
  {
   "cell_type": "markdown",
   "metadata": {
    "deletable": false,
    "editable": false
   },
   "source": [
    "**Question 5.3:** Run a regression with `earnhre` as the explained variable (y) and the dummies for `educ` and `ethrace` as the explanatory variables (X). Include a constant term in your regression. Assign your OLS model to `model_2`. "
   ]
  },
  {
   "cell_type": "code",
   "execution_count": null,
   "metadata": {
    "tags": []
   },
   "outputs": [],
   "source": [
    "...\n",
    "model_2.summary()"
   ]
  },
  {
   "cell_type": "code",
   "execution_count": null,
   "metadata": {
    "deletable": false,
    "editable": false
   },
   "outputs": [],
   "source": [
    "grader.check(\"q5_3\")"
   ]
  },
  {
   "cell_type": "markdown",
   "metadata": {
    "deletable": false,
    "editable": false
   },
   "source": [
    "**Question 5.4:** According to the regression output, how much **more** on average does a Cuban individual with a high school degree earn than another Cuban individual with less than a high school education? Assign the number corresponding to your answer to `q5_4` below. Make sure you assign the exact number rather than an estimate."
   ]
  },
  {
   "cell_type": "code",
   "execution_count": null,
   "metadata": {
    "tags": []
   },
   "outputs": [],
   "source": [
    "q5_4 = ...\n",
    "q5_4"
   ]
  },
  {
   "cell_type": "code",
   "execution_count": null,
   "metadata": {
    "deletable": false,
    "editable": false
   },
   "outputs": [],
   "source": [
    "grader.check(\"q5_4\")"
   ]
  },
  {
   "cell_type": "markdown",
   "metadata": {
    "deletable": false,
    "editable": false
   },
   "source": [
    "**Question 5.5:** According to the regression output, how much **more** on average does a Cuban individual with a high school degree earn than another white individual with a high school degree? If you think the Cuban individual earns less, put a negative number. Assign the number corresponding to your answer to `q5_5` below. Again, make sure you assign the exact number rather than an estimate."
   ]
  },
  {
   "cell_type": "code",
   "execution_count": null,
   "metadata": {
    "tags": []
   },
   "outputs": [],
   "source": [
    "q5_5 = ...\n",
    "q5_5"
   ]
  },
  {
   "cell_type": "code",
   "execution_count": null,
   "metadata": {
    "deletable": false,
    "editable": false
   },
   "outputs": [],
   "source": [
    "grader.check(\"q5_5\")"
   ]
  },
  {
   "cell_type": "markdown",
   "metadata": {
    "deletable": false,
    "editable": false
   },
   "source": [
    "**Question 5.6:** According to the regression output, how much does a Cuban individual with a high school degree earn on average? Assign the number corresponding to your answer to `q5_6` below. Again, make sure you calculate and assign the exact number rather than an estimate."
   ]
  },
  {
   "cell_type": "code",
   "execution_count": null,
   "metadata": {
    "tags": []
   },
   "outputs": [],
   "source": [
    "q5_6 = ..."
   ]
  },
  {
   "cell_type": "code",
   "execution_count": null,
   "metadata": {
    "deletable": false,
    "editable": false
   },
   "outputs": [],
   "source": [
    "grader.check(\"q5_6\")"
   ]
  },
  {
   "cell_type": "markdown",
   "metadata": {},
   "source": [
    "Now, let's run an OLS regression using all the variables that we have. "
   ]
  },
  {
   "cell_type": "markdown",
   "metadata": {
    "deletable": false,
    "editable": false
   },
   "source": [
    "**Question 5.7:** Run a regression with `earnhre` as the explained variable (y) and the dummies for `educ`, `ethrace`, `year` and `smsarank` as the explanatory variables (X). Include a constant term in your regression. Assign your OLS model to `model_3`. "
   ]
  },
  {
   "cell_type": "code",
   "execution_count": null,
   "metadata": {
    "tags": []
   },
   "outputs": [],
   "source": [
    "...\n",
    "model_3.summary()"
   ]
  },
  {
   "cell_type": "code",
   "execution_count": null,
   "metadata": {
    "deletable": false,
    "editable": false
   },
   "outputs": [],
   "source": [
    "grader.check(\"q5_7\")"
   ]
  },
  {
   "cell_type": "markdown",
   "metadata": {
    "deletable": false,
    "editable": false
   },
   "source": [
    "**Question 5.8:** According to the regression output, does the nominal wage (`earnhre`) increase over time in the sample period? Assign the either `True` or `False` to `q5_8` below."
   ]
  },
  {
   "cell_type": "code",
   "execution_count": null,
   "metadata": {
    "tags": []
   },
   "outputs": [],
   "source": [
    "q5_8 = ..."
   ]
  },
  {
   "cell_type": "code",
   "execution_count": null,
   "metadata": {
    "deletable": false,
    "editable": false
   },
   "outputs": [],
   "source": [
    "grader.check(\"q5_8\")"
   ]
  },
  {
   "cell_type": "markdown",
   "metadata": {
    "deletable": false,
    "editable": false
   },
   "source": [
    "**Question 5.9:** According to the regression output, which city in the data had the lowest wages on average assume all other variables equal? Assign the `smsarank` of that city to `q5_9` below.\n",
    "\n",
    "Hint: Look at all possible values for smsarank."
   ]
  },
  {
   "cell_type": "code",
   "execution_count": null,
   "metadata": {
    "tags": []
   },
   "outputs": [],
   "source": [
    "q5_9 = ..."
   ]
  },
  {
   "cell_type": "code",
   "execution_count": null,
   "metadata": {
    "deletable": false,
    "editable": false
   },
   "outputs": [],
   "source": [
    "grader.check(\"q5_9\")"
   ]
  },
  {
   "cell_type": "markdown",
   "metadata": {
    "tags": [
     "ignore"
    ]
   },
   "source": [
    "## Conclusions\n",
    "\n",
    "In this project, we saw that the Mariel boatlift had little effect on unemployment among ethnic groups in Miami, as the cities that were not receiving \\(many\\) immigrants were afflicted by the same trends in unemployment. We also saw that the same is true of education-level groups. In fact, many studies find that influxes of immigrants benefit the native-born workers in a region; that they act as complements rather than supplements to the native workforce."
   ]
  },
  {
   "cell_type": "markdown",
   "metadata": {},
   "source": [
    "**Congratulations!** You're done with Project 2!"
   ]
  },
  {
   "cell_type": "markdown",
   "metadata": {
    "tags": [
     "ignore"
    ]
   },
   "source": [
    " "
   ]
  },
  {
   "cell_type": "markdown",
   "metadata": {
    "deletable": false,
    "editable": false
   },
   "source": [
    "## Submission\n",
    "\n",
    "Make sure you have run all cells in your notebook in order before running the cell below, so that all images/graphs appear in the output. The cell below will generate a zip file for you to submit. **Please save before exporting!**"
   ]
  },
  {
   "cell_type": "code",
   "execution_count": null,
   "metadata": {
    "deletable": false,
    "editable": false
   },
   "outputs": [],
   "source": [
    "# Save your notebook first, then run this cell to export your submission.\n",
    "grader.export(run_tests=True)"
   ]
  },
  {
   "cell_type": "markdown",
   "metadata": {},
   "source": [
    " "
   ]
  }
 ],
 "metadata": {
  "@webio": {
   "lastCommId": null,
   "lastKernelId": null
  },
  "kernelspec": {
   "display_name": "Python 3 (ipykernel)",
   "language": "python",
   "name": "python3"
  },
  "language_info": {
   "codemirror_mode": {
    "name": "ipython",
    "version": 3
   },
   "file_extension": ".py",
   "mimetype": "text/x-python",
   "name": "python",
   "nbconvert_exporter": "python",
   "pygments_lexer": "ipython3",
   "version": "3.12.2"
  },
  "otter": {
   "OK_FORMAT": true,
   "export_pdf_failure_message": "PDF did not generate, please submit screenshots for questions 2.3, 2.4, 4.1, 4.2 and 4.4.",
   "require_no_pdf_confirmation": true,
   "tests": {
    "q1_1": {
     "name": "q1_1",
     "points": null,
     "suites": [
      {
       "cases": [
        {
         "code": ">>> assert '.id' not in mariel.columns\n",
         "hidden": false,
         "locked": false
        },
        {
         "code": ">>> assert 'year' in mariel.columns\n",
         "hidden": false,
         "locked": false
        },
        {
         "code": ">>> assert np.array_equal(np.unique(mariel['year']), np.array([1979, 1980, 1981, 1982, 1983, 1984, 1985]))\n",
         "hidden": false,
         "locked": false
        }
       ],
       "scored": true,
       "setup": "",
       "teardown": "",
       "type": "doctest"
      }
     ]
    },
    "q1_2": {
     "name": "q1_2",
     "points": null,
     "suites": [
      {
       "cases": [
        {
         "code": ">>> assert 'ethrace' in mariel.columns\n",
         "hidden": false,
         "locked": false,
         "points": 0
        },
        {
         "code": ">>> assert len(np.unique(mariel['ethrace'])) < 5\n",
         "hidden": false,
         "locked": false
        }
       ],
       "scored": true,
       "setup": "",
       "teardown": "",
       "type": "doctest"
      }
     ]
    },
    "q1_3": {
     "name": "q1_3",
     "points": null,
     "suites": [
      {
       "cases": [
        {
         "code": ">>> assert isinstance(q1_3, int)\n",
         "hidden": false,
         "locked": false,
         "points": 0
        }
       ],
       "scored": true,
       "setup": "",
       "teardown": "",
       "type": "doctest"
      }
     ]
    },
    "q1_4": {
     "name": "q1_4",
     "points": null,
     "suites": [
      {
       "cases": [
        {
         "code": ">>> assert isinstance(q1_4, int)\n",
         "hidden": false,
         "locked": false,
         "points": 0
        }
       ],
       "scored": true,
       "setup": "",
       "teardown": "",
       "type": "doctest"
      }
     ]
    },
    "q1_5": {
     "name": "q1_5",
     "points": null,
     "suites": [
      {
       "cases": [
        {
         "code": ">>> assert isinstance(q1_5, int)\n",
         "hidden": false,
         "locked": false,
         "points": 0
        }
       ],
       "scored": true,
       "setup": "",
       "teardown": "",
       "type": "doctest"
      }
     ]
    },
    "q2_1": {
     "name": "q2_1",
     "points": 2,
     "suites": [
      {
       "cases": [
        {
         "code": ">>> assert len(miami_ue_by_year) == 7\n>>> assert len(miami_ue_by_year.columns) == 1 or len(miami_ue_by_year.columns) == 2\n",
         "hidden": false,
         "locked": false,
         "points": 0.5
        }
       ],
       "scored": true,
       "setup": "",
       "teardown": "",
       "type": "doctest"
      }
     ]
    },
    "q2_2": {
     "name": "q2_2",
     "points": null,
     "suites": [
      {
       "cases": [
        {
         "code": ">>> assert not_miami_ue_ethrace.shape[1] <= 4\n",
         "hidden": false,
         "locked": false,
         "points": 0
        }
       ],
       "scored": true,
       "setup": "",
       "teardown": "",
       "type": "doctest"
      }
     ]
    },
    "q2_4": {
     "name": "q2_4",
     "points": null,
     "suites": [
      {
       "cases": [
        {
         "code": ">>> assert isinstance(q2_4, int)\n",
         "hidden": false,
         "locked": false,
         "points": 0
        }
       ],
       "scored": true,
       "setup": "",
       "teardown": "",
       "type": "doctest"
      }
     ]
    },
    "q3_1": {
     "name": "q3_1",
     "points": null,
     "suites": [
      {
       "cases": [
        {
         "code": ">>> assert not_miami_wages_ethrace.shape[1] <= 4\n",
         "hidden": false,
         "locked": false,
         "points": 0
        }
       ],
       "scored": true,
       "setup": "",
       "teardown": "",
       "type": "doctest"
      }
     ]
    },
    "q3_2": {
     "name": "q3_2",
     "points": null,
     "suites": [
      {
       "cases": [
        {
         "code": ">>> assert isinstance(q3_2, int)\n",
         "hidden": false,
         "locked": false,
         "points": 0
        }
       ],
       "scored": true,
       "setup": "",
       "teardown": "",
       "type": "doctest"
      }
     ]
    },
    "q4_3": {
     "name": "q4_3",
     "points": null,
     "suites": [
      {
       "cases": [
        {
         "code": ">>> assert not_miami_educ_ue.shape[1] == 3\n",
         "hidden": false,
         "locked": false,
         "points": 0
        }
       ],
       "scored": true,
       "setup": "",
       "teardown": "",
       "type": "doctest"
      }
     ]
    },
    "q5_1": {
     "name": "q5_1",
     "points": null,
     "suites": [
      {
       "cases": [
        {
         "code": ">>> assert mariel_full_time.shape == (26424, 9)\n",
         "hidden": false,
         "locked": false,
         "points": 0
        }
       ],
       "scored": true,
       "setup": "",
       "teardown": "",
       "type": "doctest"
      }
     ]
    },
    "q5_2": {
     "name": "q5_2",
     "points": 2,
     "suites": [
      {
       "cases": [
        {
         "code": ">>> d_cols = ['age', 'esr', 'ftpt79', 'earnhre', 'log_w', 'BA', 'HS', 'blacks', 'cubans', 'hispanics', 1979, 1980, 1981, 1982, 1983, 1984, 'Atlanta', 'Houston', 'Los Angeles', 'Miami']\n>>> assert np.all([c in d_cols for c in mariel_regression.columns]) and mariel_regression.shape[1] == 20\n",
         "hidden": false,
         "locked": false,
         "points": 0.5
        }
       ],
       "scored": true,
       "setup": "",
       "teardown": "",
       "type": "doctest"
      }
     ]
    },
    "q5_3": {
     "name": "q5_3",
     "points": 2,
     "suites": [
      {
       "cases": [
        {
         "code": ">>> assert len(model_2.params) == 6\n",
         "hidden": false,
         "locked": false,
         "points": 0
        },
        {
         "code": ">>> params_idx = ['const', 'BA', 'HS', 'blacks', 'cubans', 'hispanics']\n>>> assert np.all([c in params_idx for c in model_2.params.index])\n",
         "hidden": false,
         "locked": false,
         "points": 0.5
        }
       ],
       "scored": true,
       "setup": "",
       "teardown": "",
       "type": "doctest"
      }
     ]
    },
    "q5_4": {
     "name": "q5_4",
     "points": 0.5,
     "suites": [
      {
       "cases": [
        {
         "code": ">>> assert isinstance(q5_4, float)\n",
         "hidden": false,
         "locked": false,
         "points": 0
        }
       ],
       "scored": true,
       "setup": "",
       "teardown": "",
       "type": "doctest"
      }
     ]
    },
    "q5_5": {
     "name": "q5_5",
     "points": 0.5,
     "suites": [
      {
       "cases": [
        {
         "code": ">>> assert isinstance(q5_5, float)\n",
         "hidden": false,
         "locked": false,
         "points": 0
        }
       ],
       "scored": true,
       "setup": "",
       "teardown": "",
       "type": "doctest"
      }
     ]
    },
    "q5_6": {
     "name": "q5_6",
     "points": null,
     "suites": [
      {
       "cases": [
        {
         "code": ">>> assert isinstance(q5_6, float)\n",
         "hidden": false,
         "locked": false,
         "points": 0
        }
       ],
       "scored": true,
       "setup": "",
       "teardown": "",
       "type": "doctest"
      }
     ]
    },
    "q5_7": {
     "name": "q5_7",
     "points": 2,
     "suites": [
      {
       "cases": [
        {
         "code": ">>> assert len(model_3.params) > 10\n",
         "hidden": false,
         "locked": false,
         "points": 0
        },
        {
         "code": ">>> params_idx = ['const', 'BA', 'HS', 'blacks', 'cubans', 'hispanics', 1979, 1980, 1981, 1982, 1983, 1984, 'Atlanta', 'Houston', 'Los Angeles', 'Miami']\n>>> assert np.all([c in params_idx for c in model_3.params.index])\n",
         "hidden": false,
         "locked": false,
         "points": 0.5
        }
       ],
       "scored": true,
       "setup": "",
       "teardown": "",
       "type": "doctest"
      }
     ]
    },
    "q5_8": {
     "name": "q5_8",
     "points": null,
     "suites": [
      {
       "cases": [
        {
         "code": ">>> assert isinstance(q5_8, bool)\n",
         "hidden": false,
         "locked": false,
         "points": 0
        }
       ],
       "scored": true,
       "setup": "",
       "teardown": "",
       "type": "doctest"
      }
     ]
    },
    "q5_9": {
     "name": "q5_9",
     "points": null,
     "suites": [
      {
       "cases": [
        {
         "code": ">>> assert len(q5_9) > 1\n",
         "hidden": false,
         "locked": false,
         "points": 0
        }
       ],
       "scored": true,
       "setup": "",
       "teardown": "",
       "type": "doctest"
      }
     ]
    }
   }
  },
  "varInspector": {
   "cols": {
    "lenName": 16,
    "lenType": 16,
    "lenVar": 40
   },
   "kernels_config": {
    "python": {
     "delete_cmd_postfix": "",
     "delete_cmd_prefix": "del ",
     "library": "var_list.py",
     "varRefreshCmd": "print(var_dic_list())"
    },
    "r": {
     "delete_cmd_postfix": ") ",
     "delete_cmd_prefix": "rm(",
     "library": "var_list.r",
     "varRefreshCmd": "cat(var_dic_list()) "
    }
   },
   "types_to_exclude": [
    "module",
    "function",
    "builtin_function_or_method",
    "instance",
    "_Feature"
   ],
   "window_display": false
  }
 },
 "nbformat": 4,
 "nbformat_minor": 4
}
